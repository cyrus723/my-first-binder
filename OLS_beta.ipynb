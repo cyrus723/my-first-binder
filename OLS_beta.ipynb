{
  "cells": [
    {
      "cell_type": "markdown",
      "metadata": {
        "id": "view-in-github",
        "colab_type": "text"
      },
      "source": [
        "<a href=\"https://colab.research.google.com/github/cyrus723/my-first-binder/blob/main/OLS_beta.ipynb\" target=\"_parent\"><img src=\"https://colab.research.google.com/assets/colab-badge.svg\" alt=\"Open In Colab\"/></a>"
      ]
    },
    {
      "cell_type": "markdown",
      "id": "a6be4a95",
      "metadata": {
        "id": "a6be4a95"
      },
      "source": [
        "# Running the First Regression in Python"
      ]
    },
    {
      "cell_type": "markdown",
      "id": "b7890b49",
      "metadata": {
        "id": "b7890b49"
      },
      "source": [
        "Suppose this is your first time to write the code. Perhaps, you want to run a simple regression using two series of asset prices to fin the equity beta. Let's use a step-by-step approach to complete the task.\n",
        "\n",
        "    Step 1: Download two assets' prices from the web\n",
        "    Step 2: Put them onto a matrix form\n",
        "    Step 3: Run the OLS\n",
        "    Step 4: Plot data"
      ]
    },
    {
      "cell_type": "markdown",
      "id": "d844db66",
      "metadata": {
        "id": "d844db66"
      },
      "source": [
        "### Step 1: Download data\n",
        "We will use yahoo finance package (https://pypi.org/project/yfinance/) to download Yahoo Finance data from the web. We need to (1) install and (2) import this package."
      ]
    },
    {
      "cell_type": "code",
      "execution_count": 1,
      "id": "47c20bb7",
      "metadata": {
        "id": "47c20bb7",
        "outputId": "6cce99f7-51f6-48f1-cca6-99832e742033",
        "colab": {
          "base_uri": "https://localhost:8080/"
        }
      },
      "outputs": [
        {
          "output_type": "stream",
          "name": "stdout",
          "text": [
            "Looking in indexes: https://pypi.org/simple, https://us-python.pkg.dev/colab-wheels/public/simple/\n",
            "Collecting yfinance\n",
            "  Downloading yfinance-0.1.85-py2.py3-none-any.whl (29 kB)\n",
            "Collecting requests>=2.26\n",
            "  Downloading requests-2.28.1-py3-none-any.whl (62 kB)\n",
            "\u001b[K     |████████████████████████████████| 62 kB 1.7 MB/s \n",
            "\u001b[?25hRequirement already satisfied: appdirs>=1.4.4 in /usr/local/lib/python3.7/dist-packages (from yfinance) (1.4.4)\n",
            "Requirement already satisfied: numpy>=1.15 in /usr/local/lib/python3.7/dist-packages (from yfinance) (1.21.6)\n",
            "Requirement already satisfied: multitasking>=0.0.7 in /usr/local/lib/python3.7/dist-packages (from yfinance) (0.0.11)\n",
            "Requirement already satisfied: pandas>=0.24.0 in /usr/local/lib/python3.7/dist-packages (from yfinance) (1.3.5)\n",
            "Requirement already satisfied: lxml>=4.5.1 in /usr/local/lib/python3.7/dist-packages (from yfinance) (4.9.1)\n",
            "Requirement already satisfied: python-dateutil>=2.7.3 in /usr/local/lib/python3.7/dist-packages (from pandas>=0.24.0->yfinance) (2.8.2)\n",
            "Requirement already satisfied: pytz>=2017.3 in /usr/local/lib/python3.7/dist-packages (from pandas>=0.24.0->yfinance) (2022.6)\n",
            "Requirement already satisfied: six>=1.5 in /usr/local/lib/python3.7/dist-packages (from python-dateutil>=2.7.3->pandas>=0.24.0->yfinance) (1.15.0)\n",
            "Requirement already satisfied: idna<4,>=2.5 in /usr/local/lib/python3.7/dist-packages (from requests>=2.26->yfinance) (2.10)\n",
            "Requirement already satisfied: certifi>=2017.4.17 in /usr/local/lib/python3.7/dist-packages (from requests>=2.26->yfinance) (2022.9.24)\n",
            "Requirement already satisfied: charset-normalizer<3,>=2 in /usr/local/lib/python3.7/dist-packages (from requests>=2.26->yfinance) (2.1.1)\n",
            "Requirement already satisfied: urllib3<1.27,>=1.21.1 in /usr/local/lib/python3.7/dist-packages (from requests>=2.26->yfinance) (1.24.3)\n",
            "Installing collected packages: requests, yfinance\n",
            "  Attempting uninstall: requests\n",
            "    Found existing installation: requests 2.23.0\n",
            "    Uninstalling requests-2.23.0:\n",
            "      Successfully uninstalled requests-2.23.0\n",
            "Successfully installed requests-2.28.1 yfinance-0.1.85\n"
          ]
        }
      ],
      "source": [
        "!pip install yfinance   # to install, remove # and run the cell\n",
        "import yfinance as yf    # to import"
      ]
    },
    {
      "cell_type": "code",
      "execution_count": 2,
      "id": "479eb94a",
      "metadata": {
        "colab": {
          "base_uri": "https://localhost:8080/"
        },
        "id": "479eb94a",
        "outputId": "9d5e8c3c-b4f5-4e0d-b820-a4f4cde8a026"
      },
      "outputs": [
        {
          "output_type": "stream",
          "name": "stdout",
          "text": [
            "[*********************100%***********************]  1 of 1 completed\n",
            "[*********************100%***********************]  1 of 1 completed\n"
          ]
        }
      ],
      "source": [
        "# download\n",
        "mystock = yf.download(\"TSLA\", start=\"2011-01-01\", end=\"2022-05-31\", interval='1mo')['Adj Close'].rename('TSLA')\n",
        "index = yf.download(\"SPY\", start=\"2011-01-01\", end=\"2022-05-31\", interval='1mo')['Adj Close'].rename('SPY')"
      ]
    },
    {
      "cell_type": "markdown",
      "id": "9621734b",
      "metadata": {
        "id": "9621734b"
      },
      "source": [
        "### Step 2: Put two time series onto a matrix\n",
        "We need pandas module, so let's install and import it. https://pandas.pydata.org/"
      ]
    },
    {
      "cell_type": "code",
      "execution_count": 3,
      "id": "6b7ec623",
      "metadata": {
        "id": "6b7ec623"
      },
      "outputs": [],
      "source": [
        "#!pip install pandas   # Actually, you have this alread when you isntalled Anaconda.\n",
        "import pandas as pd"
      ]
    },
    {
      "cell_type": "code",
      "execution_count": 4,
      "id": "d16cf519",
      "metadata": {
        "colab": {
          "base_uri": "https://localhost:8080/",
          "height": 455
        },
        "id": "d16cf519",
        "outputId": "3a0a7543-42b2-4ea9-cbbb-3975cb1c1a61"
      },
      "outputs": [
        {
          "output_type": "execute_result",
          "data": {
            "text/plain": [
              "                TSLA       SPY\n",
              "Date                          \n",
              "2011-02-01 -0.008714  0.034738\n",
              "2011-03-01  0.161574 -0.004206\n",
              "2011-04-01 -0.005405  0.033432\n",
              "2011-05-01  0.092029 -0.011215\n",
              "2011-06-01 -0.033510 -0.021720\n",
              "...              ...       ...\n",
              "2022-01-01 -0.113609 -0.049413\n",
              "2022-02-01 -0.070768 -0.029517\n",
              "2022-03-01  0.238009  0.034377\n",
              "2022-04-01 -0.191945 -0.084935\n",
              "2022-05-01 -0.129197  0.002257\n",
              "\n",
              "[136 rows x 2 columns]"
            ],
            "text/html": [
              "\n",
              "  <div id=\"df-061a209c-d670-4100-b8e0-7a957954fc3f\">\n",
              "    <div class=\"colab-df-container\">\n",
              "      <div>\n",
              "<style scoped>\n",
              "    .dataframe tbody tr th:only-of-type {\n",
              "        vertical-align: middle;\n",
              "    }\n",
              "\n",
              "    .dataframe tbody tr th {\n",
              "        vertical-align: top;\n",
              "    }\n",
              "\n",
              "    .dataframe thead th {\n",
              "        text-align: right;\n",
              "    }\n",
              "</style>\n",
              "<table border=\"1\" class=\"dataframe\">\n",
              "  <thead>\n",
              "    <tr style=\"text-align: right;\">\n",
              "      <th></th>\n",
              "      <th>TSLA</th>\n",
              "      <th>SPY</th>\n",
              "    </tr>\n",
              "    <tr>\n",
              "      <th>Date</th>\n",
              "      <th></th>\n",
              "      <th></th>\n",
              "    </tr>\n",
              "  </thead>\n",
              "  <tbody>\n",
              "    <tr>\n",
              "      <th>2011-02-01</th>\n",
              "      <td>-0.008714</td>\n",
              "      <td>0.034738</td>\n",
              "    </tr>\n",
              "    <tr>\n",
              "      <th>2011-03-01</th>\n",
              "      <td>0.161574</td>\n",
              "      <td>-0.004206</td>\n",
              "    </tr>\n",
              "    <tr>\n",
              "      <th>2011-04-01</th>\n",
              "      <td>-0.005405</td>\n",
              "      <td>0.033432</td>\n",
              "    </tr>\n",
              "    <tr>\n",
              "      <th>2011-05-01</th>\n",
              "      <td>0.092029</td>\n",
              "      <td>-0.011215</td>\n",
              "    </tr>\n",
              "    <tr>\n",
              "      <th>2011-06-01</th>\n",
              "      <td>-0.033510</td>\n",
              "      <td>-0.021720</td>\n",
              "    </tr>\n",
              "    <tr>\n",
              "      <th>...</th>\n",
              "      <td>...</td>\n",
              "      <td>...</td>\n",
              "    </tr>\n",
              "    <tr>\n",
              "      <th>2022-01-01</th>\n",
              "      <td>-0.113609</td>\n",
              "      <td>-0.049413</td>\n",
              "    </tr>\n",
              "    <tr>\n",
              "      <th>2022-02-01</th>\n",
              "      <td>-0.070768</td>\n",
              "      <td>-0.029517</td>\n",
              "    </tr>\n",
              "    <tr>\n",
              "      <th>2022-03-01</th>\n",
              "      <td>0.238009</td>\n",
              "      <td>0.034377</td>\n",
              "    </tr>\n",
              "    <tr>\n",
              "      <th>2022-04-01</th>\n",
              "      <td>-0.191945</td>\n",
              "      <td>-0.084935</td>\n",
              "    </tr>\n",
              "    <tr>\n",
              "      <th>2022-05-01</th>\n",
              "      <td>-0.129197</td>\n",
              "      <td>0.002257</td>\n",
              "    </tr>\n",
              "  </tbody>\n",
              "</table>\n",
              "<p>136 rows × 2 columns</p>\n",
              "</div>\n",
              "      <button class=\"colab-df-convert\" onclick=\"convertToInteractive('df-061a209c-d670-4100-b8e0-7a957954fc3f')\"\n",
              "              title=\"Convert this dataframe to an interactive table.\"\n",
              "              style=\"display:none;\">\n",
              "        \n",
              "  <svg xmlns=\"http://www.w3.org/2000/svg\" height=\"24px\"viewBox=\"0 0 24 24\"\n",
              "       width=\"24px\">\n",
              "    <path d=\"M0 0h24v24H0V0z\" fill=\"none\"/>\n",
              "    <path d=\"M18.56 5.44l.94 2.06.94-2.06 2.06-.94-2.06-.94-.94-2.06-.94 2.06-2.06.94zm-11 1L8.5 8.5l.94-2.06 2.06-.94-2.06-.94L8.5 2.5l-.94 2.06-2.06.94zm10 10l.94 2.06.94-2.06 2.06-.94-2.06-.94-.94-2.06-.94 2.06-2.06.94z\"/><path d=\"M17.41 7.96l-1.37-1.37c-.4-.4-.92-.59-1.43-.59-.52 0-1.04.2-1.43.59L10.3 9.45l-7.72 7.72c-.78.78-.78 2.05 0 2.83L4 21.41c.39.39.9.59 1.41.59.51 0 1.02-.2 1.41-.59l7.78-7.78 2.81-2.81c.8-.78.8-2.07 0-2.86zM5.41 20L4 18.59l7.72-7.72 1.47 1.35L5.41 20z\"/>\n",
              "  </svg>\n",
              "      </button>\n",
              "      \n",
              "  <style>\n",
              "    .colab-df-container {\n",
              "      display:flex;\n",
              "      flex-wrap:wrap;\n",
              "      gap: 12px;\n",
              "    }\n",
              "\n",
              "    .colab-df-convert {\n",
              "      background-color: #E8F0FE;\n",
              "      border: none;\n",
              "      border-radius: 50%;\n",
              "      cursor: pointer;\n",
              "      display: none;\n",
              "      fill: #1967D2;\n",
              "      height: 32px;\n",
              "      padding: 0 0 0 0;\n",
              "      width: 32px;\n",
              "    }\n",
              "\n",
              "    .colab-df-convert:hover {\n",
              "      background-color: #E2EBFA;\n",
              "      box-shadow: 0px 1px 2px rgba(60, 64, 67, 0.3), 0px 1px 3px 1px rgba(60, 64, 67, 0.15);\n",
              "      fill: #174EA6;\n",
              "    }\n",
              "\n",
              "    [theme=dark] .colab-df-convert {\n",
              "      background-color: #3B4455;\n",
              "      fill: #D2E3FC;\n",
              "    }\n",
              "\n",
              "    [theme=dark] .colab-df-convert:hover {\n",
              "      background-color: #434B5C;\n",
              "      box-shadow: 0px 1px 3px 1px rgba(0, 0, 0, 0.15);\n",
              "      filter: drop-shadow(0px 1px 2px rgba(0, 0, 0, 0.3));\n",
              "      fill: #FFFFFF;\n",
              "    }\n",
              "  </style>\n",
              "\n",
              "      <script>\n",
              "        const buttonEl =\n",
              "          document.querySelector('#df-061a209c-d670-4100-b8e0-7a957954fc3f button.colab-df-convert');\n",
              "        buttonEl.style.display =\n",
              "          google.colab.kernel.accessAllowed ? 'block' : 'none';\n",
              "\n",
              "        async function convertToInteractive(key) {\n",
              "          const element = document.querySelector('#df-061a209c-d670-4100-b8e0-7a957954fc3f');\n",
              "          const dataTable =\n",
              "            await google.colab.kernel.invokeFunction('convertToInteractive',\n",
              "                                                     [key], {});\n",
              "          if (!dataTable) return;\n",
              "\n",
              "          const docLinkHtml = 'Like what you see? Visit the ' +\n",
              "            '<a target=\"_blank\" href=https://colab.research.google.com/notebooks/data_table.ipynb>data table notebook</a>'\n",
              "            + ' to learn more about interactive tables.';\n",
              "          element.innerHTML = '';\n",
              "          dataTable['output_type'] = 'display_data';\n",
              "          await google.colab.output.renderOutput(dataTable, element);\n",
              "          const docLink = document.createElement('div');\n",
              "          docLink.innerHTML = docLinkHtml;\n",
              "          element.appendChild(docLink);\n",
              "        }\n",
              "      </script>\n",
              "    </div>\n",
              "  </div>\n",
              "  "
            ]
          },
          "metadata": {},
          "execution_count": 4
        }
      ],
      "source": [
        "# combine two asset prices onto one matrix called pandas dataframe\n",
        "data = pd.concat([mystock, index], axis=1)\n",
        "\n",
        "# drop missing observations\n",
        "data2 = data.dropna()\n",
        "\n",
        "# compute monthly returns and drop the first observation\n",
        "data3 = data2.pct_change().dropna()\n",
        "data3"
      ]
    },
    {
      "cell_type": "markdown",
      "source": [
        "### Let's plot data."
      ],
      "metadata": {
        "id": "9VCMsnGjz0E4"
      },
      "id": "9VCMsnGjz0E4"
    },
    {
      "cell_type": "code",
      "source": [
        "# need to import matplotlib. You already have this in your Jupyter environment, so no need to install.\n",
        "import matplotlib.pyplot as plt       \n",
        "\n",
        "data3.plot(subplots=False, figsize=(10, 6))                                # plot returns to see volatility levels\n",
        "\n",
        "(data2 / data2.iloc[0] * 100).plot(figsize = (10, 6), subplots=False)      # plot the wealth change of $100 investment over time "
      ],
      "metadata": {
        "colab": {
          "base_uri": "https://localhost:8080/",
          "height": 776
        },
        "id": "WWRly7sfzPiD",
        "outputId": "6e4cc804-8a6a-4960-89fa-41ce227750f4"
      },
      "id": "WWRly7sfzPiD",
      "execution_count": 5,
      "outputs": [
        {
          "output_type": "execute_result",
          "data": {
            "text/plain": [
              "<matplotlib.axes._subplots.AxesSubplot at 0x7ff805248450>"
            ]
          },
          "metadata": {},
          "execution_count": 5
        },
        {
          "output_type": "display_data",
          "data": {
            "text/plain": [
              "<Figure size 720x432 with 1 Axes>"
            ],
            "image/png": "[encoded data removed]"
          },
          "metadata": {
            "needs_background": "light"
          }
        },
        {
          "output_type": "display_data",
          "data": {
            "text/plain": [
              "<Figure size 720x432 with 1 Axes>"
            ],
            "image/png": "[encoded data removed]"
          },
          "metadata": {
            "needs_background": "light"
          }
        }
      ]
    },
    {
      "cell_type": "code",
      "source": [
        "data3.plot.hist(bins=50, alpha=0.7, edgecolor='black', subplots=False, figsize=(10,6))\n",
        "data3.plot.scatter(x='SPY', y='TSLA', c='blue',figsize=(10,6))"
      ],
      "metadata": {
        "colab": {
          "base_uri": "https://localhost:8080/",
          "height": 762
        },
        "id": "GPcFjGUw5gVF",
        "outputId": "46e8a392-22b1-4df2-a529-7a7afea5dc53"
      },
      "id": "GPcFjGUw5gVF",
      "execution_count": 6,
      "outputs": [
        {
          "output_type": "execute_result",
          "data": {
            "text/plain": [
              "<matplotlib.axes._subplots.AxesSubplot at 0x7ff803b7b910>"
            ]
          },
          "metadata": {},
          "execution_count": 6
        },
        {
          "output_type": "display_data",
          "data": {
            "text/plain": [
              "<Figure size 720x432 with 1 Axes>"
            ],
            "image/png": "[encoded data removed]"
          },
          "metadata": {
            "needs_background": "light"
          }
        },
        {
          "output_type": "display_data",
          "data": {
            "text/plain": [
              "<Figure size 720x432 with 1 Axes>"
            ],
            "image/png": "[encoded data removed]"
          },
          "metadata": {
            "needs_background": "light"
          }
        }
      ]
    },
    {
      "cell_type": "markdown",
      "id": "68175734",
      "metadata": {
        "id": "68175734"
      },
      "source": [
        "### Step 3: Run OLS\n",
        "We need to install and import statsmodels module. https://www.statsmodels.org/stable/index.html"
      ]
    },
    {
      "cell_type": "code",
      "execution_count": 7,
      "id": "5dcb73ad",
      "metadata": {
        "id": "5dcb73ad"
      },
      "outputs": [],
      "source": [
        "#!pip install statsmodels\n",
        "import statsmodels.formula.api as smf\n",
        "import statsmodels.api as sm"
      ]
    },
    {
      "cell_type": "code",
      "execution_count": 8,
      "id": "ddfd0025",
      "metadata": {
        "colab": {
          "base_uri": "https://localhost:8080/"
        },
        "id": "ddfd0025",
        "outputId": "1d8ae556-ebf3-4412-9d2a-88a56aaf9ff3"
      },
      "outputs": [
        {
          "output_type": "stream",
          "name": "stdout",
          "text": [
            "                            OLS Regression Results                            \n",
            "==============================================================================\n",
            "Dep. Variable:                   TSLA   R-squared:                       0.159\n",
            "Model:                            OLS   Adj. R-squared:                  0.153\n",
            "Method:                 Least Squares   F-statistic:                     25.35\n",
            "Date:                Sun, 13 Nov 2022   Prob (F-statistic):           1.51e-06\n",
            "Time:                        19:48:56   Log-Likelihood:                 54.624\n",
            "No. Observations:                 136   AIC:                            -105.2\n",
            "Df Residuals:                     134   BIC:                            -99.42\n",
            "Df Model:                           1                                         \n",
            "Covariance Type:            nonrobust                                         \n",
            "==============================================================================\n",
            "                 coef    std err          t      P>|t|      [0.025      0.975]\n",
            "------------------------------------------------------------------------------\n",
            "Intercept      0.0319      0.015      2.198      0.030       0.003       0.061\n",
            "SPY            1.7553      0.349      5.035      0.000       1.066       2.445\n",
            "==============================================================================\n",
            "Omnibus:                       43.834   Durbin-Watson:                   1.592\n",
            "Prob(Omnibus):                  0.000   Jarque-Bera (JB):              109.883\n",
            "Skew:                           1.285   Prob(JB):                     1.38e-24\n",
            "Kurtosis:                       6.576   Cond. No.                         24.9\n",
            "==============================================================================\n",
            "\n",
            "Notes:\n",
            "[1] Standard Errors assume that the covariance matrix of the errors is correctly specified.\n"
          ]
        }
      ],
      "source": [
        "# run OLS\n",
        "formula = 'TSLA ~ SPY'                      # set dep var and indep var\n",
        "results = smf.ols(formula, data3).fit()     # run OLS\n",
        "print(results.summary())                    # print  "
      ]
    },
    {
      "cell_type": "markdown",
      "id": "6839b273",
      "metadata": {
        "id": "6839b273"
      },
      "source": [
        "### beta of TSLA = 1.7553"
      ]
    },
    {
      "cell_type": "markdown",
      "id": "a3f1572a",
      "metadata": {
        "id": "a3f1572a"
      },
      "source": [
        "### Step 4: Plot the result\n",
        "We need to install and import matplotlib module. https://matplotlib.org/"
      ]
    },
    {
      "cell_type": "code",
      "execution_count": 9,
      "id": "0b0e60bb",
      "metadata": {
        "colab": {
          "base_uri": "https://localhost:8080/",
          "height": 426
        },
        "id": "0b0e60bb",
        "outputId": "fabc6d2c-e524-4309-ca64-c4e482465531"
      },
      "outputs": [
        {
          "output_type": "display_data",
          "data": {
            "text/plain": [
              "<Figure size 720x432 with 3 Axes>"
            ],
            "image/png": "[encoded data removed]"
          },
          "metadata": {
            "needs_background": "light"
          }
        }
      ],
      "source": [
        "#!pip install matplotlib                            #again, if you installed Anaconda, you have this already.\n",
        "import matplotlib.pyplot as plt\n",
        "\n",
        "fig, ax=plt.subplots(figsize=(10,6))\n",
        "fig = sm.graphics.plot_partregress_grid(results, fig=fig)"
      ]
    },
    {
      "cell_type": "markdown",
      "id": "f58ce303",
      "metadata": {
        "id": "f58ce303"
      },
      "source": [
        "### Extra 1: using scipy module, we can get the same beta!"
      ]
    },
    {
      "cell_type": "code",
      "execution_count": 10,
      "id": "69ce9117",
      "metadata": {
        "colab": {
          "base_uri": "https://localhost:8080/"
        },
        "id": "69ce9117",
        "outputId": "7161be2b-c242-4233-aff5-275c41cf4e19"
      },
      "outputs": [
        {
          "output_type": "stream",
          "name": "stdout",
          "text": [
            "1.7553\n",
            "0.0319\n",
            "0.4\n",
            "0.0\n"
          ]
        }
      ],
      "source": [
        "#!pip install scipy         # Again, you probabaly have this installed in your Jupyter environment already\n",
        "from scipy import stats\n",
        "\n",
        "beta,alpha,r_value,p_value,std_err = stats.linregress(data3['SPY'],data3[\"TSLA\"])\n",
        "\n",
        "print(beta.round(4))\n",
        "print(alpha.round(4))\n",
        "print(r_value.round(2))\n",
        "print(p_value.round(4))"
      ]
    },
    {
      "cell_type": "markdown",
      "id": "b192016a",
      "metadata": {
        "id": "b192016a"
      },
      "source": [
        "### Extra 2: using a beta formula, we can get the same beta.\n",
        "\n",
        "$$ \n",
        "\\beta_{tsla} = \\frac{\\sigma_{tsla,spy}}{\\sigma_{spy}^2}\n",
        "$$\n"
      ]
    },
    {
      "cell_type": "code",
      "execution_count": 11,
      "id": "642827eb",
      "metadata": {
        "colab": {
          "base_uri": "https://localhost:8080/"
        },
        "id": "642827eb",
        "outputId": "f95ef2ab-dfa4-481d-b648-9c24ee33ae50"
      },
      "outputs": [
        {
          "output_type": "stream",
          "name": "stdout",
          "text": [
            "          TSLA       SPY\n",
            "TSLA  0.376964  0.034167\n",
            "SPY   0.034167  0.019465\n",
            "\n",
            "\n",
            "1.7553\n"
          ]
        }
      ],
      "source": [
        "#  find covariance matrix\n",
        "cov = data3.cov() * 12\n",
        "print(cov)\n",
        "print('\\n')     # to give a space \n",
        "print(round(cov.iloc[0,1]/cov.iloc[1,1], 4))"
      ]
    },
    {
      "cell_type": "markdown",
      "id": "e3ff4c65",
      "metadata": {
        "id": "e3ff4c65"
      },
      "source": [
        "### Extra3: using linear algebra, we can get the same beta.\n",
        "Need to install numpy and import it. You probably have this alreay. So skip installation. Just import it. https://numpy.org/\n",
        "\n",
        "$$\n",
        "b=\\begin{bmatrix} b_0 \\\\ b_1 \\\\ \\vdots \\\\ b_{k} \\end{bmatrix}= (X^{'}X)^{-1}X^{'}Y\n",
        "$$\n",
        "\n",
        "\n",
        "So, a beta estimate form OLS is equal to X matrix transpose times X matrix and take an inverse times X transpose times  times Y vector.\n"
      ]
    },
    {
      "cell_type": "code",
      "source": [
        "# warnings are annoying, so I include below to supress them. You do not need to do this.\n",
        "import warnings\n",
        "warnings.simplefilter(action='ignore', category=FutureWarning)"
      ],
      "metadata": {
        "id": "ApyNN1N27OM9"
      },
      "id": "ApyNN1N27OM9",
      "execution_count": 12,
      "outputs": []
    },
    {
      "cell_type": "code",
      "execution_count": 56,
      "id": "c7903709",
      "metadata": {
        "colab": {
          "base_uri": "https://localhost:8080/"
        },
        "id": "c7903709",
        "outputId": "5f12729b-42d6-4f17-b509-fd69323677de"
      },
      "outputs": [
        {
          "output_type": "stream",
          "name": "stdout",
          "text": [
            "1.7553\n"
          ]
        }
      ],
      "source": [
        "import numpy as np\n",
        "\n",
        "X = data3['SPY']\n",
        "y = data3['TSLA']\n",
        "X_ols = sm.add_constant(X)   # add a constant vector \n",
        "#print(X_ols)\n",
        "\n",
        "# compute beta using matrix operation\n",
        "beta = np.linalg.inv(X_ols.T.dot(X_ols)).dot(X_ols.T.dot(y))\n",
        "print(round(beta[1], 4))"
      ]
    },
    {
      "cell_type": "code",
      "source": [],
      "metadata": {
        "id": "66huY1CAla_1"
      },
      "id": "66huY1CAla_1",
      "execution_count": 39,
      "outputs": []
    },
    {
      "cell_type": "code",
      "source": [],
      "metadata": {
        "id": "4jWegIranW6y"
      },
      "id": "4jWegIranW6y",
      "execution_count": null,
      "outputs": []
    },
    {
      "cell_type": "markdown",
      "source": [
        "#sklearn"
      ],
      "metadata": {
        "id": "n_9I-25MnqNA"
      },
      "id": "n_9I-25MnqNA"
    },
    {
      "cell_type": "code",
      "source": [
        "type(y)"
      ],
      "metadata": {
        "id": "gik_dhRSla89",
        "outputId": "4eeeba71-177b-4428-b958-e4e788c1ea76",
        "colab": {
          "base_uri": "https://localhost:8080/"
        }
      },
      "id": "gik_dhRSla89",
      "execution_count": 57,
      "outputs": [
        {
          "output_type": "execute_result",
          "data": {
            "text/plain": [
              "pandas.core.series.Series"
            ]
          },
          "metadata": {},
          "execution_count": 57
        }
      ]
    },
    {
      "cell_type": "code",
      "source": [
        "x = np.array(X).reshape((-1, 1))\n",
        "x.shape"
      ],
      "metadata": {
        "id": "16P2lHyPltcl",
        "outputId": "a073c056-9d66-44a1-9e6c-73493b154a37",
        "colab": {
          "base_uri": "https://localhost:8080/"
        }
      },
      "id": "16P2lHyPltcl",
      "execution_count": 52,
      "outputs": [
        {
          "output_type": "execute_result",
          "data": {
            "text/plain": [
              "(136, 1)"
            ]
          },
          "metadata": {},
          "execution_count": 52
        }
      ]
    },
    {
      "cell_type": "code",
      "source": [
        "y=np.array(y).reshape((-1,1))\n",
        "y.shape"
      ],
      "metadata": {
        "id": "FHorwTR9ltWi",
        "outputId": "76082e4d-615c-427f-90c8-6ad28b601c22",
        "colab": {
          "base_uri": "https://localhost:8080/"
        }
      },
      "id": "FHorwTR9ltWi",
      "execution_count": 53,
      "outputs": [
        {
          "output_type": "execute_result",
          "data": {
            "text/plain": [
              "(136, 1)"
            ]
          },
          "metadata": {},
          "execution_count": 53
        }
      ]
    },
    {
      "cell_type": "code",
      "source": [
        "from sklearn.linear_model import LinearRegression\n",
        "model = LinearRegression().fit(x,y)"
      ],
      "metadata": {
        "id": "NYe0IYAfj-Wa"
      },
      "id": "NYe0IYAfj-Wa",
      "execution_count": 54,
      "outputs": []
    },
    {
      "cell_type": "code",
      "source": [
        "r_sq = model.score(x, y)\n",
        "print(f\"coefficient of determination: {r_sq}\")\n",
        "print(f\"intercept: {model.intercept_}\")\n",
        "print(f\"slope: {model.coef_}\")"
      ],
      "metadata": {
        "id": "e6v-eWcPnaev",
        "outputId": "491779c1-bcf9-4905-df6f-8c574c268a19",
        "colab": {
          "base_uri": "https://localhost:8080/"
        }
      },
      "id": "e6v-eWcPnaev",
      "execution_count": 55,
      "outputs": [
        {
          "output_type": "stream",
          "name": "stdout",
          "text": [
            "coefficient of determination: 0.1590925668519182\n",
            "intercept: [0.03187907]\n",
            "slope: [[1.75529024]]\n"
          ]
        }
      ]
    },
    {
      "cell_type": "code",
      "source": [],
      "metadata": {
        "id": "epZdGEUQj-SJ"
      },
      "id": "epZdGEUQj-SJ",
      "execution_count": null,
      "outputs": []
    },
    {
      "cell_type": "code",
      "source": [],
      "metadata": {
        "id": "90WYkmAaj-OP"
      },
      "id": "90WYkmAaj-OP",
      "execution_count": null,
      "outputs": []
    }
  ],
  "metadata": {
    "kernelspec": {
      "display_name": "Python 3 (ipykernel)",
      "language": "python",
      "name": "python3"
    },
    "language_info": {
      "codemirror_mode": {
        "name": "ipython",
        "version": 3
      },
      "file_extension": ".py",
      "mimetype": "text/x-python",
      "name": "python",
      "nbconvert_exporter": "python",
      "pygments_lexer": "ipython3",
      "version": "3.9.7"
    },
    "colab": {
      "name": "OLS_beta.ipynb",
      "provenance": [],
      "collapsed_sections": [],
      "include_colab_link": true
    }
  },
  "nbformat": 4,
  "nbformat_minor": 5
}