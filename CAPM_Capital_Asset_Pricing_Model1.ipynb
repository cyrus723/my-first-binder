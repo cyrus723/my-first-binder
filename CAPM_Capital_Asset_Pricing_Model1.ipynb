{
  "nbformat": 4,
  "nbformat_minor": 0,
  "metadata": {
    "kernelspec": {
      "display_name": "Python 3",
      "language": "python",
      "name": "python3"
    },
    "language_info": {
      "codemirror_mode": {
        "name": "ipython",
        "version": 3
      },
      "file_extension": ".py",
      "mimetype": "text/x-python",
      "name": "python",
      "nbconvert_exporter": "python",
      "pygments_lexer": "ipython3",
      "version": "3.7.6"
    },
    "colab": {
      "name": "CAPM-Capital-Asset-Pricing-Model1.ipynb",
      "provenance": [],
      "collapsed_sections": [],
      "include_colab_link": true
    }
  },
  "cells": [
    {
      "cell_type": "markdown",
      "metadata": {
        "id": "view-in-github",
        "colab_type": "text"
      },
      "source": [
        "<a href=\"https://colab.research.google.com/github/cyrus723/my-first-binder/blob/main/CAPM_Capital_Asset_Pricing_Model1.ipynb\" target=\"_parent\"><img src=\"https://colab.research.google.com/assets/colab-badge.svg\" alt=\"Open In Colab\"/></a>"
      ]
    },
    {
      "cell_type": "markdown",
      "metadata": {
        "id": "tSBv_Oz_mwUT"
      },
      "source": [
        "# CAPM - Capital Asset Pricing Model "
      ]
    },
    {
      "cell_type": "code",
      "metadata": {
        "collapsed": true,
        "id": "IFH0XGudmwUf",
        "colab": {
          "base_uri": "https://localhost:8080/"
        },
        "outputId": "09c79fe1-d6a4-4a20-f44e-7a57c8b4c65f"
      },
      "source": [
        "pip install yfinance"
      ],
      "execution_count": 1,
      "outputs": [
        {
          "output_type": "stream",
          "name": "stdout",
          "text": [
            "Looking in indexes: https://pypi.org/simple, https://us-python.pkg.dev/colab-wheels/public/simple/\n",
            "Collecting yfinance\n",
            "  Downloading yfinance-0.1.70-py2.py3-none-any.whl (26 kB)\n",
            "Requirement already satisfied: multitasking>=0.0.7 in /usr/local/lib/python3.7/dist-packages (from yfinance) (0.0.10)\n",
            "Collecting lxml>=4.5.1\n",
            "  Downloading lxml-4.8.0-cp37-cp37m-manylinux_2_17_x86_64.manylinux2014_x86_64.manylinux_2_24_x86_64.whl (6.4 MB)\n",
            "\u001b[K     |████████████████████████████████| 6.4 MB 9.1 MB/s \n",
            "\u001b[?25hRequirement already satisfied: pandas>=0.24.0 in /usr/local/lib/python3.7/dist-packages (from yfinance) (1.3.5)\n",
            "Collecting requests>=2.26\n",
            "  Downloading requests-2.27.1-py2.py3-none-any.whl (63 kB)\n",
            "\u001b[K     |████████████████████████████████| 63 kB 583 kB/s \n",
            "\u001b[?25hRequirement already satisfied: numpy>=1.15 in /usr/local/lib/python3.7/dist-packages (from yfinance) (1.21.6)\n",
            "Requirement already satisfied: python-dateutil>=2.7.3 in /usr/local/lib/python3.7/dist-packages (from pandas>=0.24.0->yfinance) (2.8.2)\n",
            "Requirement already satisfied: pytz>=2017.3 in /usr/local/lib/python3.7/dist-packages (from pandas>=0.24.0->yfinance) (2022.1)\n",
            "Requirement already satisfied: six>=1.5 in /usr/local/lib/python3.7/dist-packages (from python-dateutil>=2.7.3->pandas>=0.24.0->yfinance) (1.15.0)\n",
            "Requirement already satisfied: idna<4,>=2.5 in /usr/local/lib/python3.7/dist-packages (from requests>=2.26->yfinance) (2.10)\n",
            "Requirement already satisfied: charset-normalizer~=2.0.0 in /usr/local/lib/python3.7/dist-packages (from requests>=2.26->yfinance) (2.0.12)\n",
            "Requirement already satisfied: certifi>=2017.4.17 in /usr/local/lib/python3.7/dist-packages (from requests>=2.26->yfinance) (2022.5.18.1)\n",
            "Requirement already satisfied: urllib3<1.27,>=1.21.1 in /usr/local/lib/python3.7/dist-packages (from requests>=2.26->yfinance) (1.24.3)\n",
            "Installing collected packages: requests, lxml, yfinance\n",
            "  Attempting uninstall: requests\n",
            "    Found existing installation: requests 2.23.0\n",
            "    Uninstalling requests-2.23.0:\n",
            "      Successfully uninstalled requests-2.23.0\n",
            "  Attempting uninstall: lxml\n",
            "    Found existing installation: lxml 4.2.6\n",
            "    Uninstalling lxml-4.2.6:\n",
            "      Successfully uninstalled lxml-4.2.6\n",
            "\u001b[31mERROR: pip's dependency resolver does not currently take into account all the packages that are installed. This behaviour is the source of the following dependency conflicts.\n",
            "google-colab 1.0.0 requires requests~=2.23.0, but you have requests 2.27.1 which is incompatible.\n",
            "datascience 0.10.6 requires folium==0.2.1, but you have folium 0.8.3 which is incompatible.\u001b[0m\n",
            "Successfully installed lxml-4.8.0 requests-2.27.1 yfinance-0.1.70\n"
          ]
        }
      ]
    },
    {
      "cell_type": "code",
      "metadata": {
        "collapsed": true,
        "id": "nySQT5GBmwUg",
        "colab": {
          "base_uri": "https://localhost:8080/"
        },
        "outputId": "e919dd79-fcc0-4fe8-a38c-c2102a03a57c"
      },
      "source": [
        "import yfinance as yf\n",
        "import pandas as pd\n",
        "import numpy as np\n",
        "import statsmodels.api as sm   \n",
        "import datetime as dt\n",
        "\n",
        "import urllib.request       # handle online files\n",
        "import zipfile            \n",
        "import os                \n",
        "\n",
        "import statsmodels.formula.api as smf\n",
        "import statsmodels.api as sm\n",
        "from scipy import stats\n",
        "from sklearn.model_selection import train_test_split\n",
        "from sklearn.linear_model import LinearRegression\n",
        "\n",
        "import matplotlib.pyplot as plt\n",
        "from pylab import mpl, plt\n",
        "\n",
        "plt.style.use('seaborn')\n",
        "mpl.rcParams['font.family'] = 'DejaVu Sans'\n",
        "mpl.rcParams[\"savefig.dpi\"] = 500\n",
        "np.set_printoptions(precision=5, suppress=True, formatter={\"float\": lambda x: f\"{x:6.3f}\"})\n",
        "\n",
        "%matplotlib inline"
      ],
      "execution_count": 2,
      "outputs": [
        {
          "output_type": "stream",
          "name": "stderr",
          "text": [
            "/usr/local/lib/python3.7/dist-packages/statsmodels/tools/_testing.py:19: FutureWarning: pandas.util.testing is deprecated. Use the functions in the public API at pandas.testing instead.\n",
            "  import pandas.util.testing as tm\n"
          ]
        }
      ]
    },
    {
      "cell_type": "code",
      "metadata": {
        "id": "W4f7t_LPmwUh"
      },
      "source": [
        "#help(stats.linregress)"
      ],
      "execution_count": null,
      "outputs": []
    },
    {
      "cell_type": "code",
      "metadata": {
        "id": "O-WJe7qxmwUl"
      },
      "source": [
        "def get_prices(tickers, freq_p, st_day, end_day):\n",
        "    mystock = pd.DataFrame()\n",
        "    for t in tickers:\n",
        "        mystock[t] = yf.download(t, start=st_day, end=end_day, interval=freq_p)['Adj Close']\n",
        "    return mystock"
      ],
      "execution_count": 3,
      "outputs": []
    },
    {
      "cell_type": "code",
      "source": [
        "tic=['TSLA', 'SPY']\n",
        "prices= get_prices(tic, freq_p='1wk', st_day=\"2011-01-01\", end_day=\"2022-05-31\")  # id , 1wk, 1mo\n",
        "print(prices)\n",
        "\n",
        "prices.rename(columns={\"TSLA\": \"Your_Stock\", \"SPY\":\"INDEX\"}, inplace=True)\n",
        "\n",
        "prices.info()\n",
        "prices.tail(20)"
      ],
      "metadata": {
        "colab": {
          "base_uri": "https://localhost:8080/",
          "height": 1000
        },
        "id": "ctHO6RAQxX7j",
        "outputId": "a3f51cc4-8aeb-47a3-f0ff-e8a86a318439"
      },
      "execution_count": 17,
      "outputs": [
        {
          "output_type": "stream",
          "name": "stdout",
          "text": [
            "[*********************100%***********************]  1 of 1 completed\n",
            "[*********************100%***********************]  1 of 1 completed\n",
            "                  TSLA         SPY\n",
            "Date                              \n",
            "2011-01-01    5.648000  102.503983\n",
            "2011-01-08    5.150000  104.245476\n",
            "2011-01-15    4.608000  103.495644\n",
            "2011-01-22    4.802000  102.971611\n",
            "2011-01-29    4.692000  105.736969\n",
            "...                ...         ...\n",
            "2022-04-30  865.650024  411.339996\n",
            "2022-05-07  769.590027  401.720001\n",
            "2022-05-14  663.900024  389.630005\n",
            "2022-05-21  628.159973  393.890015\n",
            "2022-05-24  628.159973  393.890015\n",
            "\n",
            "[597 rows x 2 columns]\n",
            "<class 'pandas.core.frame.DataFrame'>\n",
            "DatetimeIndex: 597 entries, 2011-01-01 to 2022-05-24\n",
            "Data columns (total 2 columns):\n",
            " #   Column      Non-Null Count  Dtype  \n",
            "---  ------      --------------  -----  \n",
            " 0   Your_Stock  596 non-null    float64\n",
            " 1   INDEX       596 non-null    float64\n",
            "dtypes: float64(2)\n",
            "memory usage: 14.0 KB\n"
          ]
        },
        {
          "output_type": "execute_result",
          "data": {
            "text/plain": [
              "             Your_Stock       INDEX\n",
              "Date                               \n",
              "2022-01-15   943.900024  436.623596\n",
              "2022-01-22   846.349976  440.581299\n",
              "2022-01-29   923.320007  447.310394\n",
              "2022-02-05   860.000000  439.095886\n",
              "2022-02-12   856.979980  432.885193\n",
              "2022-02-19   809.869995  436.394287\n",
              "2022-02-26   838.289978  430.831573\n",
              "2022-03-05   795.349976  418.769043\n",
              "2022-03-12   905.390015  443.143311\n",
              "2022-03-19  1010.640015  452.690002\n",
              "2022-03-26  1084.589966  452.920013\n",
              "2022-04-02  1025.489990  447.570007\n",
              "2022-04-09   985.000000  437.790009\n",
              "2022-04-16  1005.049988  426.040009\n",
              "2022-04-23   870.760010  412.000000\n",
              "2022-04-30   865.650024  411.339996\n",
              "2022-05-07   769.590027  401.720001\n",
              "2022-05-14   663.900024  389.630005\n",
              "2022-05-21   628.159973  393.890015\n",
              "2022-05-24   628.159973  393.890015"
            ],
            "text/html": [
              "\n",
              "  <div id=\"df-87b1c5bc-dfb1-4556-89a5-04cbb05342df\">\n",
              "    <div class=\"colab-df-container\">\n",
              "      <div>\n",
              "<style scoped>\n",
              "    .dataframe tbody tr th:only-of-type {\n",
              "        vertical-align: middle;\n",
              "    }\n",
              "\n",
              "    .dataframe tbody tr th {\n",
              "        vertical-align: top;\n",
              "    }\n",
              "\n",
              "    .dataframe thead th {\n",
              "        text-align: right;\n",
              "    }\n",
              "</style>\n",
              "<table border=\"1\" class=\"dataframe\">\n",
              "  <thead>\n",
              "    <tr style=\"text-align: right;\">\n",
              "      <th></th>\n",
              "      <th>Your_Stock</th>\n",
              "      <th>INDEX</th>\n",
              "    </tr>\n",
              "    <tr>\n",
              "      <th>Date</th>\n",
              "      <th></th>\n",
              "      <th></th>\n",
              "    </tr>\n",
              "  </thead>\n",
              "  <tbody>\n",
              "    <tr>\n",
              "      <th>2022-01-15</th>\n",
              "      <td>943.900024</td>\n",
              "      <td>436.623596</td>\n",
              "    </tr>\n",
              "    <tr>\n",
              "      <th>2022-01-22</th>\n",
              "      <td>846.349976</td>\n",
              "      <td>440.581299</td>\n",
              "    </tr>\n",
              "    <tr>\n",
              "      <th>2022-01-29</th>\n",
              "      <td>923.320007</td>\n",
              "      <td>447.310394</td>\n",
              "    </tr>\n",
              "    <tr>\n",
              "      <th>2022-02-05</th>\n",
              "      <td>860.000000</td>\n",
              "      <td>439.095886</td>\n",
              "    </tr>\n",
              "    <tr>\n",
              "      <th>2022-02-12</th>\n",
              "      <td>856.979980</td>\n",
              "      <td>432.885193</td>\n",
              "    </tr>\n",
              "    <tr>\n",
              "      <th>2022-02-19</th>\n",
              "      <td>809.869995</td>\n",
              "      <td>436.394287</td>\n",
              "    </tr>\n",
              "    <tr>\n",
              "      <th>2022-02-26</th>\n",
              "      <td>838.289978</td>\n",
              "      <td>430.831573</td>\n",
              "    </tr>\n",
              "    <tr>\n",
              "      <th>2022-03-05</th>\n",
              "      <td>795.349976</td>\n",
              "      <td>418.769043</td>\n",
              "    </tr>\n",
              "    <tr>\n",
              "      <th>2022-03-12</th>\n",
              "      <td>905.390015</td>\n",
              "      <td>443.143311</td>\n",
              "    </tr>\n",
              "    <tr>\n",
              "      <th>2022-03-19</th>\n",
              "      <td>1010.640015</td>\n",
              "      <td>452.690002</td>\n",
              "    </tr>\n",
              "    <tr>\n",
              "      <th>2022-03-26</th>\n",
              "      <td>1084.589966</td>\n",
              "      <td>452.920013</td>\n",
              "    </tr>\n",
              "    <tr>\n",
              "      <th>2022-04-02</th>\n",
              "      <td>1025.489990</td>\n",
              "      <td>447.570007</td>\n",
              "    </tr>\n",
              "    <tr>\n",
              "      <th>2022-04-09</th>\n",
              "      <td>985.000000</td>\n",
              "      <td>437.790009</td>\n",
              "    </tr>\n",
              "    <tr>\n",
              "      <th>2022-04-16</th>\n",
              "      <td>1005.049988</td>\n",
              "      <td>426.040009</td>\n",
              "    </tr>\n",
              "    <tr>\n",
              "      <th>2022-04-23</th>\n",
              "      <td>870.760010</td>\n",
              "      <td>412.000000</td>\n",
              "    </tr>\n",
              "    <tr>\n",
              "      <th>2022-04-30</th>\n",
              "      <td>865.650024</td>\n",
              "      <td>411.339996</td>\n",
              "    </tr>\n",
              "    <tr>\n",
              "      <th>2022-05-07</th>\n",
              "      <td>769.590027</td>\n",
              "      <td>401.720001</td>\n",
              "    </tr>\n",
              "    <tr>\n",
              "      <th>2022-05-14</th>\n",
              "      <td>663.900024</td>\n",
              "      <td>389.630005</td>\n",
              "    </tr>\n",
              "    <tr>\n",
              "      <th>2022-05-21</th>\n",
              "      <td>628.159973</td>\n",
              "      <td>393.890015</td>\n",
              "    </tr>\n",
              "    <tr>\n",
              "      <th>2022-05-24</th>\n",
              "      <td>628.159973</td>\n",
              "      <td>393.890015</td>\n",
              "    </tr>\n",
              "  </tbody>\n",
              "</table>\n",
              "</div>\n",
              "      <button class=\"colab-df-convert\" onclick=\"convertToInteractive('df-87b1c5bc-dfb1-4556-89a5-04cbb05342df')\"\n",
              "              title=\"Convert this dataframe to an interactive table.\"\n",
              "              style=\"display:none;\">\n",
              "        \n",
              "  <svg xmlns=\"http://www.w3.org/2000/svg\" height=\"24px\"viewBox=\"0 0 24 24\"\n",
              "       width=\"24px\">\n",
              "    <path d=\"M0 0h24v24H0V0z\" fill=\"none\"/>\n",
              "    <path d=\"M18.56 5.44l.94 2.06.94-2.06 2.06-.94-2.06-.94-.94-2.06-.94 2.06-2.06.94zm-11 1L8.5 8.5l.94-2.06 2.06-.94-2.06-.94L8.5 2.5l-.94 2.06-2.06.94zm10 10l.94 2.06.94-2.06 2.06-.94-2.06-.94-.94-2.06-.94 2.06-2.06.94z\"/><path d=\"M17.41 7.96l-1.37-1.37c-.4-.4-.92-.59-1.43-.59-.52 0-1.04.2-1.43.59L10.3 9.45l-7.72 7.72c-.78.78-.78 2.05 0 2.83L4 21.41c.39.39.9.59 1.41.59.51 0 1.02-.2 1.41-.59l7.78-7.78 2.81-2.81c.8-.78.8-2.07 0-2.86zM5.41 20L4 18.59l7.72-7.72 1.47 1.35L5.41 20z\"/>\n",
              "  </svg>\n",
              "      </button>\n",
              "      \n",
              "  <style>\n",
              "    .colab-df-container {\n",
              "      display:flex;\n",
              "      flex-wrap:wrap;\n",
              "      gap: 12px;\n",
              "    }\n",
              "\n",
              "    .colab-df-convert {\n",
              "      background-color: #E8F0FE;\n",
              "      border: none;\n",
              "      border-radius: 50%;\n",
              "      cursor: pointer;\n",
              "      display: none;\n",
              "      fill: #1967D2;\n",
              "      height: 32px;\n",
              "      padding: 0 0 0 0;\n",
              "      width: 32px;\n",
              "    }\n",
              "\n",
              "    .colab-df-convert:hover {\n",
              "      background-color: #E2EBFA;\n",
              "      box-shadow: 0px 1px 2px rgba(60, 64, 67, 0.3), 0px 1px 3px 1px rgba(60, 64, 67, 0.15);\n",
              "      fill: #174EA6;\n",
              "    }\n",
              "\n",
              "    [theme=dark] .colab-df-convert {\n",
              "      background-color: #3B4455;\n",
              "      fill: #D2E3FC;\n",
              "    }\n",
              "\n",
              "    [theme=dark] .colab-df-convert:hover {\n",
              "      background-color: #434B5C;\n",
              "      box-shadow: 0px 1px 3px 1px rgba(0, 0, 0, 0.15);\n",
              "      filter: drop-shadow(0px 1px 2px rgba(0, 0, 0, 0.3));\n",
              "      fill: #FFFFFF;\n",
              "    }\n",
              "  </style>\n",
              "\n",
              "      <script>\n",
              "        const buttonEl =\n",
              "          document.querySelector('#df-87b1c5bc-dfb1-4556-89a5-04cbb05342df button.colab-df-convert');\n",
              "        buttonEl.style.display =\n",
              "          google.colab.kernel.accessAllowed ? 'block' : 'none';\n",
              "\n",
              "        async function convertToInteractive(key) {\n",
              "          const element = document.querySelector('#df-87b1c5bc-dfb1-4556-89a5-04cbb05342df');\n",
              "          const dataTable =\n",
              "            await google.colab.kernel.invokeFunction('convertToInteractive',\n",
              "                                                     [key], {});\n",
              "          if (!dataTable) return;\n",
              "\n",
              "          const docLinkHtml = 'Like what you see? Visit the ' +\n",
              "            '<a target=\"_blank\" href=https://colab.research.google.com/notebooks/data_table.ipynb>data table notebook</a>'\n",
              "            + ' to learn more about interactive tables.';\n",
              "          element.innerHTML = '';\n",
              "          dataTable['output_type'] = 'display_data';\n",
              "          await google.colab.output.renderOutput(dataTable, element);\n",
              "          const docLink = document.createElement('div');\n",
              "          docLink.innerHTML = docLinkHtml;\n",
              "          element.appendChild(docLink);\n",
              "        }\n",
              "      </script>\n",
              "    </div>\n",
              "  </div>\n",
              "  "
            ]
          },
          "metadata": {},
          "execution_count": 17
        }
      ]
    },
    {
      "cell_type": "code",
      "metadata": {
        "id": "JrQgItnKmwUp",
        "colab": {
          "base_uri": "https://localhost:8080/"
        },
        "outputId": "bdf3478f-65d1-476b-c917-1612a52d7344"
      },
      "source": [
        "print(prices.isnull().sum())\n",
        "prices.dropna(how='any', inplace=True)\n",
        "print(prices.isnull().sum())\n",
        "prices.info()\n",
        "print(prices)"
      ],
      "execution_count": 18,
      "outputs": [
        {
          "output_type": "stream",
          "name": "stdout",
          "text": [
            "Your_Stock    1\n",
            "INDEX         1\n",
            "dtype: int64\n",
            "Your_Stock    0\n",
            "INDEX         0\n",
            "dtype: int64\n",
            "<class 'pandas.core.frame.DataFrame'>\n",
            "DatetimeIndex: 596 entries, 2011-01-01 to 2022-05-24\n",
            "Data columns (total 2 columns):\n",
            " #   Column      Non-Null Count  Dtype  \n",
            "---  ------      --------------  -----  \n",
            " 0   Your_Stock  596 non-null    float64\n",
            " 1   INDEX       596 non-null    float64\n",
            "dtypes: float64(2)\n",
            "memory usage: 14.0 KB\n",
            "            Your_Stock       INDEX\n",
            "Date                              \n",
            "2011-01-01    5.648000  102.503983\n",
            "2011-01-08    5.150000  104.245476\n",
            "2011-01-15    4.608000  103.495644\n",
            "2011-01-22    4.802000  102.971611\n",
            "2011-01-29    4.692000  105.736969\n",
            "...                ...         ...\n",
            "2022-04-30  865.650024  411.339996\n",
            "2022-05-07  769.590027  401.720001\n",
            "2022-05-14  663.900024  389.630005\n",
            "2022-05-21  628.159973  393.890015\n",
            "2022-05-24  628.159973  393.890015\n",
            "\n",
            "[596 rows x 2 columns]\n"
          ]
        }
      ]
    },
    {
      "cell_type": "code",
      "metadata": {
        "id": "mivqtbW9mwUw",
        "colab": {
          "base_uri": "https://localhost:8080/",
          "height": 384
        },
        "outputId": "8b8ce7a1-fe46-4cf2-9ac1-2de861679330"
      },
      "source": [
        "prices.plot(figsize=(10,6))\n",
        "plt.legend()"
      ],
      "execution_count": 19,
      "outputs": [
        {
          "output_type": "execute_result",
          "data": {
            "text/plain": [
              "<matplotlib.legend.Legend at 0x7f36b5aa67d0>"
            ]
          },
          "metadata": {},
          "execution_count": 19
        },
        {
          "output_type": "display_data",
          "data": {
            "text/plain": [
              "<Figure size 720x432 with 1 Axes>"
            ],
            "image/png": "[encoded data removed]"
          },
          "metadata": {
            "needs_background": "light"
          }
        }
      ]
    },
    {
      "cell_type": "code",
      "source": [
        "(prices / prices.iloc[0] * 1).plot(figsize=(10, 6), subplots=False)  #cumulative returns\n",
        "plt.title('Cumulative Return')\n",
        "plt.tight_layout()"
      ],
      "metadata": {
        "colab": {
          "base_uri": "https://localhost:8080/",
          "height": 441
        },
        "id": "U1MhYpXJ5S8M",
        "outputId": "af30c87b-98bd-4d0a-f0b6-7d6dd768e9b1"
      },
      "execution_count": 20,
      "outputs": [
        {
          "output_type": "display_data",
          "data": {
            "text/plain": [
              "<Figure size 720x432 with 1 Axes>"
            ],
            "image/png": "[encoded data removed]"
          },
          "metadata": {
            "needs_background": "light"
          }
        }
      ]
    },
    {
      "cell_type": "code",
      "source": [
        "prices.pct_change(1).dropna()\n",
        "plt.scatter(prices['Your_Stock'], prices['INDEX'], color = 'red', alpha=0.2)"
      ],
      "metadata": {
        "colab": {
          "base_uri": "https://localhost:8080/",
          "height": 282
        },
        "id": "TnWNwpr-5S5L",
        "outputId": "cd36b164-920f-46ea-82ae-8d5384ed6370"
      },
      "execution_count": 21,
      "outputs": [
        {
          "output_type": "execute_result",
          "data": {
            "text/plain": [
              "<matplotlib.collections.PathCollection at 0x7f36b5d58310>"
            ]
          },
          "metadata": {},
          "execution_count": 21
        },
        {
          "output_type": "display_data",
          "data": {
            "text/plain": [
              "<Figure size 432x288 with 1 Axes>"
            ],
            "image/png": "[encoded data removed]"
          },
          "metadata": {
            "needs_background": "light"
          }
        }
      ]
    },
    {
      "cell_type": "code",
      "metadata": {
        "id": "hics-JmemwUz",
        "colab": {
          "base_uri": "https://localhost:8080/",
          "height": 281
        },
        "outputId": "6b39be9f-76f6-430d-c5ab-0c8c3b0dd7f4"
      },
      "source": [
        "returns = prices.pct_change(1).dropna()\n",
        "\n",
        "plt.hist(returns['INDEX'], label='INDEX', bins=100) \n",
        "plt.hist(returns['Your_Stock'], label='Stock', bins=100)\n",
        "  \n",
        "plt.legend(loc='upper right')\n",
        "plt.title('Overlapping')\n",
        "plt.show()"
      ],
      "execution_count": 23,
      "outputs": [
        {
          "output_type": "display_data",
          "data": {
            "text/plain": [
              "<Figure size 432x288 with 1 Axes>"
            ],
            "image/png": "[encoded data removed]"
          },
          "metadata": {
            "needs_background": "light"
          }
        }
      ]
    },
    {
      "cell_type": "code",
      "source": [
        "returns"
      ],
      "metadata": {
        "colab": {
          "base_uri": "https://localhost:8080/",
          "height": 455
        },
        "id": "GH9qh0h59udQ",
        "outputId": "0ce6150d-eddb-40b9-8258-3099167ec52c"
      },
      "execution_count": 24,
      "outputs": [
        {
          "output_type": "execute_result",
          "data": {
            "text/plain": [
              "            Your_Stock     INDEX\n",
              "Date                            \n",
              "2011-01-08   -0.088173  0.016990\n",
              "2011-01-15   -0.105243 -0.007193\n",
              "2011-01-22    0.042101 -0.005063\n",
              "2011-01-29   -0.022907  0.026856\n",
              "2011-02-05   -0.008951  0.014945\n",
              "...                ...       ...\n",
              "2022-04-30   -0.005868 -0.001602\n",
              "2022-05-07   -0.110969 -0.023387\n",
              "2022-05-14   -0.137333 -0.030096\n",
              "2022-05-21   -0.053833  0.010933\n",
              "2022-05-24    0.000000  0.000000\n",
              "\n",
              "[595 rows x 2 columns]"
            ],
            "text/html": [
              "\n",
              "  <div id=\"df-27250f22-ce2b-4bd4-8075-18e939f86e56\">\n",
              "    <div class=\"colab-df-container\">\n",
              "      <div>\n",
              "<style scoped>\n",
              "    .dataframe tbody tr th:only-of-type {\n",
              "        vertical-align: middle;\n",
              "    }\n",
              "\n",
              "    .dataframe tbody tr th {\n",
              "        vertical-align: top;\n",
              "    }\n",
              "\n",
              "    .dataframe thead th {\n",
              "        text-align: right;\n",
              "    }\n",
              "</style>\n",
              "<table border=\"1\" class=\"dataframe\">\n",
              "  <thead>\n",
              "    <tr style=\"text-align: right;\">\n",
              "      <th></th>\n",
              "      <th>Your_Stock</th>\n",
              "      <th>INDEX</th>\n",
              "    </tr>\n",
              "    <tr>\n",
              "      <th>Date</th>\n",
              "      <th></th>\n",
              "      <th></th>\n",
              "    </tr>\n",
              "  </thead>\n",
              "  <tbody>\n",
              "    <tr>\n",
              "      <th>2011-01-08</th>\n",
              "      <td>-0.088173</td>\n",
              "      <td>0.016990</td>\n",
              "    </tr>\n",
              "    <tr>\n",
              "      <th>2011-01-15</th>\n",
              "      <td>-0.105243</td>\n",
              "      <td>-0.007193</td>\n",
              "    </tr>\n",
              "    <tr>\n",
              "      <th>2011-01-22</th>\n",
              "      <td>0.042101</td>\n",
              "      <td>-0.005063</td>\n",
              "    </tr>\n",
              "    <tr>\n",
              "      <th>2011-01-29</th>\n",
              "      <td>-0.022907</td>\n",
              "      <td>0.026856</td>\n",
              "    </tr>\n",
              "    <tr>\n",
              "      <th>2011-02-05</th>\n",
              "      <td>-0.008951</td>\n",
              "      <td>0.014945</td>\n",
              "    </tr>\n",
              "    <tr>\n",
              "      <th>...</th>\n",
              "      <td>...</td>\n",
              "      <td>...</td>\n",
              "    </tr>\n",
              "    <tr>\n",
              "      <th>2022-04-30</th>\n",
              "      <td>-0.005868</td>\n",
              "      <td>-0.001602</td>\n",
              "    </tr>\n",
              "    <tr>\n",
              "      <th>2022-05-07</th>\n",
              "      <td>-0.110969</td>\n",
              "      <td>-0.023387</td>\n",
              "    </tr>\n",
              "    <tr>\n",
              "      <th>2022-05-14</th>\n",
              "      <td>-0.137333</td>\n",
              "      <td>-0.030096</td>\n",
              "    </tr>\n",
              "    <tr>\n",
              "      <th>2022-05-21</th>\n",
              "      <td>-0.053833</td>\n",
              "      <td>0.010933</td>\n",
              "    </tr>\n",
              "    <tr>\n",
              "      <th>2022-05-24</th>\n",
              "      <td>0.000000</td>\n",
              "      <td>0.000000</td>\n",
              "    </tr>\n",
              "  </tbody>\n",
              "</table>\n",
              "<p>595 rows × 2 columns</p>\n",
              "</div>\n",
              "      <button class=\"colab-df-convert\" onclick=\"convertToInteractive('df-27250f22-ce2b-4bd4-8075-18e939f86e56')\"\n",
              "              title=\"Convert this dataframe to an interactive table.\"\n",
              "              style=\"display:none;\">\n",
              "        \n",
              "  <svg xmlns=\"http://www.w3.org/2000/svg\" height=\"24px\"viewBox=\"0 0 24 24\"\n",
              "       width=\"24px\">\n",
              "    <path d=\"M0 0h24v24H0V0z\" fill=\"none\"/>\n",
              "    <path d=\"M18.56 5.44l.94 2.06.94-2.06 2.06-.94-2.06-.94-.94-2.06-.94 2.06-2.06.94zm-11 1L8.5 8.5l.94-2.06 2.06-.94-2.06-.94L8.5 2.5l-.94 2.06-2.06.94zm10 10l.94 2.06.94-2.06 2.06-.94-2.06-.94-.94-2.06-.94 2.06-2.06.94z\"/><path d=\"M17.41 7.96l-1.37-1.37c-.4-.4-.92-.59-1.43-.59-.52 0-1.04.2-1.43.59L10.3 9.45l-7.72 7.72c-.78.78-.78 2.05 0 2.83L4 21.41c.39.39.9.59 1.41.59.51 0 1.02-.2 1.41-.59l7.78-7.78 2.81-2.81c.8-.78.8-2.07 0-2.86zM5.41 20L4 18.59l7.72-7.72 1.47 1.35L5.41 20z\"/>\n",
              "  </svg>\n",
              "      </button>\n",
              "      \n",
              "  <style>\n",
              "    .colab-df-container {\n",
              "      display:flex;\n",
              "      flex-wrap:wrap;\n",
              "      gap: 12px;\n",
              "    }\n",
              "\n",
              "    .colab-df-convert {\n",
              "      background-color: #E8F0FE;\n",
              "      border: none;\n",
              "      border-radius: 50%;\n",
              "      cursor: pointer;\n",
              "      display: none;\n",
              "      fill: #1967D2;\n",
              "      height: 32px;\n",
              "      padding: 0 0 0 0;\n",
              "      width: 32px;\n",
              "    }\n",
              "\n",
              "    .colab-df-convert:hover {\n",
              "      background-color: #E2EBFA;\n",
              "      box-shadow: 0px 1px 2px rgba(60, 64, 67, 0.3), 0px 1px 3px 1px rgba(60, 64, 67, 0.15);\n",
              "      fill: #174EA6;\n",
              "    }\n",
              "\n",
              "    [theme=dark] .colab-df-convert {\n",
              "      background-color: #3B4455;\n",
              "      fill: #D2E3FC;\n",
              "    }\n",
              "\n",
              "    [theme=dark] .colab-df-convert:hover {\n",
              "      background-color: #434B5C;\n",
              "      box-shadow: 0px 1px 3px 1px rgba(0, 0, 0, 0.15);\n",
              "      filter: drop-shadow(0px 1px 2px rgba(0, 0, 0, 0.3));\n",
              "      fill: #FFFFFF;\n",
              "    }\n",
              "  </style>\n",
              "\n",
              "      <script>\n",
              "        const buttonEl =\n",
              "          document.querySelector('#df-27250f22-ce2b-4bd4-8075-18e939f86e56 button.colab-df-convert');\n",
              "        buttonEl.style.display =\n",
              "          google.colab.kernel.accessAllowed ? 'block' : 'none';\n",
              "\n",
              "        async function convertToInteractive(key) {\n",
              "          const element = document.querySelector('#df-27250f22-ce2b-4bd4-8075-18e939f86e56');\n",
              "          const dataTable =\n",
              "            await google.colab.kernel.invokeFunction('convertToInteractive',\n",
              "                                                     [key], {});\n",
              "          if (!dataTable) return;\n",
              "\n",
              "          const docLinkHtml = 'Like what you see? Visit the ' +\n",
              "            '<a target=\"_blank\" href=https://colab.research.google.com/notebooks/data_table.ipynb>data table notebook</a>'\n",
              "            + ' to learn more about interactive tables.';\n",
              "          element.innerHTML = '';\n",
              "          dataTable['output_type'] = 'display_data';\n",
              "          await google.colab.output.renderOutput(dataTable, element);\n",
              "          const docLink = document.createElement('div');\n",
              "          docLink.innerHTML = docLinkHtml;\n",
              "          element.appendChild(docLink);\n",
              "        }\n",
              "      </script>\n",
              "    </div>\n",
              "  </div>\n",
              "  "
            ]
          },
          "metadata": {},
          "execution_count": 24
        }
      ]
    },
    {
      "cell_type": "markdown",
      "source": [
        "#using scipy"
      ],
      "metadata": {
        "id": "fglKONGneVBW"
      }
    },
    {
      "cell_type": "code",
      "metadata": {
        "id": "srnu6WvomwU0"
      },
      "source": [
        "beta,alpha,r_value,p_value,std_err = stats.linregress(returns['INDEX'],returns[\"Your_Stock\"])"
      ],
      "execution_count": 25,
      "outputs": []
    },
    {
      "cell_type": "code",
      "metadata": {
        "id": "N1Lzl9kQmwU1",
        "colab": {
          "base_uri": "https://localhost:8080/"
        },
        "outputId": "e27ac5d8-8b35-4f2a-8bdd-4e9b031c5620"
      },
      "source": [
        "print(beta.round(4))\n",
        "print(alpha.round(4))\n",
        "print(r_value.round(2))\n",
        "print(p_value.round(4))"
      ],
      "execution_count": 26,
      "outputs": [
        {
          "output_type": "stream",
          "name": "stdout",
          "text": [
            "1.5298\n",
            "0.0069\n",
            "0.45\n",
            "0.0\n"
          ]
        }
      ]
    },
    {
      "cell_type": "markdown",
      "source": [
        "#using statsmodels"
      ],
      "metadata": {
        "id": "TgesteAwedyG"
      }
    },
    {
      "cell_type": "code",
      "metadata": {
        "id": "hcLnmw7JmwU2",
        "colab": {
          "base_uri": "https://localhost:8080/"
        },
        "outputId": "3fbedc37-ce4c-4586-fef1-eb172b9d619b"
      },
      "source": [
        "formula = 'Your_Stock ~ INDEX'\n",
        "results = smf.ols(formula, returns).fit()\n",
        "print(results.summary())"
      ],
      "execution_count": 27,
      "outputs": [
        {
          "output_type": "stream",
          "name": "stdout",
          "text": [
            "                            OLS Regression Results                            \n",
            "==============================================================================\n",
            "Dep. Variable:             Your_Stock   R-squared:                       0.200\n",
            "Model:                            OLS   Adj. R-squared:                  0.199\n",
            "Method:                 Least Squares   F-statistic:                     148.5\n",
            "Date:                Wed, 25 May 2022   Prob (F-statistic):           1.19e-30\n",
            "Time:                        02:20:48   Log-Likelihood:                 756.20\n",
            "No. Observations:                 595   AIC:                            -1508.\n",
            "Df Residuals:                     593   BIC:                            -1500.\n",
            "Df Model:                           1                                         \n",
            "Covariance Type:            nonrobust                                         \n",
            "==============================================================================\n",
            "                 coef    std err          t      P>|t|      [0.025      0.975]\n",
            "------------------------------------------------------------------------------\n",
            "Intercept      0.0069      0.003      2.462      0.014       0.001       0.012\n",
            "INDEX          1.5298      0.126     12.188      0.000       1.283       1.776\n",
            "==============================================================================\n",
            "Omnibus:                      110.549   Durbin-Watson:                   1.910\n",
            "Prob(Omnibus):                  0.000   Jarque-Bera (JB):              340.945\n",
            "Skew:                           0.878   Prob(JB):                     9.22e-75\n",
            "Kurtosis:                       6.266   Cond. No.                         45.0\n",
            "==============================================================================\n",
            "\n",
            "Warnings:\n",
            "[1] Standard Errors assume that the covariance matrix of the errors is correctly specified.\n"
          ]
        }
      ]
    },
    {
      "cell_type": "markdown",
      "source": [
        "#using scikit-learn\n",
        "You need to take a look at the shape of the data you are feeding into .fit().\n",
        "\n",
        "Here x.shape = (10,) but we need it to be (10, 1), see sklearn. Same goes for y. So we reshape:"
      ],
      "metadata": {
        "id": "8Smo3CZNCT-_"
      }
    },
    {
      "cell_type": "code",
      "source": [
        "X = returns.loc[:, ['INDEX']].values"
      ],
      "metadata": {
        "id": "4JaPe7H7_o3j"
      },
      "execution_count": 28,
      "outputs": []
    },
    {
      "cell_type": "code",
      "source": [
        "y = returns.loc[:, ['Your_Stock']].values"
      ],
      "metadata": {
        "id": "w9V4AufwHUfD"
      },
      "execution_count": 29,
      "outputs": []
    },
    {
      "cell_type": "code",
      "source": [
        "X.shape"
      ],
      "metadata": {
        "colab": {
          "base_uri": "https://localhost:8080/"
        },
        "id": "lHAQJ9zqAhYc",
        "outputId": "f7fdede9-c11a-41c3-d678-6b8d74b9fc5b"
      },
      "execution_count": 30,
      "outputs": [
        {
          "output_type": "execute_result",
          "data": {
            "text/plain": [
              "(595, 1)"
            ]
          },
          "metadata": {},
          "execution_count": 30
        }
      ]
    },
    {
      "cell_type": "code",
      "source": [
        "type(X)"
      ],
      "metadata": {
        "colab": {
          "base_uri": "https://localhost:8080/"
        },
        "id": "G9NriPRzAwAB",
        "outputId": "8a5ddc81-78d5-4378-ca5c-f886273f878e"
      },
      "execution_count": 31,
      "outputs": [
        {
          "output_type": "execute_result",
          "data": {
            "text/plain": [
              "numpy.ndarray"
            ]
          },
          "metadata": {},
          "execution_count": 31
        }
      ]
    },
    {
      "cell_type": "code",
      "source": [
        "X.dtype"
      ],
      "metadata": {
        "colab": {
          "base_uri": "https://localhost:8080/"
        },
        "id": "FpXm-LKjAv9O",
        "outputId": "60663ef7-8b3e-4efb-d526-46009c5d7710"
      },
      "execution_count": 32,
      "outputs": [
        {
          "output_type": "execute_result",
          "data": {
            "text/plain": [
              "dtype('float64')"
            ]
          },
          "metadata": {},
          "execution_count": 32
        }
      ]
    },
    {
      "cell_type": "code",
      "source": [
        "y.shape"
      ],
      "metadata": {
        "id": "D32vbocuAhTD",
        "colab": {
          "base_uri": "https://localhost:8080/"
        },
        "outputId": "f7aaddd7-6983-4997-ce10-19937dd095c7"
      },
      "execution_count": 33,
      "outputs": [
        {
          "output_type": "execute_result",
          "data": {
            "text/plain": [
              "(595, 1)"
            ]
          },
          "metadata": {},
          "execution_count": 33
        }
      ]
    },
    {
      "cell_type": "code",
      "source": [
        "reg = LinearRegression(fit_intercept=True).fit(X,y)"
      ],
      "metadata": {
        "id": "LJm98NZjAhPD"
      },
      "execution_count": 34,
      "outputs": []
    },
    {
      "cell_type": "code",
      "source": [
        "reg.predict(X[0].reshape(-1,1))"
      ],
      "metadata": {
        "colab": {
          "base_uri": "https://localhost:8080/"
        },
        "id": "PUcVMJ87GHah",
        "outputId": "2bcd9ea5-7064-4dae-cf28-73d1ad88c3f9"
      },
      "execution_count": 35,
      "outputs": [
        {
          "output_type": "execute_result",
          "data": {
            "text/plain": [
              "array([[ 0.033]])"
            ]
          },
          "metadata": {},
          "execution_count": 35
        }
      ]
    },
    {
      "cell_type": "code",
      "source": [
        "reg.predict(X[0:10])"
      ],
      "metadata": {
        "colab": {
          "base_uri": "https://localhost:8080/"
        },
        "id": "VzZ8c7OyGHXH",
        "outputId": "40e6fc85-bee7-48ad-ce09-2774e6aaef08"
      },
      "execution_count": 36,
      "outputs": [
        {
          "output_type": "execute_result",
          "data": {
            "text/plain": [
              "array([[ 0.033],\n",
              "       [-0.004],\n",
              "       [-0.001],\n",
              "       [ 0.048],\n",
              "       [ 0.030],\n",
              "       [ 0.023],\n",
              "       [-0.018],\n",
              "       [ 0.009],\n",
              "       [-0.012],\n",
              "       [-0.029]])"
            ]
          },
          "metadata": {},
          "execution_count": 36
        }
      ]
    },
    {
      "cell_type": "code",
      "source": [
        "score = reg.score(X, y)\n",
        "print(score)"
      ],
      "metadata": {
        "colab": {
          "base_uri": "https://localhost:8080/"
        },
        "id": "LaI6NNfYGHUZ",
        "outputId": "1ee73e80-d43f-4320-964f-153fe1221820"
      },
      "execution_count": 37,
      "outputs": [
        {
          "output_type": "stream",
          "name": "stdout",
          "text": [
            "0.20031258510930994\n"
          ]
        }
      ]
    },
    {
      "cell_type": "code",
      "source": [
        ""
      ],
      "metadata": {
        "id": "kgvrggPeGHPg"
      },
      "execution_count": null,
      "outputs": []
    },
    {
      "cell_type": "code",
      "source": [
        ""
      ],
      "metadata": {
        "id": "2eDeSx8nGHKb"
      },
      "execution_count": null,
      "outputs": []
    },
    {
      "cell_type": "code",
      "source": [
        "reg.coef_"
      ],
      "metadata": {
        "colab": {
          "base_uri": "https://localhost:8080/"
        },
        "id": "aqF2UwSl_Qsa",
        "outputId": "ba319721-337c-41a8-adaa-3e8e156b4ceb"
      },
      "execution_count": 38,
      "outputs": [
        {
          "output_type": "execute_result",
          "data": {
            "text/plain": [
              "array([[ 1.530]])"
            ]
          },
          "metadata": {},
          "execution_count": 38
        }
      ]
    },
    {
      "cell_type": "code",
      "source": [
        "reg.intercept_"
      ],
      "metadata": {
        "colab": {
          "base_uri": "https://localhost:8080/"
        },
        "id": "lksDjxVw_Qp_",
        "outputId": "c9d62787-24d0-4d56-b936-0ce7bfc711a7"
      },
      "execution_count": 39,
      "outputs": [
        {
          "output_type": "execute_result",
          "data": {
            "text/plain": [
              "array([ 0.007])"
            ]
          },
          "metadata": {},
          "execution_count": 39
        }
      ]
    },
    {
      "cell_type": "code",
      "source": [
        "m = reg.coef_[0,0]\n",
        "b = reg.intercept_[0]"
      ],
      "metadata": {
        "id": "yz0iksty_Qno"
      },
      "execution_count": 40,
      "outputs": []
    },
    {
      "cell_type": "code",
      "source": [
        "m"
      ],
      "metadata": {
        "colab": {
          "base_uri": "https://localhost:8080/"
        },
        "id": "Nofj5AJ9Eeir",
        "outputId": "9aa7d85a-9644-440b-aa29-b9bbdcf367ed"
      },
      "execution_count": 41,
      "outputs": [
        {
          "output_type": "execute_result",
          "data": {
            "text/plain": [
              "1.5298147401150073"
            ]
          },
          "metadata": {},
          "execution_count": 41
        }
      ]
    },
    {
      "cell_type": "code",
      "source": [
        "b"
      ],
      "metadata": {
        "colab": {
          "base_uri": "https://localhost:8080/"
        },
        "id": "cZ2BnuhXEefu",
        "outputId": "7913c441-78c1-431b-d19b-0efc7cd4882b"
      },
      "execution_count": 42,
      "outputs": [
        {
          "output_type": "execute_result",
          "data": {
            "text/plain": [
              "0.006907360139713001"
            ]
          },
          "metadata": {},
          "execution_count": 42
        }
      ]
    },
    {
      "cell_type": "code",
      "source": [
        "# following slope intercept form \n",
        "print(\"formula: y = {:.4f}X + {:.4f}\".format(m, b) )"
      ],
      "metadata": {
        "colab": {
          "base_uri": "https://localhost:8080/"
        },
        "id": "lvDRXsafEecm",
        "outputId": "89824058-b8fe-4450-9768-f65301c14d01"
      },
      "execution_count": 43,
      "outputs": [
        {
          "output_type": "stream",
          "name": "stdout",
          "text": [
            "formula: y = 1.5298X + 0.0069\n"
          ]
        }
      ]
    },
    {
      "cell_type": "code",
      "source": [
        "from numpy.ma.core import flatten_structured_array\n",
        "fig, ax = plt.subplots(nrows = 1, ncols = 1, figsize = (10,7));\n",
        "\n",
        "ax.scatter(X, y, color='blue', s=10);\n",
        "ax.plot(X, reg.predict(X), color='red',linewidth=2);\n",
        "ax.grid(True,\n",
        "        axis = 'both',\n",
        "        zorder = 0,\n",
        "        linestyle = ':',\n",
        "        color = 'y')\n",
        "ax.tick_params(labelsize = 20)\n",
        "ax.set_xlabel('INDEX', fontsize = 24)\n",
        "ax.set_ylabel('Your_Stock', fontsize = 24)\n",
        "ax.set_title(\"Linear Regression Line with Intercept y = {:.4f} + {:.4f}x (R2 = {:.2f})\".format(b, m, score), fontsize = 16 )\n",
        "fig.tight_layout()\n",
        "#fig.savefig('images/linearregression', dpi = 300)"
      ],
      "metadata": {
        "colab": {
          "base_uri": "https://localhost:8080/",
          "height": 513
        },
        "id": "8VRzrUmd_Qim",
        "outputId": "a2700af7-28fd-44a3-c9d1-51626612aa9b"
      },
      "execution_count": 57,
      "outputs": [
        {
          "output_type": "display_data",
          "data": {
            "text/plain": [
              "<Figure size 720x504 with 1 Axes>"
            ],
            "image/png": "[encoded data removed]"
          },
          "metadata": {
            "needs_background": "light"
          }
        }
      ]
    }
  ]
}