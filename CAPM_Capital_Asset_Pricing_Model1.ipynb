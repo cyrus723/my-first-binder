{
  "nbformat": 4,
  "nbformat_minor": 0,
  "metadata": {
    "kernelspec": {
      "display_name": "Python 3",
      "language": "python",
      "name": "python3"
    },
    "language_info": {
      "codemirror_mode": {
        "name": "ipython",
        "version": 3
      },
      "file_extension": ".py",
      "mimetype": "text/x-python",
      "name": "python",
      "nbconvert_exporter": "python",
      "pygments_lexer": "ipython3",
      "version": "3.7.6"
    },
    "colab": {
      "name": "CAPM-Capital-Asset-Pricing-Model1.ipynb",
      "provenance": [],
      "collapsed_sections": [],
      "include_colab_link": true
    }
  },
  "cells": [
    {
      "cell_type": "markdown",
      "metadata": {
        "id": "view-in-github",
        "colab_type": "text"
      },
      "source": [
        "<a href=\"https://colab.research.google.com/github/cyrus723/my-first-binder/blob/main/CAPM_Capital_Asset_Pricing_Model1.ipynb\" target=\"_parent\"><img src=\"https://colab.research.google.com/assets/colab-badge.svg\" alt=\"Open In Colab\"/></a>"
      ]
    },
    {
      "cell_type": "markdown",
      "metadata": {
        "id": "tSBv_Oz_mwUT"
      },
      "source": [
        "# CAPM - Capital Asset Pricing Model "
      ]
    },
    {
      "cell_type": "code",
      "metadata": {
        "collapsed": true,
        "id": "IFH0XGudmwUf",
        "colab": {
          "base_uri": "https://localhost:8080/"
        },
        "outputId": "79b6504a-a82a-4ff6-f231-c99a4a5cf5f9"
      },
      "source": [
        "pip install yfinance"
      ],
      "execution_count": 1,
      "outputs": [
        {
          "output_type": "stream",
          "name": "stdout",
          "text": [
            "Looking in indexes: https://pypi.org/simple, https://us-python.pkg.dev/colab-wheels/public/simple/\n",
            "Requirement already satisfied: yfinance in /usr/local/lib/python3.7/dist-packages (0.1.70)\n",
            "Requirement already satisfied: requests>=2.26 in /usr/local/lib/python3.7/dist-packages (from yfinance) (2.27.1)\n",
            "Requirement already satisfied: multitasking>=0.0.7 in /usr/local/lib/python3.7/dist-packages (from yfinance) (0.0.10)\n",
            "Requirement already satisfied: numpy>=1.15 in /usr/local/lib/python3.7/dist-packages (from yfinance) (1.21.6)\n",
            "Requirement already satisfied: pandas>=0.24.0 in /usr/local/lib/python3.7/dist-packages (from yfinance) (1.3.5)\n",
            "Requirement already satisfied: lxml>=4.5.1 in /usr/local/lib/python3.7/dist-packages (from yfinance) (4.8.0)\n",
            "Requirement already satisfied: python-dateutil>=2.7.3 in /usr/local/lib/python3.7/dist-packages (from pandas>=0.24.0->yfinance) (2.8.2)\n",
            "Requirement already satisfied: pytz>=2017.3 in /usr/local/lib/python3.7/dist-packages (from pandas>=0.24.0->yfinance) (2022.1)\n",
            "Requirement already satisfied: six>=1.5 in /usr/local/lib/python3.7/dist-packages (from python-dateutil>=2.7.3->pandas>=0.24.0->yfinance) (1.15.0)\n",
            "Requirement already satisfied: idna<4,>=2.5 in /usr/local/lib/python3.7/dist-packages (from requests>=2.26->yfinance) (2.10)\n",
            "Requirement already satisfied: certifi>=2017.4.17 in /usr/local/lib/python3.7/dist-packages (from requests>=2.26->yfinance) (2022.5.18.1)\n",
            "Requirement already satisfied: charset-normalizer~=2.0.0 in /usr/local/lib/python3.7/dist-packages (from requests>=2.26->yfinance) (2.0.12)\n",
            "Requirement already satisfied: urllib3<1.27,>=1.21.1 in /usr/local/lib/python3.7/dist-packages (from requests>=2.26->yfinance) (1.24.3)\n"
          ]
        }
      ]
    },
    {
      "cell_type": "code",
      "metadata": {
        "collapsed": true,
        "id": "nySQT5GBmwUg"
      },
      "source": [
        "import yfinance as yf\n",
        "import pandas as pd\n",
        "import numpy as np\n",
        "import pandas_datareader as pdr\n",
        "import statsmodels.api as sm   \n",
        "import datetime as dt\n",
        "\n",
        "# we import the following libraries to handle the download of data from French's website\n",
        "import urllib.request       # this package helps handle online files\n",
        "import zipfile              # this package is a Zip file utility to extract zipped files\n",
        "import os                   # this package helps us delete the files after usage\n",
        "\n",
        "import statsmodels.formula.api as smf\n",
        "import statsmodels.api as sm\n",
        "from scipy import stats\n",
        "from sklearn.model_selection import train_test_split\n",
        "from sklearn.linear_model import LinearRegression\n",
        "\n",
        "import matplotlib.pyplot as plt\n",
        "from pylab import mpl, plt\n",
        "\n",
        "plt.style.use('seaborn')\n",
        "mpl.rcParams['font.family'] = 'DejaVu Sans'\n",
        "mpl.rcParams[\"savefig.dpi\"] = 500\n",
        "np.set_printoptions(precision=5, suppress=True, formatter={\"float\": lambda x: f\"{x:6.3f}\"})\n",
        "\n",
        "%matplotlib inline"
      ],
      "execution_count": 34,
      "outputs": []
    },
    {
      "cell_type": "code",
      "metadata": {
        "id": "W4f7t_LPmwUh"
      },
      "source": [
        "#help(stats.linregress)"
      ],
      "execution_count": 3,
      "outputs": []
    },
    {
      "cell_type": "code",
      "metadata": {
        "collapsed": true,
        "id": "n5D1-IMCmwUk"
      },
      "source": [
        ""
      ],
      "execution_count": 3,
      "outputs": []
    },
    {
      "cell_type": "code",
      "metadata": {
        "id": "O-WJe7qxmwUl"
      },
      "source": [
        "def get_prices(tickers, freq_p, st_day, end_day):\n",
        "    mystock = pd.DataFrame()\n",
        "    for t in tickers:\n",
        "        mystock[t] = yf.download(t, start=st_day, end=end_day, interval=freq_p)['Adj Close']\n",
        "    \n",
        "    return mystock"
      ],
      "execution_count": 49,
      "outputs": []
    },
    {
      "cell_type": "code",
      "source": [
        "tic=['WMT', 'SPY']\n",
        "prices= get_prices(tic, freq_p='1wk', st_day=\"2011-01-01\", end_day=\"2022-05-31\")  # id , 1wk, 1mo\n",
        "print(prices)\n",
        "\n",
        "prices.rename(columns={\"WMT\": \"Your_Stock\", \"SPY\":\"INDEX\"}, inplace=True)\n",
        "\n",
        "prices.info()"
      ],
      "metadata": {
        "colab": {
          "base_uri": "https://localhost:8080/"
        },
        "id": "ctHO6RAQxX7j",
        "outputId": "98a02d5a-ef5d-4118-8a56-617e2fe93e60"
      },
      "execution_count": 51,
      "outputs": [
        {
          "output_type": "stream",
          "name": "stdout",
          "text": [
            "[*********************100%***********************]  1 of 1 completed\n",
            "[*********************100%***********************]  1 of 1 completed\n",
            "                   WMT         SPY\n",
            "Date                              \n",
            "2011-01-01   41.478462  102.504013\n",
            "2011-01-08   42.038361  104.245453\n",
            "2011-01-15   42.743969  103.495628\n",
            "2011-01-22   43.487957  102.971596\n",
            "2011-01-29   42.974072  105.736984\n",
            "...                ...         ...\n",
            "2022-04-30  149.018326  411.339996\n",
            "2022-05-05         NaN         NaN\n",
            "2022-05-07  148.050003  401.720001\n",
            "2022-05-14  119.199997  389.630005\n",
            "2022-05-23  122.599998  396.920013\n",
            "\n",
            "[641 rows x 2 columns]\n",
            "<class 'pandas.core.frame.DataFrame'>\n",
            "DatetimeIndex: 641 entries, 2011-01-01 to 2022-05-23\n",
            "Data columns (total 2 columns):\n",
            " #   Column      Non-Null Count  Dtype  \n",
            "---  ------      --------------  -----  \n",
            " 0   Your_Stock  595 non-null    float64\n",
            " 1   INDEX       595 non-null    float64\n",
            "dtypes: float64(2)\n",
            "memory usage: 15.0 KB\n"
          ]
        }
      ]
    },
    {
      "cell_type": "code",
      "metadata": {
        "id": "JrQgItnKmwUp",
        "colab": {
          "base_uri": "https://localhost:8080/"
        },
        "outputId": "0398e856-a200-4a13-ae45-97cc879f0892"
      },
      "source": [
        "print(prices.isnull().sum())\n",
        "prices.dropna(how='any', inplace=True)\n",
        "print(prices.isnull().sum())\n",
        "prices.info()"
      ],
      "execution_count": 6,
      "outputs": [
        {
          "output_type": "stream",
          "name": "stdout",
          "text": [
            "Your_Stock    46\n",
            "INDEX         46\n",
            "dtype: int64\n",
            "Your_Stock    0\n",
            "INDEX         0\n",
            "dtype: int64\n",
            "<class 'pandas.core.frame.DataFrame'>\n",
            "DatetimeIndex: 595 entries, 2011-01-01 to 2022-05-23\n",
            "Data columns (total 2 columns):\n",
            " #   Column      Non-Null Count  Dtype  \n",
            "---  ------      --------------  -----  \n",
            " 0   Your_Stock  595 non-null    float64\n",
            " 1   INDEX       595 non-null    float64\n",
            "dtypes: float64(2)\n",
            "memory usage: 13.9 KB\n"
          ]
        }
      ]
    },
    {
      "cell_type": "code",
      "source": [
        ""
      ],
      "metadata": {
        "id": "lkYrt3PmxX4r"
      },
      "execution_count": 6,
      "outputs": []
    },
    {
      "cell_type": "code",
      "metadata": {
        "id": "Egbl1W2GmwUo"
      },
      "source": [
        ""
      ],
      "execution_count": 6,
      "outputs": []
    },
    {
      "cell_type": "code",
      "metadata": {
        "id": "Fd6gCkWamwUu"
      },
      "source": [
        ""
      ],
      "execution_count": 6,
      "outputs": []
    },
    {
      "cell_type": "code",
      "metadata": {
        "id": "mivqtbW9mwUw",
        "colab": {
          "base_uri": "https://localhost:8080/",
          "height": 383
        },
        "outputId": "0c2e48d8-5806-47b5-f421-51592e9828e7"
      },
      "source": [
        "prices.plot(figsize=(10,6))\n",
        "plt.legend()"
      ],
      "execution_count": 7,
      "outputs": [
        {
          "output_type": "execute_result",
          "data": {
            "text/plain": [
              "<matplotlib.legend.Legend at 0x7f6e9f02f490>"
            ]
          },
          "metadata": {},
          "execution_count": 7
        },
        {
          "output_type": "display_data",
          "data": {
            "text/plain": [
              "<Figure size 720x432 with 1 Axes>"
            ],
            "image/png": "[encoded data removed]"
          },
          "metadata": {
            "needs_background": "light"
          }
        }
      ]
    },
    {
      "cell_type": "code",
      "source": [
        "(prices / prices.iloc[0] * 1).plot(figsize=(10, 6), subplots=False)  #cumulative returns\n",
        "plt.title('Cumulative Return')\n",
        "plt.tight_layout()"
      ],
      "metadata": {
        "colab": {
          "base_uri": "https://localhost:8080/",
          "height": 441
        },
        "id": "U1MhYpXJ5S8M",
        "outputId": "e20dd3f5-dc3c-4599-8bf7-2ec5e95bda52"
      },
      "execution_count": 8,
      "outputs": [
        {
          "output_type": "display_data",
          "data": {
            "text/plain": [
              "<Figure size 720x432 with 1 Axes>"
            ],
            "image/png": "[encoded data removed]"
          },
          "metadata": {
            "needs_background": "light"
          }
        }
      ]
    },
    {
      "cell_type": "code",
      "source": [
        "prices.pct_change(1).dropna()\n",
        "plt.scatter(prices['Your_Stock'], prices['INDEX'], color = 'red', alpha=0.2)"
      ],
      "metadata": {
        "colab": {
          "base_uri": "https://localhost:8080/",
          "height": 281
        },
        "id": "TnWNwpr-5S5L",
        "outputId": "b8863277-41f4-40a8-b25a-823540548359"
      },
      "execution_count": 9,
      "outputs": [
        {
          "output_type": "execute_result",
          "data": {
            "text/plain": [
              "<matplotlib.collections.PathCollection at 0x7f6e9c995ed0>"
            ]
          },
          "metadata": {},
          "execution_count": 9
        },
        {
          "output_type": "display_data",
          "data": {
            "text/plain": [
              "<Figure size 432x288 with 1 Axes>"
            ],
            "image/png": "[encoded data removed]"
          },
          "metadata": {
            "needs_background": "light"
          }
        }
      ]
    },
    {
      "cell_type": "code",
      "metadata": {
        "id": "hics-JmemwUz",
        "colab": {
          "base_uri": "https://localhost:8080/",
          "height": 332
        },
        "outputId": "9ab61278-c30d-4739-ddc9-31d14ce8a332"
      },
      "source": [
        "returns = prices.pct_change(1).dropna()\n",
        "returns.hist(bins=100)"
      ],
      "execution_count": 10,
      "outputs": [
        {
          "output_type": "execute_result",
          "data": {
            "text/plain": [
              "array([[<matplotlib.axes._subplots.AxesSubplot object at 0x7f6e9c965cd0>,\n",
              "        <matplotlib.axes._subplots.AxesSubplot object at 0x7f6e9c9198d0>]],\n",
              "      dtype=object)"
            ]
          },
          "metadata": {},
          "execution_count": 10
        },
        {
          "output_type": "display_data",
          "data": {
            "text/plain": [
              "<Figure size 432x288 with 2 Axes>"
            ],
            "image/png": "[encoded data removed]"
          },
          "metadata": {
            "needs_background": "light"
          }
        }
      ]
    },
    {
      "cell_type": "code",
      "source": [
        "returns"
      ],
      "metadata": {
        "colab": {
          "base_uri": "https://localhost:8080/",
          "height": 455
        },
        "id": "GH9qh0h59udQ",
        "outputId": "95a7d86b-4e46-4c63-b4f9-b72d44fc39ac"
      },
      "execution_count": 11,
      "outputs": [
        {
          "output_type": "execute_result",
          "data": {
            "text/plain": [
              "            Your_Stock     INDEX\n",
              "Date                            \n",
              "2011-01-08    0.013499  0.016989\n",
              "2011-01-15    0.016785 -0.007193\n",
              "2011-01-22    0.017405 -0.005064\n",
              "2011-01-29   -0.011816  0.026855\n",
              "2011-02-05   -0.006068  0.014945\n",
              "...                ...       ...\n",
              "2022-04-23   -0.024672 -0.032955\n",
              "2022-04-30   -0.022420 -0.001602\n",
              "2022-05-07   -0.006498 -0.023387\n",
              "2022-05-14   -0.194867 -0.030096\n",
              "2022-05-23    0.028524  0.018710\n",
              "\n",
              "[594 rows x 2 columns]"
            ],
            "text/html": [
              "\n",
              "  <div id=\"df-d7381fba-e788-4061-97cd-a1c0e523db64\">\n",
              "    <div class=\"colab-df-container\">\n",
              "      <div>\n",
              "<style scoped>\n",
              "    .dataframe tbody tr th:only-of-type {\n",
              "        vertical-align: middle;\n",
              "    }\n",
              "\n",
              "    .dataframe tbody tr th {\n",
              "        vertical-align: top;\n",
              "    }\n",
              "\n",
              "    .dataframe thead th {\n",
              "        text-align: right;\n",
              "    }\n",
              "</style>\n",
              "<table border=\"1\" class=\"dataframe\">\n",
              "  <thead>\n",
              "    <tr style=\"text-align: right;\">\n",
              "      <th></th>\n",
              "      <th>Your_Stock</th>\n",
              "      <th>INDEX</th>\n",
              "    </tr>\n",
              "    <tr>\n",
              "      <th>Date</th>\n",
              "      <th></th>\n",
              "      <th></th>\n",
              "    </tr>\n",
              "  </thead>\n",
              "  <tbody>\n",
              "    <tr>\n",
              "      <th>2011-01-08</th>\n",
              "      <td>0.013499</td>\n",
              "      <td>0.016989</td>\n",
              "    </tr>\n",
              "    <tr>\n",
              "      <th>2011-01-15</th>\n",
              "      <td>0.016785</td>\n",
              "      <td>-0.007193</td>\n",
              "    </tr>\n",
              "    <tr>\n",
              "      <th>2011-01-22</th>\n",
              "      <td>0.017405</td>\n",
              "      <td>-0.005064</td>\n",
              "    </tr>\n",
              "    <tr>\n",
              "      <th>2011-01-29</th>\n",
              "      <td>-0.011816</td>\n",
              "      <td>0.026855</td>\n",
              "    </tr>\n",
              "    <tr>\n",
              "      <th>2011-02-05</th>\n",
              "      <td>-0.006068</td>\n",
              "      <td>0.014945</td>\n",
              "    </tr>\n",
              "    <tr>\n",
              "      <th>...</th>\n",
              "      <td>...</td>\n",
              "      <td>...</td>\n",
              "    </tr>\n",
              "    <tr>\n",
              "      <th>2022-04-23</th>\n",
              "      <td>-0.024672</td>\n",
              "      <td>-0.032955</td>\n",
              "    </tr>\n",
              "    <tr>\n",
              "      <th>2022-04-30</th>\n",
              "      <td>-0.022420</td>\n",
              "      <td>-0.001602</td>\n",
              "    </tr>\n",
              "    <tr>\n",
              "      <th>2022-05-07</th>\n",
              "      <td>-0.006498</td>\n",
              "      <td>-0.023387</td>\n",
              "    </tr>\n",
              "    <tr>\n",
              "      <th>2022-05-14</th>\n",
              "      <td>-0.194867</td>\n",
              "      <td>-0.030096</td>\n",
              "    </tr>\n",
              "    <tr>\n",
              "      <th>2022-05-23</th>\n",
              "      <td>0.028524</td>\n",
              "      <td>0.018710</td>\n",
              "    </tr>\n",
              "  </tbody>\n",
              "</table>\n",
              "<p>594 rows × 2 columns</p>\n",
              "</div>\n",
              "      <button class=\"colab-df-convert\" onclick=\"convertToInteractive('df-d7381fba-e788-4061-97cd-a1c0e523db64')\"\n",
              "              title=\"Convert this dataframe to an interactive table.\"\n",
              "              style=\"display:none;\">\n",
              "        \n",
              "  <svg xmlns=\"http://www.w3.org/2000/svg\" height=\"24px\"viewBox=\"0 0 24 24\"\n",
              "       width=\"24px\">\n",
              "    <path d=\"M0 0h24v24H0V0z\" fill=\"none\"/>\n",
              "    <path d=\"M18.56 5.44l.94 2.06.94-2.06 2.06-.94-2.06-.94-.94-2.06-.94 2.06-2.06.94zm-11 1L8.5 8.5l.94-2.06 2.06-.94-2.06-.94L8.5 2.5l-.94 2.06-2.06.94zm10 10l.94 2.06.94-2.06 2.06-.94-2.06-.94-.94-2.06-.94 2.06-2.06.94z\"/><path d=\"M17.41 7.96l-1.37-1.37c-.4-.4-.92-.59-1.43-.59-.52 0-1.04.2-1.43.59L10.3 9.45l-7.72 7.72c-.78.78-.78 2.05 0 2.83L4 21.41c.39.39.9.59 1.41.59.51 0 1.02-.2 1.41-.59l7.78-7.78 2.81-2.81c.8-.78.8-2.07 0-2.86zM5.41 20L4 18.59l7.72-7.72 1.47 1.35L5.41 20z\"/>\n",
              "  </svg>\n",
              "      </button>\n",
              "      \n",
              "  <style>\n",
              "    .colab-df-container {\n",
              "      display:flex;\n",
              "      flex-wrap:wrap;\n",
              "      gap: 12px;\n",
              "    }\n",
              "\n",
              "    .colab-df-convert {\n",
              "      background-color: #E8F0FE;\n",
              "      border: none;\n",
              "      border-radius: 50%;\n",
              "      cursor: pointer;\n",
              "      display: none;\n",
              "      fill: #1967D2;\n",
              "      height: 32px;\n",
              "      padding: 0 0 0 0;\n",
              "      width: 32px;\n",
              "    }\n",
              "\n",
              "    .colab-df-convert:hover {\n",
              "      background-color: #E2EBFA;\n",
              "      box-shadow: 0px 1px 2px rgba(60, 64, 67, 0.3), 0px 1px 3px 1px rgba(60, 64, 67, 0.15);\n",
              "      fill: #174EA6;\n",
              "    }\n",
              "\n",
              "    [theme=dark] .colab-df-convert {\n",
              "      background-color: #3B4455;\n",
              "      fill: #D2E3FC;\n",
              "    }\n",
              "\n",
              "    [theme=dark] .colab-df-convert:hover {\n",
              "      background-color: #434B5C;\n",
              "      box-shadow: 0px 1px 3px 1px rgba(0, 0, 0, 0.15);\n",
              "      filter: drop-shadow(0px 1px 2px rgba(0, 0, 0, 0.3));\n",
              "      fill: #FFFFFF;\n",
              "    }\n",
              "  </style>\n",
              "\n",
              "      <script>\n",
              "        const buttonEl =\n",
              "          document.querySelector('#df-d7381fba-e788-4061-97cd-a1c0e523db64 button.colab-df-convert');\n",
              "        buttonEl.style.display =\n",
              "          google.colab.kernel.accessAllowed ? 'block' : 'none';\n",
              "\n",
              "        async function convertToInteractive(key) {\n",
              "          const element = document.querySelector('#df-d7381fba-e788-4061-97cd-a1c0e523db64');\n",
              "          const dataTable =\n",
              "            await google.colab.kernel.invokeFunction('convertToInteractive',\n",
              "                                                     [key], {});\n",
              "          if (!dataTable) return;\n",
              "\n",
              "          const docLinkHtml = 'Like what you see? Visit the ' +\n",
              "            '<a target=\"_blank\" href=https://colab.research.google.com/notebooks/data_table.ipynb>data table notebook</a>'\n",
              "            + ' to learn more about interactive tables.';\n",
              "          element.innerHTML = '';\n",
              "          dataTable['output_type'] = 'display_data';\n",
              "          await google.colab.output.renderOutput(dataTable, element);\n",
              "          const docLink = document.createElement('div');\n",
              "          docLink.innerHTML = docLinkHtml;\n",
              "          element.appendChild(docLink);\n",
              "        }\n",
              "      </script>\n",
              "    </div>\n",
              "  </div>\n",
              "  "
            ]
          },
          "metadata": {},
          "execution_count": 11
        }
      ]
    },
    {
      "cell_type": "code",
      "metadata": {
        "id": "srnu6WvomwU0"
      },
      "source": [
        "beta,alpha,r_value,p_value,std_err = stats.linregress(returns['INDEX'],returns[\"Your_Stock\"])"
      ],
      "execution_count": 12,
      "outputs": []
    },
    {
      "cell_type": "code",
      "metadata": {
        "id": "N1Lzl9kQmwU1",
        "colab": {
          "base_uri": "https://localhost:8080/"
        },
        "outputId": "4977d45a-a293-4a44-ebbc-9b1e708cc2ff"
      },
      "source": [
        "print(beta.round(4))\n",
        "print(alpha.round(4))\n",
        "print(r_value.round(2))\n",
        "print(p_value.round(4))"
      ],
      "execution_count": 13,
      "outputs": [
        {
          "output_type": "stream",
          "name": "stdout",
          "text": [
            "0.4544\n",
            "0.001\n",
            "0.38\n",
            "0.0\n"
          ]
        }
      ]
    },
    {
      "cell_type": "code",
      "metadata": {
        "id": "hcLnmw7JmwU2",
        "colab": {
          "base_uri": "https://localhost:8080/"
        },
        "outputId": "10d90c3e-7896-4313-9dba-079dd13aeeda"
      },
      "source": [
        "formula = 'Your_Stock ~ INDEX'\n",
        "results = smf.ols(formula, returns).fit()\n",
        "print(results.summary())"
      ],
      "execution_count": 14,
      "outputs": [
        {
          "output_type": "stream",
          "name": "stdout",
          "text": [
            "                            OLS Regression Results                            \n",
            "==============================================================================\n",
            "Dep. Variable:             Your_Stock   R-squared:                       0.142\n",
            "Model:                            OLS   Adj. R-squared:                  0.141\n",
            "Method:                 Least Squares   F-statistic:                     98.16\n",
            "Date:                Mon, 23 May 2022   Prob (F-statistic):           1.63e-21\n",
            "Time:                        23:14:17   Log-Likelihood:                 1352.8\n",
            "No. Observations:                 594   AIC:                            -2702.\n",
            "Df Residuals:                     592   BIC:                            -2693.\n",
            "Df Model:                           1                                         \n",
            "Covariance Type:            nonrobust                                         \n",
            "==============================================================================\n",
            "                 coef    std err          t      P>|t|      [0.025      0.975]\n",
            "------------------------------------------------------------------------------\n",
            "Intercept      0.0010      0.001      1.013      0.311      -0.001       0.003\n",
            "INDEX          0.4544      0.046      9.908      0.000       0.364       0.544\n",
            "==============================================================================\n",
            "Omnibus:                      129.134   Durbin-Watson:                   2.250\n",
            "Prob(Omnibus):                  0.000   Jarque-Bera (JB):             1559.953\n",
            "Skew:                          -0.571   Prob(JB):                         0.00\n",
            "Kurtosis:                      10.856   Cond. No.                         45.0\n",
            "==============================================================================\n",
            "\n",
            "Warnings:\n",
            "[1] Standard Errors assume that the covariance matrix of the errors is correctly specified.\n"
          ]
        }
      ]
    },
    {
      "cell_type": "code",
      "metadata": {
        "id": "7AqSPUlomwU3"
      },
      "source": [
        "\n"
      ],
      "execution_count": 14,
      "outputs": []
    },
    {
      "cell_type": "markdown",
      "source": [
        "You need to take a look at the shape of the data you are feeding into .fit().\n",
        "\n",
        "Here x.shape = (10,) but we need it to be (10, 1), see sklearn. Same goes for y. So we reshape:"
      ],
      "metadata": {
        "id": "8Smo3CZNCT-_"
      }
    },
    {
      "cell_type": "code",
      "source": [
        "X = returns.loc[:, ['INDEX']].values"
      ],
      "metadata": {
        "id": "4JaPe7H7_o3j"
      },
      "execution_count": 15,
      "outputs": []
    },
    {
      "cell_type": "code",
      "source": [
        "y = returns.loc[:, ['Your_Stock']].values"
      ],
      "metadata": {
        "id": "w9V4AufwHUfD"
      },
      "execution_count": 16,
      "outputs": []
    },
    {
      "cell_type": "code",
      "source": [
        "X.shape"
      ],
      "metadata": {
        "colab": {
          "base_uri": "https://localhost:8080/"
        },
        "id": "lHAQJ9zqAhYc",
        "outputId": "db8db144-2f8b-4eed-aaee-64967a1e7d92"
      },
      "execution_count": 17,
      "outputs": [
        {
          "output_type": "execute_result",
          "data": {
            "text/plain": [
              "(594, 1)"
            ]
          },
          "metadata": {},
          "execution_count": 17
        }
      ]
    },
    {
      "cell_type": "code",
      "source": [
        "type(X)"
      ],
      "metadata": {
        "colab": {
          "base_uri": "https://localhost:8080/"
        },
        "id": "G9NriPRzAwAB",
        "outputId": "aa51f90b-3d22-4e49-a4ac-3a195aa5a55b"
      },
      "execution_count": 18,
      "outputs": [
        {
          "output_type": "execute_result",
          "data": {
            "text/plain": [
              "numpy.ndarray"
            ]
          },
          "metadata": {},
          "execution_count": 18
        }
      ]
    },
    {
      "cell_type": "code",
      "source": [
        "X.dtype"
      ],
      "metadata": {
        "colab": {
          "base_uri": "https://localhost:8080/"
        },
        "id": "FpXm-LKjAv9O",
        "outputId": "1290a2c7-418f-48ee-fb6d-25c28cacfef8"
      },
      "execution_count": 19,
      "outputs": [
        {
          "output_type": "execute_result",
          "data": {
            "text/plain": [
              "dtype('float64')"
            ]
          },
          "metadata": {},
          "execution_count": 19
        }
      ]
    },
    {
      "cell_type": "code",
      "source": [
        "y.shape\n",
        "y"
      ],
      "metadata": {
        "colab": {
          "base_uri": "https://localhost:8080/"
        },
        "id": "D32vbocuAhTD",
        "outputId": "915e8371-355a-4140-c0f9-b5c40e5ce519"
      },
      "execution_count": 20,
      "outputs": [
        {
          "output_type": "execute_result",
          "data": {
            "text/plain": [
              "array([[ 0.013],\n",
              "       [ 0.017],\n",
              "       [ 0.017],\n",
              "       [-0.012],\n",
              "       [-0.006],\n",
              "       [-0.006],\n",
              "       [-0.066],\n",
              "       [ 0.006],\n",
              "       [ 0.010],\n",
              "       [-0.013],\n",
              "       [ 0.016],\n",
              "       [-0.004],\n",
              "       [ 0.008],\n",
              "       [ 0.019],\n",
              "       [ 0.001],\n",
              "       [ 0.026],\n",
              "       [ 0.001],\n",
              "       [ 0.013],\n",
              "       [-0.001],\n",
              "       [-0.011],\n",
              "       [-0.019],\n",
              "       [-0.018],\n",
              "       [ 0.002],\n",
              "       [-0.008],\n",
              "       [ 0.021],\n",
              "       [ 0.011],\n",
              "       [-0.008],\n",
              "       [ 0.017],\n",
              "       [-0.033],\n",
              "       [-0.035],\n",
              "       [-0.022],\n",
              "       [ 0.059],\n",
              "       [ 0.011],\n",
              "       [-0.016],\n",
              "       [-0.013],\n",
              "       [ 0.025],\n",
              "       [-0.035],\n",
              "       [ 0.022],\n",
              "       [ 0.035],\n",
              "       [ 0.033],\n",
              "       [ 0.026],\n",
              "       [ 0.004],\n",
              "       [ 0.006],\n",
              "       [ 0.030],\n",
              "       [-0.033],\n",
              "       [-0.006],\n",
              "       [ 0.021],\n",
              "       [ 0.004],\n",
              "       [ 0.005],\n",
              "       [ 0.030],\n",
              "       [-0.004],\n",
              "       [-0.013],\n",
              "       [ 0.009],\n",
              "       [ 0.025],\n",
              "       [-0.005],\n",
              "       [ 0.022],\n",
              "       [-0.002],\n",
              "       [ 0.009],\n",
              "       [-0.059],\n",
              "       [ 0.004],\n",
              "       [ 0.018],\n",
              "       [ 0.019],\n",
              "       [-0.001],\n",
              "       [ 0.007],\n",
              "       [-0.009],\n",
              "       [-0.015],\n",
              "       [ 0.045],\n",
              "       [-0.055],\n",
              "       [-0.006],\n",
              "       [ 0.012],\n",
              "       [ 0.058],\n",
              "       [ 0.046],\n",
              "       [ 0.004],\n",
              "       [ 0.041],\n",
              "       [-0.007],\n",
              "       [-0.007],\n",
              "       [ 0.036],\n",
              "       [ 0.024],\n",
              "       [ 0.026],\n",
              "       [-0.013],\n",
              "       [ 0.031],\n",
              "       [ 0.000],\n",
              "       [-0.012],\n",
              "       [-0.018],\n",
              "       [ 0.002],\n",
              "       [ 0.007],\n",
              "       [ 0.017],\n",
              "       [ 0.009],\n",
              "       [-0.001],\n",
              "       [-0.009],\n",
              "       [ 0.018],\n",
              "       [ 0.009],\n",
              "       [-0.003],\n",
              "       [-0.007],\n",
              "       [-0.031],\n",
              "       [-0.006],\n",
              "       [-0.059],\n",
              "       [ 0.032],\n",
              "       [ 0.026],\n",
              "       [ 0.004],\n",
              "       [-0.044],\n",
              "       [-0.001],\n",
              "       [-0.015],\n",
              "       [ 0.021],\n",
              "       [-0.006],\n",
              "       [ 0.008],\n",
              "       [-0.003],\n",
              "       [ 0.022],\n",
              "       [ 0.014],\n",
              "       [-0.030],\n",
              "       [ 0.016],\n",
              "       [ 0.019],\n",
              "       [ 0.018],\n",
              "       [-0.001],\n",
              "       [ 0.025],\n",
              "       [ 0.007],\n",
              "       [ 0.021],\n",
              "       [ 0.028],\n",
              "       [-0.003],\n",
              "       [ 0.010],\n",
              "       [ 0.003],\n",
              "       [-0.005],\n",
              "       [-0.007],\n",
              "       [-0.007],\n",
              "       [-0.032],\n",
              "       [ 0.020],\n",
              "       [-0.019],\n",
              "       [-0.018],\n",
              "       [ 0.013],\n",
              "       [ 0.010],\n",
              "       [ 0.032],\n",
              "       [ 0.006],\n",
              "       [-0.001],\n",
              "       [ 0.010],\n",
              "       [-0.023],\n",
              "       [-0.030],\n",
              "       [-0.009],\n",
              "       [-0.006],\n",
              "       [-0.005],\n",
              "       [ 0.024],\n",
              "       [ 0.020],\n",
              "       [-0.019],\n",
              "       [-0.021],\n",
              "       [ 0.028],\n",
              "       [ 0.012],\n",
              "       [ 0.005],\n",
              "       [ 0.013],\n",
              "       [ 0.012],\n",
              "       [ 0.016],\n",
              "       [ 0.007],\n",
              "       [ 0.015],\n",
              "       [-0.013],\n",
              "       [-0.018],\n",
              "       [-0.008],\n",
              "       [ 0.013],\n",
              "       [ 0.002],\n",
              "       [-0.008],\n",
              "       [-0.024],\n",
              "       [-0.023],\n",
              "       [ 0.003],\n",
              "       [-0.012],\n",
              "       [ 0.028],\n",
              "       [-0.035],\n",
              "       [ 0.022],\n",
              "       [-0.002],\n",
              "       [ 0.002],\n",
              "       [ 0.025],\n",
              "       [-0.001],\n",
              "       [ 0.017],\n",
              "       [-0.010],\n",
              "       [ 0.015],\n",
              "       [ 0.012],\n",
              "       [ 0.006],\n",
              "       [ 0.001],\n",
              "       [-0.022],\n",
              "       [-0.018],\n",
              "       [ 0.015],\n",
              "       [ 0.006],\n",
              "       [-0.025],\n",
              "       [ 0.005],\n",
              "       [-0.004],\n",
              "       [ 0.005],\n",
              "       [ 0.014],\n",
              "       [ 0.004],\n",
              "       [-0.015],\n",
              "       [-0.032],\n",
              "       [ 0.015],\n",
              "       [-0.004],\n",
              "       [ 0.025],\n",
              "       [-0.003],\n",
              "       [ 0.027],\n",
              "       [-0.022],\n",
              "       [ 0.014],\n",
              "       [-0.005],\n",
              "       [ 0.011],\n",
              "       [ 0.013],\n",
              "       [-0.054],\n",
              "       [ 0.031],\n",
              "       [-0.001],\n",
              "       [ 0.033],\n",
              "       [ 0.053],\n",
              "       [ 0.020],\n",
              "       [ 0.034],\n",
              "       [-0.039],\n",
              "       [ 0.002],\n",
              "       [ 0.016],\n",
              "       [ 0.021],\n",
              "       [-0.012],\n",
              "       [ 0.040],\n",
              "       [-0.029],\n",
              "       [ 0.020],\n",
              "       [-0.040],\n",
              "       [ 0.028],\n",
              "       [-0.017],\n",
              "       [-0.018],\n",
              "       [-0.004],\n",
              "       [-0.016],\n",
              "       [-0.008],\n",
              "       [ 0.022],\n",
              "       [-0.023],\n",
              "       [-0.008],\n",
              "       [-0.001],\n",
              "       [-0.034],\n",
              "       [ 0.025],\n",
              "       [-0.016],\n",
              "       [-0.001],\n",
              "       [ 0.015],\n",
              "       [-0.043],\n",
              "       [-0.021],\n",
              "       [-0.016],\n",
              "       [-0.009],\n",
              "       [ 0.004],\n",
              "       [-0.009],\n",
              "       [-0.004],\n",
              "       [ 0.018],\n",
              "       [ 0.004],\n",
              "       [-0.025],\n",
              "       [ 0.006],\n",
              "       [-0.010],\n",
              "       [ 0.023],\n",
              "       [-0.081],\n",
              "       [-0.024],\n",
              "       [-0.016],\n",
              "       [ 0.012],\n",
              "       [-0.020],\n",
              "       [ 0.007],\n",
              "       [ 0.019],\n",
              "       [ 0.026],\n",
              "       [-0.117],\n",
              "       [-0.010],\n",
              "       [-0.018],\n",
              "       [ 0.027],\n",
              "       [-0.040],\n",
              "       [ 0.065],\n",
              "       [-0.003],\n",
              "       [-0.004],\n",
              "       [ 0.003],\n",
              "       [-0.009],\n",
              "       [ 0.034],\n",
              "       [ 0.008],\n",
              "       [ 0.037],\n",
              "       [-0.025],\n",
              "       [ 0.012],\n",
              "       [ 0.059],\n",
              "       [ 0.010],\n",
              "       [-0.012],\n",
              "       [-0.023],\n",
              "       [ 0.029],\n",
              "       [ 0.004],\n",
              "       [ 0.006],\n",
              "       [ 0.004],\n",
              "       [ 0.016],\n",
              "       [ 0.016],\n",
              "       [-0.014],\n",
              "       [ 0.015],\n",
              "       [-0.005],\n",
              "       [-0.027],\n",
              "       [ 0.021],\n",
              "       [-0.048],\n",
              "       [ 0.084],\n",
              "       [ 0.013],\n",
              "       [ 0.002],\n",
              "       [ 0.004],\n",
              "       [-0.003],\n",
              "       [ 0.014],\n",
              "       [ 0.012],\n",
              "       [ 0.014],\n",
              "       [-0.002],\n",
              "       [-0.002],\n",
              "       [-0.008],\n",
              "       [ 0.011],\n",
              "       [ 0.002],\n",
              "       [-0.008],\n",
              "       [-0.023],\n",
              "       [ 0.019],\n",
              "       [-0.030],\n",
              "       [ 0.037],\n",
              "       [-0.007],\n",
              "       [-0.003],\n",
              "       [-0.047],\n",
              "       [-0.004],\n",
              "       [-0.002],\n",
              "       [ 0.024],\n",
              "       [-0.012],\n",
              "       [ 0.030],\n",
              "       [-0.038],\n",
              "       [ 0.039],\n",
              "       [-0.005],\n",
              "       [-0.011],\n",
              "       [ 0.020],\n",
              "       [-0.020],\n",
              "       [-0.006],\n",
              "       [-0.012],\n",
              "       [-0.017],\n",
              "       [ 0.001],\n",
              "       [-0.023],\n",
              "       [ 0.013],\n",
              "       [ 0.023],\n",
              "       [ 0.020],\n",
              "       [ 0.044],\n",
              "       [-0.033],\n",
              "       [ 0.001],\n",
              "       [ 0.004],\n",
              "       [-0.004],\n",
              "       [ 0.035],\n",
              "       [ 0.011],\n",
              "       [ 0.003],\n",
              "       [ 0.024],\n",
              "       [ 0.003],\n",
              "       [ 0.018],\n",
              "       [-0.010],\n",
              "       [ 0.047],\n",
              "       [-0.008],\n",
              "       [ 0.019],\n",
              "       [-0.003],\n",
              "       [-0.053],\n",
              "       [-0.005],\n",
              "       [ 0.011],\n",
              "       [-0.005],\n",
              "       [ 0.013],\n",
              "       [-0.002],\n",
              "       [ 0.048],\n",
              "       [ 0.008],\n",
              "       [-0.001],\n",
              "       [-0.007],\n",
              "       [-0.009],\n",
              "       [-0.003],\n",
              "       [ 0.007],\n",
              "       [ 0.019],\n",
              "       [-0.011],\n",
              "       [-0.017],\n",
              "       [ 0.011],\n",
              "       [ 0.096],\n",
              "       [ 0.009],\n",
              "       [ 0.008],\n",
              "       [ 0.017],\n",
              "       [ 0.014],\n",
              "       [ 0.072],\n",
              "       [-0.009],\n",
              "       [ 0.008],\n",
              "       [-0.008],\n",
              "       [ 0.011],\n",
              "       [ 0.011],\n",
              "       [ 0.005],\n",
              "       [ 0.014],\n",
              "       [ 0.007],\n",
              "       [ 0.037],\n",
              "       [ 0.036],\n",
              "       [-0.036],\n",
              "       [-0.049],\n",
              "       [ 0.054],\n",
              "       [-0.113],\n",
              "       [-0.044],\n",
              "       [-0.001],\n",
              "       [ 0.011],\n",
              "       [-0.042],\n",
              "       [ 0.042],\n",
              "       [-0.026],\n",
              "       [-0.008],\n",
              "       [ 0.011],\n",
              "       [ 0.004],\n",
              "       [ 0.003],\n",
              "       [-0.047],\n",
              "       [ 0.009],\n",
              "       [-0.014],\n",
              "       [ 0.006],\n",
              "       [ 0.017],\n",
              "       [-0.008],\n",
              "       [ 0.013],\n",
              "       [ 0.010],\n",
              "       [-0.013],\n",
              "       [ 0.038],\n",
              "       [ 0.004],\n",
              "       [ 0.001],\n",
              "       [ 0.017],\n",
              "       [ 0.006],\n",
              "       [ 0.091],\n",
              "       [-0.030],\n",
              "       [ 0.010],\n",
              "       [-0.000],\n",
              "       [-0.013],\n",
              "       [ 0.014],\n",
              "       [-0.021],\n",
              "       [-0.006],\n",
              "       [ 0.016],\n",
              "       [ 0.025],\n",
              "       [ 0.018],\n",
              "       [ 0.024],\n",
              "       [ 0.042],\n",
              "       [-0.075],\n",
              "       [-0.027],\n",
              "       [ 0.027],\n",
              "       [-0.046],\n",
              "       [-0.009],\n",
              "       [-0.051],\n",
              "       [ 0.057],\n",
              "       [ 0.014],\n",
              "       [ 0.015],\n",
              "       [ 0.030],\n",
              "       [-0.008],\n",
              "       [-0.032],\n",
              "       [ 0.018],\n",
              "       [ 0.046],\n",
              "       [-0.004],\n",
              "       [-0.016],\n",
              "       [-0.003],\n",
              "       [ 0.009],\n",
              "       [ 0.004],\n",
              "       [-0.008],\n",
              "       [ 0.013],\n",
              "       [ 0.028],\n",
              "       [ 0.016],\n",
              "       [-0.016],\n",
              "       [ 0.005],\n",
              "       [-0.002],\n",
              "       [-0.005],\n",
              "       [ 0.018],\n",
              "       [-0.012],\n",
              "       [ 0.046],\n",
              "       [ 0.028],\n",
              "       [ 0.019],\n",
              "       [-0.006],\n",
              "       [ 0.013],\n",
              "       [ 0.023],\n",
              "       [-0.006],\n",
              "       [-0.008],\n",
              "       [-0.032],\n",
              "       [-0.019],\n",
              "       [ 0.058],\n",
              "       [-0.019],\n",
              "       [ 0.031],\n",
              "       [ 0.004],\n",
              "       [ 0.024],\n",
              "       [-0.004],\n",
              "       [ 0.013],\n",
              "       [-0.002],\n",
              "       [ 0.018],\n",
              "       [-0.009],\n",
              "       [-0.001],\n",
              "       [-0.012],\n",
              "       [ 0.015],\n",
              "       [-0.005],\n",
              "       [ 0.004],\n",
              "       [-0.002],\n",
              "       [ 0.006],\n",
              "       [ 0.009],\n",
              "       [ 0.000],\n",
              "       [-0.006],\n",
              "       [-0.014],\n",
              "       [-0.013],\n",
              "       [-0.012],\n",
              "       [-0.005],\n",
              "       [ 0.001],\n",
              "       [ 0.017],\n",
              "       [ 0.012],\n",
              "       [ 0.006],\n",
              "       [-0.092],\n",
              "       [ 0.089],\n",
              "       [-0.027],\n",
              "       [-0.001],\n",
              "       [-0.034],\n",
              "       [ 0.090],\n",
              "       [ 0.019],\n",
              "       [ 0.085],\n",
              "       [-0.020],\n",
              "       [-0.050],\n",
              "       [ 0.000],\n",
              "       [ 0.029],\n",
              "       [-0.013],\n",
              "       [-0.002],\n",
              "       [-0.020],\n",
              "       [-0.031],\n",
              "       [ 0.018],\n",
              "       [-0.013],\n",
              "       [ 0.008],\n",
              "       [ 0.096],\n",
              "       [ 0.008],\n",
              "       [-0.004],\n",
              "       [-0.014],\n",
              "       [ 0.004],\n",
              "       [ 0.020],\n",
              "       [-0.003],\n",
              "       [ 0.066],\n",
              "       [ 0.018],\n",
              "       [-0.043],\n",
              "       [-0.010],\n",
              "       [ 0.015],\n",
              "       [ 0.024],\n",
              "       [ 0.016],\n",
              "       [ 0.014],\n",
              "       [-0.006],\n",
              "       [-0.035],\n",
              "       [ 0.051],\n",
              "       [ 0.033],\n",
              "       [-0.002],\n",
              "       [ 0.009],\n",
              "       [-0.018],\n",
              "       [-0.013],\n",
              "       [-0.004],\n",
              "       [-0.017],\n",
              "       [ 0.005],\n",
              "       [ 0.017],\n",
              "       [-0.014],\n",
              "       [ 0.012],\n",
              "       [-0.040],\n",
              "       [ 0.028],\n",
              "       [ 0.001],\n",
              "       [-0.042],\n",
              "       [-0.061],\n",
              "       [-0.006],\n",
              "       [ 0.039],\n",
              "       [-0.018],\n",
              "       [ 0.030],\n",
              "       [ 0.004],\n",
              "       [ 0.031],\n",
              "       [ 0.006],\n",
              "       [-0.005],\n",
              "       [ 0.000],\n",
              "       [ 0.002],\n",
              "       [-0.001],\n",
              "       [ 0.016],\n",
              "       [ 0.002],\n",
              "       [-0.001],\n",
              "       [-0.008],\n",
              "       [-0.040],\n",
              "       [ 0.025],\n",
              "       [ 0.011],\n",
              "       [ 0.001],\n",
              "       [ 0.009],\n",
              "       [ 0.006],\n",
              "       [ 0.001],\n",
              "       [ 0.019],\n",
              "       [ 0.030],\n",
              "       [ 0.017],\n",
              "       [-0.033],\n",
              "       [ 0.019],\n",
              "       [-0.023],\n",
              "       [-0.008],\n",
              "       [-0.011],\n",
              "       [-0.043],\n",
              "       [ 0.019],\n",
              "       [ 0.006],\n",
              "       [ 0.055],\n",
              "       [ 0.007],\n",
              "       [ 0.005],\n",
              "       [-0.016],\n",
              "       [-0.036],\n",
              "       [ 0.018],\n",
              "       [-0.051],\n",
              "       [ 0.026],\n",
              "       [-0.012],\n",
              "       [ 0.005],\n",
              "       [ 0.037],\n",
              "       [ 0.001],\n",
              "       [ 0.001],\n",
              "       [-0.034],\n",
              "       [-0.019],\n",
              "       [ 0.013],\n",
              "       [-0.029],\n",
              "       [ 0.020],\n",
              "       [-0.012],\n",
              "       [ 0.047],\n",
              "       [-0.005],\n",
              "       [ 0.024],\n",
              "       [-0.010],\n",
              "       [ 0.053],\n",
              "       [ 0.042],\n",
              "       [-0.002],\n",
              "       [-0.001],\n",
              "       [-0.025],\n",
              "       [-0.022],\n",
              "       [-0.006],\n",
              "       [-0.195],\n",
              "       [ 0.029]])"
            ]
          },
          "metadata": {},
          "execution_count": 20
        }
      ]
    },
    {
      "cell_type": "code",
      "source": [
        "reg = LinearRegression(fit_intercept=True).fit(X,y)"
      ],
      "metadata": {
        "id": "LJm98NZjAhPD"
      },
      "execution_count": 21,
      "outputs": []
    },
    {
      "cell_type": "code",
      "source": [
        "reg.predict(X[0].reshape(-1,1))"
      ],
      "metadata": {
        "colab": {
          "base_uri": "https://localhost:8080/"
        },
        "id": "PUcVMJ87GHah",
        "outputId": "dafd5d88-b5cc-4eea-9182-71162d86d2fb"
      },
      "execution_count": 22,
      "outputs": [
        {
          "output_type": "execute_result",
          "data": {
            "text/plain": [
              "array([[ 0.009]])"
            ]
          },
          "metadata": {},
          "execution_count": 22
        }
      ]
    },
    {
      "cell_type": "code",
      "source": [
        "reg.predict(X[0:10])"
      ],
      "metadata": {
        "colab": {
          "base_uri": "https://localhost:8080/"
        },
        "id": "VzZ8c7OyGHXH",
        "outputId": "fb336fea-4848-43ba-9c95-b4dc37246d4e"
      },
      "execution_count": 23,
      "outputs": [
        {
          "output_type": "execute_result",
          "data": {
            "text/plain": [
              "array([[ 0.009],\n",
              "       [-0.002],\n",
              "       [-0.001],\n",
              "       [ 0.013],\n",
              "       [ 0.008],\n",
              "       [ 0.006],\n",
              "       [-0.006],\n",
              "       [ 0.002],\n",
              "       [-0.005],\n",
              "       [-0.010]])"
            ]
          },
          "metadata": {},
          "execution_count": 23
        }
      ]
    },
    {
      "cell_type": "code",
      "source": [
        "score = reg.score(X, y)\n",
        "print(score)"
      ],
      "metadata": {
        "colab": {
          "base_uri": "https://localhost:8080/"
        },
        "id": "LaI6NNfYGHUZ",
        "outputId": "3b851d84-4ebc-485b-fd63-85d5e442bd98"
      },
      "execution_count": 24,
      "outputs": [
        {
          "output_type": "stream",
          "name": "stdout",
          "text": [
            "0.1422268368953048\n"
          ]
        }
      ]
    },
    {
      "cell_type": "code",
      "source": [
        ""
      ],
      "metadata": {
        "id": "kgvrggPeGHPg"
      },
      "execution_count": 24,
      "outputs": []
    },
    {
      "cell_type": "code",
      "source": [
        ""
      ],
      "metadata": {
        "id": "2eDeSx8nGHKb"
      },
      "execution_count": 24,
      "outputs": []
    },
    {
      "cell_type": "code",
      "source": [
        "reg.coef_"
      ],
      "metadata": {
        "colab": {
          "base_uri": "https://localhost:8080/"
        },
        "id": "aqF2UwSl_Qsa",
        "outputId": "179ac0b8-7ef8-4869-abbb-de4750055179"
      },
      "execution_count": 25,
      "outputs": [
        {
          "output_type": "execute_result",
          "data": {
            "text/plain": [
              "array([[ 0.454]])"
            ]
          },
          "metadata": {},
          "execution_count": 25
        }
      ]
    },
    {
      "cell_type": "code",
      "source": [
        "reg.intercept_"
      ],
      "metadata": {
        "colab": {
          "base_uri": "https://localhost:8080/"
        },
        "id": "lksDjxVw_Qp_",
        "outputId": "ba597e19-6f62-4bce-cd70-843f083e0e0b"
      },
      "execution_count": 26,
      "outputs": [
        {
          "output_type": "execute_result",
          "data": {
            "text/plain": [
              "array([ 0.001])"
            ]
          },
          "metadata": {},
          "execution_count": 26
        }
      ]
    },
    {
      "cell_type": "code",
      "source": [
        "m = reg.coef_[0,0]\n",
        "b = reg.intercept_[0]"
      ],
      "metadata": {
        "id": "yz0iksty_Qno"
      },
      "execution_count": 27,
      "outputs": []
    },
    {
      "cell_type": "code",
      "source": [
        "m"
      ],
      "metadata": {
        "colab": {
          "base_uri": "https://localhost:8080/"
        },
        "id": "Nofj5AJ9Eeir",
        "outputId": "6f1c30e4-61fe-44aa-e983-1412cc4a52e4"
      },
      "execution_count": 28,
      "outputs": [
        {
          "output_type": "execute_result",
          "data": {
            "text/plain": [
              "0.4543587312730403"
            ]
          },
          "metadata": {},
          "execution_count": 28
        }
      ]
    },
    {
      "cell_type": "code",
      "source": [
        "b"
      ],
      "metadata": {
        "colab": {
          "base_uri": "https://localhost:8080/"
        },
        "id": "cZ2BnuhXEefu",
        "outputId": "1face655-158a-43b4-a641-1fb9ad6dbf0e"
      },
      "execution_count": 29,
      "outputs": [
        {
          "output_type": "execute_result",
          "data": {
            "text/plain": [
              "0.0010400783758980243"
            ]
          },
          "metadata": {},
          "execution_count": 29
        }
      ]
    },
    {
      "cell_type": "code",
      "source": [
        "# following slope intercept form \n",
        "print(\"formula: y = {:.4f}X + {:.4f}\".format(m, b) )"
      ],
      "metadata": {
        "colab": {
          "base_uri": "https://localhost:8080/"
        },
        "id": "lvDRXsafEecm",
        "outputId": "3c849fab-2a4d-406d-a6e8-0be867dead05"
      },
      "execution_count": 30,
      "outputs": [
        {
          "output_type": "stream",
          "name": "stdout",
          "text": [
            "formula: y = 0.4544X + 0.0010\n"
          ]
        }
      ]
    },
    {
      "cell_type": "code",
      "source": [
        "fig, ax = plt.subplots(nrows = 1, ncols = 1, figsize = (10,7));\n",
        "\n",
        "ax.scatter(X, y, color='blue', s=10);\n",
        "ax.plot(X, reg.predict(X), color='red',linewidth=2);\n",
        "ax.grid(True,\n",
        "        axis = 'both',\n",
        "        zorder = 0,\n",
        "        linestyle = ':',\n",
        "        color = 'k')\n",
        "ax.tick_params(labelsize = 18)\n",
        "ax.set_xlabel('INDEX', fontsize = 24)\n",
        "ax.set_ylabel('Your_Stock', fontsize = 24)\n",
        "ax.set_title(\"Linear Regression Line with Intercept y = {:.4f} + {:.4f}x (R2 = {:.2f})\".format(b, m, score), fontsize = 16 )\n",
        "fig.tight_layout()\n",
        "#fig.savefig('images/linearregression', dpi = 300)"
      ],
      "metadata": {
        "colab": {
          "base_uri": "https://localhost:8080/",
          "height": 513
        },
        "id": "8VRzrUmd_Qim",
        "outputId": "dd8dcf9a-7da1-43d9-bf1f-fe673ecf57ba"
      },
      "execution_count": 35,
      "outputs": [
        {
          "output_type": "display_data",
          "data": {
            "text/plain": [
              "<Figure size 720x504 with 1 Axes>"
            ],
            "image/png": "[encoded data removed]"
          },
          "metadata": {
            "needs_background": "light"
          }
        }
      ]
    }
  ]
}