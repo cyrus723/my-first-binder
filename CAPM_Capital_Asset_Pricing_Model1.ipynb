{
  "nbformat": 4,
  "nbformat_minor": 0,
  "metadata": {
    "kernelspec": {
      "display_name": "Python 3",
      "language": "python",
      "name": "python3"
    },
    "language_info": {
      "codemirror_mode": {
        "name": "ipython",
        "version": 3
      },
      "file_extension": ".py",
      "mimetype": "text/x-python",
      "name": "python",
      "nbconvert_exporter": "python",
      "pygments_lexer": "ipython3",
      "version": "3.7.6"
    },
    "colab": {
      "name": "CAPM-Capital-Asset-Pricing-Model1.ipynb",
      "provenance": [],
      "include_colab_link": true
    }
  },
  "cells": [
    {
      "cell_type": "markdown",
      "metadata": {
        "id": "view-in-github",
        "colab_type": "text"
      },
      "source": [
        "<a href=\"https://colab.research.google.com/github/cyrus723/my-first-binder/blob/main/CAPM_Capital_Asset_Pricing_Model1.ipynb\" target=\"_parent\"><img src=\"https://colab.research.google.com/assets/colab-badge.svg\" alt=\"Open In Colab\"/></a>"
      ]
    },
    {
      "cell_type": "markdown",
      "metadata": {
        "id": "tSBv_Oz_mwUT"
      },
      "source": [
        "# CAPM - Capital Asset Pricing Model "
      ]
    },
    {
      "cell_type": "code",
      "metadata": {
        "collapsed": true,
        "id": "IFH0XGudmwUf",
        "colab": {
          "base_uri": "https://localhost:8080/"
        },
        "outputId": "7d09e52e-de4b-4bc0-92ff-2931c93e60b8"
      },
      "source": [
        "pip install yfinance"
      ],
      "execution_count": 1,
      "outputs": [
        {
          "output_type": "stream",
          "name": "stdout",
          "text": [
            "Looking in indexes: https://pypi.org/simple, https://us-python.pkg.dev/colab-wheels/public/simple/\n",
            "Collecting yfinance\n",
            "  Downloading yfinance-0.2.12-py2.py3-none-any.whl (59 kB)\n",
            "\u001b[2K     \u001b[90m━━━━━━━━━━━━━━━━━━━━━━━━━━━━━━━━━━━━━━━\u001b[0m \u001b[32m59.2/59.2 KB\u001b[0m \u001b[31m837.0 kB/s\u001b[0m eta \u001b[36m0:00:00\u001b[0m\n",
            "\u001b[?25hRequirement already satisfied: lxml>=4.9.1 in /usr/local/lib/python3.9/dist-packages (from yfinance) (4.9.2)\n",
            "Collecting beautifulsoup4>=4.11.1\n",
            "  Downloading beautifulsoup4-4.11.2-py3-none-any.whl (129 kB)\n",
            "\u001b[2K     \u001b[90m━━━━━━━━━━━━━━━━━━━━━━━━━━━━━━━━━━━━━━━\u001b[0m \u001b[32m129.4/129.4 KB\u001b[0m \u001b[31m4.1 MB/s\u001b[0m eta \u001b[36m0:00:00\u001b[0m\n",
            "\u001b[?25hRequirement already satisfied: numpy>=1.16.5 in /usr/local/lib/python3.9/dist-packages (from yfinance) (1.22.4)\n",
            "Requirement already satisfied: multitasking>=0.0.7 in /usr/local/lib/python3.9/dist-packages (from yfinance) (0.0.11)\n",
            "Collecting requests>=2.26\n",
            "  Downloading requests-2.28.2-py3-none-any.whl (62 kB)\n",
            "\u001b[2K     \u001b[90m━━━━━━━━━━━━━━━━━━━━━━━━━━━━━━━━━━━━━━━━\u001b[0m \u001b[32m62.8/62.8 KB\u001b[0m \u001b[31m1.8 MB/s\u001b[0m eta \u001b[36m0:00:00\u001b[0m\n",
            "\u001b[?25hCollecting frozendict>=2.3.4\n",
            "  Downloading frozendict-2.3.5-cp39-cp39-manylinux_2_17_x86_64.manylinux2014_x86_64.whl (112 kB)\n",
            "\u001b[2K     \u001b[90m━━━━━━━━━━━━━━━━━━━━━━━━━━━━━━━━━━━━━━━\u001b[0m \u001b[32m112.8/112.8 KB\u001b[0m \u001b[31m2.3 MB/s\u001b[0m eta \u001b[36m0:00:00\u001b[0m\n",
            "\u001b[?25hCollecting cryptography>=3.3.2\n",
            "  Downloading cryptography-39.0.2-cp36-abi3-manylinux_2_28_x86_64.whl (4.2 MB)\n",
            "\u001b[2K     \u001b[90m━━━━━━━━━━━━━━━━━━━━━━━━━━━━━━━━━━━━━━━━\u001b[0m \u001b[32m4.2/4.2 MB\u001b[0m \u001b[31m18.2 MB/s\u001b[0m eta \u001b[36m0:00:00\u001b[0m\n",
            "\u001b[?25hCollecting html5lib>=1.1\n",
            "  Downloading html5lib-1.1-py2.py3-none-any.whl (112 kB)\n",
            "\u001b[2K     \u001b[90m━━━━━━━━━━━━━━━━━━━━━━━━━━━━━━━━━━━━━━━\u001b[0m \u001b[32m112.2/112.2 KB\u001b[0m \u001b[31m2.8 MB/s\u001b[0m eta \u001b[36m0:00:00\u001b[0m\n",
            "\u001b[?25hRequirement already satisfied: pytz>=2022.5 in /usr/local/lib/python3.9/dist-packages (from yfinance) (2022.7.1)\n",
            "Collecting appdirs>=1.4.4\n",
            "  Downloading appdirs-1.4.4-py2.py3-none-any.whl (9.6 kB)\n",
            "Requirement already satisfied: pandas>=1.3.0 in /usr/local/lib/python3.9/dist-packages (from yfinance) (1.4.4)\n",
            "Requirement already satisfied: soupsieve>1.2 in /usr/local/lib/python3.9/dist-packages (from beautifulsoup4>=4.11.1->yfinance) (2.4)\n",
            "Requirement already satisfied: cffi>=1.12 in /usr/local/lib/python3.9/dist-packages (from cryptography>=3.3.2->yfinance) (1.15.1)\n",
            "Requirement already satisfied: webencodings in /usr/local/lib/python3.9/dist-packages (from html5lib>=1.1->yfinance) (0.5.1)\n",
            "Requirement already satisfied: six>=1.9 in /usr/local/lib/python3.9/dist-packages (from html5lib>=1.1->yfinance) (1.15.0)\n",
            "Requirement already satisfied: python-dateutil>=2.8.1 in /usr/local/lib/python3.9/dist-packages (from pandas>=1.3.0->yfinance) (2.8.2)\n",
            "Requirement already satisfied: urllib3<1.27,>=1.21.1 in /usr/local/lib/python3.9/dist-packages (from requests>=2.26->yfinance) (1.26.15)\n",
            "Requirement already satisfied: idna<4,>=2.5 in /usr/local/lib/python3.9/dist-packages (from requests>=2.26->yfinance) (2.10)\n",
            "Requirement already satisfied: certifi>=2017.4.17 in /usr/local/lib/python3.9/dist-packages (from requests>=2.26->yfinance) (2022.12.7)\n",
            "Collecting charset-normalizer<4,>=2\n",
            "  Downloading charset_normalizer-3.1.0-cp39-cp39-manylinux_2_17_x86_64.manylinux2014_x86_64.whl (199 kB)\n",
            "\u001b[2K     \u001b[90m━━━━━━━━━━━━━━━━━━━━━━━━━━━━━━━━━━━━━━━\u001b[0m \u001b[32m199.2/199.2 KB\u001b[0m \u001b[31m7.3 MB/s\u001b[0m eta \u001b[36m0:00:00\u001b[0m\n",
            "\u001b[?25hRequirement already satisfied: pycparser in /usr/local/lib/python3.9/dist-packages (from cffi>=1.12->cryptography>=3.3.2->yfinance) (2.21)\n",
            "Installing collected packages: appdirs, html5lib, frozendict, charset-normalizer, beautifulsoup4, requests, cryptography, yfinance\n",
            "  Attempting uninstall: html5lib\n",
            "    Found existing installation: html5lib 1.0.1\n",
            "    Uninstalling html5lib-1.0.1:\n",
            "      Successfully uninstalled html5lib-1.0.1\n",
            "  Attempting uninstall: beautifulsoup4\n",
            "    Found existing installation: beautifulsoup4 4.9.3\n",
            "    Uninstalling beautifulsoup4-4.9.3:\n",
            "      Successfully uninstalled beautifulsoup4-4.9.3\n",
            "  Attempting uninstall: requests\n",
            "    Found existing installation: requests 2.25.1\n",
            "    Uninstalling requests-2.25.1:\n",
            "      Successfully uninstalled requests-2.25.1\n",
            "Successfully installed appdirs-1.4.4 beautifulsoup4-4.11.2 charset-normalizer-3.1.0 cryptography-39.0.2 frozendict-2.3.5 html5lib-1.1 requests-2.28.2 yfinance-0.2.12\n"
          ]
        }
      ]
    },
    {
      "cell_type": "code",
      "metadata": {
        "collapsed": true,
        "id": "nySQT5GBmwUg",
        "colab": {
          "base_uri": "https://localhost:8080/"
        },
        "outputId": "d8decb23-ae4d-4647-a2f1-3acea936a50a"
      },
      "source": [
        "import yfinance as yf\n",
        "import pandas as pd\n",
        "import numpy as np\n",
        "import statsmodels.api as sm   \n",
        "import datetime as dt\n",
        "\n",
        "import urllib.request       # handle online files\n",
        "import zipfile            \n",
        "import os                \n",
        "\n",
        "import statsmodels.formula.api as smf\n",
        "import statsmodels.api as sm\n",
        "from scipy import stats\n",
        "from sklearn.model_selection import train_test_split\n",
        "from sklearn.linear_model import LinearRegression\n",
        "\n",
        "import matplotlib.pyplot as plt\n",
        "from pylab import mpl, plt\n",
        "\n",
        "plt.style.use('seaborn')\n",
        "mpl.rcParams['font.family'] = 'DejaVu Sans'\n",
        "mpl.rcParams[\"savefig.dpi\"] = 500\n",
        "np.set_printoptions(precision=5, suppress=True, formatter={\"float\": lambda x: f\"{x:6.3f}\"})\n",
        "\n",
        "%matplotlib inline"
      ],
      "execution_count": 2,
      "outputs": [
        {
          "output_type": "stream",
          "name": "stderr",
          "text": [
            "<ipython-input-2-4039a680b4e1>:20: MatplotlibDeprecationWarning: The seaborn styles shipped by Matplotlib are deprecated since 3.6, as they no longer correspond to the styles shipped by seaborn. However, they will remain available as 'seaborn-v0_8-<style>'. Alternatively, directly use the seaborn API instead.\n",
            "  plt.style.use('seaborn')\n"
          ]
        }
      ]
    },
    {
      "cell_type": "code",
      "metadata": {
        "id": "W4f7t_LPmwUh"
      },
      "source": [
        "#help(stats.linregress)"
      ],
      "execution_count": null,
      "outputs": []
    },
    {
      "cell_type": "code",
      "metadata": {
        "id": "O-WJe7qxmwUl"
      },
      "source": [
        "def get_prices(tickers, freq_p, st_day, end_day):\n",
        "    mystock = pd.DataFrame()\n",
        "    for t in tickers:\n",
        "        mystock[t] = yf.download(t, start=st_day, end=end_day, interval=freq_p)['Adj Close']\n",
        "    return mystock"
      ],
      "execution_count": 3,
      "outputs": []
    },
    {
      "cell_type": "code",
      "source": [
        "tic=['TSLA', 'SPY']\n",
        "prices= get_prices(tic, freq_p='1wk', st_day=\"2011-01-01\", end_day=\"2022-05-31\")  # id , 1wk, 1mo\n",
        "print(prices)\n",
        "\n",
        "prices.rename(columns={\"TSLA\": \"Your_Stock\", \"SPY\":\"INDEX\"}, inplace=True)\n",
        "\n",
        "prices.info()\n",
        "prices.tail(20)"
      ],
      "metadata": {
        "colab": {
          "base_uri": "https://localhost:8080/",
          "height": 1000
        },
        "id": "ctHO6RAQxX7j",
        "outputId": "7940b6dc-7fa8-4115-edaf-66714f6436a4"
      },
      "execution_count": 4,
      "outputs": [
        {
          "output_type": "stream",
          "name": "stdout",
          "text": [
            "[*********************100%***********************]  1 of 1 completed\n",
            "[*********************100%***********************]  1 of 1 completed\n",
            "                  TSLA         SPY\n",
            "Date                              \n",
            "2011-01-01    1.882667  101.180954\n",
            "2011-01-08    1.716667  102.899910\n",
            "2011-01-15    1.536000  102.159821\n",
            "2011-01-22    1.600667  101.642517\n",
            "2011-01-29    1.564000  104.372192\n",
            "...                ...         ...\n",
            "2022-04-30  288.549988  406.030701\n",
            "2022-05-07  256.529999  396.534882\n",
            "2022-05-14  221.300003  384.600952\n",
            "2022-05-21  253.210007  409.900116\n",
            "2022-05-28  252.753326  407.600189\n",
            "\n",
            "[596 rows x 2 columns]\n",
            "<class 'pandas.core.frame.DataFrame'>\n",
            "DatetimeIndex: 596 entries, 2011-01-01 to 2022-05-28\n",
            "Data columns (total 2 columns):\n",
            " #   Column      Non-Null Count  Dtype  \n",
            "---  ------      --------------  -----  \n",
            " 0   Your_Stock  596 non-null    float64\n",
            " 1   INDEX       596 non-null    float64\n",
            "dtypes: float64(2)\n",
            "memory usage: 14.0 KB\n"
          ]
        },
        {
          "output_type": "execute_result",
          "data": {
            "text/plain": [
              "            Your_Stock       INDEX\n",
              "Date                              \n",
              "2022-01-15  314.633331  430.987976\n",
              "2022-01-22  282.116669  434.894592\n",
              "2022-01-29  307.773346  441.536835\n",
              "2022-02-05  286.666656  433.428345\n",
              "2022-02-12  285.660004  427.297791\n",
              "2022-02-19  269.956665  430.761627\n",
              "2022-02-26  279.429993  425.270691\n",
              "2022-03-05  265.116669  413.363861\n",
              "2022-03-12  301.796661  437.423523\n",
              "2022-03-19  336.880005  446.846985\n",
              "2022-03-26  361.529999  447.074036\n",
              "2022-04-02  341.829987  441.793091\n",
              "2022-04-09  328.333344  432.139313\n",
              "2022-04-16  335.016663  420.540985\n",
              "2022-04-23  290.253326  406.682190\n",
              "2022-04-30  288.549988  406.030701\n",
              "2022-05-07  256.529999  396.534882\n",
              "2022-05-14  221.300003  384.600952\n",
              "2022-05-21  253.210007  409.900116\n",
              "2022-05-28  252.753326  407.600189"
            ],
            "text/html": [
              "\n",
              "  <div id=\"df-80d4b065-8c3b-4a3d-b6e2-e9c57f81d537\">\n",
              "    <div class=\"colab-df-container\">\n",
              "      <div>\n",
              "<style scoped>\n",
              "    .dataframe tbody tr th:only-of-type {\n",
              "        vertical-align: middle;\n",
              "    }\n",
              "\n",
              "    .dataframe tbody tr th {\n",
              "        vertical-align: top;\n",
              "    }\n",
              "\n",
              "    .dataframe thead th {\n",
              "        text-align: right;\n",
              "    }\n",
              "</style>\n",
              "<table border=\"1\" class=\"dataframe\">\n",
              "  <thead>\n",
              "    <tr style=\"text-align: right;\">\n",
              "      <th></th>\n",
              "      <th>Your_Stock</th>\n",
              "      <th>INDEX</th>\n",
              "    </tr>\n",
              "    <tr>\n",
              "      <th>Date</th>\n",
              "      <th></th>\n",
              "      <th></th>\n",
              "    </tr>\n",
              "  </thead>\n",
              "  <tbody>\n",
              "    <tr>\n",
              "      <th>2022-01-15</th>\n",
              "      <td>314.633331</td>\n",
              "      <td>430.987976</td>\n",
              "    </tr>\n",
              "    <tr>\n",
              "      <th>2022-01-22</th>\n",
              "      <td>282.116669</td>\n",
              "      <td>434.894592</td>\n",
              "    </tr>\n",
              "    <tr>\n",
              "      <th>2022-01-29</th>\n",
              "      <td>307.773346</td>\n",
              "      <td>441.536835</td>\n",
              "    </tr>\n",
              "    <tr>\n",
              "      <th>2022-02-05</th>\n",
              "      <td>286.666656</td>\n",
              "      <td>433.428345</td>\n",
              "    </tr>\n",
              "    <tr>\n",
              "      <th>2022-02-12</th>\n",
              "      <td>285.660004</td>\n",
              "      <td>427.297791</td>\n",
              "    </tr>\n",
              "    <tr>\n",
              "      <th>2022-02-19</th>\n",
              "      <td>269.956665</td>\n",
              "      <td>430.761627</td>\n",
              "    </tr>\n",
              "    <tr>\n",
              "      <th>2022-02-26</th>\n",
              "      <td>279.429993</td>\n",
              "      <td>425.270691</td>\n",
              "    </tr>\n",
              "    <tr>\n",
              "      <th>2022-03-05</th>\n",
              "      <td>265.116669</td>\n",
              "      <td>413.363861</td>\n",
              "    </tr>\n",
              "    <tr>\n",
              "      <th>2022-03-12</th>\n",
              "      <td>301.796661</td>\n",
              "      <td>437.423523</td>\n",
              "    </tr>\n",
              "    <tr>\n",
              "      <th>2022-03-19</th>\n",
              "      <td>336.880005</td>\n",
              "      <td>446.846985</td>\n",
              "    </tr>\n",
              "    <tr>\n",
              "      <th>2022-03-26</th>\n",
              "      <td>361.529999</td>\n",
              "      <td>447.074036</td>\n",
              "    </tr>\n",
              "    <tr>\n",
              "      <th>2022-04-02</th>\n",
              "      <td>341.829987</td>\n",
              "      <td>441.793091</td>\n",
              "    </tr>\n",
              "    <tr>\n",
              "      <th>2022-04-09</th>\n",
              "      <td>328.333344</td>\n",
              "      <td>432.139313</td>\n",
              "    </tr>\n",
              "    <tr>\n",
              "      <th>2022-04-16</th>\n",
              "      <td>335.016663</td>\n",
              "      <td>420.540985</td>\n",
              "    </tr>\n",
              "    <tr>\n",
              "      <th>2022-04-23</th>\n",
              "      <td>290.253326</td>\n",
              "      <td>406.682190</td>\n",
              "    </tr>\n",
              "    <tr>\n",
              "      <th>2022-04-30</th>\n",
              "      <td>288.549988</td>\n",
              "      <td>406.030701</td>\n",
              "    </tr>\n",
              "    <tr>\n",
              "      <th>2022-05-07</th>\n",
              "      <td>256.529999</td>\n",
              "      <td>396.534882</td>\n",
              "    </tr>\n",
              "    <tr>\n",
              "      <th>2022-05-14</th>\n",
              "      <td>221.300003</td>\n",
              "      <td>384.600952</td>\n",
              "    </tr>\n",
              "    <tr>\n",
              "      <th>2022-05-21</th>\n",
              "      <td>253.210007</td>\n",
              "      <td>409.900116</td>\n",
              "    </tr>\n",
              "    <tr>\n",
              "      <th>2022-05-28</th>\n",
              "      <td>252.753326</td>\n",
              "      <td>407.600189</td>\n",
              "    </tr>\n",
              "  </tbody>\n",
              "</table>\n",
              "</div>\n",
              "      <button class=\"colab-df-convert\" onclick=\"convertToInteractive('df-80d4b065-8c3b-4a3d-b6e2-e9c57f81d537')\"\n",
              "              title=\"Convert this dataframe to an interactive table.\"\n",
              "              style=\"display:none;\">\n",
              "        \n",
              "  <svg xmlns=\"http://www.w3.org/2000/svg\" height=\"24px\"viewBox=\"0 0 24 24\"\n",
              "       width=\"24px\">\n",
              "    <path d=\"M0 0h24v24H0V0z\" fill=\"none\"/>\n",
              "    <path d=\"M18.56 5.44l.94 2.06.94-2.06 2.06-.94-2.06-.94-.94-2.06-.94 2.06-2.06.94zm-11 1L8.5 8.5l.94-2.06 2.06-.94-2.06-.94L8.5 2.5l-.94 2.06-2.06.94zm10 10l.94 2.06.94-2.06 2.06-.94-2.06-.94-.94-2.06-.94 2.06-2.06.94z\"/><path d=\"M17.41 7.96l-1.37-1.37c-.4-.4-.92-.59-1.43-.59-.52 0-1.04.2-1.43.59L10.3 9.45l-7.72 7.72c-.78.78-.78 2.05 0 2.83L4 21.41c.39.39.9.59 1.41.59.51 0 1.02-.2 1.41-.59l7.78-7.78 2.81-2.81c.8-.78.8-2.07 0-2.86zM5.41 20L4 18.59l7.72-7.72 1.47 1.35L5.41 20z\"/>\n",
              "  </svg>\n",
              "      </button>\n",
              "      \n",
              "  <style>\n",
              "    .colab-df-container {\n",
              "      display:flex;\n",
              "      flex-wrap:wrap;\n",
              "      gap: 12px;\n",
              "    }\n",
              "\n",
              "    .colab-df-convert {\n",
              "      background-color: #E8F0FE;\n",
              "      border: none;\n",
              "      border-radius: 50%;\n",
              "      cursor: pointer;\n",
              "      display: none;\n",
              "      fill: #1967D2;\n",
              "      height: 32px;\n",
              "      padding: 0 0 0 0;\n",
              "      width: 32px;\n",
              "    }\n",
              "\n",
              "    .colab-df-convert:hover {\n",
              "      background-color: #E2EBFA;\n",
              "      box-shadow: 0px 1px 2px rgba(60, 64, 67, 0.3), 0px 1px 3px 1px rgba(60, 64, 67, 0.15);\n",
              "      fill: #174EA6;\n",
              "    }\n",
              "\n",
              "    [theme=dark] .colab-df-convert {\n",
              "      background-color: #3B4455;\n",
              "      fill: #D2E3FC;\n",
              "    }\n",
              "\n",
              "    [theme=dark] .colab-df-convert:hover {\n",
              "      background-color: #434B5C;\n",
              "      box-shadow: 0px 1px 3px 1px rgba(0, 0, 0, 0.15);\n",
              "      filter: drop-shadow(0px 1px 2px rgba(0, 0, 0, 0.3));\n",
              "      fill: #FFFFFF;\n",
              "    }\n",
              "  </style>\n",
              "\n",
              "      <script>\n",
              "        const buttonEl =\n",
              "          document.querySelector('#df-80d4b065-8c3b-4a3d-b6e2-e9c57f81d537 button.colab-df-convert');\n",
              "        buttonEl.style.display =\n",
              "          google.colab.kernel.accessAllowed ? 'block' : 'none';\n",
              "\n",
              "        async function convertToInteractive(key) {\n",
              "          const element = document.querySelector('#df-80d4b065-8c3b-4a3d-b6e2-e9c57f81d537');\n",
              "          const dataTable =\n",
              "            await google.colab.kernel.invokeFunction('convertToInteractive',\n",
              "                                                     [key], {});\n",
              "          if (!dataTable) return;\n",
              "\n",
              "          const docLinkHtml = 'Like what you see? Visit the ' +\n",
              "            '<a target=\"_blank\" href=https://colab.research.google.com/notebooks/data_table.ipynb>data table notebook</a>'\n",
              "            + ' to learn more about interactive tables.';\n",
              "          element.innerHTML = '';\n",
              "          dataTable['output_type'] = 'display_data';\n",
              "          await google.colab.output.renderOutput(dataTable, element);\n",
              "          const docLink = document.createElement('div');\n",
              "          docLink.innerHTML = docLinkHtml;\n",
              "          element.appendChild(docLink);\n",
              "        }\n",
              "      </script>\n",
              "    </div>\n",
              "  </div>\n",
              "  "
            ]
          },
          "metadata": {},
          "execution_count": 4
        }
      ]
    },
    {
      "cell_type": "code",
      "metadata": {
        "id": "JrQgItnKmwUp",
        "colab": {
          "base_uri": "https://localhost:8080/"
        },
        "outputId": "1888c939-86e4-4e78-d51c-e6e51c5193d3"
      },
      "source": [
        "print(prices.isnull().sum())\n",
        "prices.dropna(how='any', inplace=True)\n",
        "print(prices.isnull().sum())\n",
        "prices.info()\n",
        "print(prices)"
      ],
      "execution_count": 5,
      "outputs": [
        {
          "output_type": "stream",
          "name": "stdout",
          "text": [
            "Your_Stock    0\n",
            "INDEX         0\n",
            "dtype: int64\n",
            "Your_Stock    0\n",
            "INDEX         0\n",
            "dtype: int64\n",
            "<class 'pandas.core.frame.DataFrame'>\n",
            "DatetimeIndex: 596 entries, 2011-01-01 to 2022-05-28\n",
            "Data columns (total 2 columns):\n",
            " #   Column      Non-Null Count  Dtype  \n",
            "---  ------      --------------  -----  \n",
            " 0   Your_Stock  596 non-null    float64\n",
            " 1   INDEX       596 non-null    float64\n",
            "dtypes: float64(2)\n",
            "memory usage: 14.0 KB\n",
            "            Your_Stock       INDEX\n",
            "Date                              \n",
            "2011-01-01    1.882667  101.180954\n",
            "2011-01-08    1.716667  102.899910\n",
            "2011-01-15    1.536000  102.159821\n",
            "2011-01-22    1.600667  101.642517\n",
            "2011-01-29    1.564000  104.372192\n",
            "...                ...         ...\n",
            "2022-04-30  288.549988  406.030701\n",
            "2022-05-07  256.529999  396.534882\n",
            "2022-05-14  221.300003  384.600952\n",
            "2022-05-21  253.210007  409.900116\n",
            "2022-05-28  252.753326  407.600189\n",
            "\n",
            "[596 rows x 2 columns]\n"
          ]
        }
      ]
    },
    {
      "cell_type": "code",
      "metadata": {
        "id": "mivqtbW9mwUw",
        "colab": {
          "base_uri": "https://localhost:8080/",
          "height": 405
        },
        "outputId": "cb3c27fb-02f7-4ade-b8ca-8f47f1abc6aa"
      },
      "source": [
        "prices.plot(figsize=(10,6))\n",
        "plt.legend()"
      ],
      "execution_count": 6,
      "outputs": [
        {
          "output_type": "execute_result",
          "data": {
            "text/plain": [
              "<matplotlib.legend.Legend at 0x7f6d43cc6100>"
            ]
          },
          "metadata": {},
          "execution_count": 6
        },
        {
          "output_type": "display_data",
          "data": {
            "text/plain": [
              "<Figure size 720x432 with 1 Axes>"
            ],
            "image/png": "[encoded data removed]"
          },
          "metadata": {
            "needs_background": "light"
          }
        }
      ]
    },
    {
      "cell_type": "code",
      "source": [
        "(prices / prices.iloc[0] * 1).plot(figsize=(10, 6), subplots=False)  #cumulative returns\n",
        "plt.title('Cumulative Return')\n",
        "plt.tight_layout()"
      ],
      "metadata": {
        "colab": {
          "base_uri": "https://localhost:8080/",
          "height": 441
        },
        "id": "U1MhYpXJ5S8M",
        "outputId": "9a241904-1a18-48ea-92cc-760f62bd0c68"
      },
      "execution_count": 7,
      "outputs": [
        {
          "output_type": "display_data",
          "data": {
            "text/plain": [
              "<Figure size 720x432 with 1 Axes>"
            ],
            "image/png": "[encoded data removed]"
          },
          "metadata": {
            "needs_background": "light"
          }
        }
      ]
    },
    {
      "cell_type": "code",
      "source": [
        "prices.pct_change(1).dropna()\n",
        "plt.scatter(prices['Your_Stock'], prices['INDEX'], color = 'red', alpha=0.2)"
      ],
      "metadata": {
        "colab": {
          "base_uri": "https://localhost:8080/",
          "height": 282
        },
        "id": "TnWNwpr-5S5L",
        "outputId": "4f32e9e4-1567-4671-ddf1-08c4e8cb0a3d"
      },
      "execution_count": 8,
      "outputs": [
        {
          "output_type": "execute_result",
          "data": {
            "text/plain": [
              "<matplotlib.collections.PathCollection at 0x7f6d0c53ff40>"
            ]
          },
          "metadata": {},
          "execution_count": 8
        },
        {
          "output_type": "display_data",
          "data": {
            "text/plain": [
              "<Figure size 432x288 with 1 Axes>"
            ],
            "image/png": "[encoded data removed]"
          },
          "metadata": {
            "needs_background": "light"
          }
        }
      ]
    },
    {
      "cell_type": "code",
      "metadata": {
        "id": "hics-JmemwUz",
        "colab": {
          "base_uri": "https://localhost:8080/",
          "height": 281
        },
        "outputId": "e974db1d-4da6-4654-be72-fa02ed3ea728"
      },
      "source": [
        "returns = prices.pct_change(1).dropna()\n",
        "\n",
        "plt.hist(returns['INDEX'], label='INDEX', bins=100) \n",
        "plt.hist(returns['Your_Stock'], label='Stock', bins=100)\n",
        "  \n",
        "plt.legend(loc='upper right')\n",
        "plt.title('Overlapping')\n",
        "plt.show()"
      ],
      "execution_count": 9,
      "outputs": [
        {
          "output_type": "display_data",
          "data": {
            "text/plain": [
              "<Figure size 432x288 with 1 Axes>"
            ],
            "image/png": "[encoded data removed]"
          },
          "metadata": {
            "needs_background": "light"
          }
        }
      ]
    },
    {
      "cell_type": "code",
      "source": [
        "returns"
      ],
      "metadata": {
        "colab": {
          "base_uri": "https://localhost:8080/",
          "height": 455
        },
        "id": "GH9qh0h59udQ",
        "outputId": "3141b7c6-361f-4ea8-c144-c6049192f40a"
      },
      "execution_count": 10,
      "outputs": [
        {
          "output_type": "execute_result",
          "data": {
            "text/plain": [
              "            Your_Stock     INDEX\n",
              "Date                            \n",
              "2011-01-08   -0.088173  0.016989\n",
              "2011-01-15   -0.105243 -0.007192\n",
              "2011-01-22    0.042101 -0.005064\n",
              "2011-01-29   -0.022907  0.026856\n",
              "2011-02-05   -0.008951  0.014945\n",
              "...                ...       ...\n",
              "2022-04-30   -0.005868 -0.001602\n",
              "2022-05-07   -0.110969 -0.023387\n",
              "2022-05-14   -0.137333 -0.030096\n",
              "2022-05-21    0.144193  0.065780\n",
              "2022-05-28   -0.001804 -0.005611\n",
              "\n",
              "[595 rows x 2 columns]"
            ],
            "text/html": [
              "\n",
              "  <div id=\"df-fbe21489-45ce-411f-8f3c-bdd4185c48b2\">\n",
              "    <div class=\"colab-df-container\">\n",
              "      <div>\n",
              "<style scoped>\n",
              "    .dataframe tbody tr th:only-of-type {\n",
              "        vertical-align: middle;\n",
              "    }\n",
              "\n",
              "    .dataframe tbody tr th {\n",
              "        vertical-align: top;\n",
              "    }\n",
              "\n",
              "    .dataframe thead th {\n",
              "        text-align: right;\n",
              "    }\n",
              "</style>\n",
              "<table border=\"1\" class=\"dataframe\">\n",
              "  <thead>\n",
              "    <tr style=\"text-align: right;\">\n",
              "      <th></th>\n",
              "      <th>Your_Stock</th>\n",
              "      <th>INDEX</th>\n",
              "    </tr>\n",
              "    <tr>\n",
              "      <th>Date</th>\n",
              "      <th></th>\n",
              "      <th></th>\n",
              "    </tr>\n",
              "  </thead>\n",
              "  <tbody>\n",
              "    <tr>\n",
              "      <th>2011-01-08</th>\n",
              "      <td>-0.088173</td>\n",
              "      <td>0.016989</td>\n",
              "    </tr>\n",
              "    <tr>\n",
              "      <th>2011-01-15</th>\n",
              "      <td>-0.105243</td>\n",
              "      <td>-0.007192</td>\n",
              "    </tr>\n",
              "    <tr>\n",
              "      <th>2011-01-22</th>\n",
              "      <td>0.042101</td>\n",
              "      <td>-0.005064</td>\n",
              "    </tr>\n",
              "    <tr>\n",
              "      <th>2011-01-29</th>\n",
              "      <td>-0.022907</td>\n",
              "      <td>0.026856</td>\n",
              "    </tr>\n",
              "    <tr>\n",
              "      <th>2011-02-05</th>\n",
              "      <td>-0.008951</td>\n",
              "      <td>0.014945</td>\n",
              "    </tr>\n",
              "    <tr>\n",
              "      <th>...</th>\n",
              "      <td>...</td>\n",
              "      <td>...</td>\n",
              "    </tr>\n",
              "    <tr>\n",
              "      <th>2022-04-30</th>\n",
              "      <td>-0.005868</td>\n",
              "      <td>-0.001602</td>\n",
              "    </tr>\n",
              "    <tr>\n",
              "      <th>2022-05-07</th>\n",
              "      <td>-0.110969</td>\n",
              "      <td>-0.023387</td>\n",
              "    </tr>\n",
              "    <tr>\n",
              "      <th>2022-05-14</th>\n",
              "      <td>-0.137333</td>\n",
              "      <td>-0.030096</td>\n",
              "    </tr>\n",
              "    <tr>\n",
              "      <th>2022-05-21</th>\n",
              "      <td>0.144193</td>\n",
              "      <td>0.065780</td>\n",
              "    </tr>\n",
              "    <tr>\n",
              "      <th>2022-05-28</th>\n",
              "      <td>-0.001804</td>\n",
              "      <td>-0.005611</td>\n",
              "    </tr>\n",
              "  </tbody>\n",
              "</table>\n",
              "<p>595 rows × 2 columns</p>\n",
              "</div>\n",
              "      <button class=\"colab-df-convert\" onclick=\"convertToInteractive('df-fbe21489-45ce-411f-8f3c-bdd4185c48b2')\"\n",
              "              title=\"Convert this dataframe to an interactive table.\"\n",
              "              style=\"display:none;\">\n",
              "        \n",
              "  <svg xmlns=\"http://www.w3.org/2000/svg\" height=\"24px\"viewBox=\"0 0 24 24\"\n",
              "       width=\"24px\">\n",
              "    <path d=\"M0 0h24v24H0V0z\" fill=\"none\"/>\n",
              "    <path d=\"M18.56 5.44l.94 2.06.94-2.06 2.06-.94-2.06-.94-.94-2.06-.94 2.06-2.06.94zm-11 1L8.5 8.5l.94-2.06 2.06-.94-2.06-.94L8.5 2.5l-.94 2.06-2.06.94zm10 10l.94 2.06.94-2.06 2.06-.94-2.06-.94-.94-2.06-.94 2.06-2.06.94z\"/><path d=\"M17.41 7.96l-1.37-1.37c-.4-.4-.92-.59-1.43-.59-.52 0-1.04.2-1.43.59L10.3 9.45l-7.72 7.72c-.78.78-.78 2.05 0 2.83L4 21.41c.39.39.9.59 1.41.59.51 0 1.02-.2 1.41-.59l7.78-7.78 2.81-2.81c.8-.78.8-2.07 0-2.86zM5.41 20L4 18.59l7.72-7.72 1.47 1.35L5.41 20z\"/>\n",
              "  </svg>\n",
              "      </button>\n",
              "      \n",
              "  <style>\n",
              "    .colab-df-container {\n",
              "      display:flex;\n",
              "      flex-wrap:wrap;\n",
              "      gap: 12px;\n",
              "    }\n",
              "\n",
              "    .colab-df-convert {\n",
              "      background-color: #E8F0FE;\n",
              "      border: none;\n",
              "      border-radius: 50%;\n",
              "      cursor: pointer;\n",
              "      display: none;\n",
              "      fill: #1967D2;\n",
              "      height: 32px;\n",
              "      padding: 0 0 0 0;\n",
              "      width: 32px;\n",
              "    }\n",
              "\n",
              "    .colab-df-convert:hover {\n",
              "      background-color: #E2EBFA;\n",
              "      box-shadow: 0px 1px 2px rgba(60, 64, 67, 0.3), 0px 1px 3px 1px rgba(60, 64, 67, 0.15);\n",
              "      fill: #174EA6;\n",
              "    }\n",
              "\n",
              "    [theme=dark] .colab-df-convert {\n",
              "      background-color: #3B4455;\n",
              "      fill: #D2E3FC;\n",
              "    }\n",
              "\n",
              "    [theme=dark] .colab-df-convert:hover {\n",
              "      background-color: #434B5C;\n",
              "      box-shadow: 0px 1px 3px 1px rgba(0, 0, 0, 0.15);\n",
              "      filter: drop-shadow(0px 1px 2px rgba(0, 0, 0, 0.3));\n",
              "      fill: #FFFFFF;\n",
              "    }\n",
              "  </style>\n",
              "\n",
              "      <script>\n",
              "        const buttonEl =\n",
              "          document.querySelector('#df-fbe21489-45ce-411f-8f3c-bdd4185c48b2 button.colab-df-convert');\n",
              "        buttonEl.style.display =\n",
              "          google.colab.kernel.accessAllowed ? 'block' : 'none';\n",
              "\n",
              "        async function convertToInteractive(key) {\n",
              "          const element = document.querySelector('#df-fbe21489-45ce-411f-8f3c-bdd4185c48b2');\n",
              "          const dataTable =\n",
              "            await google.colab.kernel.invokeFunction('convertToInteractive',\n",
              "                                                     [key], {});\n",
              "          if (!dataTable) return;\n",
              "\n",
              "          const docLinkHtml = 'Like what you see? Visit the ' +\n",
              "            '<a target=\"_blank\" href=https://colab.research.google.com/notebooks/data_table.ipynb>data table notebook</a>'\n",
              "            + ' to learn more about interactive tables.';\n",
              "          element.innerHTML = '';\n",
              "          dataTable['output_type'] = 'display_data';\n",
              "          await google.colab.output.renderOutput(dataTable, element);\n",
              "          const docLink = document.createElement('div');\n",
              "          docLink.innerHTML = docLinkHtml;\n",
              "          element.appendChild(docLink);\n",
              "        }\n",
              "      </script>\n",
              "    </div>\n",
              "  </div>\n",
              "  "
            ]
          },
          "metadata": {},
          "execution_count": 10
        }
      ]
    },
    {
      "cell_type": "markdown",
      "source": [
        "#using scipy"
      ],
      "metadata": {
        "id": "fglKONGneVBW"
      }
    },
    {
      "cell_type": "code",
      "metadata": {
        "id": "srnu6WvomwU0"
      },
      "source": [
        "beta,alpha,r_value,p_value,std_err = stats.linregress(returns['INDEX'],returns[\"Your_Stock\"])"
      ],
      "execution_count": 11,
      "outputs": []
    },
    {
      "cell_type": "code",
      "metadata": {
        "id": "N1Lzl9kQmwU1",
        "colab": {
          "base_uri": "https://localhost:8080/"
        },
        "outputId": "a3bcc6e1-6066-49aa-877f-1b65f5793839"
      },
      "source": [
        "print(beta.round(4))\n",
        "print(alpha.round(4))\n",
        "print(r_value.round(2))\n",
        "print(p_value.round(4))"
      ],
      "execution_count": 12,
      "outputs": [
        {
          "output_type": "stream",
          "name": "stdout",
          "text": [
            "1.5397\n",
            "0.0071\n",
            "0.45\n",
            "0.0\n"
          ]
        }
      ]
    },
    {
      "cell_type": "markdown",
      "source": [
        "#using statsmodels"
      ],
      "metadata": {
        "id": "TgesteAwedyG"
      }
    },
    {
      "cell_type": "code",
      "metadata": {
        "id": "hcLnmw7JmwU2",
        "colab": {
          "base_uri": "https://localhost:8080/"
        },
        "outputId": "0ddefded-0902-4291-8793-4689b1e93900"
      },
      "source": [
        "formula = 'Your_Stock ~ INDEX'\n",
        "results = smf.ols(formula, returns).fit()\n",
        "print(results.summary())"
      ],
      "execution_count": 13,
      "outputs": [
        {
          "output_type": "stream",
          "name": "stdout",
          "text": [
            "                            OLS Regression Results                            \n",
            "==============================================================================\n",
            "Dep. Variable:             Your_Stock   R-squared:                       0.205\n",
            "Model:                            OLS   Adj. R-squared:                  0.204\n",
            "Method:                 Least Squares   F-statistic:                     152.8\n",
            "Date:                Thu, 16 Mar 2023   Prob (F-statistic):           2.18e-31\n",
            "Time:                        23:16:11   Log-Likelihood:                 756.72\n",
            "No. Observations:                 595   AIC:                            -1509.\n",
            "Df Residuals:                     593   BIC:                            -1501.\n",
            "Df Model:                           1                                         \n",
            "Covariance Type:            nonrobust                                         \n",
            "==============================================================================\n",
            "                 coef    std err          t      P>|t|      [0.025      0.975]\n",
            "------------------------------------------------------------------------------\n",
            "Intercept      0.0071      0.003      2.527      0.012       0.002       0.013\n",
            "INDEX          1.5397      0.125     12.360      0.000       1.295       1.784\n",
            "==============================================================================\n",
            "Omnibus:                      110.210   Durbin-Watson:                   1.918\n",
            "Prob(Omnibus):                  0.000   Jarque-Bera (JB):              341.677\n",
            "Skew:                           0.874   Prob(JB):                     6.40e-75\n",
            "Kurtosis:                       6.275   Cond. No.                         44.7\n",
            "==============================================================================\n",
            "\n",
            "Notes:\n",
            "[1] Standard Errors assume that the covariance matrix of the errors is correctly specified.\n"
          ]
        }
      ]
    },
    {
      "cell_type": "markdown",
      "source": [
        "#using scikit-learn\n",
        "You need to take a look at the shape of the data you are feeding into .fit().\n",
        "\n",
        "Here x.shape = (10,) but we need it to be (10, 1), see sklearn. Same goes for y. So we reshape:"
      ],
      "metadata": {
        "id": "8Smo3CZNCT-_"
      }
    },
    {
      "cell_type": "code",
      "source": [
        "X = returns.loc[:, ['INDEX']].values"
      ],
      "metadata": {
        "id": "4JaPe7H7_o3j"
      },
      "execution_count": 14,
      "outputs": []
    },
    {
      "cell_type": "code",
      "source": [
        "y = returns.loc[:, ['Your_Stock']].values"
      ],
      "metadata": {
        "id": "w9V4AufwHUfD"
      },
      "execution_count": 15,
      "outputs": []
    },
    {
      "cell_type": "code",
      "source": [
        "X.shape"
      ],
      "metadata": {
        "colab": {
          "base_uri": "https://localhost:8080/"
        },
        "id": "lHAQJ9zqAhYc",
        "outputId": "38a5e804-0ed0-4dd8-f080-31e21e597c12"
      },
      "execution_count": 16,
      "outputs": [
        {
          "output_type": "execute_result",
          "data": {
            "text/plain": [
              "(595, 1)"
            ]
          },
          "metadata": {},
          "execution_count": 16
        }
      ]
    },
    {
      "cell_type": "code",
      "source": [
        "type(X)"
      ],
      "metadata": {
        "colab": {
          "base_uri": "https://localhost:8080/"
        },
        "id": "G9NriPRzAwAB",
        "outputId": "eda1b7d2-028a-499e-b956-84ba685eb7aa"
      },
      "execution_count": 17,
      "outputs": [
        {
          "output_type": "execute_result",
          "data": {
            "text/plain": [
              "numpy.ndarray"
            ]
          },
          "metadata": {},
          "execution_count": 17
        }
      ]
    },
    {
      "cell_type": "code",
      "source": [
        "X.dtype"
      ],
      "metadata": {
        "colab": {
          "base_uri": "https://localhost:8080/"
        },
        "id": "FpXm-LKjAv9O",
        "outputId": "44ad4692-9b19-41b3-9cdd-c7903ead37da"
      },
      "execution_count": 18,
      "outputs": [
        {
          "output_type": "execute_result",
          "data": {
            "text/plain": [
              "dtype('float64')"
            ]
          },
          "metadata": {},
          "execution_count": 18
        }
      ]
    },
    {
      "cell_type": "code",
      "source": [
        "y.shape"
      ],
      "metadata": {
        "id": "D32vbocuAhTD",
        "colab": {
          "base_uri": "https://localhost:8080/"
        },
        "outputId": "134a3718-34b9-400d-fa08-e22ce6a08746"
      },
      "execution_count": 19,
      "outputs": [
        {
          "output_type": "execute_result",
          "data": {
            "text/plain": [
              "(595, 1)"
            ]
          },
          "metadata": {},
          "execution_count": 19
        }
      ]
    },
    {
      "cell_type": "code",
      "source": [
        "reg = LinearRegression(fit_intercept=True).fit(X,y)"
      ],
      "metadata": {
        "id": "LJm98NZjAhPD"
      },
      "execution_count": 20,
      "outputs": []
    },
    {
      "cell_type": "code",
      "source": [
        "reg.predict(X[0].reshape(-1,1))"
      ],
      "metadata": {
        "colab": {
          "base_uri": "https://localhost:8080/"
        },
        "id": "PUcVMJ87GHah",
        "outputId": "de68e5dc-8a42-4d16-f249-1ffcc9250719"
      },
      "execution_count": 21,
      "outputs": [
        {
          "output_type": "execute_result",
          "data": {
            "text/plain": [
              "array([[ 0.033]])"
            ]
          },
          "metadata": {},
          "execution_count": 21
        }
      ]
    },
    {
      "cell_type": "code",
      "source": [
        "reg.predict(X[0:10])"
      ],
      "metadata": {
        "colab": {
          "base_uri": "https://localhost:8080/"
        },
        "id": "VzZ8c7OyGHXH",
        "outputId": "9a6fa791-999b-4767-fbff-770ea2205f79"
      },
      "execution_count": 22,
      "outputs": [
        {
          "output_type": "execute_result",
          "data": {
            "text/plain": [
              "array([[ 0.033],\n",
              "       [-0.004],\n",
              "       [-0.001],\n",
              "       [ 0.048],\n",
              "       [ 0.030],\n",
              "       [ 0.024],\n",
              "       [-0.018],\n",
              "       [ 0.009],\n",
              "       [-0.012],\n",
              "       [-0.029]])"
            ]
          },
          "metadata": {},
          "execution_count": 22
        }
      ]
    },
    {
      "cell_type": "code",
      "source": [
        "score = reg.score(X, y)\n",
        "print(score)"
      ],
      "metadata": {
        "colab": {
          "base_uri": "https://localhost:8080/"
        },
        "id": "LaI6NNfYGHUZ",
        "outputId": "0a34e3f0-645f-4d00-d8d4-c0d3464f4a59"
      },
      "execution_count": 23,
      "outputs": [
        {
          "output_type": "stream",
          "name": "stdout",
          "text": [
            "0.2048562366630433\n"
          ]
        }
      ]
    },
    {
      "cell_type": "code",
      "source": [
        "reg.coef_"
      ],
      "metadata": {
        "colab": {
          "base_uri": "https://localhost:8080/"
        },
        "id": "aqF2UwSl_Qsa",
        "outputId": "f14c402b-644e-47ae-94d4-0e3f9043edaf"
      },
      "execution_count": 24,
      "outputs": [
        {
          "output_type": "execute_result",
          "data": {
            "text/plain": [
              "array([[ 1.540]])"
            ]
          },
          "metadata": {},
          "execution_count": 24
        }
      ]
    },
    {
      "cell_type": "code",
      "source": [
        "reg.intercept_"
      ],
      "metadata": {
        "colab": {
          "base_uri": "https://localhost:8080/"
        },
        "id": "lksDjxVw_Qp_",
        "outputId": "68571707-135b-4bb1-aec4-c9e405157688"
      },
      "execution_count": 25,
      "outputs": [
        {
          "output_type": "execute_result",
          "data": {
            "text/plain": [
              "array([ 0.007])"
            ]
          },
          "metadata": {},
          "execution_count": 25
        }
      ]
    },
    {
      "cell_type": "code",
      "source": [
        "m = reg.coef_[0,0]\n",
        "b = reg.intercept_[0]"
      ],
      "metadata": {
        "id": "yz0iksty_Qno"
      },
      "execution_count": 26,
      "outputs": []
    },
    {
      "cell_type": "code",
      "source": [
        "m"
      ],
      "metadata": {
        "colab": {
          "base_uri": "https://localhost:8080/"
        },
        "id": "Nofj5AJ9Eeir",
        "outputId": "0ac01b3c-869e-4aab-d435-ab005659c8df"
      },
      "execution_count": 27,
      "outputs": [
        {
          "output_type": "execute_result",
          "data": {
            "text/plain": [
              "1.5397127262862014"
            ]
          },
          "metadata": {},
          "execution_count": 27
        }
      ]
    },
    {
      "cell_type": "code",
      "source": [
        "b"
      ],
      "metadata": {
        "colab": {
          "base_uri": "https://localhost:8080/"
        },
        "id": "cZ2BnuhXEefu",
        "outputId": "77b843aa-0185-4a58-f0a7-8674b061914f"
      },
      "execution_count": 28,
      "outputs": [
        {
          "output_type": "execute_result",
          "data": {
            "text/plain": [
              "0.007084853239936928"
            ]
          },
          "metadata": {},
          "execution_count": 28
        }
      ]
    },
    {
      "cell_type": "code",
      "source": [
        "# following slope intercept form \n",
        "print(\"formula: y = {:.4f}X + {:.4f}\".format(m, b) )"
      ],
      "metadata": {
        "colab": {
          "base_uri": "https://localhost:8080/"
        },
        "id": "lvDRXsafEecm",
        "outputId": "270b09ba-7a33-4c5a-866a-e65b39eca59c"
      },
      "execution_count": 29,
      "outputs": [
        {
          "output_type": "stream",
          "name": "stdout",
          "text": [
            "formula: y = 1.5397X + 0.0071\n"
          ]
        }
      ]
    },
    {
      "cell_type": "code",
      "source": [
        "from numpy.ma.core import flatten_structured_array\n",
        "fig, ax = plt.subplots(nrows = 1, ncols = 1, figsize = (10,7));\n",
        "\n",
        "ax.scatter(X, y, color='blue', s=10);\n",
        "ax.plot(X, reg.predict(X), color='red',linewidth=2);\n",
        "ax.grid(True,\n",
        "        axis = 'both',\n",
        "        zorder = 0,\n",
        "        linestyle = ':',\n",
        "        color = 'y')\n",
        "ax.tick_params(labelsize = 20)\n",
        "ax.set_xlabel('INDEX', fontsize = 24)\n",
        "ax.set_ylabel('Your_Stock', fontsize = 24)\n",
        "ax.set_title(\"Linear Regression Line with Intercept y = {:.4f} + {:.4f}x (R2 = {:.2f})\".format(b, m, score), fontsize = 16 )\n",
        "fig.tight_layout()\n",
        "#fig.savefig('images/linearregression', dpi = 300)"
      ],
      "metadata": {
        "colab": {
          "base_uri": "https://localhost:8080/",
          "height": 513
        },
        "id": "8VRzrUmd_Qim",
        "outputId": "439328d9-7e38-4174-c5d3-88789fe2c773"
      },
      "execution_count": 30,
      "outputs": [
        {
          "output_type": "display_data",
          "data": {
            "text/plain": [
              "<Figure size 720x504 with 1 Axes>"
            ],
            "image/png": "[encoded data removed]"
          },
          "metadata": {
            "needs_background": "light"
          }
        }
      ]
    }
  ]
}