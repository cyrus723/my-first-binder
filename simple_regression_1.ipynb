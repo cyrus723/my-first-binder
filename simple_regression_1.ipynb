{
 "cells": [
  {
   "cell_type": "code",
   "execution_count": 49,
   "metadata": {
    "id": "2aCXQmsPr0QO"
   },
   "outputs": [],
   "source": [
    "import numpy as np\n",
    "import pandas as pd\n",
    "from pylab import mpl, plt\n",
    "import statsmodels.formula.api as smf\n",
    "plt.style.use('seaborn')\n",
    "mpl.rcParams['font.family'] = 'serif'\n",
    "%matplotlib inline"
   ]
  },
  {
   "cell_type": "markdown",
   "metadata": {
    "id": "0NTYwfVAr0QP"
   },
   "source": [
    "### Data Import"
   ]
  },
  {
   "cell_type": "code",
   "execution_count": 3,
   "metadata": {},
   "outputs": [
    {
     "data": {
      "text/plain": [
       "'C:\\\\Users\\\\hy11\\\\Downloads'"
      ]
     },
     "execution_count": 3,
     "metadata": {},
     "output_type": "execute_result"
    }
   ],
   "source": [
    "import os \n",
    "os.getcwd()"
   ]
  },
  {
   "cell_type": "code",
   "execution_count": 29,
   "metadata": {},
   "outputs": [
    {
     "data": {
      "text/plain": [
       "'C:\\\\Users\\\\hy11\\\\Downloads'"
      ]
     },
     "execution_count": 29,
     "metadata": {},
     "output_type": "execute_result"
    }
   ],
   "source": [
    "os.chdir(\"C:\\\\Users\\\\hy11\\\\Downloads\")\n",
    "os.getcwd()"
   ]
  },
  {
   "cell_type": "code",
   "execution_count": null,
   "metadata": {},
   "outputs": [],
   "source": []
  },
  {
   "cell_type": "code",
   "execution_count": 67,
   "metadata": {
    "id": "9wQvtRuTr0QP"
   },
   "outputs": [],
   "source": [
    "# for Jupyter users, first place your file in your local directory...\n",
    "\n",
    "filename = 'factsets_etf.csv'  "
   ]
  },
  {
   "cell_type": "code",
   "execution_count": 115,
   "metadata": {
    "id": "9lVTFCFBr0QR",
    "uuid": "53a33e39-a3ff-4c95-b0f2-a94d727ae0da"
   },
   "outputs": [],
   "source": [
    "data = pd.read_csv(filename)  "
   ]
  },
  {
   "cell_type": "code",
   "execution_count": 116,
   "metadata": {
    "colab": {
     "base_uri": "https://localhost:8080/"
    },
    "id": "ereRgc3er0QR",
    "outputId": "2ee30c3c-6a90-4a2d-9f9a-7cc34213f5a5",
    "uuid": "53a33e39-a3ff-4c95-b0f2-a94d727ae0da"
   },
   "outputs": [
    {
     "name": "stdout",
     "output_type": "stream",
     "text": [
      "<class 'pandas.core.frame.DataFrame'>\n",
      "RangeIndex: 1893 entries, 0 to 1892\n",
      "Data columns (total 8 columns):\n",
      " #   Column  Non-Null Count  Dtype  \n",
      "---  ------  --------------  -----  \n",
      " 0   ticker  1893 non-null   object \n",
      " 1   name    1893 non-null   object \n",
      " 2   issuer  1893 non-null   object \n",
      " 3   exp     1893 non-null   float64\n",
      " 4   nav     1893 non-null   float64\n",
      " 5   aum     1893 non-null   float64\n",
      " 6   class   1893 non-null   object \n",
      " 7   beta    1893 non-null   float64\n",
      "dtypes: float64(4), object(4)\n",
      "memory usage: 118.4+ KB\n"
     ]
    }
   ],
   "source": [
    "data.info()  "
   ]
  },
  {
   "cell_type": "code",
   "execution_count": 117,
   "metadata": {},
   "outputs": [],
   "source": [
    "data['scaled_aum'] = np.log(data['aum']/1000000)"
   ]
  },
  {
   "cell_type": "code",
   "execution_count": 118,
   "metadata": {},
   "outputs": [],
   "source": [
    "data['aum_million'] = data['aum'] / 1000000"
   ]
  },
  {
   "cell_type": "code",
   "execution_count": 119,
   "metadata": {
    "colab": {
     "base_uri": "https://localhost:8080/",
     "height": 225
    },
    "id": "kPWQcRbsr0QR",
    "outputId": "4799f0ff-62e8-4b9f-c206-baa04fee60cf"
   },
   "outputs": [
    {
     "data": {
      "text/html": [
       "<div>\n",
       "<style scoped>\n",
       "    .dataframe tbody tr th:only-of-type {\n",
       "        vertical-align: middle;\n",
       "    }\n",
       "\n",
       "    .dataframe tbody tr th {\n",
       "        vertical-align: top;\n",
       "    }\n",
       "\n",
       "    .dataframe thead th {\n",
       "        text-align: right;\n",
       "    }\n",
       "</style>\n",
       "<table border=\"1\" class=\"dataframe\">\n",
       "  <thead>\n",
       "    <tr style=\"text-align: right;\">\n",
       "      <th></th>\n",
       "      <th>ticker</th>\n",
       "      <th>name</th>\n",
       "      <th>issuer</th>\n",
       "      <th>exp</th>\n",
       "      <th>nav</th>\n",
       "      <th>aum</th>\n",
       "      <th>class</th>\n",
       "      <th>beta</th>\n",
       "      <th>scaled_aum</th>\n",
       "      <th>aum_million</th>\n",
       "    </tr>\n",
       "  </thead>\n",
       "  <tbody>\n",
       "    <tr>\n",
       "      <th>0</th>\n",
       "      <td>SINV</td>\n",
       "      <td>ETFMG Prime 2X Daily Inverse Junior Silver Min...</td>\n",
       "      <td>ETFMG</td>\n",
       "      <td>1.0</td>\n",
       "      <td>11.9</td>\n",
       "      <td>115432.0</td>\n",
       "      <td>Equity</td>\n",
       "      <td>-2.1</td>\n",
       "      <td>-2.159074</td>\n",
       "      <td>0.115432</td>\n",
       "    </tr>\n",
       "    <tr>\n",
       "      <th>1</th>\n",
       "      <td>B621WX</td>\n",
       "      <td>WisdomTree Short AUD Long EUR</td>\n",
       "      <td>WisdomTree</td>\n",
       "      <td>0.0</td>\n",
       "      <td>30.2</td>\n",
       "      <td>156868.0</td>\n",
       "      <td>Currency</td>\n",
       "      <td>-0.2</td>\n",
       "      <td>-1.852351</td>\n",
       "      <td>0.156868</td>\n",
       "    </tr>\n",
       "    <tr>\n",
       "      <th>2</th>\n",
       "      <td>B68GS4</td>\n",
       "      <td>WisdomTree Long EUR Short USD</td>\n",
       "      <td>WisdomTree</td>\n",
       "      <td>0.0</td>\n",
       "      <td>29.8</td>\n",
       "      <td>166949.0</td>\n",
       "      <td>Currency</td>\n",
       "      <td>0.1</td>\n",
       "      <td>-1.790067</td>\n",
       "      <td>0.166949</td>\n",
       "    </tr>\n",
       "    <tr>\n",
       "      <th>3</th>\n",
       "      <td>*CINC.B</td>\n",
       "      <td>CI DoubleLine Income USD Fund Unhedged</td>\n",
       "      <td>CI Financial Corp.</td>\n",
       "      <td>1.0</td>\n",
       "      <td>17.7</td>\n",
       "      <td>176787.0</td>\n",
       "      <td>Fixed Income</td>\n",
       "      <td>-0.3</td>\n",
       "      <td>-1.732810</td>\n",
       "      <td>0.176787</td>\n",
       "    </tr>\n",
       "    <tr>\n",
       "      <th>4</th>\n",
       "      <td>B68GSP</td>\n",
       "      <td>WisdomTree Long JPY Short USD</td>\n",
       "      <td>WisdomTree</td>\n",
       "      <td>0.0</td>\n",
       "      <td>29.0</td>\n",
       "      <td>203339.0</td>\n",
       "      <td>Currency</td>\n",
       "      <td>-0.1</td>\n",
       "      <td>-1.592881</td>\n",
       "      <td>0.203339</td>\n",
       "    </tr>\n",
       "  </tbody>\n",
       "</table>\n",
       "</div>"
      ],
      "text/plain": [
       "    ticker                                               name  \\\n",
       "0     SINV  ETFMG Prime 2X Daily Inverse Junior Silver Min...   \n",
       "1   B621WX                      WisdomTree Short AUD Long EUR   \n",
       "2   B68GS4                      WisdomTree Long EUR Short USD   \n",
       "3  *CINC.B             CI DoubleLine Income USD Fund Unhedged   \n",
       "4   B68GSP                      WisdomTree Long JPY Short USD   \n",
       "\n",
       "               issuer  exp   nav       aum         class  beta  scaled_aum  \\\n",
       "0               ETFMG  1.0  11.9  115432.0        Equity  -2.1   -2.159074   \n",
       "1          WisdomTree  0.0  30.2  156868.0      Currency  -0.2   -1.852351   \n",
       "2          WisdomTree  0.0  29.8  166949.0      Currency   0.1   -1.790067   \n",
       "3  CI Financial Corp.  1.0  17.7  176787.0  Fixed Income  -0.3   -1.732810   \n",
       "4          WisdomTree  0.0  29.0  203339.0      Currency  -0.1   -1.592881   \n",
       "\n",
       "   aum_million  \n",
       "0     0.115432  \n",
       "1     0.156868  \n",
       "2     0.166949  \n",
       "3     0.176787  \n",
       "4     0.203339  "
      ]
     },
     "execution_count": 119,
     "metadata": {},
     "output_type": "execute_result"
    }
   ],
   "source": [
    "data.head()  "
   ]
  },
  {
   "cell_type": "code",
   "execution_count": 120,
   "metadata": {
    "colab": {
     "base_uri": "https://localhost:8080/",
     "height": 225
    },
    "id": "R5hJOfsYr0QS",
    "outputId": "7798ba0e-233f-4045-eb22-8286482ecbbb"
   },
   "outputs": [
    {
     "data": {
      "text/html": [
       "<div>\n",
       "<style scoped>\n",
       "    .dataframe tbody tr th:only-of-type {\n",
       "        vertical-align: middle;\n",
       "    }\n",
       "\n",
       "    .dataframe tbody tr th {\n",
       "        vertical-align: top;\n",
       "    }\n",
       "\n",
       "    .dataframe thead th {\n",
       "        text-align: right;\n",
       "    }\n",
       "</style>\n",
       "<table border=\"1\" class=\"dataframe\">\n",
       "  <thead>\n",
       "    <tr style=\"text-align: right;\">\n",
       "      <th></th>\n",
       "      <th>ticker</th>\n",
       "      <th>name</th>\n",
       "      <th>issuer</th>\n",
       "      <th>exp</th>\n",
       "      <th>nav</th>\n",
       "      <th>aum</th>\n",
       "      <th>class</th>\n",
       "      <th>beta</th>\n",
       "      <th>scaled_aum</th>\n",
       "      <th>aum_million</th>\n",
       "    </tr>\n",
       "  </thead>\n",
       "  <tbody>\n",
       "    <tr>\n",
       "      <th>1888</th>\n",
       "      <td>BDR7WS</td>\n",
       "      <td>Hanwha ARIRANG S&amp;P500 ETF(H)</td>\n",
       "      <td>HANWHA LIFE INSURANCE Co., Ltd.</td>\n",
       "      <td>0.0</td>\n",
       "      <td>17574.9</td>\n",
       "      <td>4.420000e+11</td>\n",
       "      <td>Equity</td>\n",
       "      <td>0.7</td>\n",
       "      <td>12.999065</td>\n",
       "      <td>442000.0</td>\n",
       "    </tr>\n",
       "    <tr>\n",
       "      <th>1889</th>\n",
       "      <td>BMJJF5</td>\n",
       "      <td>Hanwha Arirang SYNTH-MSCI Emerging Markets ETF(H)</td>\n",
       "      <td>HANWHA LIFE INSURANCE Co., Ltd.</td>\n",
       "      <td>1.0</td>\n",
       "      <td>10002.4</td>\n",
       "      <td>7.400000e+11</td>\n",
       "      <td>Equity</td>\n",
       "      <td>0.8</td>\n",
       "      <td>13.514405</td>\n",
       "      <td>740000.0</td>\n",
       "    </tr>\n",
       "    <tr>\n",
       "      <th>1890</th>\n",
       "      <td>BG8FBY</td>\n",
       "      <td>Hanwha ARIRANG KTB 3Y Futures ETF</td>\n",
       "      <td>HANWHA LIFE INSURANCE Co., Ltd.</td>\n",
       "      <td>0.0</td>\n",
       "      <td>51743.0</td>\n",
       "      <td>7.540000e+11</td>\n",
       "      <td>Fixed Income</td>\n",
       "      <td>0.0</td>\n",
       "      <td>13.533148</td>\n",
       "      <td>754000.0</td>\n",
       "    </tr>\n",
       "    <tr>\n",
       "      <th>1891</th>\n",
       "      <td>B7W7BH</td>\n",
       "      <td>Hanwha ARIRANG Dividend ETF</td>\n",
       "      <td>HANWHA LIFE INSURANCE Co., Ltd.</td>\n",
       "      <td>0.0</td>\n",
       "      <td>12555.7</td>\n",
       "      <td>2.030000e+12</td>\n",
       "      <td>Equity</td>\n",
       "      <td>0.8</td>\n",
       "      <td>14.523546</td>\n",
       "      <td>2030000.0</td>\n",
       "    </tr>\n",
       "    <tr>\n",
       "      <th>1892</th>\n",
       "      <td>B76Y8C</td>\n",
       "      <td>HANWHA ARIRANG 200 ETF</td>\n",
       "      <td>HANWHA LIFE INSURANCE Co., Ltd.</td>\n",
       "      <td>0.0</td>\n",
       "      <td>35505.7</td>\n",
       "      <td>6.610000e+12</td>\n",
       "      <td>Equity</td>\n",
       "      <td>1.0</td>\n",
       "      <td>15.704094</td>\n",
       "      <td>6610000.0</td>\n",
       "    </tr>\n",
       "  </tbody>\n",
       "</table>\n",
       "</div>"
      ],
      "text/plain": [
       "      ticker                                               name  \\\n",
       "1888  BDR7WS                       Hanwha ARIRANG S&P500 ETF(H)   \n",
       "1889  BMJJF5  Hanwha Arirang SYNTH-MSCI Emerging Markets ETF(H)   \n",
       "1890  BG8FBY                  Hanwha ARIRANG KTB 3Y Futures ETF   \n",
       "1891  B7W7BH                        Hanwha ARIRANG Dividend ETF   \n",
       "1892  B76Y8C                             HANWHA ARIRANG 200 ETF   \n",
       "\n",
       "                               issuer  exp      nav           aum  \\\n",
       "1888  HANWHA LIFE INSURANCE Co., Ltd.  0.0  17574.9  4.420000e+11   \n",
       "1889  HANWHA LIFE INSURANCE Co., Ltd.  1.0  10002.4  7.400000e+11   \n",
       "1890  HANWHA LIFE INSURANCE Co., Ltd.  0.0  51743.0  7.540000e+11   \n",
       "1891  HANWHA LIFE INSURANCE Co., Ltd.  0.0  12555.7  2.030000e+12   \n",
       "1892  HANWHA LIFE INSURANCE Co., Ltd.  0.0  35505.7  6.610000e+12   \n",
       "\n",
       "             class  beta  scaled_aum  aum_million  \n",
       "1888        Equity   0.7   12.999065     442000.0  \n",
       "1889        Equity   0.8   13.514405     740000.0  \n",
       "1890  Fixed Income   0.0   13.533148     754000.0  \n",
       "1891        Equity   0.8   14.523546    2030000.0  \n",
       "1892        Equity   1.0   15.704094    6610000.0  "
      ]
     },
     "execution_count": 120,
     "metadata": {},
     "output_type": "execute_result"
    }
   ],
   "source": [
    "data.tail()  "
   ]
  },
  {
   "cell_type": "code",
   "execution_count": 121,
   "metadata": {},
   "outputs": [
    {
     "data": {
      "text/html": [
       "<div>\n",
       "<style scoped>\n",
       "    .dataframe tbody tr th:only-of-type {\n",
       "        vertical-align: middle;\n",
       "    }\n",
       "\n",
       "    .dataframe tbody tr th {\n",
       "        vertical-align: top;\n",
       "    }\n",
       "\n",
       "    .dataframe thead th {\n",
       "        text-align: right;\n",
       "    }\n",
       "</style>\n",
       "<table border=\"1\" class=\"dataframe\">\n",
       "  <thead>\n",
       "    <tr style=\"text-align: right;\">\n",
       "      <th></th>\n",
       "      <th>exp</th>\n",
       "      <th>nav</th>\n",
       "      <th>aum</th>\n",
       "      <th>beta</th>\n",
       "      <th>scaled_aum</th>\n",
       "      <th>aum_million</th>\n",
       "    </tr>\n",
       "  </thead>\n",
       "  <tbody>\n",
       "    <tr>\n",
       "      <th>count</th>\n",
       "      <td>1893.000000</td>\n",
       "      <td>1893.000000</td>\n",
       "      <td>1.893000e+03</td>\n",
       "      <td>1893.000000</td>\n",
       "      <td>1893.000000</td>\n",
       "      <td>1.893000e+03</td>\n",
       "    </tr>\n",
       "    <tr>\n",
       "      <th>mean</th>\n",
       "      <td>0.552034</td>\n",
       "      <td>994.994400</td>\n",
       "      <td>8.829291e+09</td>\n",
       "      <td>0.658162</td>\n",
       "      <td>4.608280</td>\n",
       "      <td>8.829291e+03</td>\n",
       "    </tr>\n",
       "    <tr>\n",
       "      <th>std</th>\n",
       "      <td>0.964520</td>\n",
       "      <td>7030.290351</td>\n",
       "      <td>1.620810e+11</td>\n",
       "      <td>0.665928</td>\n",
       "      <td>2.549140</td>\n",
       "      <td>1.620810e+05</td>\n",
       "    </tr>\n",
       "    <tr>\n",
       "      <th>min</th>\n",
       "      <td>0.000000</td>\n",
       "      <td>0.000000</td>\n",
       "      <td>1.154320e+05</td>\n",
       "      <td>-4.900000</td>\n",
       "      <td>-2.159074</td>\n",
       "      <td>1.154320e-01</td>\n",
       "    </tr>\n",
       "    <tr>\n",
       "      <th>25%</th>\n",
       "      <td>0.000000</td>\n",
       "      <td>20.300000</td>\n",
       "      <td>1.878199e+07</td>\n",
       "      <td>0.300000</td>\n",
       "      <td>2.932898</td>\n",
       "      <td>1.878199e+01</td>\n",
       "    </tr>\n",
       "    <tr>\n",
       "      <th>50%</th>\n",
       "      <td>0.000000</td>\n",
       "      <td>29.500000</td>\n",
       "      <td>8.541894e+07</td>\n",
       "      <td>0.700000</td>\n",
       "      <td>4.447568</td>\n",
       "      <td>8.541894e+01</td>\n",
       "    </tr>\n",
       "    <tr>\n",
       "      <th>75%</th>\n",
       "      <td>1.000000</td>\n",
       "      <td>54.700000</td>\n",
       "      <td>4.387002e+08</td>\n",
       "      <td>1.000000</td>\n",
       "      <td>6.083816</td>\n",
       "      <td>4.387002e+02</td>\n",
       "    </tr>\n",
       "    <tr>\n",
       "      <th>max</th>\n",
       "      <td>20.000000</td>\n",
       "      <td>108546.700000</td>\n",
       "      <td>6.610000e+12</td>\n",
       "      <td>4.400000</td>\n",
       "      <td>15.704094</td>\n",
       "      <td>6.610000e+06</td>\n",
       "    </tr>\n",
       "  </tbody>\n",
       "</table>\n",
       "</div>"
      ],
      "text/plain": [
       "               exp            nav           aum         beta   scaled_aum  \\\n",
       "count  1893.000000    1893.000000  1.893000e+03  1893.000000  1893.000000   \n",
       "mean      0.552034     994.994400  8.829291e+09     0.658162     4.608280   \n",
       "std       0.964520    7030.290351  1.620810e+11     0.665928     2.549140   \n",
       "min       0.000000       0.000000  1.154320e+05    -4.900000    -2.159074   \n",
       "25%       0.000000      20.300000  1.878199e+07     0.300000     2.932898   \n",
       "50%       0.000000      29.500000  8.541894e+07     0.700000     4.447568   \n",
       "75%       1.000000      54.700000  4.387002e+08     1.000000     6.083816   \n",
       "max      20.000000  108546.700000  6.610000e+12     4.400000    15.704094   \n",
       "\n",
       "        aum_million  \n",
       "count  1.893000e+03  \n",
       "mean   8.829291e+03  \n",
       "std    1.620810e+05  \n",
       "min    1.154320e-01  \n",
       "25%    1.878199e+01  \n",
       "50%    8.541894e+01  \n",
       "75%    4.387002e+02  \n",
       "max    6.610000e+06  "
      ]
     },
     "execution_count": 121,
     "metadata": {},
     "output_type": "execute_result"
    }
   ],
   "source": [
    "data.describe()"
   ]
  },
  {
   "cell_type": "markdown",
   "metadata": {
    "id": "xXCZB_aNr0QT"
   },
   "source": [
    "### Summary Statistics"
   ]
  },
  {
   "cell_type": "code",
   "execution_count": 122,
   "metadata": {
    "colab": {
     "base_uri": "https://localhost:8080/"
    },
    "id": "3ngKC-ior0QU",
    "outputId": "5057e781-405a-4143-ce19-b0673074896a"
   },
   "outputs": [
    {
     "name": "stdout",
     "output_type": "stream",
     "text": [
      "<class 'pandas.core.frame.DataFrame'>\n",
      "RangeIndex: 1893 entries, 0 to 1892\n",
      "Data columns (total 10 columns):\n",
      " #   Column       Non-Null Count  Dtype  \n",
      "---  ------       --------------  -----  \n",
      " 0   ticker       1893 non-null   object \n",
      " 1   name         1893 non-null   object \n",
      " 2   issuer       1893 non-null   object \n",
      " 3   exp          1893 non-null   float64\n",
      " 4   nav          1893 non-null   float64\n",
      " 5   aum          1893 non-null   float64\n",
      " 6   class        1893 non-null   object \n",
      " 7   beta         1893 non-null   float64\n",
      " 8   scaled_aum   1893 non-null   float64\n",
      " 9   aum_million  1893 non-null   float64\n",
      "dtypes: float64(6), object(4)\n",
      "memory usage: 148.0+ KB\n"
     ]
    }
   ],
   "source": [
    "data.info()  "
   ]
  },
  {
   "cell_type": "code",
   "execution_count": 123,
   "metadata": {
    "colab": {
     "base_uri": "https://localhost:8080/",
     "height": 284
    },
    "id": "8O_XLOsEr0QU",
    "outputId": "97a8c71b-fb0a-41f5-b64d-1a5fd905224b"
   },
   "outputs": [
    {
     "data": {
      "text/html": [
       "<div>\n",
       "<style scoped>\n",
       "    .dataframe tbody tr th:only-of-type {\n",
       "        vertical-align: middle;\n",
       "    }\n",
       "\n",
       "    .dataframe tbody tr th {\n",
       "        vertical-align: top;\n",
       "    }\n",
       "\n",
       "    .dataframe thead th {\n",
       "        text-align: right;\n",
       "    }\n",
       "</style>\n",
       "<table border=\"1\" class=\"dataframe\">\n",
       "  <thead>\n",
       "    <tr style=\"text-align: right;\">\n",
       "      <th></th>\n",
       "      <th>exp</th>\n",
       "      <th>nav</th>\n",
       "      <th>aum</th>\n",
       "      <th>beta</th>\n",
       "      <th>scaled_aum</th>\n",
       "      <th>aum_million</th>\n",
       "    </tr>\n",
       "  </thead>\n",
       "  <tbody>\n",
       "    <tr>\n",
       "      <th>count</th>\n",
       "      <td>1893.00</td>\n",
       "      <td>1893.00</td>\n",
       "      <td>1.893000e+03</td>\n",
       "      <td>1893.00</td>\n",
       "      <td>1893.00</td>\n",
       "      <td>1893.00</td>\n",
       "    </tr>\n",
       "    <tr>\n",
       "      <th>mean</th>\n",
       "      <td>0.55</td>\n",
       "      <td>994.99</td>\n",
       "      <td>8.829291e+09</td>\n",
       "      <td>0.66</td>\n",
       "      <td>4.61</td>\n",
       "      <td>8829.29</td>\n",
       "    </tr>\n",
       "    <tr>\n",
       "      <th>std</th>\n",
       "      <td>0.96</td>\n",
       "      <td>7030.29</td>\n",
       "      <td>1.620810e+11</td>\n",
       "      <td>0.67</td>\n",
       "      <td>2.55</td>\n",
       "      <td>162081.01</td>\n",
       "    </tr>\n",
       "    <tr>\n",
       "      <th>min</th>\n",
       "      <td>0.00</td>\n",
       "      <td>0.00</td>\n",
       "      <td>1.154320e+05</td>\n",
       "      <td>-4.90</td>\n",
       "      <td>-2.16</td>\n",
       "      <td>0.12</td>\n",
       "    </tr>\n",
       "    <tr>\n",
       "      <th>25%</th>\n",
       "      <td>0.00</td>\n",
       "      <td>20.30</td>\n",
       "      <td>1.878199e+07</td>\n",
       "      <td>0.30</td>\n",
       "      <td>2.93</td>\n",
       "      <td>18.78</td>\n",
       "    </tr>\n",
       "    <tr>\n",
       "      <th>50%</th>\n",
       "      <td>0.00</td>\n",
       "      <td>29.50</td>\n",
       "      <td>8.541894e+07</td>\n",
       "      <td>0.70</td>\n",
       "      <td>4.45</td>\n",
       "      <td>85.42</td>\n",
       "    </tr>\n",
       "    <tr>\n",
       "      <th>75%</th>\n",
       "      <td>1.00</td>\n",
       "      <td>54.70</td>\n",
       "      <td>4.387002e+08</td>\n",
       "      <td>1.00</td>\n",
       "      <td>6.08</td>\n",
       "      <td>438.70</td>\n",
       "    </tr>\n",
       "    <tr>\n",
       "      <th>max</th>\n",
       "      <td>20.00</td>\n",
       "      <td>108546.70</td>\n",
       "      <td>6.610000e+12</td>\n",
       "      <td>4.40</td>\n",
       "      <td>15.70</td>\n",
       "      <td>6610000.00</td>\n",
       "    </tr>\n",
       "  </tbody>\n",
       "</table>\n",
       "</div>"
      ],
      "text/plain": [
       "           exp        nav           aum     beta  scaled_aum  aum_million\n",
       "count  1893.00    1893.00  1.893000e+03  1893.00     1893.00      1893.00\n",
       "mean      0.55     994.99  8.829291e+09     0.66        4.61      8829.29\n",
       "std       0.96    7030.29  1.620810e+11     0.67        2.55    162081.01\n",
       "min       0.00       0.00  1.154320e+05    -4.90       -2.16         0.12\n",
       "25%       0.00      20.30  1.878199e+07     0.30        2.93        18.78\n",
       "50%       0.00      29.50  8.541894e+07     0.70        4.45        85.42\n",
       "75%       1.00      54.70  4.387002e+08     1.00        6.08       438.70\n",
       "max      20.00  108546.70  6.610000e+12     4.40       15.70   6610000.00"
      ]
     },
     "execution_count": 123,
     "metadata": {},
     "output_type": "execute_result"
    }
   ],
   "source": [
    "data.describe().round(2)  "
   ]
  },
  {
   "cell_type": "code",
   "execution_count": 124,
   "metadata": {
    "colab": {
     "base_uri": "https://localhost:8080/",
     "height": 204
    },
    "id": "UOy5nm2Cr0QV",
    "outputId": "1458fb0f-efb5-4c60-927b-b29cdcd4f3f2"
   },
   "outputs": [
    {
     "name": "stderr",
     "output_type": "stream",
     "text": [
      "C:\\Users\\hy11\\AppData\\Local\\Temp\\ipykernel_28304\\2657421794.py:1: FutureWarning: ['ticker', 'name', 'issuer', 'class'] did not aggregate successfully. If any error is raised this will raise in a future version of pandas. Drop these columns/ops to avoid this warning.\n",
      "  data.aggregate([min,\n"
     ]
    },
    {
     "data": {
      "text/html": [
       "<div>\n",
       "<style scoped>\n",
       "    .dataframe tbody tr th:only-of-type {\n",
       "        vertical-align: middle;\n",
       "    }\n",
       "\n",
       "    .dataframe tbody tr th {\n",
       "        vertical-align: top;\n",
       "    }\n",
       "\n",
       "    .dataframe thead th {\n",
       "        text-align: right;\n",
       "    }\n",
       "</style>\n",
       "<table border=\"1\" class=\"dataframe\">\n",
       "  <thead>\n",
       "    <tr style=\"text-align: right;\">\n",
       "      <th></th>\n",
       "      <th>ticker</th>\n",
       "      <th>name</th>\n",
       "      <th>issuer</th>\n",
       "      <th>exp</th>\n",
       "      <th>nav</th>\n",
       "      <th>aum</th>\n",
       "      <th>class</th>\n",
       "      <th>beta</th>\n",
       "      <th>scaled_aum</th>\n",
       "      <th>aum_million</th>\n",
       "    </tr>\n",
       "  </thead>\n",
       "  <tbody>\n",
       "    <tr>\n",
       "      <th>min</th>\n",
       "      <td>*ARB</td>\n",
       "      <td>15 FiCAS Active Crypto ETP</td>\n",
       "      <td>21Shares AG</td>\n",
       "      <td>0.00</td>\n",
       "      <td>0.00</td>\n",
       "      <td>1.154320e+05</td>\n",
       "      <td>Alternatives</td>\n",
       "      <td>-4.90</td>\n",
       "      <td>-2.16</td>\n",
       "      <td>0.12</td>\n",
       "    </tr>\n",
       "    <tr>\n",
       "      <th>mean</th>\n",
       "      <td>NaN</td>\n",
       "      <td>NaN</td>\n",
       "      <td>NaN</td>\n",
       "      <td>0.55</td>\n",
       "      <td>994.99</td>\n",
       "      <td>8.829291e+09</td>\n",
       "      <td>NaN</td>\n",
       "      <td>0.66</td>\n",
       "      <td>4.61</td>\n",
       "      <td>8829.29</td>\n",
       "    </tr>\n",
       "    <tr>\n",
       "      <th>std</th>\n",
       "      <td>NaN</td>\n",
       "      <td>NaN</td>\n",
       "      <td>NaN</td>\n",
       "      <td>0.96</td>\n",
       "      <td>7030.29</td>\n",
       "      <td>1.620810e+11</td>\n",
       "      <td>NaN</td>\n",
       "      <td>0.67</td>\n",
       "      <td>2.55</td>\n",
       "      <td>162081.01</td>\n",
       "    </tr>\n",
       "    <tr>\n",
       "      <th>median</th>\n",
       "      <td>NaN</td>\n",
       "      <td>NaN</td>\n",
       "      <td>NaN</td>\n",
       "      <td>0.00</td>\n",
       "      <td>29.50</td>\n",
       "      <td>8.541894e+07</td>\n",
       "      <td>NaN</td>\n",
       "      <td>0.70</td>\n",
       "      <td>4.45</td>\n",
       "      <td>85.42</td>\n",
       "    </tr>\n",
       "    <tr>\n",
       "      <th>max</th>\n",
       "      <td>ZIG</td>\n",
       "      <td>iShares eb.rexx Government Germany UCITS ETF (DE)</td>\n",
       "      <td>Zacks Investment Management</td>\n",
       "      <td>20.00</td>\n",
       "      <td>108546.70</td>\n",
       "      <td>6.610000e+12</td>\n",
       "      <td>Fixed Income</td>\n",
       "      <td>4.40</td>\n",
       "      <td>15.70</td>\n",
       "      <td>6610000.00</td>\n",
       "    </tr>\n",
       "  </tbody>\n",
       "</table>\n",
       "</div>"
      ],
      "text/plain": [
       "       ticker                                               name  \\\n",
       "min      *ARB                         15 FiCAS Active Crypto ETP   \n",
       "mean      NaN                                                NaN   \n",
       "std       NaN                                                NaN   \n",
       "median    NaN                                                NaN   \n",
       "max       ZIG  iShares eb.rexx Government Germany UCITS ETF (DE)   \n",
       "\n",
       "                             issuer    exp        nav           aum  \\\n",
       "min                     21Shares AG   0.00       0.00  1.154320e+05   \n",
       "mean                            NaN   0.55     994.99  8.829291e+09   \n",
       "std                             NaN   0.96    7030.29  1.620810e+11   \n",
       "median                          NaN   0.00      29.50  8.541894e+07   \n",
       "max     Zacks Investment Management  20.00  108546.70  6.610000e+12   \n",
       "\n",
       "               class  beta  scaled_aum  aum_million  \n",
       "min     Alternatives -4.90       -2.16         0.12  \n",
       "mean             NaN  0.66        4.61      8829.29  \n",
       "std              NaN  0.67        2.55    162081.01  \n",
       "median           NaN  0.70        4.45        85.42  \n",
       "max     Fixed Income  4.40       15.70   6610000.00  "
      ]
     },
     "execution_count": 124,
     "metadata": {},
     "output_type": "execute_result"
    }
   ],
   "source": [
    "data.aggregate([min,  \n",
    "                np.mean,  \n",
    "                np.std,  \n",
    "                np.median,  \n",
    "                max]  \n",
    ").round(2)"
   ]
  },
  {
   "cell_type": "code",
   "execution_count": 125,
   "metadata": {},
   "outputs": [
    {
     "data": {
      "text/html": [
       "<div>\n",
       "<style scoped>\n",
       "    .dataframe tbody tr th:only-of-type {\n",
       "        vertical-align: middle;\n",
       "    }\n",
       "\n",
       "    .dataframe tbody tr th {\n",
       "        vertical-align: top;\n",
       "    }\n",
       "\n",
       "    .dataframe thead th {\n",
       "        text-align: right;\n",
       "    }\n",
       "</style>\n",
       "<table border=\"1\" class=\"dataframe\">\n",
       "  <thead>\n",
       "    <tr style=\"text-align: right;\">\n",
       "      <th></th>\n",
       "      <th>exp</th>\n",
       "      <th>nav</th>\n",
       "      <th>aum</th>\n",
       "      <th>beta</th>\n",
       "      <th>scaled_aum</th>\n",
       "      <th>aum_million</th>\n",
       "    </tr>\n",
       "    <tr>\n",
       "      <th>class</th>\n",
       "      <th></th>\n",
       "      <th></th>\n",
       "      <th></th>\n",
       "      <th></th>\n",
       "      <th></th>\n",
       "      <th></th>\n",
       "    </tr>\n",
       "  </thead>\n",
       "  <tbody>\n",
       "    <tr>\n",
       "      <th>Alternatives</th>\n",
       "      <td>1.820513</td>\n",
       "      <td>21.320513</td>\n",
       "      <td>1.186542e+08</td>\n",
       "      <td>0.235897</td>\n",
       "      <td>3.452467</td>\n",
       "      <td>118.654158</td>\n",
       "    </tr>\n",
       "    <tr>\n",
       "      <th>Asset Allocation</th>\n",
       "      <td>0.965517</td>\n",
       "      <td>395.551724</td>\n",
       "      <td>3.299403e+09</td>\n",
       "      <td>0.544828</td>\n",
       "      <td>3.599286</td>\n",
       "      <td>3299.403427</td>\n",
       "    </tr>\n",
       "    <tr>\n",
       "      <th>Commodities</th>\n",
       "      <td>0.412162</td>\n",
       "      <td>175.028378</td>\n",
       "      <td>1.406693e+09</td>\n",
       "      <td>0.477027</td>\n",
       "      <td>3.530283</td>\n",
       "      <td>1406.693136</td>\n",
       "    </tr>\n",
       "    <tr>\n",
       "      <th>Currency</th>\n",
       "      <td>1.032967</td>\n",
       "      <td>758.836264</td>\n",
       "      <td>2.028511e+08</td>\n",
       "      <td>0.648352</td>\n",
       "      <td>2.518294</td>\n",
       "      <td>202.851121</td>\n",
       "    </tr>\n",
       "    <tr>\n",
       "      <th>Equity</th>\n",
       "      <td>0.569337</td>\n",
       "      <td>852.437812</td>\n",
       "      <td>1.261168e+10</td>\n",
       "      <td>0.868906</td>\n",
       "      <td>4.844739</td>\n",
       "      <td>12611.676815</td>\n",
       "    </tr>\n",
       "    <tr>\n",
       "      <th>Fixed Income</th>\n",
       "      <td>0.257576</td>\n",
       "      <td>1957.354293</td>\n",
       "      <td>4.164261e+09</td>\n",
       "      <td>0.168434</td>\n",
       "      <td>5.059802</td>\n",
       "      <td>4164.260947</td>\n",
       "    </tr>\n",
       "  </tbody>\n",
       "</table>\n",
       "</div>"
      ],
      "text/plain": [
       "                       exp          nav           aum      beta  scaled_aum  \\\n",
       "class                                                                         \n",
       "Alternatives      1.820513    21.320513  1.186542e+08  0.235897    3.452467   \n",
       "Asset Allocation  0.965517   395.551724  3.299403e+09  0.544828    3.599286   \n",
       "Commodities       0.412162   175.028378  1.406693e+09  0.477027    3.530283   \n",
       "Currency          1.032967   758.836264  2.028511e+08  0.648352    2.518294   \n",
       "Equity            0.569337   852.437812  1.261168e+10  0.868906    4.844739   \n",
       "Fixed Income      0.257576  1957.354293  4.164261e+09  0.168434    5.059802   \n",
       "\n",
       "                   aum_million  \n",
       "class                           \n",
       "Alternatives        118.654158  \n",
       "Asset Allocation   3299.403427  \n",
       "Commodities        1406.693136  \n",
       "Currency            202.851121  \n",
       "Equity            12611.676815  \n",
       "Fixed Income       4164.260947  "
      ]
     },
     "execution_count": 125,
     "metadata": {},
     "output_type": "execute_result"
    }
   ],
   "source": [
    "data.groupby(by='class').mean()"
   ]
  },
  {
   "cell_type": "markdown",
   "metadata": {
    "id": "M6xOtd9Mr0Qi"
   },
   "source": [
    "## Regression Analysis"
   ]
  },
  {
   "cell_type": "code",
   "execution_count": 126,
   "metadata": {
    "id": "FUe1C6Tlr0Qi",
    "uuid": "0bc55f0d-cd99-45b9-955e-3a126360e94f"
   },
   "outputs": [],
   "source": [
    "data2 = data[['exp', 'scaled_aum', 'beta']].dropna()"
   ]
  },
  {
   "cell_type": "code",
   "execution_count": 127,
   "metadata": {
    "colab": {
     "base_uri": "https://localhost:8080/",
     "height": 235
    },
    "id": "lcttj8upr0Qi",
    "outputId": "93ae176b-331c-4dcf-e891-facde88a2cc7",
    "scrolled": true,
    "uuid": "73526ac3-4bf0-4455-89b2-f6aa614ffdca"
   },
   "outputs": [
    {
     "data": {
      "text/html": [
       "<div>\n",
       "<style scoped>\n",
       "    .dataframe tbody tr th:only-of-type {\n",
       "        vertical-align: middle;\n",
       "    }\n",
       "\n",
       "    .dataframe tbody tr th {\n",
       "        vertical-align: top;\n",
       "    }\n",
       "\n",
       "    .dataframe thead th {\n",
       "        text-align: right;\n",
       "    }\n",
       "</style>\n",
       "<table border=\"1\" class=\"dataframe\">\n",
       "  <thead>\n",
       "    <tr style=\"text-align: right;\">\n",
       "      <th></th>\n",
       "      <th>exp</th>\n",
       "      <th>scaled_aum</th>\n",
       "      <th>beta</th>\n",
       "    </tr>\n",
       "  </thead>\n",
       "  <tbody>\n",
       "    <tr>\n",
       "      <th>count</th>\n",
       "      <td>1893.000000</td>\n",
       "      <td>1893.000000</td>\n",
       "      <td>1893.000000</td>\n",
       "    </tr>\n",
       "    <tr>\n",
       "      <th>mean</th>\n",
       "      <td>0.552034</td>\n",
       "      <td>4.608280</td>\n",
       "      <td>0.658162</td>\n",
       "    </tr>\n",
       "    <tr>\n",
       "      <th>std</th>\n",
       "      <td>0.964520</td>\n",
       "      <td>2.549140</td>\n",
       "      <td>0.665928</td>\n",
       "    </tr>\n",
       "    <tr>\n",
       "      <th>min</th>\n",
       "      <td>0.000000</td>\n",
       "      <td>-2.159074</td>\n",
       "      <td>-4.900000</td>\n",
       "    </tr>\n",
       "    <tr>\n",
       "      <th>25%</th>\n",
       "      <td>0.000000</td>\n",
       "      <td>2.932898</td>\n",
       "      <td>0.300000</td>\n",
       "    </tr>\n",
       "    <tr>\n",
       "      <th>50%</th>\n",
       "      <td>0.000000</td>\n",
       "      <td>4.447568</td>\n",
       "      <td>0.700000</td>\n",
       "    </tr>\n",
       "    <tr>\n",
       "      <th>75%</th>\n",
       "      <td>1.000000</td>\n",
       "      <td>6.083816</td>\n",
       "      <td>1.000000</td>\n",
       "    </tr>\n",
       "    <tr>\n",
       "      <th>max</th>\n",
       "      <td>20.000000</td>\n",
       "      <td>15.704094</td>\n",
       "      <td>4.400000</td>\n",
       "    </tr>\n",
       "  </tbody>\n",
       "</table>\n",
       "</div>"
      ],
      "text/plain": [
       "               exp   scaled_aum         beta\n",
       "count  1893.000000  1893.000000  1893.000000\n",
       "mean      0.552034     4.608280     0.658162\n",
       "std       0.964520     2.549140     0.665928\n",
       "min       0.000000    -2.159074    -4.900000\n",
       "25%       0.000000     2.932898     0.300000\n",
       "50%       0.000000     4.447568     0.700000\n",
       "75%       1.000000     6.083816     1.000000\n",
       "max      20.000000    15.704094     4.400000"
      ]
     },
     "execution_count": 127,
     "metadata": {},
     "output_type": "execute_result"
    }
   ],
   "source": [
    "data2.describe()"
   ]
  },
  {
   "cell_type": "code",
   "execution_count": 133,
   "metadata": {},
   "outputs": [],
   "source": [
    "data2 = data2.loc[data2['exp'] <= 3]"
   ]
  },
  {
   "cell_type": "code",
   "execution_count": 134,
   "metadata": {},
   "outputs": [
    {
     "data": {
      "text/html": [
       "<div>\n",
       "<style scoped>\n",
       "    .dataframe tbody tr th:only-of-type {\n",
       "        vertical-align: middle;\n",
       "    }\n",
       "\n",
       "    .dataframe tbody tr th {\n",
       "        vertical-align: top;\n",
       "    }\n",
       "\n",
       "    .dataframe thead th {\n",
       "        text-align: right;\n",
       "    }\n",
       "</style>\n",
       "<table border=\"1\" class=\"dataframe\">\n",
       "  <thead>\n",
       "    <tr style=\"text-align: right;\">\n",
       "      <th></th>\n",
       "      <th>exp</th>\n",
       "      <th>scaled_aum</th>\n",
       "      <th>beta</th>\n",
       "    </tr>\n",
       "  </thead>\n",
       "  <tbody>\n",
       "    <tr>\n",
       "      <th>count</th>\n",
       "      <td>1866.000000</td>\n",
       "      <td>1866.000000</td>\n",
       "      <td>1866.000000</td>\n",
       "    </tr>\n",
       "    <tr>\n",
       "      <th>mean</th>\n",
       "      <td>0.483923</td>\n",
       "      <td>4.612053</td>\n",
       "      <td>0.657235</td>\n",
       "    </tr>\n",
       "    <tr>\n",
       "      <th>std</th>\n",
       "      <td>0.535104</td>\n",
       "      <td>2.556543</td>\n",
       "      <td>0.663271</td>\n",
       "    </tr>\n",
       "    <tr>\n",
       "      <th>min</th>\n",
       "      <td>0.000000</td>\n",
       "      <td>-2.159074</td>\n",
       "      <td>-4.900000</td>\n",
       "    </tr>\n",
       "    <tr>\n",
       "      <th>25%</th>\n",
       "      <td>0.000000</td>\n",
       "      <td>2.931542</td>\n",
       "      <td>0.300000</td>\n",
       "    </tr>\n",
       "    <tr>\n",
       "      <th>50%</th>\n",
       "      <td>0.000000</td>\n",
       "      <td>4.462786</td>\n",
       "      <td>0.700000</td>\n",
       "    </tr>\n",
       "    <tr>\n",
       "      <th>75%</th>\n",
       "      <td>1.000000</td>\n",
       "      <td>6.105246</td>\n",
       "      <td>1.000000</td>\n",
       "    </tr>\n",
       "    <tr>\n",
       "      <th>max</th>\n",
       "      <td>2.000000</td>\n",
       "      <td>15.704094</td>\n",
       "      <td>4.400000</td>\n",
       "    </tr>\n",
       "  </tbody>\n",
       "</table>\n",
       "</div>"
      ],
      "text/plain": [
       "               exp   scaled_aum         beta\n",
       "count  1866.000000  1866.000000  1866.000000\n",
       "mean      0.483923     4.612053     0.657235\n",
       "std       0.535104     2.556543     0.663271\n",
       "min       0.000000    -2.159074    -4.900000\n",
       "25%       0.000000     2.931542     0.300000\n",
       "50%       0.000000     4.462786     0.700000\n",
       "75%       1.000000     6.105246     1.000000\n",
       "max       2.000000    15.704094     4.400000"
      ]
     },
     "execution_count": 134,
     "metadata": {},
     "output_type": "execute_result"
    }
   ],
   "source": [
    "data2.describe()"
   ]
  },
  {
   "cell_type": "code",
   "execution_count": null,
   "metadata": {},
   "outputs": [],
   "source": []
  },
  {
   "cell_type": "code",
   "execution_count": 135,
   "metadata": {
    "colab": {
     "base_uri": "https://localhost:8080/",
     "height": 366
    },
    "id": "7dKbV2Elr0Qj",
    "outputId": "7a97d698-3e0a-4f54-9b32-0cf8f6fc19ce",
    "uuid": "07158c72-907f-4636-ad40-95182b7728e3"
   },
   "outputs": [],
   "source": [
    "data3 = data2[['exp', 'scaled_aum']].dropna()"
   ]
  },
  {
   "cell_type": "code",
   "execution_count": null,
   "metadata": {
    "colab": {
     "base_uri": "https://localhost:8080/",
     "height": 374
    },
    "id": "Z93rCDtRr0Qj",
    "outputId": "55375b6d-e54b-4d81-b5e5-7987b5bf72e9",
    "uuid": "07158c72-907f-4636-ad40-95182b7728e3"
   },
   "outputs": [],
   "source": []
  },
  {
   "cell_type": "code",
   "execution_count": null,
   "metadata": {
    "id": "lO6tZqD-r0Qk"
   },
   "outputs": [],
   "source": []
  },
  {
   "cell_type": "code",
   "execution_count": null,
   "metadata": {
    "colab": {
     "base_uri": "https://localhost:8080/",
     "height": 368
    },
    "id": "R1CNCSDcr0Qk",
    "outputId": "778c8346-6e70-474d-b402-4c41daf5d783",
    "uuid": "771c53bf-78fb-4260-865b-39307973cb77"
   },
   "outputs": [],
   "source": []
  },
  {
   "cell_type": "code",
   "execution_count": 136,
   "metadata": {
    "colab": {
     "base_uri": "https://localhost:8080/",
     "height": 402
    },
    "id": "9wbJmB71r0Qk",
    "outputId": "40c5a60b-99e5-461e-f1e2-e0cedd338bbd"
   },
   "outputs": [
    {
     "data": {
      "image/png": "[encoded data removed]",
      "text/plain": [
       "<Figure size 720x432 with 4 Axes>"
      ]
     },
     "metadata": {
      "needs_background": "light"
     },
     "output_type": "display_data"
    }
   ],
   "source": [
    "pd.plotting.scatter_matrix(data3,  \n",
    "                           alpha=0.2,  \n",
    "                           diagonal='hist',  \n",
    "                           hist_kwds={'bins': 35},  \n",
    "                           figsize=(10, 6));\n",
    "# plt.savefig('../../images/ch08/fts_11.png');"
   ]
  },
  {
   "cell_type": "code",
   "execution_count": 137,
   "metadata": {},
   "outputs": [],
   "source": [
    "data4 = data2[['exp', 'beta']].dropna()"
   ]
  },
  {
   "cell_type": "code",
   "execution_count": null,
   "metadata": {},
   "outputs": [],
   "source": []
  },
  {
   "cell_type": "code",
   "execution_count": 138,
   "metadata": {
    "colab": {
     "base_uri": "https://localhost:8080/",
     "height": 402
    },
    "id": "9wbJmB71r0Qk",
    "outputId": "40c5a60b-99e5-461e-f1e2-e0cedd338bbd"
   },
   "outputs": [
    {
     "data": {
      "image/png": "[encoded data removed]",
      "text/plain": [
       "<Figure size 720x432 with 4 Axes>"
      ]
     },
     "metadata": {
      "needs_background": "light"
     },
     "output_type": "display_data"
    }
   ],
   "source": [
    "pd.plotting.scatter_matrix(data4,  \n",
    "                           alpha=0.2,  \n",
    "                           diagonal='hist',  \n",
    "                           hist_kwds={'bins': 35},  \n",
    "                           figsize=(10, 6));\n",
    "# plt.savefig('../../images/ch08/fts_11.png');"
   ]
  },
  {
   "cell_type": "code",
   "execution_count": null,
   "metadata": {},
   "outputs": [],
   "source": []
  },
  {
   "cell_type": "markdown",
   "metadata": {
    "id": "979Bgqb3r0Ql"
   },
   "source": [
    "### OLS Regression"
   ]
  },
  {
   "cell_type": "code",
   "execution_count": 139,
   "metadata": {
    "id": "YTl2_rder0Ql"
   },
   "outputs": [],
   "source": [
    "reg = np.polyfit(data3['exp'], data3['scaled_aum'], deg=1)  "
   ]
  },
  {
   "cell_type": "code",
   "execution_count": 140,
   "metadata": {
    "colab": {
     "base_uri": "https://localhost:8080/",
     "height": 387
    },
    "id": "mG75szbyr0Ql",
    "outputId": "d2082ee2-cd96-4e37-d77d-4a2db5d9bfa8",
    "uuid": "24c708df-1e81-48c6-b1c2-890dd52e541f"
   },
   "outputs": [
    {
     "data": {
      "image/png": "[encoded data removed]",
      "text/plain": [
       "<Figure size 720x432 with 1 Axes>"
      ]
     },
     "metadata": {
      "needs_background": "light"
     },
     "output_type": "display_data"
    }
   ],
   "source": [
    "ax = data3.plot(kind='scatter', x='scaled_aum', y='exp', figsize=(10, 6))  \n",
    "ax.plot(data3['scaled_aum'], np.polyval(reg, data3['scaled_aum']), 'r', lw=2);  \n",
    "# plt.savefig('../../images/ch08/fts_12.png');"
   ]
  },
  {
   "cell_type": "code",
   "execution_count": 141,
   "metadata": {},
   "outputs": [
    {
     "name": "stdout",
     "output_type": "stream",
     "text": [
      "                            OLS Regression Results                            \n",
      "==============================================================================\n",
      "Dep. Variable:                    exp   R-squared:                       0.154\n",
      "Model:                            OLS   Adj. R-squared:                  0.153\n",
      "Method:                 Least Squares   F-statistic:                     169.3\n",
      "Date:                Sun, 08 May 2022   Prob (F-statistic):           2.86e-68\n",
      "Time:                        00:28:38   Log-Likelihood:                -1324.7\n",
      "No. Observations:                1866   AIC:                             2655.\n",
      "Df Residuals:                    1863   BIC:                             2672.\n",
      "Df Model:                           2                                         \n",
      "Covariance Type:            nonrobust                                         \n",
      "==============================================================================\n",
      "                 coef    std err          t      P>|t|      [0.025      0.975]\n",
      "------------------------------------------------------------------------------\n",
      "Intercept      0.7848      0.026     30.675      0.000       0.735       0.835\n",
      "scaled_aum    -0.0795      0.004    -17.783      0.000      -0.088      -0.071\n",
      "beta           0.0999      0.017      5.796      0.000       0.066       0.134\n",
      "==============================================================================\n",
      "Omnibus:                       90.319   Durbin-Watson:                   1.974\n",
      "Prob(Omnibus):                  0.000   Jarque-Bera (JB):               61.462\n",
      "Skew:                           0.330   Prob(JB):                     4.50e-14\n",
      "Kurtosis:                       2.404   Cond. No.                         12.8\n",
      "==============================================================================\n",
      "\n",
      "Notes:\n",
      "[1] Standard Errors assume that the covariance matrix of the errors is correctly specified.\n"
     ]
    }
   ],
   "source": [
    "formula = 'exp ~ scaled_aum + beta'\n",
    "results = smf.ols(formula, data2).fit()\n",
    "print(results.summary())\n"
   ]
  },
  {
   "cell_type": "code",
   "execution_count": null,
   "metadata": {},
   "outputs": [],
   "source": []
  },
  {
   "cell_type": "code",
   "execution_count": null,
   "metadata": {},
   "outputs": [],
   "source": []
  },
  {
   "cell_type": "markdown",
   "metadata": {
    "id": "jassm1tFr0Ql"
   },
   "source": [
    "### Correlation"
   ]
  },
  {
   "cell_type": "code",
   "execution_count": 142,
   "metadata": {
    "colab": {
     "base_uri": "https://localhost:8080/",
     "height": 111
    },
    "id": "KRjnhpywr0Qm",
    "outputId": "c82f1106-717b-483b-8c32-94c842c620f4",
    "uuid": "e1f9009e-5b73-4e04-9b10-deea36f4e508"
   },
   "outputs": [
    {
     "data": {
      "text/html": [
       "<div>\n",
       "<style scoped>\n",
       "    .dataframe tbody tr th:only-of-type {\n",
       "        vertical-align: middle;\n",
       "    }\n",
       "\n",
       "    .dataframe tbody tr th {\n",
       "        vertical-align: top;\n",
       "    }\n",
       "\n",
       "    .dataframe thead th {\n",
       "        text-align: right;\n",
       "    }\n",
       "</style>\n",
       "<table border=\"1\" class=\"dataframe\">\n",
       "  <thead>\n",
       "    <tr style=\"text-align: right;\">\n",
       "      <th></th>\n",
       "      <th>exp</th>\n",
       "      <th>scaled_aum</th>\n",
       "      <th>beta</th>\n",
       "    </tr>\n",
       "  </thead>\n",
       "  <tbody>\n",
       "    <tr>\n",
       "      <th>exp</th>\n",
       "      <td>1.000000</td>\n",
       "      <td>-0.372167</td>\n",
       "      <td>0.100641</td>\n",
       "    </tr>\n",
       "    <tr>\n",
       "      <th>scaled_aum</th>\n",
       "      <td>-0.372167</td>\n",
       "      <td>1.000000</td>\n",
       "      <td>0.060902</td>\n",
       "    </tr>\n",
       "    <tr>\n",
       "      <th>beta</th>\n",
       "      <td>0.100641</td>\n",
       "      <td>0.060902</td>\n",
       "      <td>1.000000</td>\n",
       "    </tr>\n",
       "  </tbody>\n",
       "</table>\n",
       "</div>"
      ],
      "text/plain": [
       "                 exp  scaled_aum      beta\n",
       "exp         1.000000   -0.372167  0.100641\n",
       "scaled_aum -0.372167    1.000000  0.060902\n",
       "beta        0.100641    0.060902  1.000000"
      ]
     },
     "execution_count": 142,
     "metadata": {},
     "output_type": "execute_result"
    }
   ],
   "source": [
    "data2.corr()  "
   ]
  },
  {
   "cell_type": "code",
   "execution_count": 145,
   "metadata": {},
   "outputs": [
    {
     "ename": "ModuleNotFoundError",
     "evalue": "No module named 'watermark'",
     "output_type": "error",
     "traceback": [
      "\u001b[1;31m---------------------------------------------------------------------------\u001b[0m",
      "\u001b[1;31mModuleNotFoundError\u001b[0m                       Traceback (most recent call last)",
      "Input \u001b[1;32mIn [145]\u001b[0m, in \u001b[0;36m<cell line: 1>\u001b[1;34m()\u001b[0m\n\u001b[1;32m----> 1\u001b[0m \u001b[43mget_ipython\u001b[49m\u001b[43m(\u001b[49m\u001b[43m)\u001b[49m\u001b[38;5;241;43m.\u001b[39;49m\u001b[43mrun_line_magic\u001b[49m\u001b[43m(\u001b[49m\u001b[38;5;124;43m'\u001b[39;49m\u001b[38;5;124;43mload_ext\u001b[39;49m\u001b[38;5;124;43m'\u001b[39;49m\u001b[43m,\u001b[49m\u001b[43m \u001b[49m\u001b[38;5;124;43m'\u001b[39;49m\u001b[38;5;124;43mwatermark\u001b[39;49m\u001b[38;5;124;43m'\u001b[39;49m\u001b[43m)\u001b[49m\n\u001b[0;32m      2\u001b[0m get_ipython()\u001b[38;5;241m.\u001b[39mrun_line_magic(\u001b[38;5;124m'\u001b[39m\u001b[38;5;124mwatermark\u001b[39m\u001b[38;5;124m'\u001b[39m, \u001b[38;5;124m'\u001b[39m\u001b[38;5;124m-v -m -p pandas\u001b[39m\u001b[38;5;124m'\u001b[39m)\n",
      "File \u001b[1;32m~\\Anaconda3\\lib\\site-packages\\IPython\\core\\interactiveshell.py:2294\u001b[0m, in \u001b[0;36mInteractiveShell.run_line_magic\u001b[1;34m(self, magic_name, line, _stack_depth)\u001b[0m\n\u001b[0;32m   2292\u001b[0m     kwargs[\u001b[38;5;124m'\u001b[39m\u001b[38;5;124mlocal_ns\u001b[39m\u001b[38;5;124m'\u001b[39m] \u001b[38;5;241m=\u001b[39m \u001b[38;5;28mself\u001b[39m\u001b[38;5;241m.\u001b[39mget_local_scope(stack_depth)\n\u001b[0;32m   2293\u001b[0m \u001b[38;5;28;01mwith\u001b[39;00m \u001b[38;5;28mself\u001b[39m\u001b[38;5;241m.\u001b[39mbuiltin_trap:\n\u001b[1;32m-> 2294\u001b[0m     result \u001b[38;5;241m=\u001b[39m fn(\u001b[38;5;241m*\u001b[39margs, \u001b[38;5;241m*\u001b[39m\u001b[38;5;241m*\u001b[39mkwargs)\n\u001b[0;32m   2295\u001b[0m \u001b[38;5;28;01mreturn\u001b[39;00m result\n",
      "File \u001b[1;32m~\\Anaconda3\\lib\\site-packages\\IPython\\core\\magics\\extension.py:33\u001b[0m, in \u001b[0;36mExtensionMagics.load_ext\u001b[1;34m(self, module_str)\u001b[0m\n\u001b[0;32m     31\u001b[0m \u001b[38;5;28;01mif\u001b[39;00m \u001b[38;5;129;01mnot\u001b[39;00m module_str:\n\u001b[0;32m     32\u001b[0m     \u001b[38;5;28;01mraise\u001b[39;00m UsageError(\u001b[38;5;124m'\u001b[39m\u001b[38;5;124mMissing module name.\u001b[39m\u001b[38;5;124m'\u001b[39m)\n\u001b[1;32m---> 33\u001b[0m res \u001b[38;5;241m=\u001b[39m \u001b[38;5;28;43mself\u001b[39;49m\u001b[38;5;241;43m.\u001b[39;49m\u001b[43mshell\u001b[49m\u001b[38;5;241;43m.\u001b[39;49m\u001b[43mextension_manager\u001b[49m\u001b[38;5;241;43m.\u001b[39;49m\u001b[43mload_extension\u001b[49m\u001b[43m(\u001b[49m\u001b[43mmodule_str\u001b[49m\u001b[43m)\u001b[49m\n\u001b[0;32m     35\u001b[0m \u001b[38;5;28;01mif\u001b[39;00m res \u001b[38;5;241m==\u001b[39m \u001b[38;5;124m'\u001b[39m\u001b[38;5;124malready loaded\u001b[39m\u001b[38;5;124m'\u001b[39m:\n\u001b[0;32m     36\u001b[0m     \u001b[38;5;28mprint\u001b[39m(\u001b[38;5;124m\"\u001b[39m\u001b[38;5;124mThe \u001b[39m\u001b[38;5;132;01m%s\u001b[39;00m\u001b[38;5;124m extension is already loaded. To reload it, use:\u001b[39m\u001b[38;5;124m\"\u001b[39m \u001b[38;5;241m%\u001b[39m module_str)\n",
      "File \u001b[1;32m~\\Anaconda3\\lib\\site-packages\\IPython\\core\\extensions.py:76\u001b[0m, in \u001b[0;36mExtensionManager.load_extension\u001b[1;34m(self, module_str)\u001b[0m\n\u001b[0;32m     69\u001b[0m \u001b[38;5;124;03m\"\"\"Load an IPython extension by its module name.\u001b[39;00m\n\u001b[0;32m     70\u001b[0m \n\u001b[0;32m     71\u001b[0m \u001b[38;5;124;03mReturns the string \"already loaded\" if the extension is already loaded,\u001b[39;00m\n\u001b[0;32m     72\u001b[0m \u001b[38;5;124;03m\"no load function\" if the module doesn't have a load_ipython_extension\u001b[39;00m\n\u001b[0;32m     73\u001b[0m \u001b[38;5;124;03mfunction, or None if it succeeded.\u001b[39;00m\n\u001b[0;32m     74\u001b[0m \u001b[38;5;124;03m\"\"\"\u001b[39;00m\n\u001b[0;32m     75\u001b[0m \u001b[38;5;28;01mtry\u001b[39;00m:\n\u001b[1;32m---> 76\u001b[0m     \u001b[38;5;28;01mreturn\u001b[39;00m \u001b[38;5;28;43mself\u001b[39;49m\u001b[38;5;241;43m.\u001b[39;49m\u001b[43m_load_extension\u001b[49m\u001b[43m(\u001b[49m\u001b[43mmodule_str\u001b[49m\u001b[43m)\u001b[49m\n\u001b[0;32m     77\u001b[0m \u001b[38;5;28;01mexcept\u001b[39;00m \u001b[38;5;167;01mModuleNotFoundError\u001b[39;00m:\n\u001b[0;32m     78\u001b[0m     \u001b[38;5;28;01mif\u001b[39;00m module_str \u001b[38;5;129;01min\u001b[39;00m BUILTINS_EXTS:\n",
      "File \u001b[1;32m~\\Anaconda3\\lib\\site-packages\\IPython\\core\\extensions.py:92\u001b[0m, in \u001b[0;36mExtensionManager._load_extension\u001b[1;34m(self, module_str)\u001b[0m\n\u001b[0;32m     90\u001b[0m \u001b[38;5;28;01mif\u001b[39;00m module_str \u001b[38;5;129;01mnot\u001b[39;00m \u001b[38;5;129;01min\u001b[39;00m sys\u001b[38;5;241m.\u001b[39mmodules:\n\u001b[0;32m     91\u001b[0m     \u001b[38;5;28;01mwith\u001b[39;00m prepended_to_syspath(\u001b[38;5;28mself\u001b[39m\u001b[38;5;241m.\u001b[39mipython_extension_dir):\n\u001b[1;32m---> 92\u001b[0m         mod \u001b[38;5;241m=\u001b[39m \u001b[43mimport_module\u001b[49m\u001b[43m(\u001b[49m\u001b[43mmodule_str\u001b[49m\u001b[43m)\u001b[49m\n\u001b[0;32m     93\u001b[0m         \u001b[38;5;28;01mif\u001b[39;00m mod\u001b[38;5;241m.\u001b[39m\u001b[38;5;18m__file__\u001b[39m\u001b[38;5;241m.\u001b[39mstartswith(\u001b[38;5;28mself\u001b[39m\u001b[38;5;241m.\u001b[39mipython_extension_dir):\n\u001b[0;32m     94\u001b[0m             \u001b[38;5;28mprint\u001b[39m((\u001b[38;5;124m\"\u001b[39m\u001b[38;5;124mLoading extensions from \u001b[39m\u001b[38;5;132;01m{dir}\u001b[39;00m\u001b[38;5;124m is deprecated. \u001b[39m\u001b[38;5;124m\"\u001b[39m\n\u001b[0;32m     95\u001b[0m                    \u001b[38;5;124m\"\u001b[39m\u001b[38;5;124mWe recommend managing extensions like any \u001b[39m\u001b[38;5;124m\"\u001b[39m\n\u001b[0;32m     96\u001b[0m                    \u001b[38;5;124m\"\u001b[39m\u001b[38;5;124mother Python packages, in site-packages.\u001b[39m\u001b[38;5;124m\"\u001b[39m)\u001b[38;5;241m.\u001b[39mformat(\n\u001b[0;32m     97\u001b[0m                   \u001b[38;5;28mdir\u001b[39m\u001b[38;5;241m=\u001b[39mcompress_user(\u001b[38;5;28mself\u001b[39m\u001b[38;5;241m.\u001b[39mipython_extension_dir)))\n",
      "File \u001b[1;32m~\\Anaconda3\\lib\\importlib\\__init__.py:127\u001b[0m, in \u001b[0;36mimport_module\u001b[1;34m(name, package)\u001b[0m\n\u001b[0;32m    125\u001b[0m             \u001b[38;5;28;01mbreak\u001b[39;00m\n\u001b[0;32m    126\u001b[0m         level \u001b[38;5;241m+\u001b[39m\u001b[38;5;241m=\u001b[39m \u001b[38;5;241m1\u001b[39m\n\u001b[1;32m--> 127\u001b[0m \u001b[38;5;28;01mreturn\u001b[39;00m \u001b[43m_bootstrap\u001b[49m\u001b[38;5;241;43m.\u001b[39;49m\u001b[43m_gcd_import\u001b[49m\u001b[43m(\u001b[49m\u001b[43mname\u001b[49m\u001b[43m[\u001b[49m\u001b[43mlevel\u001b[49m\u001b[43m:\u001b[49m\u001b[43m]\u001b[49m\u001b[43m,\u001b[49m\u001b[43m \u001b[49m\u001b[43mpackage\u001b[49m\u001b[43m,\u001b[49m\u001b[43m \u001b[49m\u001b[43mlevel\u001b[49m\u001b[43m)\u001b[49m\n",
      "File \u001b[1;32m<frozen importlib._bootstrap>:1030\u001b[0m, in \u001b[0;36m_gcd_import\u001b[1;34m(name, package, level)\u001b[0m\n",
      "File \u001b[1;32m<frozen importlib._bootstrap>:1007\u001b[0m, in \u001b[0;36m_find_and_load\u001b[1;34m(name, import_)\u001b[0m\n",
      "File \u001b[1;32m<frozen importlib._bootstrap>:984\u001b[0m, in \u001b[0;36m_find_and_load_unlocked\u001b[1;34m(name, import_)\u001b[0m\n",
      "\u001b[1;31mModuleNotFoundError\u001b[0m: No module named 'watermark'"
     ]
    }
   ],
   "source": [
    "%load_ext watermark\n",
    "%watermark -v -m -p pandas"
   ]
  },
  {
   "cell_type": "code",
   "execution_count": null,
   "metadata": {},
   "outputs": [],
   "source": []
  }
 ],
 "metadata": {
  "anaconda-cloud": {},
  "colab": {
   "collapsed_sections": [],
   "name": "08_financial_time_series_Hilpisch.ipynb",
   "provenance": []
  },
  "kernelspec": {
   "display_name": "Python 3 (ipykernel)",
   "language": "python",
   "name": "python3"
  },
  "language_info": {
   "codemirror_mode": {
    "name": "ipython",
    "version": 3
   },
   "file_extension": ".py",
   "mimetype": "text/x-python",
   "name": "python",
   "nbconvert_exporter": "python",
   "pygments_lexer": "ipython3",
   "version": "3.9.7"
  }
 },
 "nbformat": 4,
 "nbformat_minor": 4
}
