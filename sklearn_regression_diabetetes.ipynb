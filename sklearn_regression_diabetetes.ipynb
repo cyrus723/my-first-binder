{
  "nbformat": 4,
  "nbformat_minor": 0,
  "metadata": {
    "colab": {
      "name": "sklearn_regression_diabetetes.ipynb",
      "provenance": [],
      "collapsed_sections": [],
      "authorship_tag": "ABX9TyP+fDr6HFsgo2ApOuOYo6B1",
      "include_colab_link": true
    },
    "kernelspec": {
      "name": "python3",
      "display_name": "Python 3"
    },
    "language_info": {
      "name": "python"
    }
  },
  "cells": [
    {
      "cell_type": "markdown",
      "metadata": {
        "id": "view-in-github",
        "colab_type": "text"
      },
      "source": [
        "<a href=\"https://colab.research.google.com/github/cyrus723/my-first-binder/blob/main/sklearn_regression_diabetetes.ipynb\" target=\"_parent\"><img src=\"https://colab.research.google.com/assets/colab-badge.svg\" alt=\"Open In Colab\"/></a>"
      ]
    },
    {
      "cell_type": "markdown",
      "source": [
        "# https://scikit-learn.org/stable/modules/generated/sklearn.datasets.load_diabetes.html"
      ],
      "metadata": {
        "id": "2t4gcEqWUowK"
      }
    },
    {
      "cell_type": "markdown",
      "source": [
        "### https://scikit-learn.org/stable/auto_examples/linear_model/plot_ols.html#sphx-glr-auto-examples-linear-model-plot-ols-py"
      ],
      "metadata": {
        "id": "VAYkP7QhU73k"
      }
    },
    {
      "cell_type": "code",
      "source": [
        "import matplotlib.pyplot as plt\n",
        "from pylab import mpl, plt\n",
        "import numpy as np\n",
        "from sklearn import datasets\n",
        "from sklearn.metrics import mean_squared_error, r2_score\n",
        "from sklearn.model_selection import train_test_split\n",
        "from sklearn.linear_model import LinearRegression\n",
        "import datetime as dt\n",
        "\n",
        "import statsmodels.formula.api as smf\n",
        "import statsmodels.api as sm\n",
        "from scipy import stats\n",
        "\n",
        "plt.style.use('seaborn')\n",
        "mpl.rcParams['font.family'] = 'DejaVu Sans'\n",
        "mpl.rcParams[\"savefig.dpi\"] = 500\n",
        "np.set_printoptions(precision=5, suppress=True, formatter={\"float\": lambda x: f\"{x:6.3f}\"})\n",
        "\n",
        "%matplotlib inline"
      ],
      "metadata": {
        "id": "UIgP7erHK9Jf"
      },
      "execution_count": 24,
      "outputs": []
    },
    {
      "cell_type": "code",
      "source": [
        ""
      ],
      "metadata": {
        "id": "X8PWUgCKVLE_"
      },
      "execution_count": null,
      "outputs": []
    },
    {
      "cell_type": "code",
      "source": [
        "# Load the diabetes dataset\n",
        "diabetes_X, diabetes_y = datasets.load_diabetes(return_X_y=True)\n",
        "diabetes_X"
      ],
      "metadata": {
        "colab": {
          "base_uri": "https://localhost:8080/"
        },
        "id": "sJ4cSg8aT6zN",
        "outputId": "0c68d128-a464-47f2-c661-6a1c82279fb2"
      },
      "execution_count": 6,
      "outputs": [
        {
          "output_type": "execute_result",
          "data": {
            "text/plain": [
              "array([[ 0.03807591,  0.05068012,  0.06169621, ..., -0.00259226,\n",
              "         0.01990842, -0.01764613],\n",
              "       [-0.00188202, -0.04464164, -0.05147406, ..., -0.03949338,\n",
              "        -0.06832974, -0.09220405],\n",
              "       [ 0.08529891,  0.05068012,  0.04445121, ..., -0.00259226,\n",
              "         0.00286377, -0.02593034],\n",
              "       ...,\n",
              "       [ 0.04170844,  0.05068012, -0.01590626, ..., -0.01107952,\n",
              "        -0.04687948,  0.01549073],\n",
              "       [-0.04547248, -0.04464164,  0.03906215, ...,  0.02655962,\n",
              "         0.04452837, -0.02593034],\n",
              "       [-0.04547248, -0.04464164, -0.0730303 , ..., -0.03949338,\n",
              "        -0.00421986,  0.00306441]])"
            ]
          },
          "metadata": {},
          "execution_count": 6
        }
      ]
    },
    {
      "cell_type": "code",
      "source": [
        "# Use only one feature\n",
        "diabetes_X = diabetes_X[:, np.newaxis, 2]\n",
        "\n",
        "# Split the data into training/testing sets\n",
        "diabetes_X_train = diabetes_X[:-20]\n",
        "diabetes_X_test = diabetes_X[-20:]\n",
        "\n",
        "# Split the targets into training/testing sets\n",
        "diabetes_y_train = diabetes_y[:-20]\n",
        "diabetes_y_test = diabetes_y[-20:]\n"
      ],
      "metadata": {
        "id": "n8kFIZ0FULGo"
      },
      "execution_count": 7,
      "outputs": []
    },
    {
      "cell_type": "code",
      "source": [
        "# Create linear regression object\n",
        "regr = LinearRegression()\n",
        "\n",
        "# Train the model using the training sets\n",
        "regr.fit(diabetes_X_train, diabetes_y_train)\n",
        "\n",
        "# Make predictions using the testing set\n",
        "diabetes_y_pred = regr.predict(diabetes_X_test)"
      ],
      "metadata": {
        "id": "8CHNy0REVqML"
      },
      "execution_count": 25,
      "outputs": []
    },
    {
      "cell_type": "code",
      "source": [
        "type(regr.coef_)"
      ],
      "metadata": {
        "colab": {
          "base_uri": "https://localhost:8080/"
        },
        "id": "RedHiJErWMZU",
        "outputId": "813e8aa6-de2c-4afd-8f74-5a2b517e8b99"
      },
      "execution_count": 14,
      "outputs": [
        {
          "output_type": "execute_result",
          "data": {
            "text/plain": [
              "numpy.ndarray"
            ]
          },
          "metadata": {},
          "execution_count": 14
        }
      ]
    },
    {
      "cell_type": "code",
      "source": [
        "np.ndarray.round(regr.coef_,4)"
      ],
      "metadata": {
        "colab": {
          "base_uri": "https://localhost:8080/"
        },
        "id": "tc2oHOojV-cd",
        "outputId": "3a46867b-b590-4396-9f5a-6624ac8ab452"
      },
      "execution_count": 19,
      "outputs": [
        {
          "output_type": "execute_result",
          "data": {
            "text/plain": [
              "array([938.2379])"
            ]
          },
          "metadata": {},
          "execution_count": 19
        }
      ]
    },
    {
      "cell_type": "code",
      "source": [
        "# The coefficients\n",
        "print(\"Coefficients: \\n\", np.ndarray.round(regr.coef_,4))\n",
        "# The mean squared error\n",
        "print(\"Mean squared error: %.2f\" % mean_squared_error(diabetes_y_test, diabetes_y_pred))\n",
        "# The coefficient of determination: 1 is perfect prediction\n",
        "print(\"Coefficient of determination: %.2f\" % r2_score(diabetes_y_test, diabetes_y_pred))\n"
      ],
      "metadata": {
        "colab": {
          "base_uri": "https://localhost:8080/"
        },
        "id": "AEkVUO9IT--c",
        "outputId": "4c93470d-1f98-418b-fbb4-05bcc80f1b4c"
      },
      "execution_count": 21,
      "outputs": [
        {
          "output_type": "stream",
          "name": "stdout",
          "text": [
            "Coefficients: \n",
            " [938.2379]\n",
            "Mean squared error: 2548.07\n",
            "Coefficient of determination: 0.47\n"
          ]
        }
      ]
    },
    {
      "cell_type": "code",
      "source": [
        "# Plot outputs\n",
        "plt.scatter(diabetes_X_test, diabetes_y_test, color=\"black\")\n",
        "plt.plot(diabetes_X_test, diabetes_y_pred, color=\"blue\", linewidth=3)\n",
        "\n",
        "plt.xticks(())\n",
        "plt.yticks(())\n",
        "\n",
        "plt.show()"
      ],
      "metadata": {
        "colab": {
          "base_uri": "https://localhost:8080/",
          "height": 252
        },
        "id": "nRRBgiI7UATN",
        "outputId": "32877e33-da17-4ca6-f912-70a6aa5851e8"
      },
      "execution_count": 4,
      "outputs": [
        {
          "output_type": "display_data",
          "data": {
            "text/plain": [
              "<Figure size 432x288 with 1 Axes>"
            ],
            "image/png": "[encoded data removed]"
          },
          "metadata": {}
        }
      ]
    },
    {
      "cell_type": "code",
      "source": [
        "import statsmodels.api as sm\n",
        "\n",
        "X_ols = sm.add_constant(diabetes_X_train)\n",
        "model = sm.OLS(diabetes_y_train, X_ols).fit()\n",
        "print(model.summary())"
      ],
      "metadata": {
        "colab": {
          "base_uri": "https://localhost:8080/"
        },
        "outputId": "ba00f911-6165-4e2a-c4c1-a2cac8d044e4",
        "id": "oRIaznjCiM-a"
      },
      "execution_count": 36,
      "outputs": [
        {
          "output_type": "stream",
          "name": "stdout",
          "text": [
            "                            OLS Regression Results                            \n",
            "==============================================================================\n",
            "Dep. Variable:                      y   R-squared:                       0.335\n",
            "Model:                            OLS   Adj. R-squared:                  0.334\n",
            "Method:                 Least Squares   F-statistic:                     211.7\n",
            "Date:                Sun, 29 May 2022   Prob (F-statistic):           3.98e-39\n",
            "Time:                        01:49:43   Log-Likelihood:                -2346.5\n",
            "No. Observations:                 422   AIC:                             4697.\n",
            "Df Residuals:                     420   BIC:                             4705.\n",
            "Df Model:                           1                                         \n",
            "Covariance Type:            nonrobust                                         \n",
            "==============================================================================\n",
            "                 coef    std err          t      P>|t|      [0.025      0.975]\n",
            "------------------------------------------------------------------------------\n",
            "const        152.9189      3.069     49.830      0.000     146.887     158.951\n",
            "x1           938.2379     64.484     14.550      0.000     811.487    1064.989\n",
            "==============================================================================\n",
            "Omnibus:                       12.587   Durbin-Watson:                   1.839\n",
            "Prob(Omnibus):                  0.002   Jarque-Bera (JB):                7.334\n",
            "Skew:                           0.142   Prob(JB):                       0.0255\n",
            "Kurtosis:                       2.420   Cond. No.                         21.0\n",
            "==============================================================================\n",
            "\n",
            "Warnings:\n",
            "[1] Standard Errors assume that the covariance matrix of the errors is correctly specified.\n"
          ]
        }
      ]
    },
    {
      "cell_type": "code",
      "source": [
        "X_ols"
      ],
      "metadata": {
        "colab": {
          "base_uri": "https://localhost:8080/"
        },
        "id": "eZ3PXJwugtVm",
        "outputId": "15a9c6d8-65de-46c0-bb33-8c8317514a65"
      },
      "execution_count": 38,
      "outputs": [
        {
          "output_type": "execute_result",
          "data": {
            "text/plain": [
              "array([[ 1.000,  0.062],\n",
              "       [ 1.000, -0.051],\n",
              "       [ 1.000,  0.044],\n",
              "       [ 1.000, -0.012],\n",
              "       [ 1.000, -0.036],\n",
              "       [ 1.000, -0.041],\n",
              "       [ 1.000, -0.047],\n",
              "       [ 1.000, -0.002],\n",
              "       [ 1.000,  0.062],\n",
              "       [ 1.000,  0.039],\n",
              "       [ 1.000, -0.084],\n",
              "       [ 1.000,  0.018],\n",
              "       [ 1.000, -0.029],\n",
              "       [ 1.000, -0.002],\n",
              "       [ 1.000, -0.026],\n",
              "       [ 1.000, -0.018],\n",
              "       [ 1.000,  0.042],\n",
              "       [ 1.000,  0.012],\n",
              "       [ 1.000, -0.011],\n",
              "       [ 1.000, -0.018],\n",
              "       [ 1.000, -0.057],\n",
              "       [ 1.000, -0.022],\n",
              "       [ 1.000, -0.004],\n",
              "       [ 1.000,  0.061],\n",
              "       [ 1.000,  0.036],\n",
              "       [ 1.000, -0.013],\n",
              "       [ 1.000, -0.077],\n",
              "       [ 1.000,  0.060],\n",
              "       [ 1.000, -0.021],\n",
              "       [ 1.000, -0.006],\n",
              "       [ 1.000,  0.044],\n",
              "       [ 1.000, -0.065],\n",
              "       [ 1.000,  0.125],\n",
              "       [ 1.000, -0.050],\n",
              "       [ 1.000, -0.063],\n",
              "       [ 1.000, -0.031],\n",
              "       [ 1.000,  0.023],\n",
              "       [ 1.000,  0.011],\n",
              "       [ 1.000,  0.071],\n",
              "       [ 1.000,  0.014],\n",
              "       [ 1.000, -0.008],\n",
              "       [ 1.000, -0.068],\n",
              "       [ 1.000, -0.011],\n",
              "       [ 1.000, -0.023],\n",
              "       [ 1.000,  0.068],\n",
              "       [ 1.000, -0.035],\n",
              "       [ 1.000, -0.012],\n",
              "       [ 1.000, -0.073],\n",
              "       [ 1.000, -0.042],\n",
              "       [ 1.000,  0.014],\n",
              "       [ 1.000, -0.007],\n",
              "       [ 1.000,  0.016],\n",
              "       [ 1.000, -0.009],\n",
              "       [ 1.000, -0.016],\n",
              "       [ 1.000,  0.025],\n",
              "       [ 1.000, -0.049],\n",
              "       [ 1.000,  0.041],\n",
              "       [ 1.000, -0.063],\n",
              "       [ 1.000, -0.064],\n",
              "       [ 1.000, -0.026],\n",
              "       [ 1.000, -0.004],\n",
              "       [ 1.000,  0.005],\n",
              "       [ 1.000, -0.007],\n",
              "       [ 1.000, -0.037],\n",
              "       [ 1.000, -0.026],\n",
              "       [ 1.000, -0.025],\n",
              "       [ 1.000, -0.018],\n",
              "       [ 1.000, -0.015],\n",
              "       [ 1.000, -0.030],\n",
              "       [ 1.000, -0.046],\n",
              "       [ 1.000, -0.070],\n",
              "       [ 1.000,  0.034],\n",
              "       [ 1.000, -0.004],\n",
              "       [ 1.000, -0.020],\n",
              "       [ 1.000,  0.002],\n",
              "       [ 1.000, -0.031],\n",
              "       [ 1.000,  0.028],\n",
              "       [ 1.000, -0.036],\n",
              "       [ 1.000, -0.058],\n",
              "       [ 1.000, -0.037],\n",
              "       [ 1.000,  0.012],\n",
              "       [ 1.000, -0.022],\n",
              "       [ 1.000, -0.035],\n",
              "       [ 1.000,  0.010],\n",
              "       [ 1.000, -0.040],\n",
              "       [ 1.000,  0.071],\n",
              "       [ 1.000, -0.075],\n",
              "       [ 1.000, -0.006],\n",
              "       [ 1.000, -0.041],\n",
              "       [ 1.000, -0.048],\n",
              "       [ 1.000, -0.026],\n",
              "       [ 1.000,  0.052],\n",
              "       [ 1.000,  0.005],\n",
              "       [ 1.000, -0.064],\n",
              "       [ 1.000, -0.017],\n",
              "       [ 1.000, -0.058],\n",
              "       [ 1.000,  0.010],\n",
              "       [ 1.000,  0.089],\n",
              "       [ 1.000, -0.005],\n",
              "       [ 1.000, -0.064],\n",
              "       [ 1.000,  0.018],\n",
              "       [ 1.000, -0.045],\n",
              "       [ 1.000,  0.028],\n",
              "       [ 1.000,  0.041],\n",
              "       [ 1.000,  0.065],\n",
              "       [ 1.000, -0.032],\n",
              "       [ 1.000, -0.076],\n",
              "       [ 1.000,  0.050],\n",
              "       [ 1.000,  0.046],\n",
              "       [ 1.000, -0.009],\n",
              "       [ 1.000, -0.032],\n",
              "       [ 1.000,  0.005],\n",
              "       [ 1.000,  0.021],\n",
              "       [ 1.000,  0.014],\n",
              "       [ 1.000,  0.110],\n",
              "       [ 1.000,  0.001],\n",
              "       [ 1.000,  0.058],\n",
              "       [ 1.000, -0.021],\n",
              "       [ 1.000, -0.011],\n",
              "       [ 1.000, -0.047],\n",
              "       [ 1.000,  0.005],\n",
              "       [ 1.000,  0.018],\n",
              "       [ 1.000,  0.081],\n",
              "       [ 1.000,  0.035],\n",
              "       [ 1.000,  0.024],\n",
              "       [ 1.000, -0.008],\n",
              "       [ 1.000, -0.061],\n",
              "       [ 1.000, -0.002],\n",
              "       [ 1.000, -0.062],\n",
              "       [ 1.000,  0.016],\n",
              "       [ 1.000,  0.096],\n",
              "       [ 1.000, -0.070],\n",
              "       [ 1.000, -0.021],\n",
              "       [ 1.000, -0.054],\n",
              "       [ 1.000,  0.043],\n",
              "       [ 1.000,  0.056],\n",
              "       [ 1.000, -0.082],\n",
              "       [ 1.000,  0.050],\n",
              "       [ 1.000,  0.111],\n",
              "       [ 1.000,  0.062],\n",
              "       [ 1.000,  0.014],\n",
              "       [ 1.000,  0.048],\n",
              "       [ 1.000,  0.012],\n",
              "       [ 1.000,  0.006],\n",
              "       [ 1.000,  0.047],\n",
              "       [ 1.000,  0.129],\n",
              "       [ 1.000,  0.060],\n",
              "       [ 1.000,  0.093],\n",
              "       [ 1.000,  0.015],\n",
              "       [ 1.000, -0.005],\n",
              "       [ 1.000,  0.070],\n",
              "       [ 1.000, -0.004],\n",
              "       [ 1.000, -0.001],\n",
              "       [ 1.000, -0.044],\n",
              "       [ 1.000,  0.021],\n",
              "       [ 1.000,  0.061],\n",
              "       [ 1.000, -0.011],\n",
              "       [ 1.000, -0.033],\n",
              "       [ 1.000, -0.065],\n",
              "       [ 1.000,  0.043],\n",
              "       [ 1.000, -0.062],\n",
              "       [ 1.000,  0.064],\n",
              "       [ 1.000,  0.030],\n",
              "       [ 1.000,  0.072],\n",
              "       [ 1.000, -0.019],\n",
              "       [ 1.000, -0.067],\n",
              "       [ 1.000, -0.060],\n",
              "       [ 1.000,  0.069],\n",
              "       [ 1.000,  0.060],\n",
              "       [ 1.000, -0.027],\n",
              "       [ 1.000, -0.020],\n",
              "       [ 1.000, -0.046],\n",
              "       [ 1.000,  0.071],\n",
              "       [ 1.000, -0.079],\n",
              "       [ 1.000,  0.010],\n",
              "       [ 1.000, -0.039],\n",
              "       [ 1.000,  0.020],\n",
              "       [ 1.000,  0.027],\n",
              "       [ 1.000, -0.008],\n",
              "       [ 1.000, -0.016],\n",
              "       [ 1.000,  0.005],\n",
              "       [ 1.000, -0.043],\n",
              "       [ 1.000,  0.006],\n",
              "       [ 1.000, -0.035],\n",
              "       [ 1.000,  0.024],\n",
              "       [ 1.000, -0.018],\n",
              "       [ 1.000,  0.042],\n",
              "       [ 1.000, -0.055],\n",
              "       [ 1.000, -0.003],\n",
              "       [ 1.000, -0.067],\n",
              "       [ 1.000, -0.013],\n",
              "       [ 1.000, -0.042],\n",
              "       [ 1.000, -0.031],\n",
              "       [ 1.000, -0.005],\n",
              "       [ 1.000, -0.059],\n",
              "       [ 1.000,  0.025],\n",
              "       [ 1.000, -0.046],\n",
              "       [ 1.000,  0.003],\n",
              "       [ 1.000,  0.054],\n",
              "       [ 1.000, -0.045],\n",
              "       [ 1.000, -0.058],\n",
              "       [ 1.000, -0.056],\n",
              "       [ 1.000,  0.001],\n",
              "       [ 1.000,  0.030],\n",
              "       [ 1.000,  0.007],\n",
              "       [ 1.000,  0.047],\n",
              "       [ 1.000,  0.026],\n",
              "       [ 1.000,  0.046],\n",
              "       [ 1.000,  0.040],\n",
              "       [ 1.000, -0.018],\n",
              "       [ 1.000,  0.014],\n",
              "       [ 1.000,  0.037],\n",
              "       [ 1.000,  0.003],\n",
              "       [ 1.000, -0.071],\n",
              "       [ 1.000, -0.033],\n",
              "       [ 1.000,  0.094],\n",
              "       [ 1.000,  0.036],\n",
              "       [ 1.000,  0.032],\n",
              "       [ 1.000, -0.065],\n",
              "       [ 1.000, -0.042],\n",
              "       [ 1.000, -0.040],\n",
              "       [ 1.000, -0.039],\n",
              "       [ 1.000, -0.026],\n",
              "       [ 1.000, -0.023],\n",
              "       [ 1.000, -0.067],\n",
              "       [ 1.000,  0.033],\n",
              "       [ 1.000, -0.046],\n",
              "       [ 1.000, -0.030],\n",
              "       [ 1.000, -0.013],\n",
              "       [ 1.000, -0.016],\n",
              "       [ 1.000,  0.071],\n",
              "       [ 1.000, -0.031],\n",
              "       [ 1.000,  0.000],\n",
              "       [ 1.000,  0.037],\n",
              "       [ 1.000,  0.039],\n",
              "       [ 1.000, -0.015],\n",
              "       [ 1.000,  0.007],\n",
              "       [ 1.000, -0.069],\n",
              "       [ 1.000, -0.009],\n",
              "       [ 1.000,  0.020],\n",
              "       [ 1.000,  0.075],\n",
              "       [ 1.000, -0.008],\n",
              "       [ 1.000, -0.023],\n",
              "       [ 1.000, -0.046],\n",
              "       [ 1.000,  0.054],\n",
              "       [ 1.000, -0.035],\n",
              "       [ 1.000, -0.032],\n",
              "       [ 1.000, -0.082],\n",
              "       [ 1.000,  0.048],\n",
              "       [ 1.000,  0.061],\n",
              "       [ 1.000,  0.056],\n",
              "       [ 1.000,  0.098],\n",
              "       [ 1.000,  0.060],\n",
              "       [ 1.000,  0.034],\n",
              "       [ 1.000,  0.056],\n",
              "       [ 1.000, -0.065],\n",
              "       [ 1.000,  0.161],\n",
              "       [ 1.000, -0.056],\n",
              "       [ 1.000, -0.025],\n",
              "       [ 1.000, -0.036],\n",
              "       [ 1.000, -0.008],\n",
              "       [ 1.000, -0.042],\n",
              "       [ 1.000,  0.127],\n",
              "       [ 1.000, -0.077],\n",
              "       [ 1.000,  0.028],\n",
              "       [ 1.000, -0.026],\n",
              "       [ 1.000, -0.062],\n",
              "       [ 1.000, -0.001],\n",
              "       [ 1.000,  0.089],\n",
              "       [ 1.000, -0.032],\n",
              "       [ 1.000,  0.030],\n",
              "       [ 1.000,  0.009],\n",
              "       [ 1.000,  0.007],\n",
              "       [ 1.000, -0.020],\n",
              "       [ 1.000, -0.025],\n",
              "       [ 1.000, -0.012],\n",
              "       [ 1.000,  0.026],\n",
              "       [ 1.000, -0.059],\n",
              "       [ 1.000, -0.036],\n",
              "       [ 1.000, -0.025],\n",
              "       [ 1.000,  0.019],\n",
              "       [ 1.000, -0.090],\n",
              "       [ 1.000, -0.005],\n",
              "       [ 1.000, -0.053],\n",
              "       [ 1.000, -0.022],\n",
              "       [ 1.000, -0.020],\n",
              "       [ 1.000, -0.055],\n",
              "       [ 1.000, -0.006],\n",
              "       [ 1.000, -0.017],\n",
              "       [ 1.000,  0.055],\n",
              "       [ 1.000,  0.077],\n",
              "       [ 1.000,  0.019],\n",
              "       [ 1.000, -0.022],\n",
              "       [ 1.000,  0.093],\n",
              "       [ 1.000, -0.031],\n",
              "       [ 1.000,  0.039],\n",
              "       [ 1.000, -0.061],\n",
              "       [ 1.000, -0.008],\n",
              "       [ 1.000, -0.037],\n",
              "       [ 1.000, -0.014],\n",
              "       [ 1.000,  0.074],\n",
              "       [ 1.000, -0.025],\n",
              "       [ 1.000,  0.034],\n",
              "       [ 1.000,  0.035],\n",
              "       [ 1.000, -0.039],\n",
              "       [ 1.000, -0.040],\n",
              "       [ 1.000, -0.002],\n",
              "       [ 1.000, -0.031],\n",
              "       [ 1.000, -0.046],\n",
              "       [ 1.000,  0.001],\n",
              "       [ 1.000,  0.065],\n",
              "       [ 1.000,  0.040],\n",
              "       [ 1.000, -0.023],\n",
              "       [ 1.000,  0.053],\n",
              "       [ 1.000,  0.040],\n",
              "       [ 1.000, -0.020],\n",
              "       [ 1.000,  0.014],\n",
              "       [ 1.000, -0.034],\n",
              "       [ 1.000,  0.007],\n",
              "       [ 1.000,  0.005],\n",
              "       [ 1.000,  0.030],\n",
              "       [ 1.000,  0.052],\n",
              "       [ 1.000,  0.062],\n",
              "       [ 1.000, -0.007],\n",
              "       [ 1.000,  0.006],\n",
              "       [ 1.000,  0.054],\n",
              "       [ 1.000, -0.008],\n",
              "       [ 1.000,  0.115],\n",
              "       [ 1.000,  0.067],\n",
              "       [ 1.000, -0.056],\n",
              "       [ 1.000,  0.030],\n",
              "       [ 1.000, -0.026],\n",
              "       [ 1.000,  0.105],\n",
              "       [ 1.000, -0.006],\n",
              "       [ 1.000, -0.047],\n",
              "       [ 1.000, -0.048],\n",
              "       [ 1.000,  0.085],\n",
              "       [ 1.000, -0.013],\n",
              "       [ 1.000, -0.033],\n",
              "       [ 1.000, -0.007],\n",
              "       [ 1.000, -0.014],\n",
              "       [ 1.000,  0.060],\n",
              "       [ 1.000,  0.022],\n",
              "       [ 1.000,  0.019],\n",
              "       [ 1.000, -0.012],\n",
              "       [ 1.000, -0.003],\n",
              "       [ 1.000,  0.018],\n",
              "       [ 1.000, -0.030],\n",
              "       [ 1.000, -0.020],\n",
              "       [ 1.000, -0.058],\n",
              "       [ 1.000,  0.061],\n",
              "       [ 1.000, -0.041],\n",
              "       [ 1.000, -0.072],\n",
              "       [ 1.000, -0.056],\n",
              "       [ 1.000,  0.046],\n",
              "       [ 1.000, -0.009],\n",
              "       [ 1.000, -0.033],\n",
              "       [ 1.000,  0.050],\n",
              "       [ 1.000, -0.085],\n",
              "       [ 1.000,  0.006],\n",
              "       [ 1.000,  0.021],\n",
              "       [ 1.000, -0.007],\n",
              "       [ 1.000,  0.105],\n",
              "       [ 1.000, -0.025],\n",
              "       [ 1.000, -0.006],\n",
              "       [ 1.000, -0.039],\n",
              "       [ 1.000,  0.137],\n",
              "       [ 1.000,  0.171],\n",
              "       [ 1.000,  0.002],\n",
              "       [ 1.000,  0.038],\n",
              "       [ 1.000, -0.058],\n",
              "       [ 1.000, -0.009],\n",
              "       [ 1.000, -0.023],\n",
              "       [ 1.000, -0.011],\n",
              "       [ 1.000, -0.034],\n",
              "       [ 1.000, -0.003],\n",
              "       [ 1.000,  0.068],\n",
              "       [ 1.000,  0.010],\n",
              "       [ 1.000,  0.002],\n",
              "       [ 1.000, -0.039],\n",
              "       [ 1.000,  0.026],\n",
              "       [ 1.000, -0.089],\n",
              "       [ 1.000,  0.061],\n",
              "       [ 1.000, -0.029],\n",
              "       [ 1.000, -0.030],\n",
              "       [ 1.000, -0.019],\n",
              "       [ 1.000, -0.041],\n",
              "       [ 1.000,  0.015],\n",
              "       [ 1.000, -0.025],\n",
              "       [ 1.000,  0.001],\n",
              "       [ 1.000,  0.069],\n",
              "       [ 1.000, -0.070],\n",
              "       [ 1.000, -0.030],\n",
              "       [ 1.000, -0.046],\n",
              "       [ 1.000,  0.019],\n",
              "       [ 1.000,  0.001],\n",
              "       [ 1.000, -0.031],\n",
              "       [ 1.000, -0.004],\n",
              "       [ 1.000,  0.015],\n",
              "       [ 1.000,  0.023],\n",
              "       [ 1.000,  0.046],\n",
              "       [ 1.000, -0.045],\n",
              "       [ 1.000, -0.033],\n",
              "       [ 1.000,  0.097],\n",
              "       [ 1.000,  0.054],\n",
              "       [ 1.000,  0.123],\n",
              "       [ 1.000, -0.081],\n",
              "       [ 1.000,  0.093],\n",
              "       [ 1.000, -0.050],\n",
              "       [ 1.000, -0.012],\n",
              "       [ 1.000, -0.028],\n",
              "       [ 1.000,  0.058],\n",
              "       [ 1.000,  0.085],\n",
              "       [ 1.000, -0.001],\n",
              "       [ 1.000,  0.007],\n",
              "       [ 1.000,  0.009],\n",
              "       [ 1.000,  0.080],\n",
              "       [ 1.000,  0.071],\n",
              "       [ 1.000, -0.025],\n",
              "       [ 1.000, -0.055],\n",
              "       [ 1.000, -0.036],\n",
              "       [ 1.000,  0.016]])"
            ]
          },
          "metadata": {},
          "execution_count": 38
        }
      ]
    },
    {
      "cell_type": "code",
      "source": [
        "mod = sm.OLS(diabetes_y_train, sm.add_constant(diabetes_X_train))\n",
        "res = mod.fit()\n",
        "print(res.summary())"
      ],
      "metadata": {
        "colab": {
          "base_uri": "https://localhost:8080/"
        },
        "id": "Bci5XJD0gS5R",
        "outputId": "777cb9ea-bf19-4c38-d904-de4166d05864"
      },
      "execution_count": 35,
      "outputs": [
        {
          "output_type": "stream",
          "name": "stdout",
          "text": [
            "                            OLS Regression Results                            \n",
            "==============================================================================\n",
            "Dep. Variable:                      y   R-squared:                       0.335\n",
            "Model:                            OLS   Adj. R-squared:                  0.334\n",
            "Method:                 Least Squares   F-statistic:                     211.7\n",
            "Date:                Sun, 29 May 2022   Prob (F-statistic):           3.98e-39\n",
            "Time:                        01:49:37   Log-Likelihood:                -2346.5\n",
            "No. Observations:                 422   AIC:                             4697.\n",
            "Df Residuals:                     420   BIC:                             4705.\n",
            "Df Model:                           1                                         \n",
            "Covariance Type:            nonrobust                                         \n",
            "==============================================================================\n",
            "                 coef    std err          t      P>|t|      [0.025      0.975]\n",
            "------------------------------------------------------------------------------\n",
            "const        152.9189      3.069     49.830      0.000     146.887     158.951\n",
            "x1           938.2379     64.484     14.550      0.000     811.487    1064.989\n",
            "==============================================================================\n",
            "Omnibus:                       12.587   Durbin-Watson:                   1.839\n",
            "Prob(Omnibus):                  0.002   Jarque-Bera (JB):                7.334\n",
            "Skew:                           0.142   Prob(JB):                       0.0255\n",
            "Kurtosis:                       2.420   Cond. No.                         21.0\n",
            "==============================================================================\n",
            "\n",
            "Warnings:\n",
            "[1] Standard Errors assume that the covariance matrix of the errors is correctly specified.\n"
          ]
        }
      ]
    },
    {
      "cell_type": "code",
      "source": [
        "import pandas as pd\n",
        "beta=np.linalg.inv(X_ols.T.dot(X_ols)).dot(X_ols.T.dot(diabetes_y_train))\n",
        "pd.Series(beta)\n"
      ],
      "metadata": {
        "colab": {
          "base_uri": "https://localhost:8080/"
        },
        "id": "u8Z0y-EzUG0i",
        "outputId": "76535b9d-39c3-47a9-c35b-bc4e31be507c"
      },
      "execution_count": 39,
      "outputs": [
        {
          "output_type": "execute_result",
          "data": {
            "text/plain": [
              "0    152.918862\n",
              "1    938.237861\n",
              "dtype: float64"
            ]
          },
          "metadata": {},
          "execution_count": 39
        }
      ]
    }
  ]
}