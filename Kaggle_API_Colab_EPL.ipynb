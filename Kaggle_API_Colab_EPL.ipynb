{
  "nbformat": 4,
  "nbformat_minor": 0,
  "metadata": {
    "colab": {
      "name": "Kaggle_API_Colab_EPL",
      "provenance": [],
      "collapsed_sections": [],
      "include_colab_link": true
    },
    "kernelspec": {
      "name": "python3",
      "display_name": "Python 3"
    }
  },
  "cells": [
    {
      "cell_type": "markdown",
      "metadata": {
        "id": "view-in-github",
        "colab_type": "text"
      },
      "source": [
        "<a href=\"https://colab.research.google.com/github/cyrus723/my-first-binder/blob/main/Kaggle_API_Colab_EPL.ipynb\" target=\"_parent\"><img src=\"https://colab.research.google.com/assets/colab-badge.svg\" alt=\"Open In Colab\"/></a>"
      ]
    },
    {
      "cell_type": "markdown",
      "source": [
        "Source of Data: http://www.kaggle.com\n"
      ],
      "metadata": {
        "id": "XZ3aTtRmZn3d"
      }
    },
    {
      "metadata": {
        "id": "DIf2PtekjPtY"
      },
      "cell_type": "markdown",
      "source": [
        "# Installing the [Kaggle API](https://github.com/Kaggle/kaggle-api) in Colab"
      ]
    },
    {
      "cell_type": "code",
      "source": [
        "from google.colab import drive\n",
        "drive.mount('/content/drive')"
      ],
      "metadata": {
        "id": "-qO6K2shH1of",
        "outputId": "e7338313-4571-42fa-aff2-53a918c9a5e3",
        "colab": {
          "base_uri": "https://localhost:8080/"
        }
      },
      "execution_count": null,
      "outputs": [
        {
          "output_type": "stream",
          "name": "stdout",
          "text": [
            "Mounted at /content/drive\n"
          ]
        }
      ]
    },
    {
      "metadata": {
        "id": "OppyMnCuWjzJ",
        "colab": {
          "base_uri": "https://localhost:8080/"
        },
        "outputId": "452f2fb0-2e8d-441d-8f1d-e085860a90b8"
      },
      "cell_type": "code",
      "source": [
        "!pip install kaggle"
      ],
      "execution_count": null,
      "outputs": [
        {
          "output_type": "stream",
          "name": "stdout",
          "text": [
            "Requirement already satisfied: kaggle in /usr/local/lib/python3.7/dist-packages (1.5.12)\n",
            "Requirement already satisfied: urllib3 in /usr/local/lib/python3.7/dist-packages (from kaggle) (1.24.3)\n",
            "Requirement already satisfied: certifi in /usr/local/lib/python3.7/dist-packages (from kaggle) (2021.10.8)\n",
            "Requirement already satisfied: six>=1.10 in /usr/local/lib/python3.7/dist-packages (from kaggle) (1.15.0)\n",
            "Requirement already satisfied: requests in /usr/local/lib/python3.7/dist-packages (from kaggle) (2.23.0)\n",
            "Requirement already satisfied: python-slugify in /usr/local/lib/python3.7/dist-packages (from kaggle) (6.1.2)\n",
            "Requirement already satisfied: tqdm in /usr/local/lib/python3.7/dist-packages (from kaggle) (4.64.0)\n",
            "Requirement already satisfied: python-dateutil in /usr/local/lib/python3.7/dist-packages (from kaggle) (2.8.2)\n",
            "Requirement already satisfied: text-unidecode>=1.3 in /usr/local/lib/python3.7/dist-packages (from python-slugify->kaggle) (1.3)\n",
            "Requirement already satisfied: idna<3,>=2.5 in /usr/local/lib/python3.7/dist-packages (from requests->kaggle) (2.10)\n",
            "Requirement already satisfied: chardet<4,>=3.0.2 in /usr/local/lib/python3.7/dist-packages (from requests->kaggle) (3.0.4)\n"
          ]
        }
      ]
    },
    {
      "metadata": {
        "id": "hMY4CFezjcG-"
      },
      "cell_type": "markdown",
      "source": [
        "# Authenticating with Kaggle using kaggle.json\n",
        "\n",
        "Navigate to https://www.kaggle.com. Then go to the [Account tab of your user profile](https://www.kaggle.com/me/account) and select Create API Token. This will trigger the download of kaggle.json, a file containing your API credentials.\n",
        "\n",
        "Then run the cell below to upload kaggle.json to your Colab runtime."
      ]
    },
    {
      "metadata": {
        "id": "0HtGf0HEXEa5",
        "outputId": "2ad2c8c7-0188-40d3-f212-2b853284f40e",
        "colab": {
          "resources": {
            "http://localhost:8080/nbextensions/google.colab/files.js": {
              "data": "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",
              "ok": true,
              "headers": [
                [
                  "content-type",
                  "application/javascript"
                ]
              ],
              "status": 200,
              "status_text": ""
            }
          },
          "base_uri": "https://localhost:8080/",
          "height": 90
        }
      },
      "cell_type": "code",
      "source": [
        "from google.colab import files\n",
        "\n",
        "uploaded = files.upload()\n",
        "\n",
        "for fn in uploaded.keys():\n",
        "  print('User uploaded file \"{name}\" with length {length} bytes'.format(\n",
        "      name=fn, length=len(uploaded[fn])))\n",
        "  \n",
        "# Then move kaggle.json into the folder where the API expects to find it.\n",
        "!mkdir -p ~/.kaggle/ && mv kaggle.json ~/.kaggle/ && chmod 600 ~/.kaggle/kaggle.json"
      ],
      "execution_count": null,
      "outputs": [
        {
          "output_type": "display_data",
          "data": {
            "text/plain": [
              "<IPython.core.display.HTML object>"
            ],
            "text/html": [
              "\n",
              "     <input type=\"file\" id=\"files-449dd583-c5db-42ac-8690-328740df1033\" name=\"files[]\" multiple disabled\n",
              "        style=\"border:none\" />\n",
              "     <output id=\"result-449dd583-c5db-42ac-8690-328740df1033\">\n",
              "      Upload widget is only available when the cell has been executed in the\n",
              "      current browser session. Please rerun this cell to enable.\n",
              "      </output>\n",
              "      <script src=\"/nbextensions/google.colab/files.js\"></script> "
            ]
          },
          "metadata": {}
        },
        {
          "output_type": "stream",
          "name": "stdout",
          "text": [
            "Saving kaggle.json to kaggle.json\n",
            "User uploaded file \"kaggle.json\" with length 63 bytes\n"
          ]
        }
      ]
    },
    {
      "metadata": {
        "id": "HMk7Zz4ZkpCe"
      },
      "cell_type": "markdown",
      "source": [
        "# Using the Kaggle API\n",
        "\n",
        "For a more complete list of what you can do with the API, visit https://github.com/Kaggle/kaggle-api."
      ]
    },
    {
      "cell_type": "code",
      "source": [
        "mypath = '/content/drive/My Drive/Colab Notebooks/kaggle/'"
      ],
      "metadata": {
        "id": "SE9HweiXKrBi"
      },
      "execution_count": null,
      "outputs": []
    },
    {
      "cell_type": "code",
      "source": [
        "!kaggle kernels output baraknetef/premier-league -p mypath"
      ],
      "metadata": {
        "colab": {
          "base_uri": "https://localhost:8080/"
        },
        "id": "KxCuNuXJJ6ig",
        "outputId": "ec78facf-3cda-44f9-d618-08da620a62bf"
      },
      "execution_count": null,
      "outputs": [
        {
          "output_type": "stream",
          "name": "stdout",
          "text": [
            "Kernel log downloaded to mypath/premier-league.log \n"
          ]
        }
      ]
    },
    {
      "cell_type": "code",
      "source": [
        ""
      ],
      "metadata": {
        "id": "SkQa16IwLUPl"
      },
      "execution_count": null,
      "outputs": []
    },
    {
      "cell_type": "code",
      "source": [
        "!kaggle datasets download baraknetef/English-premier-league"
      ],
      "metadata": {
        "colab": {
          "base_uri": "https://localhost:8080/"
        },
        "id": "4JjlB4kgLUKl",
        "outputId": "5094b997-2352-4796-cadb-71507a964f4e"
      },
      "execution_count": null,
      "outputs": [
        {
          "output_type": "stream",
          "name": "stdout",
          "text": [
            "404 - Not Found\n"
          ]
        }
      ]
    },
    {
      "cell_type": "code",
      "source": [
        ""
      ],
      "metadata": {
        "id": "08xJuaZRQclq"
      },
      "execution_count": null,
      "outputs": []
    },
    {
      "cell_type": "code",
      "source": [
        "!kaggle competitions list -s sports"
      ],
      "metadata": {
        "colab": {
          "base_uri": "https://localhost:8080/"
        },
        "id": "DhUkIo5eQceM",
        "outputId": "5e9808f0-ff5a-428e-cf48-921cbfa0d451"
      },
      "execution_count": null,
      "outputs": [
        {
          "output_type": "stream",
          "name": "stdout",
          "text": [
            "ref                                                  deadline             category       reward  teamCount  userHasEntered  \n",
            "---------------------------------------------------  -------------------  ----------  ---------  ---------  --------------  \n",
            "mpetitions/nfl-big-data-bowl-2020                    2020-01-06 23:59:00  Featured      $75,000       2038           False  \n",
            "mpetitions/mens-march-mania-2022                     2022-04-05 04:00:00  Featured      $25,000        930           False  \n",
            "mpetitions/ncaam-march-mania-2021                    2021-04-06 04:00:00  Playground     Prizes        707           False  \n",
            "mpetitions/womens-march-mania-2022                   2022-04-04 15:00:00  Featured      $25,000        651           False  \n",
            "mpetitions/march-machine-learning-mania-2017         2017-04-04 15:00:00  Playground       Swag        441           False  \n",
            "mpetitions/ncaaw-march-mania-2021                    2021-04-05 12:01:00  Playground     Prizes        451           False  \n",
            "mpetitions/mens-machine-learning-competition-2019    2019-04-09 06:00:00  Featured      $25,000        862           False  \n",
            "mpetitions/march-machine-learning-mania-2016         2016-04-05 06:00:00  Featured      $25,000        596           False  \n",
            "mpetitions/womens-machine-learning-competition-2019  2019-04-08 05:10:00  Featured      $25,000        497           False  \n",
            "mpetitions/march-machine-learning-mania-2015         2015-04-07 23:59:00  Featured      $15,000        340           False  \n",
            "mpetitions/nfl-impact-detection                      2021-01-04 23:59:00  Featured      $75,000        459           False  \n",
            "mpetitions/march-machine-learning-mania-2014         2014-04-08 23:59:00  Featured      $15,000        248           False  \n",
            "mpetitions/kobe-bryant-shot-selection                2016-06-13 23:59:00  Playground  Knowledge       1117           False  \n",
            "mpetitions/nfl-health-and-safety-helmet-assignment   2021-11-02 23:59:00  Featured     $100,000        825           False  \n",
            "mpetitions/mens-machine-learning-competition-2018    2018-04-02 23:59:00  Featured      $50,000        933           False  \n",
            "mpetitions/ncaam-march-mania-2021-spread             2021-04-06 04:00:00  Playground  Knowledge         96           False  \n",
            "mpetitions/ncaaw-march-mania-2021-spread             2021-04-05 12:01:00  Playground  Knowledge         70           False  \n",
            "mpetitions/march-madness-analytics-2020              2020-04-30 23:59:00  Analytics     $25,000          0           False  \n",
            "mpetitions/NFL-Punt-Analytics-Competition            2019-01-09 23:59:00  Analytics     $80,000          0           False  \n",
            "mpetitions/nfl-playing-surface-analytics             2020-01-02 23:59:00  Analytics     $75,000          0           False  \n"
          ]
        }
      ]
    },
    {
      "cell_type": "code",
      "source": [
        "!kaggle competitions list --category gettingStarted"
      ],
      "metadata": {
        "colab": {
          "base_uri": "https://localhost:8080/"
        },
        "id": "Ch8g_RIuQcaw",
        "outputId": "6fbf9bd4-9458-4053-de86-7684b5ea0260"
      },
      "execution_count": null,
      "outputs": [
        {
          "output_type": "stream",
          "name": "stdout",
          "text": [
            "ref                                                     deadline             category            reward  teamCount  userHasEntered  \n",
            "------------------------------------------------------  -------------------  ---------------  ---------  ---------  --------------  \n",
            "mpetitions/contradictory-my-dear-watson                 2030-07-01 23:59:00  Getting Started     Prizes         38           False  \n",
            "mpetitions/gan-getting-started                          2030-07-01 23:59:00  Getting Started     Prizes        142           False  \n",
            "mpetitions/store-sales-time-series-forecasting          2030-06-30 23:59:00  Getting Started  Knowledge        865           False  \n",
            "mpetitions/tpu-getting-started                          2030-06-03 23:59:00  Getting Started  Knowledge        161           False  \n",
            "mpetitions/digit-recognizer                             2030-01-01 00:00:00  Getting Started  Knowledge       2022           False  \n",
            "mpetitions/titanic                                      2030-01-01 00:00:00  Getting Started  Knowledge      13716           False  \n",
            "mpetitions/house-prices-advanced-regression-techniques  2030-01-01 00:00:00  Getting Started  Knowledge       4285           False  \n",
            "mpetitions/connectx                                     2030-01-01 00:00:00  Getting Started  Knowledge        231           False  \n",
            "mpetitions/nlp-getting-started                          2030-01-01 00:00:00  Getting Started  Knowledge        897           False  \n",
            "mpetitions/spaceship-titanic                            2030-01-01 00:00:00  Getting Started  Knowledge       2116           False  \n",
            "mpetitions/facial-keypoints-detection                   2017-01-07 00:00:00  Getting Started  Knowledge        175           False  \n",
            "mpetitions/street-view-getting-started-with-julia       2017-01-07 00:00:00  Getting Started  Knowledge         56           False  \n",
            "mpetitions/word2vec-nlp-tutorial                        2015-06-30 23:59:00  Getting Started  Knowledge        577           False  \n",
            "mpetitions/data-science-london-scikit-learn             2014-12-31 23:59:00  Getting Started  Knowledge        190           False  \n",
            "mpetitions/just-the-basics-the-after-party              2013-03-01 01:00:00  Getting Started  Knowledge         48           False  \n",
            "mpetitions/just-the-basics-strata-2013                  2013-02-26 20:30:00  Getting Started  Knowledge         49           False  \n"
          ]
        }
      ]
    },
    {
      "cell_type": "code",
      "source": [
        "!kaggle competitions files favorita-grocery-sales-forecasting"
      ],
      "metadata": {
        "colab": {
          "base_uri": "https://localhost:8080/"
        },
        "id": "zfwO5V1vQcXs",
        "outputId": "b966c862-912b-43f4-febf-3876882ce4c7"
      },
      "execution_count": null,
      "outputs": [
        {
          "output_type": "stream",
          "name": "stdout",
          "text": [
            "name                       size  creationDate         \n",
            "------------------------  -----  -------------------  \n",
            "sample_submission.csv.7z  651KB  2018-06-20 06:10:54  \n",
            "stores.csv.7z              648B  2018-06-20 06:10:54  \n",
            "train.csv.7z              452MB  2018-06-20 06:10:54  \n",
            "oil.csv.7z                  4KB  2018-06-20 06:10:54  \n",
            "transactions.csv.7z       214KB  2018-06-20 06:10:54  \n",
            "test.csv.7z                 5MB  2018-06-20 06:10:54  \n",
            "holidays_events.csv.7z      2KB  2018-06-20 06:10:54  \n",
            "items.csv.7z               14KB  2018-06-20 06:10:54  \n"
          ]
        }
      ]
    },
    {
      "cell_type": "code",
      "source": [
        "!kaggle competitions leaderboard favorita-grocery-sales-forecasting -s"
      ],
      "metadata": {
        "id": "pcDktqaTQcVH"
      },
      "execution_count": null,
      "outputs": []
    },
    {
      "cell_type": "code",
      "source": [
        ""
      ],
      "metadata": {
        "id": "JYh8v9hYQcSJ"
      },
      "execution_count": null,
      "outputs": []
    },
    {
      "cell_type": "code",
      "source": [
        "!kaggle datasets list -s soccer"
      ],
      "metadata": {
        "colab": {
          "base_uri": "https://localhost:8080/"
        },
        "id": "6onK_g1ILUHC",
        "outputId": "f8223504-a89c-4dba-e2e4-b6ada5bd7a3e"
      },
      "execution_count": null,
      "outputs": [
        {
          "output_type": "stream",
          "name": "stdout",
          "text": [
            "ref                                                                      title                                            size  lastUpdated          downloadCount  voteCount  usabilityRating  \n",
            "-----------------------------------------------------------------------  ----------------------------------------------  -----  -------------------  -------------  ---------  ---------------  \n",
            "datasets/hugomathien/soccer                                              European Soccer Database                         33MB  2016-10-23 22:31:38         154249       3840  0.7058824        \n",
            "datasets/tadhgfitzgerald/fifa-international-soccer-mens-ranking-1993now  FIFA Soccer Rankings                            693KB  2018-06-08 11:15:09          12548        181  0.7058824        \n",
            "datasets/sashchernuh/european-football                                   World Soccer DB: archive of odds [01-JUN-2021]   48MB  2021-06-01 13:16:26           4656        170  0.8235294        \n",
            "datasets/crawford/us-major-league-soccer-salaries                        U.S. Major League Soccer Salaries                83KB  2017-07-13 19:47:08           3046         41  0.8235294        \n",
            "datasets/analystmasters/earn-your-6-figure-prize                         A 6-figure prize by soccer prediction            11MB  2017-09-19 01:29:12           3039        186  0.7647059        \n",
            "datasets/josephvm/major-league-soccer-dataset                            Major League Soccer Dataset                       7MB  2022-05-17 00:15:28           1910         57  0.8235294        \n",
            "datasets/ramjasmaurya/footballsoccer-clubs-ranking                       Football/Soccer Clubs Ranking                    50KB  2022-04-10 18:43:42            628         40  1.0              \n",
            "datasets/kriegsmaschine/soccer-players-values-and-their-statistics       Soccer players values and their statistics        4MB  2021-05-11 09:17:18           1381         30  0.9705882        \n",
            "datasets/lgmoneda/ge-soccer-clubs-news                                   GE Soccer Clubs News                            145MB  2022-03-27 22:11:22            197         27  1.0              \n",
            "datasets/caesarlupum/betsstrategy                                        Bets Strategy                                   484KB  2019-12-28 16:53:06            640         56  1.0              \n",
            "datasets/drgilermo/home-advantage-in-soccer-and-basketball               Home Advantage in Soccer and Basketball         136KB  2017-01-21 15:26:40           2153         34  0.7058824        \n",
            "datasets/ricardomattos05/jogos-do-campeonato-brasileiro                  Brazilian Soccer Database                         2MB  2022-05-15 07:39:32            297         24  0.88235295       \n",
            "datasets/jiezi2004/soccer                                                European Soccer Database Supplementary           13MB  2017-09-10 10:31:51           1818         40  0.8235294        \n",
            "datasets/hikne707/big-five-european-soccer-leagues                       The Big Five European soccer leagues data       501KB  2020-04-28 12:59:21            735         18  1.0              \n",
            "datasets/gravix/european-soccer                                          European Soccer                                   5MB  2019-10-25 10:04:33            316         11  0.64705884       \n",
            "datasets/omercolakoglu/european-soccer-score-card-database               European Soccer Score Card Database             193MB  2020-10-05 10:00:48            227        120  0.5294118        \n",
            "datasets/aalborguniversity/thermal-soccer-dataset                        Thermal soccer dataset                            2GB  2018-02-08 09:54:24            895         31  0.6875           \n",
            "datasets/antoinekrajnc/soccer-players-statistics                         Soccer Players Statistics                         1MB  2018-06-26 12:34:22           2039         43  0.29411766       \n",
            "datasets/eliasdabbas/european-football-soccer-clubs-tweets               European Football (Soccer) Clubs Tweets          49MB  2019-07-19 13:47:36            368         13  0.9411765        \n",
            "datasets/swenauk/epldata                                                 Soccer Betting Odds                               3KB  2018-09-03 01:28:59            193          5  0.44117647       \n"
          ]
        }
      ]
    },
    {
      "cell_type": "code",
      "source": [
        "!kaggle datasets list "
      ],
      "metadata": {
        "colab": {
          "base_uri": "https://localhost:8080/"
        },
        "id": "QQztB3xsNIbh",
        "outputId": "7fa1dc32-7396-4a68-a677-be978977315a"
      },
      "execution_count": null,
      "outputs": [
        {
          "output_type": "stream",
          "name": "stdout",
          "text": [
            "ref                                                                            title                                             size  lastUpdated          downloadCount  voteCount  usabilityRating  \n",
            "-----------------------------------------------------------------------------  -----------------------------------------------  -----  -------------------  -------------  ---------  ---------------  \n",
            "datasets/muratkokludataset/date-fruit-datasets                                 Date Fruit Datasets                              408KB  2022-04-03 09:25:39           7510       1006  0.9375           \n",
            "datasets/mdmahmudulhasansuzan/students-adaptability-level-in-online-education  Students Adaptability Level in Online Education    6KB  2022-04-16 04:46:28           4970        127  1.0              \n",
            "datasets/muratkokludataset/rice-image-dataset                                  Rice Image Dataset                               219MB  2022-04-03 02:12:00           1438        830  0.875            \n",
            "datasets/paradisejoy/top-hits-spotify-from-20002019                            Top Hits Spotify from 2000-2019                   94KB  2022-04-26 17:30:03           1188         27  1.0              \n",
            "datasets/muratkokludataset/raisin-dataset                                      Raisin Dataset                                   112KB  2022-04-03 00:23:16            597        733  0.9375           \n",
            "datasets/muratkokludataset/pistachio-dataset                                   Pistachio Dataset                                  2MB  2022-04-03 08:38:21            584        750  0.9375           \n",
            "datasets/muratkokludataset/rice-msc-dataset                                    Rice MSC Dataset                                 102MB  2022-04-03 01:33:52            228        719  0.9375           \n",
            "datasets/muratkokludataset/pistachio-image-dataset                             Pistachio Image Dataset                           27MB  2022-03-28 18:01:27            507        798  0.9375           \n",
            "datasets/muratkokludataset/grapevine-leaves-image-dataset                      Grapevine Leaves Image Dataset                   109MB  2022-04-03 09:00:54            172        761  0.875            \n",
            "datasets/muratkokludataset/durum-wheat-dataset                                 Durum Wheat Dataset                              983MB  2022-04-03 00:02:29             99        733  0.875            \n",
            "datasets/muratkokludataset/pumpkin-seeds-dataset                               Pumpkin Seeds Dataset                            393KB  2022-03-28 18:28:16            578        727  0.9375           \n",
            "datasets/muratkokludataset/dry-bean-dataset                                    Dry Bean Dataset                                   5MB  2022-04-02 23:19:30            494        731  0.9375           \n",
            "datasets/rinichristy/covid19-coronavirus-pandemic                              COVID-19 Coronavirus Pandemic                      9KB  2022-04-05 08:43:16           3955         87  1.0              \n",
            "datasets/muhmores/spotify-top-100-songs-of-20152019                            Spotify Top 100 Songs of 2010-2019               139KB  2022-04-09 06:35:36           5407        111  0.88235295       \n",
            "datasets/surajjha101/stores-area-and-sales-data                                Supermarket store branches sales analysis         10KB  2022-04-29 11:10:16           1192         54  1.0              \n",
            "datasets/aslanahmedov/walmart-sales-forecast                                   Walmart Sales Forecast                             3MB  2022-04-21 05:28:20           2483         64  1.0              \n",
            "datasets/digvijaysinhgohil/covid19-data-deaths-and-vaccinations                Covid-19 Data Deaths and Vaccinations              2MB  2022-05-04 19:06:58            781         23  1.0              \n",
            "datasets/xhlulu/cpc-codes                                                      Cooperative Patent Classification Codes Meaning    5MB  2022-03-22 03:04:36           2259        146  1.0              \n",
            "datasets/aliibrahim10/anime-ratings                                            Anime Ratings                                    489KB  2022-05-12 21:00:13            168         19  1.0              \n",
            "datasets/alexandrparkhomenko/top-apps-in-google-play                           Top Apps in Google Play                            3KB  2022-04-29 05:16:34           1113         41  1.0              \n"
          ]
        }
      ]
    },
    {
      "cell_type": "code",
      "source": [
        "!kaggle datasets list --sort-by votes"
      ],
      "metadata": {
        "colab": {
          "base_uri": "https://localhost:8080/"
        },
        "id": "BbLCb2ZLNIYx",
        "outputId": "7e31368b-bcab-48e2-c5ae-1d31128dbf12"
      },
      "execution_count": null,
      "outputs": [
        {
          "output_type": "stream",
          "name": "stdout",
          "text": [
            "ref                                                                    title                                                size  lastUpdated          downloadCount  voteCount  usabilityRating  \n",
            "---------------------------------------------------------------------  --------------------------------------------------  -----  -------------------  -------------  ---------  ---------------  \n",
            "datasets/jessicali9530/animal-crossing-new-horizons-nookplaza-dataset  Animal Crossing New Horizons Catalog                577KB  2021-06-08 15:05:09          18664      15298  0.8235294        \n",
            "datasets/allen-institute-for-ai/CORD-19-research-challenge             COVID-19 Open Research Dataset Challenge (CORD-19)   15GB  2022-04-25 19:32:16         144755       9907  0.88235295       \n",
            "datasets/mlg-ulb/creditcardfraud                                       Credit Card Fraud Detection                          66MB  2018-03-23 01:17:27         410055       9133  0.85294116       \n",
            "datasets/shivamb/netflix-shows                                         Netflix Movies and TV Shows                           1MB  2021-09-27 04:44:36         237286       6556  1.0              \n",
            "datasets/sudalairajkumar/novel-corona-virus-2019-dataset               Novel Corona Virus 2019 Dataset                       9MB  2021-06-24 04:27:25         371906       5796  0.9705882        \n",
            "datasets/paultimothymooney/chest-xray-pneumonia                        Chest X-Ray Images (Pneumonia)                        2GB  2018-03-24 19:41:59         170348       5042  0.75             \n",
            "datasets/datasnaek/youtube-new                                         Trending YouTube Video Statistics                   201MB  2019-06-03 00:56:47         174651       4526  0.7941176        \n",
            "datasets/gregorut/videogamesales                                       Video Game Sales                                    381KB  2016-10-26 09:10:49         316539       4519  0.5882353        \n",
            "datasets/lava18/google-play-store-apps                                 Google Play Store Apps                                2MB  2019-02-03 13:55:47         182260       4017  0.7058824        \n",
            "datasets/hugomathien/soccer                                            European Soccer Database                             33MB  2016-10-23 22:31:38         154249       3840  0.7058824        \n",
            "datasets/borismarjanovic/price-volume-data-for-all-us-stocks-etfs      Huge Stock Market Dataset                           492MB  2017-11-16 14:53:29          87210       3749  0.75             \n",
            "datasets/timoboz/data-science-cheat-sheets                             Data Science Cheat Sheets                           596MB  2020-02-04 19:42:27          43898       3732  0.875            \n",
            "datasets/unsdsn/world-happiness                                        World Happiness Report                               37KB  2019-11-27 04:41:47         224759       3556  0.85294116       \n",
            "datasets/zynicide/wine-reviews                                         Wine Reviews                                         51MB  2017-11-27 17:08:04         159892       3312  0.7941176        \n",
            "datasets/spscientist/students-performance-in-exams                     Students Performance in Exams                         9KB  2018-11-09 18:25:25         168788       3250  0.7058824        \n",
            "datasets/uciml/pima-indians-diabetes-database                          Pima Indians Diabetes Database                        9KB  2016-10-06 18:31:56         283836       3096  0.88235295       \n",
            "datasets/neuromusic/avocado-prices                                     Avocado Prices                                      629KB  2018-06-06 05:28:35         156413       3039  0.9705882        \n",
            "datasets/tmdb/tmdb-movie-metadata                                      TMDB 5000 Movie Dataset                               9MB  2017-09-28 01:09:12         202094       3034  0.8235294        \n",
            "datasets/mczielinski/bitcoin-historical-data                           Bitcoin Historical Data                             100MB  2021-04-11 19:41:13         109019       2980  1.0              \n"
          ]
        }
      ]
    },
    {
      "cell_type": "code",
      "source": [
        "!kaggle datasets files hugomathien/soccer "
      ],
      "metadata": {
        "colab": {
          "base_uri": "https://localhost:8080/"
        },
        "id": "KrMwuMzlNIWJ",
        "outputId": "005d7a5f-87ee-4a3f-db9c-18bd0734e589"
      },
      "execution_count": null,
      "outputs": [
        {
          "output_type": "stream",
          "name": "stdout",
          "text": [
            "name              size  creationDate         \n",
            "---------------  -----  -------------------  \n",
            "database.sqlite  299MB  2016-10-23 22:31:38  \n"
          ]
        }
      ]
    },
    {
      "cell_type": "code",
      "source": [
        "!kaggle datasets files hikne707/big-five-european-soccer-leagues  "
      ],
      "metadata": {
        "colab": {
          "base_uri": "https://localhost:8080/"
        },
        "id": "eGsCDWoxNITN",
        "outputId": "7b7f2267-a6f0-4b9c-c60c-5e985e78a92e"
      },
      "execution_count": null,
      "outputs": [
        {
          "output_type": "stream",
          "name": "stdout",
          "text": [
            "name                    size  creationDate         \n",
            "----------------------  ----  -------------------  \n",
            "BIG FIVE 1995-2019.csv   4MB  2020-04-28 12:59:21  \n"
          ]
        }
      ]
    },
    {
      "cell_type": "code",
      "source": [
        "!kaggle datasets download hikne707/big-five-european-soccer-leagues  "
      ],
      "metadata": {
        "colab": {
          "base_uri": "https://localhost:8080/"
        },
        "id": "jpdl8741Sb4u",
        "outputId": "0d625a92-9f45-4b78-f6e7-47cab820b40d"
      },
      "execution_count": null,
      "outputs": [
        {
          "output_type": "stream",
          "name": "stdout",
          "text": [
            "Downloading big-five-european-soccer-leagues.zip to /content\n",
            "\r  0% 0.00/501k [00:00<?, ?B/s]\n",
            "\r100% 501k/501k [00:00<00:00, 97.9MB/s]\n"
          ]
        }
      ]
    },
    {
      "cell_type": "code",
      "source": [
        ""
      ],
      "metadata": {
        "id": "5z-_k2JWUmaf"
      },
      "execution_count": null,
      "outputs": []
    },
    {
      "cell_type": "code",
      "source": [
        "!unzip big-five-european-soccer-leagues.zip"
      ],
      "metadata": {
        "colab": {
          "base_uri": "https://localhost:8080/"
        },
        "id": "q-dTyymWSb13",
        "outputId": "1dd2030e-886f-49a7-a72a-392e8baa2951"
      },
      "execution_count": null,
      "outputs": [
        {
          "output_type": "stream",
          "name": "stdout",
          "text": [
            "Archive:  big-five-european-soccer-leagues.zip\n",
            "  inflating: BIG FIVE 1995-2019.csv  \n"
          ]
        }
      ]
    },
    {
      "cell_type": "code",
      "source": [
        "import os\n",
        "import pandas as pd"
      ],
      "metadata": {
        "id": "B6dp4qbWSbzA"
      },
      "execution_count": null,
      "outputs": []
    },
    {
      "cell_type": "code",
      "source": [
        "df = pd.read_csv('BIG FIVE 1995-2019.csv')"
      ],
      "metadata": {
        "id": "xnUiuwQTSbwX"
      },
      "execution_count": null,
      "outputs": []
    },
    {
      "cell_type": "code",
      "source": [
        "df.shape"
      ],
      "metadata": {
        "colab": {
          "base_uri": "https://localhost:8080/"
        },
        "id": "iGOt9YGKSbsf",
        "outputId": "39599d4a-58c3-41f1-a2fc-3cb5f9bba301"
      },
      "execution_count": null,
      "outputs": [
        {
          "output_type": "execute_result",
          "data": {
            "text/plain": [
              "(44269, 15)"
            ]
          },
          "metadata": {},
          "execution_count": 79
        }
      ]
    },
    {
      "cell_type": "code",
      "source": [
        "df.info()"
      ],
      "metadata": {
        "colab": {
          "base_uri": "https://localhost:8080/"
        },
        "id": "baOero2JSbpx",
        "outputId": "f9f31e48-8067-4676-b2fa-587d2f16f8e2"
      },
      "execution_count": null,
      "outputs": [
        {
          "output_type": "stream",
          "name": "stdout",
          "text": [
            "<class 'pandas.core.frame.DataFrame'>\n",
            "RangeIndex: 44269 entries, 0 to 44268\n",
            "Data columns (total 15 columns):\n",
            " #   Column        Non-Null Count  Dtype \n",
            "---  ------        --------------  ----- \n",
            " 0   Round         44269 non-null  int64 \n",
            " 1   Date          44269 non-null  object\n",
            " 2   Team 1        44269 non-null  object\n",
            " 3   FT            44269 non-null  object\n",
            " 4   HT            44269 non-null  object\n",
            " 5   Team 2        44269 non-null  object\n",
            " 6   Year          44269 non-null  int64 \n",
            " 7   Country       44269 non-null  object\n",
            " 8   FT Team 1     44269 non-null  int64 \n",
            " 9   FT Team 2     44269 non-null  int64 \n",
            " 10  HT Team 1     44269 non-null  int64 \n",
            " 11  HT Team 2     44269 non-null  int64 \n",
            " 12  GGD           44269 non-null  int64 \n",
            " 13  Team 1 (pts)  44269 non-null  int64 \n",
            " 14  Team 2 (pts)  44269 non-null  int64 \n",
            "dtypes: int64(9), object(6)\n",
            "memory usage: 5.1+ MB\n"
          ]
        }
      ]
    },
    {
      "cell_type": "code",
      "source": [
        ""
      ],
      "metadata": {
        "id": "5FyuWfsfSbm_"
      },
      "execution_count": null,
      "outputs": []
    },
    {
      "cell_type": "code",
      "source": [
        ""
      ],
      "metadata": {
        "id": "q6xVnQ31L36i"
      },
      "execution_count": null,
      "outputs": []
    },
    {
      "cell_type": "code",
      "source": [
        "df"
      ],
      "metadata": {
        "colab": {
          "base_uri": "https://localhost:8080/"
        },
        "id": "6bmzYRNjL30z",
        "outputId": "3a8698f3-a179-464e-f6cf-bfdcf17fb865"
      },
      "execution_count": null,
      "outputs": [
        {
          "output_type": "execute_result",
          "data": {
            "text/plain": [
              "       Round                     Date                Team 1   FT   HT  \\\n",
              "0          1  (Sat) 19 Aug 1995 (W33)       Aston Villa FC   3-1  3-0   \n",
              "1          1  (Sat) 19 Aug 1995 (W33)  Blackburn Rovers FC   1-0  1-0   \n",
              "2          1  (Sat) 19 Aug 1995 (W33)           Chelsea FC   0-0  0-0   \n",
              "3          1  (Sat) 19 Aug 1995 (W33)         Liverpool FC   1-0  0-0   \n",
              "4          1  (Sat) 19 Aug 1995 (W33)   Manchester City FC   1-1  0-1   \n",
              "...      ...                      ...                   ...  ...  ...   \n",
              "44264     26   (Sun) 8 Mar 2020 (W10)             AC Milan   1-2  0-2   \n",
              "44265     26   (Sun) 8 Mar 2020 (W10)         UC Sampdoria   2-1  0-1   \n",
              "44266     26   (Sun) 8 Mar 2020 (W10)       Udinese Calcio   0-0  0-0   \n",
              "44267     26   (Sun) 8 Mar 2020 (W10)             Juventus   2-0  0-0   \n",
              "44268     26   (Mon) 9 Mar 2020 (W11)   US Sassuolo Calcio   3-0  1-0   \n",
              "\n",
              "                          Team 2  Year Country  FT Team 1  FT Team 2  \\\n",
              "0          Manchester United FC   1995     ENG          3          1   \n",
              "1        Queens Park Rangers FC   1995     ENG          1          0   \n",
              "2                    Everton FC   1995     ENG          0          0   \n",
              "3        Sheffield Wednesday FC   1995     ENG          1          0   \n",
              "4          Tottenham Hotspur FC   1995     ENG          1          1   \n",
              "...                          ...   ...     ...        ...        ...   \n",
              "44264                 Genoa CFC   2019      IT          1          2   \n",
              "44265          Hellas Verona FC   2019      IT          2          1   \n",
              "44266            ACF Fiorentina   2019      IT          0          0   \n",
              "44267  FC Internazionale Milano   2019      IT          2          0   \n",
              "44268                   Brescia   2019      IT          3          0   \n",
              "\n",
              "       HT Team 1  HT Team 2  GGD  Team 1 (pts)  Team 2 (pts)  \n",
              "0              3          0    2             3             0  \n",
              "1              1          0    1             3             0  \n",
              "2              0          0    0             1             1  \n",
              "3              0          0    1             3             0  \n",
              "4              0          1    0             1             1  \n",
              "...          ...        ...  ...           ...           ...  \n",
              "44264          0          2    1             0             3  \n",
              "44265          0          1    1             3             0  \n",
              "44266          0          0    0             1             1  \n",
              "44267          0          0    2             3             0  \n",
              "44268          1          0    3             3             0  \n",
              "\n",
              "[44269 rows x 15 columns]"
            ],
            "text/html": [
              "\n",
              "  <div id=\"df-15514fce-54b8-4708-8c0a-6bc9c16d641a\">\n",
              "    <div class=\"colab-df-container\">\n",
              "      <div>\n",
              "<style scoped>\n",
              "    .dataframe tbody tr th:only-of-type {\n",
              "        vertical-align: middle;\n",
              "    }\n",
              "\n",
              "    .dataframe tbody tr th {\n",
              "        vertical-align: top;\n",
              "    }\n",
              "\n",
              "    .dataframe thead th {\n",
              "        text-align: right;\n",
              "    }\n",
              "</style>\n",
              "<table border=\"1\" class=\"dataframe\">\n",
              "  <thead>\n",
              "    <tr style=\"text-align: right;\">\n",
              "      <th></th>\n",
              "      <th>Round</th>\n",
              "      <th>Date</th>\n",
              "      <th>Team 1</th>\n",
              "      <th>FT</th>\n",
              "      <th>HT</th>\n",
              "      <th>Team 2</th>\n",
              "      <th>Year</th>\n",
              "      <th>Country</th>\n",
              "      <th>FT Team 1</th>\n",
              "      <th>FT Team 2</th>\n",
              "      <th>HT Team 1</th>\n",
              "      <th>HT Team 2</th>\n",
              "      <th>GGD</th>\n",
              "      <th>Team 1 (pts)</th>\n",
              "      <th>Team 2 (pts)</th>\n",
              "    </tr>\n",
              "  </thead>\n",
              "  <tbody>\n",
              "    <tr>\n",
              "      <th>0</th>\n",
              "      <td>1</td>\n",
              "      <td>(Sat) 19 Aug 1995 (W33)</td>\n",
              "      <td>Aston Villa FC</td>\n",
              "      <td>3-1</td>\n",
              "      <td>3-0</td>\n",
              "      <td>Manchester United FC</td>\n",
              "      <td>1995</td>\n",
              "      <td>ENG</td>\n",
              "      <td>3</td>\n",
              "      <td>1</td>\n",
              "      <td>3</td>\n",
              "      <td>0</td>\n",
              "      <td>2</td>\n",
              "      <td>3</td>\n",
              "      <td>0</td>\n",
              "    </tr>\n",
              "    <tr>\n",
              "      <th>1</th>\n",
              "      <td>1</td>\n",
              "      <td>(Sat) 19 Aug 1995 (W33)</td>\n",
              "      <td>Blackburn Rovers FC</td>\n",
              "      <td>1-0</td>\n",
              "      <td>1-0</td>\n",
              "      <td>Queens Park Rangers FC</td>\n",
              "      <td>1995</td>\n",
              "      <td>ENG</td>\n",
              "      <td>1</td>\n",
              "      <td>0</td>\n",
              "      <td>1</td>\n",
              "      <td>0</td>\n",
              "      <td>1</td>\n",
              "      <td>3</td>\n",
              "      <td>0</td>\n",
              "    </tr>\n",
              "    <tr>\n",
              "      <th>2</th>\n",
              "      <td>1</td>\n",
              "      <td>(Sat) 19 Aug 1995 (W33)</td>\n",
              "      <td>Chelsea FC</td>\n",
              "      <td>0-0</td>\n",
              "      <td>0-0</td>\n",
              "      <td>Everton FC</td>\n",
              "      <td>1995</td>\n",
              "      <td>ENG</td>\n",
              "      <td>0</td>\n",
              "      <td>0</td>\n",
              "      <td>0</td>\n",
              "      <td>0</td>\n",
              "      <td>0</td>\n",
              "      <td>1</td>\n",
              "      <td>1</td>\n",
              "    </tr>\n",
              "    <tr>\n",
              "      <th>3</th>\n",
              "      <td>1</td>\n",
              "      <td>(Sat) 19 Aug 1995 (W33)</td>\n",
              "      <td>Liverpool FC</td>\n",
              "      <td>1-0</td>\n",
              "      <td>0-0</td>\n",
              "      <td>Sheffield Wednesday FC</td>\n",
              "      <td>1995</td>\n",
              "      <td>ENG</td>\n",
              "      <td>1</td>\n",
              "      <td>0</td>\n",
              "      <td>0</td>\n",
              "      <td>0</td>\n",
              "      <td>1</td>\n",
              "      <td>3</td>\n",
              "      <td>0</td>\n",
              "    </tr>\n",
              "    <tr>\n",
              "      <th>4</th>\n",
              "      <td>1</td>\n",
              "      <td>(Sat) 19 Aug 1995 (W33)</td>\n",
              "      <td>Manchester City FC</td>\n",
              "      <td>1-1</td>\n",
              "      <td>0-1</td>\n",
              "      <td>Tottenham Hotspur FC</td>\n",
              "      <td>1995</td>\n",
              "      <td>ENG</td>\n",
              "      <td>1</td>\n",
              "      <td>1</td>\n",
              "      <td>0</td>\n",
              "      <td>1</td>\n",
              "      <td>0</td>\n",
              "      <td>1</td>\n",
              "      <td>1</td>\n",
              "    </tr>\n",
              "    <tr>\n",
              "      <th>...</th>\n",
              "      <td>...</td>\n",
              "      <td>...</td>\n",
              "      <td>...</td>\n",
              "      <td>...</td>\n",
              "      <td>...</td>\n",
              "      <td>...</td>\n",
              "      <td>...</td>\n",
              "      <td>...</td>\n",
              "      <td>...</td>\n",
              "      <td>...</td>\n",
              "      <td>...</td>\n",
              "      <td>...</td>\n",
              "      <td>...</td>\n",
              "      <td>...</td>\n",
              "      <td>...</td>\n",
              "    </tr>\n",
              "    <tr>\n",
              "      <th>44264</th>\n",
              "      <td>26</td>\n",
              "      <td>(Sun) 8 Mar 2020 (W10)</td>\n",
              "      <td>AC Milan</td>\n",
              "      <td>1-2</td>\n",
              "      <td>0-2</td>\n",
              "      <td>Genoa CFC</td>\n",
              "      <td>2019</td>\n",
              "      <td>IT</td>\n",
              "      <td>1</td>\n",
              "      <td>2</td>\n",
              "      <td>0</td>\n",
              "      <td>2</td>\n",
              "      <td>1</td>\n",
              "      <td>0</td>\n",
              "      <td>3</td>\n",
              "    </tr>\n",
              "    <tr>\n",
              "      <th>44265</th>\n",
              "      <td>26</td>\n",
              "      <td>(Sun) 8 Mar 2020 (W10)</td>\n",
              "      <td>UC Sampdoria</td>\n",
              "      <td>2-1</td>\n",
              "      <td>0-1</td>\n",
              "      <td>Hellas Verona FC</td>\n",
              "      <td>2019</td>\n",
              "      <td>IT</td>\n",
              "      <td>2</td>\n",
              "      <td>1</td>\n",
              "      <td>0</td>\n",
              "      <td>1</td>\n",
              "      <td>1</td>\n",
              "      <td>3</td>\n",
              "      <td>0</td>\n",
              "    </tr>\n",
              "    <tr>\n",
              "      <th>44266</th>\n",
              "      <td>26</td>\n",
              "      <td>(Sun) 8 Mar 2020 (W10)</td>\n",
              "      <td>Udinese Calcio</td>\n",
              "      <td>0-0</td>\n",
              "      <td>0-0</td>\n",
              "      <td>ACF Fiorentina</td>\n",
              "      <td>2019</td>\n",
              "      <td>IT</td>\n",
              "      <td>0</td>\n",
              "      <td>0</td>\n",
              "      <td>0</td>\n",
              "      <td>0</td>\n",
              "      <td>0</td>\n",
              "      <td>1</td>\n",
              "      <td>1</td>\n",
              "    </tr>\n",
              "    <tr>\n",
              "      <th>44267</th>\n",
              "      <td>26</td>\n",
              "      <td>(Sun) 8 Mar 2020 (W10)</td>\n",
              "      <td>Juventus</td>\n",
              "      <td>2-0</td>\n",
              "      <td>0-0</td>\n",
              "      <td>FC Internazionale Milano</td>\n",
              "      <td>2019</td>\n",
              "      <td>IT</td>\n",
              "      <td>2</td>\n",
              "      <td>0</td>\n",
              "      <td>0</td>\n",
              "      <td>0</td>\n",
              "      <td>2</td>\n",
              "      <td>3</td>\n",
              "      <td>0</td>\n",
              "    </tr>\n",
              "    <tr>\n",
              "      <th>44268</th>\n",
              "      <td>26</td>\n",
              "      <td>(Mon) 9 Mar 2020 (W11)</td>\n",
              "      <td>US Sassuolo Calcio</td>\n",
              "      <td>3-0</td>\n",
              "      <td>1-0</td>\n",
              "      <td>Brescia</td>\n",
              "      <td>2019</td>\n",
              "      <td>IT</td>\n",
              "      <td>3</td>\n",
              "      <td>0</td>\n",
              "      <td>1</td>\n",
              "      <td>0</td>\n",
              "      <td>3</td>\n",
              "      <td>3</td>\n",
              "      <td>0</td>\n",
              "    </tr>\n",
              "  </tbody>\n",
              "</table>\n",
              "<p>44269 rows × 15 columns</p>\n",
              "</div>\n",
              "      <button class=\"colab-df-convert\" onclick=\"convertToInteractive('df-15514fce-54b8-4708-8c0a-6bc9c16d641a')\"\n",
              "              title=\"Convert this dataframe to an interactive table.\"\n",
              "              style=\"display:none;\">\n",
              "        \n",
              "  <svg xmlns=\"http://www.w3.org/2000/svg\" height=\"24px\"viewBox=\"0 0 24 24\"\n",
              "       width=\"24px\">\n",
              "    <path d=\"M0 0h24v24H0V0z\" fill=\"none\"/>\n",
              "    <path d=\"M18.56 5.44l.94 2.06.94-2.06 2.06-.94-2.06-.94-.94-2.06-.94 2.06-2.06.94zm-11 1L8.5 8.5l.94-2.06 2.06-.94-2.06-.94L8.5 2.5l-.94 2.06-2.06.94zm10 10l.94 2.06.94-2.06 2.06-.94-2.06-.94-.94-2.06-.94 2.06-2.06.94z\"/><path d=\"M17.41 7.96l-1.37-1.37c-.4-.4-.92-.59-1.43-.59-.52 0-1.04.2-1.43.59L10.3 9.45l-7.72 7.72c-.78.78-.78 2.05 0 2.83L4 21.41c.39.39.9.59 1.41.59.51 0 1.02-.2 1.41-.59l7.78-7.78 2.81-2.81c.8-.78.8-2.07 0-2.86zM5.41 20L4 18.59l7.72-7.72 1.47 1.35L5.41 20z\"/>\n",
              "  </svg>\n",
              "      </button>\n",
              "      \n",
              "  <style>\n",
              "    .colab-df-container {\n",
              "      display:flex;\n",
              "      flex-wrap:wrap;\n",
              "      gap: 12px;\n",
              "    }\n",
              "\n",
              "    .colab-df-convert {\n",
              "      background-color: #E8F0FE;\n",
              "      border: none;\n",
              "      border-radius: 50%;\n",
              "      cursor: pointer;\n",
              "      display: none;\n",
              "      fill: #1967D2;\n",
              "      height: 32px;\n",
              "      padding: 0 0 0 0;\n",
              "      width: 32px;\n",
              "    }\n",
              "\n",
              "    .colab-df-convert:hover {\n",
              "      background-color: #E2EBFA;\n",
              "      box-shadow: 0px 1px 2px rgba(60, 64, 67, 0.3), 0px 1px 3px 1px rgba(60, 64, 67, 0.15);\n",
              "      fill: #174EA6;\n",
              "    }\n",
              "\n",
              "    [theme=dark] .colab-df-convert {\n",
              "      background-color: #3B4455;\n",
              "      fill: #D2E3FC;\n",
              "    }\n",
              "\n",
              "    [theme=dark] .colab-df-convert:hover {\n",
              "      background-color: #434B5C;\n",
              "      box-shadow: 0px 1px 3px 1px rgba(0, 0, 0, 0.15);\n",
              "      filter: drop-shadow(0px 1px 2px rgba(0, 0, 0, 0.3));\n",
              "      fill: #FFFFFF;\n",
              "    }\n",
              "  </style>\n",
              "\n",
              "      <script>\n",
              "        const buttonEl =\n",
              "          document.querySelector('#df-15514fce-54b8-4708-8c0a-6bc9c16d641a button.colab-df-convert');\n",
              "        buttonEl.style.display =\n",
              "          google.colab.kernel.accessAllowed ? 'block' : 'none';\n",
              "\n",
              "        async function convertToInteractive(key) {\n",
              "          const element = document.querySelector('#df-15514fce-54b8-4708-8c0a-6bc9c16d641a');\n",
              "          const dataTable =\n",
              "            await google.colab.kernel.invokeFunction('convertToInteractive',\n",
              "                                                     [key], {});\n",
              "          if (!dataTable) return;\n",
              "\n",
              "          const docLinkHtml = 'Like what you see? Visit the ' +\n",
              "            '<a target=\"_blank\" href=https://colab.research.google.com/notebooks/data_table.ipynb>data table notebook</a>'\n",
              "            + ' to learn more about interactive tables.';\n",
              "          element.innerHTML = '';\n",
              "          dataTable['output_type'] = 'display_data';\n",
              "          await google.colab.output.renderOutput(dataTable, element);\n",
              "          const docLink = document.createElement('div');\n",
              "          docLink.innerHTML = docLinkHtml;\n",
              "          element.appendChild(docLink);\n",
              "        }\n",
              "      </script>\n",
              "    </div>\n",
              "  </div>\n",
              "  "
            ]
          },
          "metadata": {},
          "execution_count": 81
        }
      ]
    },
    {
      "cell_type": "code",
      "source": [
        ""
      ],
      "metadata": {
        "id": "elGOrfinL3yJ"
      },
      "execution_count": null,
      "outputs": []
    },
    {
      "cell_type": "code",
      "source": [
        ""
      ],
      "metadata": {
        "id": "0EvesrfnL3vD"
      },
      "execution_count": null,
      "outputs": []
    },
    {
      "cell_type": "code",
      "source": [
        ""
      ],
      "metadata": {
        "id": "yn_8ecKCL3tP"
      },
      "execution_count": null,
      "outputs": []
    },
    {
      "cell_type": "code",
      "source": [
        ""
      ],
      "metadata": {
        "id": "eW-BZjYGL3p6"
      },
      "execution_count": null,
      "outputs": []
    },
    {
      "cell_type": "code",
      "source": [
        ""
      ],
      "metadata": {
        "id": "Wknuf-nML3nq"
      },
      "execution_count": null,
      "outputs": []
    },
    {
      "cell_type": "code",
      "source": [
        ""
      ],
      "metadata": {
        "id": "35gXKURFL3kv"
      },
      "execution_count": null,
      "outputs": []
    },
    {
      "cell_type": "code",
      "source": [
        ""
      ],
      "metadata": {
        "id": "QvD9O17BL3iD"
      },
      "execution_count": null,
      "outputs": []
    }
  ]
}