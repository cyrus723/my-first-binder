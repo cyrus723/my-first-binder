{
  "nbformat": 4,
  "nbformat_minor": 0,
  "metadata": {
    "kernelspec": {
      "display_name": "Python 3",
      "language": "python",
      "name": "python3"
    },
    "language_info": {
      "codemirror_mode": {
        "name": "ipython",
        "version": 3
      },
      "file_extension": ".py",
      "mimetype": "text/x-python",
      "name": "python",
      "nbconvert_exporter": "python",
      "pygments_lexer": "ipython3",
      "version": "3.7.2"
    },
    "colab": {
      "name": "var_various_ways1.ipynb",
      "provenance": [],
      "collapsed_sections": [],
      "include_colab_link": true
    }
  },
  "cells": [
    {
      "cell_type": "markdown",
      "metadata": {
        "id": "view-in-github",
        "colab_type": "text"
      },
      "source": [
        "<a href=\"https://colab.research.google.com/github/cyrus723/my-first-binder/blob/main/var_various_ways1.ipynb\" target=\"_parent\"><img src=\"https://colab.research.google.com/assets/colab-badge.svg\" alt=\"Open In Colab\"/></a>"
      ]
    },
    {
      "cell_type": "markdown",
      "metadata": {
        "id": "CZXIzNOM92Lp"
      },
      "source": [
        "# Value at Risk, VaR\n",
        "In this code, using Geometric Brownian Motion, simulate returns and create distribution. And then find the VaR.\n"
      ]
    },
    {
      "cell_type": "markdown",
      "metadata": {
        "id": "Ye-MyiEscdyp"
      },
      "source": [
        "###VaR\n",
        "\n",
        "Value at risk (VaR): Loss that will be incurred in the event of an extreme adverse price change with some given, usually low, probability. i.e., the worst-case outcome.\n",
        "\n",
        "1% VaR means that 99% of returns will exceed the VaR and 1% of returns will be worse.\n",
        "\n",
        "Assuming that portfolio returns are normally distributed, the VaR is fully determined by the mean and SD of the distribution. \n",
        "\n",
        "For example, VaR(1%, normal) = Mean - 2.33SD\n",
        "\n",
        "To obtain a sample estimate of 1%  VaR, we sort the observations from high to low. The VaR is the return at the 1st percentile of the sample distribution.\n",
        "\n",
        "For example, with 95% confidence, we expect that our worst daily loss will not exceed 4%. If we invest 100 dollars, we are 95% confident that our worst daily loss will not exceed 4 dollars (100 dollars x -4%).\n",
        "\n"
      ]
    },
    {
      "cell_type": "markdown",
      "source": [
        "|Confidence Level |Two sided CV   |One sided CV   | \n",
        "|---|---|---|\n",
        "| 90%  |1.64   |1.28   |  \n",
        "| 95%  |1.96   |1.64   |  \n",
        "| 99%  |2.58   |2.33   |  "
      ],
      "metadata": {
        "id": "tU9awDWYPwQ4"
      }
    },
    {
      "cell_type": "code",
      "metadata": {
        "id": "i2wlPW-1Mz_b",
        "colab": {
          "base_uri": "https://localhost:8080/"
        },
        "outputId": "90d42d35-00a0-4a5f-ddad-ccea6986e16c"
      },
      "source": [
        "!pip install pandas-datareader\n",
        "!pip install --upgrade pandas-datareader \n",
        "!pip install yfinance"
      ],
      "execution_count": 1,
      "outputs": [
        {
          "output_type": "stream",
          "name": "stdout",
          "text": [
            "Looking in indexes: https://pypi.org/simple, https://us-python.pkg.dev/colab-wheels/public/simple/\n",
            "Requirement already satisfied: pandas-datareader in /usr/local/lib/python3.7/dist-packages (0.9.0)\n",
            "Requirement already satisfied: requests>=2.19.0 in /usr/local/lib/python3.7/dist-packages (from pandas-datareader) (2.23.0)\n",
            "Requirement already satisfied: lxml in /usr/local/lib/python3.7/dist-packages (from pandas-datareader) (4.2.6)\n",
            "Requirement already satisfied: pandas>=0.23 in /usr/local/lib/python3.7/dist-packages (from pandas-datareader) (1.3.5)\n",
            "Requirement already satisfied: python-dateutil>=2.7.3 in /usr/local/lib/python3.7/dist-packages (from pandas>=0.23->pandas-datareader) (2.8.2)\n",
            "Requirement already satisfied: numpy>=1.17.3 in /usr/local/lib/python3.7/dist-packages (from pandas>=0.23->pandas-datareader) (1.21.6)\n",
            "Requirement already satisfied: pytz>=2017.3 in /usr/local/lib/python3.7/dist-packages (from pandas>=0.23->pandas-datareader) (2022.1)\n",
            "Requirement already satisfied: six>=1.5 in /usr/local/lib/python3.7/dist-packages (from python-dateutil>=2.7.3->pandas>=0.23->pandas-datareader) (1.15.0)\n",
            "Requirement already satisfied: urllib3!=1.25.0,!=1.25.1,<1.26,>=1.21.1 in /usr/local/lib/python3.7/dist-packages (from requests>=2.19.0->pandas-datareader) (1.24.3)\n",
            "Requirement already satisfied: idna<3,>=2.5 in /usr/local/lib/python3.7/dist-packages (from requests>=2.19.0->pandas-datareader) (2.10)\n",
            "Requirement already satisfied: certifi>=2017.4.17 in /usr/local/lib/python3.7/dist-packages (from requests>=2.19.0->pandas-datareader) (2022.5.18.1)\n",
            "Requirement already satisfied: chardet<4,>=3.0.2 in /usr/local/lib/python3.7/dist-packages (from requests>=2.19.0->pandas-datareader) (3.0.4)\n",
            "Looking in indexes: https://pypi.org/simple, https://us-python.pkg.dev/colab-wheels/public/simple/\n",
            "Requirement already satisfied: pandas-datareader in /usr/local/lib/python3.7/dist-packages (0.9.0)\n",
            "Collecting pandas-datareader\n",
            "  Downloading pandas_datareader-0.10.0-py3-none-any.whl (109 kB)\n",
            "\u001b[K     |████████████████████████████████| 109 kB 4.2 MB/s \n",
            "\u001b[?25hRequirement already satisfied: lxml in /usr/local/lib/python3.7/dist-packages (from pandas-datareader) (4.2.6)\n",
            "Requirement already satisfied: requests>=2.19.0 in /usr/local/lib/python3.7/dist-packages (from pandas-datareader) (2.23.0)\n",
            "Requirement already satisfied: pandas>=0.23 in /usr/local/lib/python3.7/dist-packages (from pandas-datareader) (1.3.5)\n",
            "Requirement already satisfied: python-dateutil>=2.7.3 in /usr/local/lib/python3.7/dist-packages (from pandas>=0.23->pandas-datareader) (2.8.2)\n",
            "Requirement already satisfied: numpy>=1.17.3 in /usr/local/lib/python3.7/dist-packages (from pandas>=0.23->pandas-datareader) (1.21.6)\n",
            "Requirement already satisfied: pytz>=2017.3 in /usr/local/lib/python3.7/dist-packages (from pandas>=0.23->pandas-datareader) (2022.1)\n",
            "Requirement already satisfied: six>=1.5 in /usr/local/lib/python3.7/dist-packages (from python-dateutil>=2.7.3->pandas>=0.23->pandas-datareader) (1.15.0)\n",
            "Requirement already satisfied: idna<3,>=2.5 in /usr/local/lib/python3.7/dist-packages (from requests>=2.19.0->pandas-datareader) (2.10)\n",
            "Requirement already satisfied: chardet<4,>=3.0.2 in /usr/local/lib/python3.7/dist-packages (from requests>=2.19.0->pandas-datareader) (3.0.4)\n",
            "Requirement already satisfied: certifi>=2017.4.17 in /usr/local/lib/python3.7/dist-packages (from requests>=2.19.0->pandas-datareader) (2022.5.18.1)\n",
            "Requirement already satisfied: urllib3!=1.25.0,!=1.25.1,<1.26,>=1.21.1 in /usr/local/lib/python3.7/dist-packages (from requests>=2.19.0->pandas-datareader) (1.24.3)\n",
            "Installing collected packages: pandas-datareader\n",
            "  Attempting uninstall: pandas-datareader\n",
            "    Found existing installation: pandas-datareader 0.9.0\n",
            "    Uninstalling pandas-datareader-0.9.0:\n",
            "      Successfully uninstalled pandas-datareader-0.9.0\n",
            "Successfully installed pandas-datareader-0.10.0\n",
            "Looking in indexes: https://pypi.org/simple, https://us-python.pkg.dev/colab-wheels/public/simple/\n",
            "Collecting yfinance\n",
            "  Downloading yfinance-0.1.70-py2.py3-none-any.whl (26 kB)\n",
            "Requirement already satisfied: numpy>=1.15 in /usr/local/lib/python3.7/dist-packages (from yfinance) (1.21.6)\n",
            "Collecting requests>=2.26\n",
            "  Downloading requests-2.27.1-py2.py3-none-any.whl (63 kB)\n",
            "\u001b[K     |████████████████████████████████| 63 kB 311 kB/s \n",
            "\u001b[?25hCollecting lxml>=4.5.1\n",
            "  Downloading lxml-4.8.0-cp37-cp37m-manylinux_2_17_x86_64.manylinux2014_x86_64.manylinux_2_24_x86_64.whl (6.4 MB)\n",
            "\u001b[K     |████████████████████████████████| 6.4 MB 29.7 MB/s \n",
            "\u001b[?25hRequirement already satisfied: pandas>=0.24.0 in /usr/local/lib/python3.7/dist-packages (from yfinance) (1.3.5)\n",
            "Requirement already satisfied: multitasking>=0.0.7 in /usr/local/lib/python3.7/dist-packages (from yfinance) (0.0.10)\n",
            "Requirement already satisfied: python-dateutil>=2.7.3 in /usr/local/lib/python3.7/dist-packages (from pandas>=0.24.0->yfinance) (2.8.2)\n",
            "Requirement already satisfied: pytz>=2017.3 in /usr/local/lib/python3.7/dist-packages (from pandas>=0.24.0->yfinance) (2022.1)\n",
            "Requirement already satisfied: six>=1.5 in /usr/local/lib/python3.7/dist-packages (from python-dateutil>=2.7.3->pandas>=0.24.0->yfinance) (1.15.0)\n",
            "Requirement already satisfied: certifi>=2017.4.17 in /usr/local/lib/python3.7/dist-packages (from requests>=2.26->yfinance) (2022.5.18.1)\n",
            "Requirement already satisfied: idna<4,>=2.5 in /usr/local/lib/python3.7/dist-packages (from requests>=2.26->yfinance) (2.10)\n",
            "Requirement already satisfied: charset-normalizer~=2.0.0 in /usr/local/lib/python3.7/dist-packages (from requests>=2.26->yfinance) (2.0.12)\n",
            "Requirement already satisfied: urllib3<1.27,>=1.21.1 in /usr/local/lib/python3.7/dist-packages (from requests>=2.26->yfinance) (1.24.3)\n",
            "Installing collected packages: requests, lxml, yfinance\n",
            "  Attempting uninstall: requests\n",
            "    Found existing installation: requests 2.23.0\n",
            "    Uninstalling requests-2.23.0:\n",
            "      Successfully uninstalled requests-2.23.0\n",
            "  Attempting uninstall: lxml\n",
            "    Found existing installation: lxml 4.2.6\n",
            "    Uninstalling lxml-4.2.6:\n",
            "      Successfully uninstalled lxml-4.2.6\n",
            "\u001b[31mERROR: pip's dependency resolver does not currently take into account all the packages that are installed. This behaviour is the source of the following dependency conflicts.\n",
            "google-colab 1.0.0 requires requests~=2.23.0, but you have requests 2.27.1 which is incompatible.\n",
            "datascience 0.10.6 requires folium==0.2.1, but you have folium 0.8.3 which is incompatible.\u001b[0m\n",
            "Successfully installed lxml-4.8.0 requests-2.27.1 yfinance-0.1.70\n"
          ]
        }
      ]
    },
    {
      "cell_type": "code",
      "source": [
        "import math\n",
        "import numpy as np\n",
        "import numpy.random as npr\n",
        "import pandas as pd  \n",
        "import pandas_datareader as pdr\n",
        "import yfinance as yf\n",
        "\n",
        "import scipy as sp\n",
        "from scipy.stats import norm\n",
        "\n",
        "from pylab import plt, mpl\n",
        "\n",
        "plt.style.use('seaborn')\n",
        "mpl.rcParams['font.family'] = 'Deja Vu'\n",
        "%matplotlib inline"
      ],
      "metadata": {
        "id": "KzheAcx--5Da"
      },
      "execution_count": 2,
      "outputs": []
    },
    {
      "cell_type": "code",
      "source": [
        "\n",
        "sp.stats.norm.ppf(1-.10/2).round(2)"
      ],
      "metadata": {
        "colab": {
          "base_uri": "https://localhost:8080/"
        },
        "id": "I0QCB0v5T-oi",
        "outputId": "3fa984b4-4863-4b2b-89b1-5cc8c963cb8a"
      },
      "execution_count": 3,
      "outputs": [
        {
          "output_type": "execute_result",
          "data": {
            "text/plain": [
              "1.64"
            ]
          },
          "metadata": {},
          "execution_count": 3
        }
      ]
    },
    {
      "cell_type": "code",
      "source": [
        "sp.stats.norm.ppf(1-.05/2).round(2)"
      ],
      "metadata": {
        "colab": {
          "base_uri": "https://localhost:8080/"
        },
        "id": "fORGJAkLT-ie",
        "outputId": "f4567fa1-27db-40a8-d553-6790c165998a"
      },
      "execution_count": 4,
      "outputs": [
        {
          "output_type": "execute_result",
          "data": {
            "text/plain": [
              "1.96"
            ]
          },
          "metadata": {},
          "execution_count": 4
        }
      ]
    },
    {
      "cell_type": "code",
      "source": [
        "sp.stats.norm.ppf(1-.01/2).round(2)"
      ],
      "metadata": {
        "colab": {
          "base_uri": "https://localhost:8080/"
        },
        "id": "Z3GUG6eoT-R0",
        "outputId": "bed8647c-c91a-4122-d84e-d9c738a0aba6"
      },
      "execution_count": 5,
      "outputs": [
        {
          "output_type": "execute_result",
          "data": {
            "text/plain": [
              "2.58"
            ]
          },
          "metadata": {},
          "execution_count": 5
        }
      ]
    },
    {
      "cell_type": "code",
      "source": [
        "sp.stats.norm.ppf(1-.10).round(2)"
      ],
      "metadata": {
        "colab": {
          "base_uri": "https://localhost:8080/"
        },
        "id": "G-2-LaN2UTfL",
        "outputId": "614e0ba0-196c-420f-e898-d5609599c304"
      },
      "execution_count": 6,
      "outputs": [
        {
          "output_type": "execute_result",
          "data": {
            "text/plain": [
              "1.28"
            ]
          },
          "metadata": {},
          "execution_count": 6
        }
      ]
    },
    {
      "cell_type": "code",
      "source": [
        "sp.stats.norm.ppf(1-.05).round(2)"
      ],
      "metadata": {
        "colab": {
          "base_uri": "https://localhost:8080/"
        },
        "id": "zhqOqzlOUTbG",
        "outputId": "0e2263e1-5041-42d7-b7e0-a34ded2ead1c"
      },
      "execution_count": 7,
      "outputs": [
        {
          "output_type": "execute_result",
          "data": {
            "text/plain": [
              "1.64"
            ]
          },
          "metadata": {},
          "execution_count": 7
        }
      ]
    },
    {
      "cell_type": "code",
      "source": [
        "sp.stats.norm.ppf(1-.01).round(2)"
      ],
      "metadata": {
        "colab": {
          "base_uri": "https://localhost:8080/"
        },
        "id": "7VkJYM8mUTWR",
        "outputId": "c9303a65-56e8-4b19-c68c-72347ce4a270"
      },
      "execution_count": 8,
      "outputs": [
        {
          "output_type": "execute_result",
          "data": {
            "text/plain": [
              "2.33"
            ]
          },
          "metadata": {},
          "execution_count": 8
        }
      ]
    },
    {
      "cell_type": "code",
      "source": [
        ""
      ],
      "metadata": {
        "id": "82QN9_35UTFp"
      },
      "execution_count": 8,
      "outputs": []
    },
    {
      "cell_type": "code",
      "metadata": {
        "id": "qXs2DPrQ3k4j"
      },
      "source": [
        "def get_prices(tickers, freq_p, st_day, end_day):\n",
        "    mystock = pd.DataFrame()\n",
        "    for t in tickers:\n",
        "        mystock[t] = yf.download(t, start=st_day, end=end_day, interval=freq_p)['Adj Close']\n",
        "    return mystock"
      ],
      "execution_count": 9,
      "outputs": []
    },
    {
      "cell_type": "code",
      "metadata": {
        "id": "kEPgMkoq92Lw"
      },
      "source": [
        "# for short time horizons er will be small, and therefore VaR estimations\n",
        "# will not be much influenced by it\n",
        "# assuming that portfolio is normally distributed, \n",
        "\n",
        "def var_calc(CL, days, p_val, vol, t):\n",
        "\n",
        "  VaR = p_val * vol * np.sqrt(t/days) * norm.ppf(CL)\n",
        "  percent_loss = -VaR/p_val *100\n",
        "\n",
        "  print(\"Assuming that we invest {:.2f}, for the next {:.1f} trading days\".format(p_val, days))\n",
        "  print(\"At {:.3f} confidence level, loss will not exceed {:,.2f}\".format(CL, VaR))\n",
        "  print(\"This represents a move of {:.2f} standard deviations below the expected return,\\\n",
        "  or a loss of {:.2f}%.\".format(norm.ppf(CL), percent_loss))\n",
        " \n",
        "  return"
      ],
      "execution_count": 68,
      "outputs": []
    },
    {
      "cell_type": "code",
      "metadata": {
        "id": "ZlWV2Lgl3k7j",
        "colab": {
          "base_uri": "https://localhost:8080/",
          "height": 1000
        },
        "outputId": "91b7a4e8-ecf2-4412-8a98-57e8a13d377a"
      },
      "source": [
        "tic=['SPY', 'TLT', 'TSLA', 'AAPL', 'NVDA', 'BAC', 'WMT']\n",
        "prices= get_prices(tic, freq_p='1wk', st_day=\"2011-01-01\", end_day=\"2022-05-31\")  # id , 1wk, 1mo\n",
        "print(prices)\n",
        "\n",
        "print(len(tic))\n",
        "#prices.rename(columns={\"TSLA\": \"Your_Stock\", \"SPY\":\"INDEX\"}, inplace=True)\n",
        "\n",
        "prices.info()\n",
        "prices.tail(20)"
      ],
      "execution_count": 76,
      "outputs": [
        {
          "output_type": "stream",
          "name": "stdout",
          "text": [
            "[*********************100%***********************]  1 of 1 completed\n",
            "[*********************100%***********************]  1 of 1 completed\n",
            "[*********************100%***********************]  1 of 1 completed\n",
            "[*********************100%***********************]  1 of 1 completed\n",
            "[*********************100%***********************]  1 of 1 completed\n",
            "[*********************100%***********************]  1 of 1 completed\n",
            "[*********************100%***********************]  1 of 1 completed\n",
            "                   SPY         TLT        TSLA        AAPL        NVDA  \\\n",
            "Date                                                                     \n",
            "2011-01-01  102.503967   69.571968    5.648000   10.263882    4.562420   \n",
            "2011-01-08  104.245461   69.187737    5.150000   10.641311    5.416582   \n",
            "2011-01-15  103.495644   68.946732    4.608000    9.976838    5.102013   \n",
            "2011-01-22  102.971565   69.248016    4.802000   10.263269    5.455616   \n",
            "2011-01-29  105.736938   66.905075    4.692000   10.580847    5.894179   \n",
            "...                ...         ...         ...         ...         ...   \n",
            "2022-04-23  412.000000  119.247002  870.760010  157.418701  185.470001   \n",
            "2022-04-30  411.339996  113.476822  865.650024  157.049255  186.750000   \n",
            "2022-05-07  401.720001  115.980003  769.590027  147.110001  177.059998   \n",
            "2022-05-14  389.630005  118.510002  663.900024  137.589996  166.940002   \n",
            "2022-05-21  415.260010  119.080002  759.630005  149.639999  188.110001   \n",
            "\n",
            "                  BAC         WMT  \n",
            "Date                               \n",
            "2011-01-01  12.212249   41.478462  \n",
            "2011-01-08  13.069250   42.038353  \n",
            "2011-01-15  12.212249   42.743984  \n",
            "2011-01-22  11.655203   43.487949  \n",
            "2011-01-29  12.246528   42.974075  \n",
            "...               ...         ...  \n",
            "2022-04-23  35.680000  152.435913  \n",
            "2022-04-30  37.450001  149.018326  \n",
            "2022-05-07  35.169998  148.050003  \n",
            "2022-05-14  33.860001  119.199997  \n",
            "2022-05-21  37.020000  128.479996  \n",
            "\n",
            "[640 rows x 7 columns]\n",
            "7\n",
            "<class 'pandas.core.frame.DataFrame'>\n",
            "DatetimeIndex: 640 entries, 2011-01-01 to 2022-05-21\n",
            "Data columns (total 7 columns):\n",
            " #   Column  Non-Null Count  Dtype  \n",
            "---  ------  --------------  -----  \n",
            " 0   SPY     595 non-null    float64\n",
            " 1   TLT     595 non-null    float64\n",
            " 2   TSLA    595 non-null    float64\n",
            " 3   AAPL    595 non-null    float64\n",
            " 4   NVDA    595 non-null    float64\n",
            " 5   BAC     595 non-null    float64\n",
            " 6   WMT     595 non-null    float64\n",
            "dtypes: float64(7)\n",
            "memory usage: 40.0 KB\n"
          ]
        },
        {
          "output_type": "execute_result",
          "data": {
            "text/plain": [
              "                   SPY         TLT         TSLA        AAPL        NVDA  \\\n",
              "Date                                                                      \n",
              "2022-01-15  436.623596  142.778458   943.900024  161.965378  233.700195   \n",
              "2022-01-22  440.581299  142.281403   846.349976  169.863693  228.361084   \n",
              "2022-01-29  447.310394  138.185822   923.320007  171.918045  243.148575   \n",
              "2022-02-05  439.095886  137.621704   860.000000  168.392593  239.449203   \n",
              "2022-02-12  432.885193  137.601791   856.979980  167.054550  236.379730   \n",
              "2022-02-19  436.394287  136.247955   809.869995  164.608154  241.528854   \n",
              "2022-02-26  430.831573  139.602676   838.289978  162.930603  229.320923   \n",
              "2022-03-05  418.769043  134.474747   795.349976  154.502991  221.000000   \n",
              "2022-03-12  443.143311  133.009491   905.390015  163.739426  264.529999   \n",
              "2022-03-18         NaN         NaN          NaN         NaN         NaN   \n",
              "2022-03-19  452.690002  128.244904  1010.640015  174.463669  276.920013   \n",
              "2022-03-26  452.920013  131.952911  1084.589966  174.054260  267.119995   \n",
              "2022-04-02  447.570007  124.907372  1025.489990  169.840454  231.190002   \n",
              "2022-04-09  437.790009  120.544792   985.000000  165.047501  212.580002   \n",
              "2022-04-16  426.040009  119.786079  1005.049988  161.552628  195.149994   \n",
              "2022-04-23  412.000000  119.247002   870.760010  157.418701  185.470001   \n",
              "2022-04-30  411.339996  113.476822   865.650024  157.049255  186.750000   \n",
              "2022-05-07  401.720001  115.980003   769.590027  147.110001  177.059998   \n",
              "2022-05-14  389.630005  118.510002   663.900024  137.589996  166.940002   \n",
              "2022-05-21  415.260010  119.080002   759.630005  149.639999  188.110001   \n",
              "\n",
              "                  BAC         WMT  \n",
              "Date                               \n",
              "2022-01-15  44.701435  139.144104  \n",
              "2022-01-22  45.646816  136.494019  \n",
              "2022-01-29  48.045090  138.290512  \n",
              "2022-02-05  47.686840  134.320358  \n",
              "2022-02-12  45.736378  136.960510  \n",
              "2022-02-19  44.800953  135.362518  \n",
              "2022-02-26  40.750755  141.754486  \n",
              "2022-03-05  40.330002  141.010086  \n",
              "2022-03-12  42.900002  144.354935  \n",
              "2022-03-18        NaN         NaN  \n",
              "2022-03-19  43.730000  142.930450  \n",
              "2022-03-26  40.900002  150.463074  \n",
              "2022-04-02  39.669998  156.839905  \n",
              "2022-04-09  37.570000  156.511093  \n",
              "2022-04-16  37.560001  156.291885  \n",
              "2022-04-23  35.680000  152.435913  \n",
              "2022-04-30  37.450001  149.018326  \n",
              "2022-05-07  35.169998  148.050003  \n",
              "2022-05-14  33.860001  119.199997  \n",
              "2022-05-21  37.020000  128.479996  "
            ],
            "text/html": [
              "\n",
              "  <div id=\"df-c1e67250-6e63-4b7f-96b1-dc99c381d126\">\n",
              "    <div class=\"colab-df-container\">\n",
              "      <div>\n",
              "<style scoped>\n",
              "    .dataframe tbody tr th:only-of-type {\n",
              "        vertical-align: middle;\n",
              "    }\n",
              "\n",
              "    .dataframe tbody tr th {\n",
              "        vertical-align: top;\n",
              "    }\n",
              "\n",
              "    .dataframe thead th {\n",
              "        text-align: right;\n",
              "    }\n",
              "</style>\n",
              "<table border=\"1\" class=\"dataframe\">\n",
              "  <thead>\n",
              "    <tr style=\"text-align: right;\">\n",
              "      <th></th>\n",
              "      <th>SPY</th>\n",
              "      <th>TLT</th>\n",
              "      <th>TSLA</th>\n",
              "      <th>AAPL</th>\n",
              "      <th>NVDA</th>\n",
              "      <th>BAC</th>\n",
              "      <th>WMT</th>\n",
              "    </tr>\n",
              "    <tr>\n",
              "      <th>Date</th>\n",
              "      <th></th>\n",
              "      <th></th>\n",
              "      <th></th>\n",
              "      <th></th>\n",
              "      <th></th>\n",
              "      <th></th>\n",
              "      <th></th>\n",
              "    </tr>\n",
              "  </thead>\n",
              "  <tbody>\n",
              "    <tr>\n",
              "      <th>2022-01-15</th>\n",
              "      <td>436.623596</td>\n",
              "      <td>142.778458</td>\n",
              "      <td>943.900024</td>\n",
              "      <td>161.965378</td>\n",
              "      <td>233.700195</td>\n",
              "      <td>44.701435</td>\n",
              "      <td>139.144104</td>\n",
              "    </tr>\n",
              "    <tr>\n",
              "      <th>2022-01-22</th>\n",
              "      <td>440.581299</td>\n",
              "      <td>142.281403</td>\n",
              "      <td>846.349976</td>\n",
              "      <td>169.863693</td>\n",
              "      <td>228.361084</td>\n",
              "      <td>45.646816</td>\n",
              "      <td>136.494019</td>\n",
              "    </tr>\n",
              "    <tr>\n",
              "      <th>2022-01-29</th>\n",
              "      <td>447.310394</td>\n",
              "      <td>138.185822</td>\n",
              "      <td>923.320007</td>\n",
              "      <td>171.918045</td>\n",
              "      <td>243.148575</td>\n",
              "      <td>48.045090</td>\n",
              "      <td>138.290512</td>\n",
              "    </tr>\n",
              "    <tr>\n",
              "      <th>2022-02-05</th>\n",
              "      <td>439.095886</td>\n",
              "      <td>137.621704</td>\n",
              "      <td>860.000000</td>\n",
              "      <td>168.392593</td>\n",
              "      <td>239.449203</td>\n",
              "      <td>47.686840</td>\n",
              "      <td>134.320358</td>\n",
              "    </tr>\n",
              "    <tr>\n",
              "      <th>2022-02-12</th>\n",
              "      <td>432.885193</td>\n",
              "      <td>137.601791</td>\n",
              "      <td>856.979980</td>\n",
              "      <td>167.054550</td>\n",
              "      <td>236.379730</td>\n",
              "      <td>45.736378</td>\n",
              "      <td>136.960510</td>\n",
              "    </tr>\n",
              "    <tr>\n",
              "      <th>2022-02-19</th>\n",
              "      <td>436.394287</td>\n",
              "      <td>136.247955</td>\n",
              "      <td>809.869995</td>\n",
              "      <td>164.608154</td>\n",
              "      <td>241.528854</td>\n",
              "      <td>44.800953</td>\n",
              "      <td>135.362518</td>\n",
              "    </tr>\n",
              "    <tr>\n",
              "      <th>2022-02-26</th>\n",
              "      <td>430.831573</td>\n",
              "      <td>139.602676</td>\n",
              "      <td>838.289978</td>\n",
              "      <td>162.930603</td>\n",
              "      <td>229.320923</td>\n",
              "      <td>40.750755</td>\n",
              "      <td>141.754486</td>\n",
              "    </tr>\n",
              "    <tr>\n",
              "      <th>2022-03-05</th>\n",
              "      <td>418.769043</td>\n",
              "      <td>134.474747</td>\n",
              "      <td>795.349976</td>\n",
              "      <td>154.502991</td>\n",
              "      <td>221.000000</td>\n",
              "      <td>40.330002</td>\n",
              "      <td>141.010086</td>\n",
              "    </tr>\n",
              "    <tr>\n",
              "      <th>2022-03-12</th>\n",
              "      <td>443.143311</td>\n",
              "      <td>133.009491</td>\n",
              "      <td>905.390015</td>\n",
              "      <td>163.739426</td>\n",
              "      <td>264.529999</td>\n",
              "      <td>42.900002</td>\n",
              "      <td>144.354935</td>\n",
              "    </tr>\n",
              "    <tr>\n",
              "      <th>2022-03-18</th>\n",
              "      <td>NaN</td>\n",
              "      <td>NaN</td>\n",
              "      <td>NaN</td>\n",
              "      <td>NaN</td>\n",
              "      <td>NaN</td>\n",
              "      <td>NaN</td>\n",
              "      <td>NaN</td>\n",
              "    </tr>\n",
              "    <tr>\n",
              "      <th>2022-03-19</th>\n",
              "      <td>452.690002</td>\n",
              "      <td>128.244904</td>\n",
              "      <td>1010.640015</td>\n",
              "      <td>174.463669</td>\n",
              "      <td>276.920013</td>\n",
              "      <td>43.730000</td>\n",
              "      <td>142.930450</td>\n",
              "    </tr>\n",
              "    <tr>\n",
              "      <th>2022-03-26</th>\n",
              "      <td>452.920013</td>\n",
              "      <td>131.952911</td>\n",
              "      <td>1084.589966</td>\n",
              "      <td>174.054260</td>\n",
              "      <td>267.119995</td>\n",
              "      <td>40.900002</td>\n",
              "      <td>150.463074</td>\n",
              "    </tr>\n",
              "    <tr>\n",
              "      <th>2022-04-02</th>\n",
              "      <td>447.570007</td>\n",
              "      <td>124.907372</td>\n",
              "      <td>1025.489990</td>\n",
              "      <td>169.840454</td>\n",
              "      <td>231.190002</td>\n",
              "      <td>39.669998</td>\n",
              "      <td>156.839905</td>\n",
              "    </tr>\n",
              "    <tr>\n",
              "      <th>2022-04-09</th>\n",
              "      <td>437.790009</td>\n",
              "      <td>120.544792</td>\n",
              "      <td>985.000000</td>\n",
              "      <td>165.047501</td>\n",
              "      <td>212.580002</td>\n",
              "      <td>37.570000</td>\n",
              "      <td>156.511093</td>\n",
              "    </tr>\n",
              "    <tr>\n",
              "      <th>2022-04-16</th>\n",
              "      <td>426.040009</td>\n",
              "      <td>119.786079</td>\n",
              "      <td>1005.049988</td>\n",
              "      <td>161.552628</td>\n",
              "      <td>195.149994</td>\n",
              "      <td>37.560001</td>\n",
              "      <td>156.291885</td>\n",
              "    </tr>\n",
              "    <tr>\n",
              "      <th>2022-04-23</th>\n",
              "      <td>412.000000</td>\n",
              "      <td>119.247002</td>\n",
              "      <td>870.760010</td>\n",
              "      <td>157.418701</td>\n",
              "      <td>185.470001</td>\n",
              "      <td>35.680000</td>\n",
              "      <td>152.435913</td>\n",
              "    </tr>\n",
              "    <tr>\n",
              "      <th>2022-04-30</th>\n",
              "      <td>411.339996</td>\n",
              "      <td>113.476822</td>\n",
              "      <td>865.650024</td>\n",
              "      <td>157.049255</td>\n",
              "      <td>186.750000</td>\n",
              "      <td>37.450001</td>\n",
              "      <td>149.018326</td>\n",
              "    </tr>\n",
              "    <tr>\n",
              "      <th>2022-05-07</th>\n",
              "      <td>401.720001</td>\n",
              "      <td>115.980003</td>\n",
              "      <td>769.590027</td>\n",
              "      <td>147.110001</td>\n",
              "      <td>177.059998</td>\n",
              "      <td>35.169998</td>\n",
              "      <td>148.050003</td>\n",
              "    </tr>\n",
              "    <tr>\n",
              "      <th>2022-05-14</th>\n",
              "      <td>389.630005</td>\n",
              "      <td>118.510002</td>\n",
              "      <td>663.900024</td>\n",
              "      <td>137.589996</td>\n",
              "      <td>166.940002</td>\n",
              "      <td>33.860001</td>\n",
              "      <td>119.199997</td>\n",
              "    </tr>\n",
              "    <tr>\n",
              "      <th>2022-05-21</th>\n",
              "      <td>415.260010</td>\n",
              "      <td>119.080002</td>\n",
              "      <td>759.630005</td>\n",
              "      <td>149.639999</td>\n",
              "      <td>188.110001</td>\n",
              "      <td>37.020000</td>\n",
              "      <td>128.479996</td>\n",
              "    </tr>\n",
              "  </tbody>\n",
              "</table>\n",
              "</div>\n",
              "      <button class=\"colab-df-convert\" onclick=\"convertToInteractive('df-c1e67250-6e63-4b7f-96b1-dc99c381d126')\"\n",
              "              title=\"Convert this dataframe to an interactive table.\"\n",
              "              style=\"display:none;\">\n",
              "        \n",
              "  <svg xmlns=\"http://www.w3.org/2000/svg\" height=\"24px\"viewBox=\"0 0 24 24\"\n",
              "       width=\"24px\">\n",
              "    <path d=\"M0 0h24v24H0V0z\" fill=\"none\"/>\n",
              "    <path d=\"M18.56 5.44l.94 2.06.94-2.06 2.06-.94-2.06-.94-.94-2.06-.94 2.06-2.06.94zm-11 1L8.5 8.5l.94-2.06 2.06-.94-2.06-.94L8.5 2.5l-.94 2.06-2.06.94zm10 10l.94 2.06.94-2.06 2.06-.94-2.06-.94-.94-2.06-.94 2.06-2.06.94z\"/><path d=\"M17.41 7.96l-1.37-1.37c-.4-.4-.92-.59-1.43-.59-.52 0-1.04.2-1.43.59L10.3 9.45l-7.72 7.72c-.78.78-.78 2.05 0 2.83L4 21.41c.39.39.9.59 1.41.59.51 0 1.02-.2 1.41-.59l7.78-7.78 2.81-2.81c.8-.78.8-2.07 0-2.86zM5.41 20L4 18.59l7.72-7.72 1.47 1.35L5.41 20z\"/>\n",
              "  </svg>\n",
              "      </button>\n",
              "      \n",
              "  <style>\n",
              "    .colab-df-container {\n",
              "      display:flex;\n",
              "      flex-wrap:wrap;\n",
              "      gap: 12px;\n",
              "    }\n",
              "\n",
              "    .colab-df-convert {\n",
              "      background-color: #E8F0FE;\n",
              "      border: none;\n",
              "      border-radius: 50%;\n",
              "      cursor: pointer;\n",
              "      display: none;\n",
              "      fill: #1967D2;\n",
              "      height: 32px;\n",
              "      padding: 0 0 0 0;\n",
              "      width: 32px;\n",
              "    }\n",
              "\n",
              "    .colab-df-convert:hover {\n",
              "      background-color: #E2EBFA;\n",
              "      box-shadow: 0px 1px 2px rgba(60, 64, 67, 0.3), 0px 1px 3px 1px rgba(60, 64, 67, 0.15);\n",
              "      fill: #174EA6;\n",
              "    }\n",
              "\n",
              "    [theme=dark] .colab-df-convert {\n",
              "      background-color: #3B4455;\n",
              "      fill: #D2E3FC;\n",
              "    }\n",
              "\n",
              "    [theme=dark] .colab-df-convert:hover {\n",
              "      background-color: #434B5C;\n",
              "      box-shadow: 0px 1px 3px 1px rgba(0, 0, 0, 0.15);\n",
              "      filter: drop-shadow(0px 1px 2px rgba(0, 0, 0, 0.3));\n",
              "      fill: #FFFFFF;\n",
              "    }\n",
              "  </style>\n",
              "\n",
              "      <script>\n",
              "        const buttonEl =\n",
              "          document.querySelector('#df-c1e67250-6e63-4b7f-96b1-dc99c381d126 button.colab-df-convert');\n",
              "        buttonEl.style.display =\n",
              "          google.colab.kernel.accessAllowed ? 'block' : 'none';\n",
              "\n",
              "        async function convertToInteractive(key) {\n",
              "          const element = document.querySelector('#df-c1e67250-6e63-4b7f-96b1-dc99c381d126');\n",
              "          const dataTable =\n",
              "            await google.colab.kernel.invokeFunction('convertToInteractive',\n",
              "                                                     [key], {});\n",
              "          if (!dataTable) return;\n",
              "\n",
              "          const docLinkHtml = 'Like what you see? Visit the ' +\n",
              "            '<a target=\"_blank\" href=https://colab.research.google.com/notebooks/data_table.ipynb>data table notebook</a>'\n",
              "            + ' to learn more about interactive tables.';\n",
              "          element.innerHTML = '';\n",
              "          dataTable['output_type'] = 'display_data';\n",
              "          await google.colab.output.renderOutput(dataTable, element);\n",
              "          const docLink = document.createElement('div');\n",
              "          docLink.innerHTML = docLinkHtml;\n",
              "          element.appendChild(docLink);\n",
              "        }\n",
              "      </script>\n",
              "    </div>\n",
              "  </div>\n",
              "  "
            ]
          },
          "metadata": {},
          "execution_count": 76
        }
      ]
    },
    {
      "cell_type": "code",
      "source": [
        "stock='SPY'\n",
        "print(\"volatility = {:.2f}\".format(np.std(prices[stock].pct_change())))\n",
        "\n",
        "var_calc(.95, 252, prices[stock][-1], np.std(prices[stock].pct_change())*np.sqrt(252), 21)\n"
      ],
      "metadata": {
        "colab": {
          "base_uri": "https://localhost:8080/"
        },
        "id": "D3T8hk8IWlEt",
        "outputId": "4a575433-8875-4e85-e39f-0d687004d601"
      },
      "execution_count": 74,
      "outputs": [
        {
          "output_type": "stream",
          "name": "stdout",
          "text": [
            "volatility = 0.02\n",
            "Assuming that we invest 415.26, for the next 252.0 trading days\n",
            "At 0.950 confidence level, loss will not exceed 67.56\n",
            "This represents a move of 1.64 standard deviations below the expected return,  or a loss of -16.27%.\n"
          ]
        }
      ]
    },
    {
      "cell_type": "code",
      "source": [
        "for t in tic:\n",
        "  print(\"annual volatility of {} = {:.4f}\".format(t, np.std(prices[t].pct_change()*np.sqrt(252))))\n",
        "  var_calc(.95, 252, prices[t][-1], np.std(prices[t].pct_change())*np.sqrt(252), 21)\n",
        "  print(45 * \"-\")\n",
        "return"
      ],
      "metadata": {
        "colab": {
          "base_uri": "https://localhost:8080/",
          "height": 738
        },
        "id": "Q1n7ERLvB16m",
        "outputId": "2b4023f8-fb99-4fb5-a4f2-a7af6da08065"
      },
      "execution_count": 88,
      "outputs": [
        {
          "output_type": "stream",
          "name": "stdout",
          "text": [
            "annual volatility of SPY = 0.3427\n",
            "Assuming that we invest 415.26, for the next 252.0 trading days\n",
            "At 0.950 confidence level, loss will not exceed 67.56\n",
            "This represents a move of 1.64 standard deviations below the expected return,  or a loss of -16.27%.\n",
            "---------------------------------------------\n",
            "annual volatility of TLT = 0.2965\n",
            "Assuming that we invest 119.08, for the next 252.0 trading days\n",
            "At 0.950 confidence level, loss will not exceed 16.77\n",
            "This represents a move of 1.64 standard deviations below the expected return,  or a loss of -14.08%.\n",
            "---------------------------------------------\n",
            "annual volatility of TSLA = 1.1661\n",
            "Assuming that we invest 759.63, for the next 252.0 trading days\n",
            "At 0.950 confidence level, loss will not exceed 420.60\n",
            "This represents a move of 1.64 standard deviations below the expected return,  or a loss of -55.37%.\n",
            "---------------------------------------------\n",
            "annual volatility of AAPL = 0.5918\n",
            "Assuming that we invest 149.64, for the next 252.0 trading days\n",
            "At 0.950 confidence level, loss will not exceed 42.05\n",
            "This represents a move of 1.64 standard deviations below the expected return,  or a loss of -28.10%.\n",
            "---------------------------------------------\n",
            "annual volatility of NVDA = 0.8750\n",
            "Assuming that we invest 188.11, for the next 252.0 trading days\n",
            "At 0.950 confidence level, loss will not exceed 78.15\n",
            "This represents a move of 1.64 standard deviations below the expected return,  or a loss of -41.55%.\n",
            "---------------------------------------------\n",
            "annual volatility of BAC = 0.6979\n",
            "Assuming that we invest 37.02, for the next 252.0 trading days\n",
            "At 0.950 confidence level, loss will not exceed 12.27\n",
            "This represents a move of 1.64 standard deviations below the expected return,  or a loss of -33.14%.\n",
            "---------------------------------------------\n",
            "annual volatility of WMT = 0.4125\n",
            "Assuming that we invest 128.48, for the next 252.0 trading days\n",
            "At 0.950 confidence level, loss will not exceed 25.17\n",
            "This represents a move of 1.64 standard deviations below the expected return,  or a loss of -19.59%.\n",
            "---------------------------------------------\n"
          ]
        },
        {
          "output_type": "error",
          "ename": "SyntaxError",
          "evalue": "ignored",
          "traceback": [
            "\u001b[0;36m  File \u001b[0;32m\"<ipython-input-88-1ad4d8274185>\"\u001b[0;36m, line \u001b[0;32m5\u001b[0m\n\u001b[0;31m    return\u001b[0m\n\u001b[0m          ^\u001b[0m\n\u001b[0;31mSyntaxError\u001b[0m\u001b[0;31m:\u001b[0m 'return' outside function\n"
          ]
        }
      ]
    },
    {
      "cell_type": "code",
      "source": [
        "var_calc(.975, 252, 760000, .307, 21)"
      ],
      "metadata": {
        "colab": {
          "base_uri": "https://localhost:8080/"
        },
        "id": "ePi-L7nzW1J5",
        "outputId": "d8e04c70-22b2-4a5f-d43f-75fd29edf28e"
      },
      "execution_count": 13,
      "outputs": [
        {
          "output_type": "stream",
          "name": "stdout",
          "text": [
            "Assuming that we invest 760000.00, for the next 252.0 trading days\n",
            "At 0.975 confidence level, loss will not exceed 132,010.79\n",
            "This represents a move of 1.96 standard deviations below the expected return,  or a loss of -17.37%.\n"
          ]
        }
      ]
    },
    {
      "cell_type": "code",
      "source": [
        "var_calc(.99, 252, 760000, .307, 21)"
      ],
      "metadata": {
        "colab": {
          "base_uri": "https://localhost:8080/"
        },
        "outputId": "f6a5dba4-f193-47be-ce4e-4674f2953f8f",
        "id": "hjiFWMJRYTMF"
      },
      "execution_count": 14,
      "outputs": [
        {
          "output_type": "stream",
          "name": "stdout",
          "text": [
            "Assuming that we invest 760000.00, for the next 252.0 trading days\n",
            "At 0.990 confidence level, loss will not exceed 156,688.10\n",
            "This represents a move of 2.33 standard deviations below the expected return,  or a loss of -20.62%.\n"
          ]
        }
      ]
    },
    {
      "cell_type": "code",
      "source": [
        ""
      ],
      "metadata": {
        "id": "_bOVC-pKfpEF"
      },
      "execution_count": 14,
      "outputs": []
    },
    {
      "cell_type": "code",
      "source": [
        "def print_statistics(a1, a2):\n",
        "    '''\n",
        "    Parameters\n",
        "    ==========\n",
        "    a1, a2: ndarray objects\n",
        "        results objects from simulation\n",
        "    '''\n",
        "\n",
        "    sta1 = scs.describe(a1)  \n",
        "    sta2 = scs.describe(a2)  \n",
        "    print('%14s %14s %14s' % ('statistic', 'data set 1', 'data set 2'))\n",
        "    print(45 * \"-\")\n",
        "    print('%14s %14.3f %14.3f' % ('size', sta1[0], sta2[0]))\n",
        "    print('%14s %14.3f %14.3f' % ('min', sta1[1][0], sta2[1][0]))\n",
        "    print('%14s %14.3f %14.3f' % ('max', sta1[1][1], sta2[1][1]))\n",
        "    print('%14s %14.3f %14.3f' % ('mean', sta1[2], sta2[2]))\n",
        "    print('%14s %14.3f %14.3f' % ('std', np.sqrt(sta1[3]), np.sqrt(sta2[3])))\n",
        "    print('%14s %14.3f %14.3f' % ('skew', sta1[4], sta2[4]))\n",
        "    print('%14s %14.3f %14.3f' % ('kurtosis', sta1[5], sta2[5]))"
      ],
      "metadata": {
        "id": "bza2fBkVfpBD"
      },
      "execution_count": 15,
      "outputs": []
    },
    {
      "cell_type": "code",
      "source": [
        ""
      ],
      "metadata": {
        "id": "Hb2OePGXfo-m"
      },
      "execution_count": 15,
      "outputs": []
    },
    {
      "cell_type": "code",
      "source": [
        ""
      ],
      "metadata": {
        "id": "dp2N1DINfo74"
      },
      "execution_count": 15,
      "outputs": []
    },
    {
      "cell_type": "code",
      "source": [
        ""
      ],
      "metadata": {
        "id": "ATNQSlpYfo5X"
      },
      "execution_count": 15,
      "outputs": []
    },
    {
      "cell_type": "code",
      "source": [
        ""
      ],
      "metadata": {
        "id": "55TB3Olsfo2v"
      },
      "execution_count": 15,
      "outputs": []
    },
    {
      "cell_type": "code",
      "metadata": {
        "colab": {
          "base_uri": "https://localhost:8080/"
        },
        "outputId": "0dca1f35-a8c9-4f1f-d761-0c0d749cf8a8",
        "id": "CvlmyAoZS3lC"
      },
      "source": [
        "# checking the Z score for 90%\n",
        "cutoff = norm.ppf(.90)\n",
        "cutoff.round(2)"
      ],
      "execution_count": 16,
      "outputs": [
        {
          "output_type": "execute_result",
          "data": {
            "text/plain": [
              "1.28"
            ]
          },
          "metadata": {},
          "execution_count": 16
        }
      ]
    },
    {
      "cell_type": "code",
      "metadata": {
        "colab": {
          "base_uri": "https://localhost:8080/"
        },
        "id": "-bUtmK6Hy5uy",
        "outputId": "57f0cfb2-f80b-470e-aa42-765ea4ef1e3d"
      },
      "source": [
        "# checking the Z score for 95%\n",
        "cutoff = norm.ppf(.95)\n",
        "cutoff.round(2)"
      ],
      "execution_count": 18,
      "outputs": [
        {
          "output_type": "execute_result",
          "data": {
            "text/plain": [
              "1.64"
            ]
          },
          "metadata": {},
          "execution_count": 18
        }
      ]
    },
    {
      "cell_type": "code",
      "metadata": {
        "colab": {
          "base_uri": "https://localhost:8080/"
        },
        "outputId": "07085609-a7df-4f5c-9bdb-2826e7bdf1b8",
        "id": "Ar5VIhQXS3dU"
      },
      "source": [
        "# checking the Z score for 99%\n",
        "cutoff = norm.ppf(.99)\n",
        "cutoff.round(2)"
      ],
      "execution_count": 19,
      "outputs": [
        {
          "output_type": "execute_result",
          "data": {
            "text/plain": [
              "2.33"
            ]
          },
          "metadata": {},
          "execution_count": 19
        }
      ]
    },
    {
      "cell_type": "code",
      "source": [
        ""
      ],
      "metadata": {
        "id": "BSzR7eOqTYEn"
      },
      "execution_count": 36,
      "outputs": []
    },
    {
      "cell_type": "code",
      "metadata": {
        "id": "lqzwBgDb3k-m"
      },
      "source": [
        ""
      ],
      "execution_count": 36,
      "outputs": []
    },
    {
      "cell_type": "markdown",
      "metadata": {
        "id": "pMsb_TvV4NF7"
      },
      "source": [
        "### Let's assume that we buy 5000 shares of AAPL. And using historical returns, let's estimate mean and standard deviation of returns on AAPL. In order to save time, let's assume they are 19% and 30.7%, respectively. "
      ]
    },
    {
      "cell_type": "code",
      "metadata": {
        "id": "SAWrAYn692Lx"
      },
      "source": [
        "aapl = 5000\n",
        "aapl_price = pdr.get_quote_yahoo('AAPL')['price'] # the most recent price\n",
        "aapl_value = aapl * aapl_price\n",
        "aapl_value = aapl_value.at['AAPL']\n",
        "t = 21/252\n",
        "mu = .19\n",
        "volatility = .307\n",
        "iterations = 50000"
      ],
      "execution_count": 20,
      "outputs": []
    },
    {
      "cell_type": "code",
      "metadata": {
        "colab": {
          "base_uri": "https://localhost:8080/"
        },
        "id": "49QQd-N8ZT52",
        "outputId": "abfdb471-c57c-49cd-8bf2-60c3001e8c71"
      },
      "source": [
        "type(aapl_price)"
      ],
      "execution_count": 21,
      "outputs": [
        {
          "output_type": "execute_result",
          "data": {
            "text/plain": [
              "pandas.core.series.Series"
            ]
          },
          "metadata": {},
          "execution_count": 21
        }
      ]
    },
    {
      "cell_type": "code",
      "metadata": {
        "colab": {
          "base_uri": "https://localhost:8080/"
        },
        "id": "DlSeBhhiyYOz",
        "outputId": "c9970b84-1652-45ac-a9cc-80ed80334827"
      },
      "source": [
        "aapl_price.describe()"
      ],
      "execution_count": 22,
      "outputs": [
        {
          "output_type": "execute_result",
          "data": {
            "text/plain": [
              "count      1.00\n",
              "mean     149.64\n",
              "std         NaN\n",
              "min      149.64\n",
              "25%      149.64\n",
              "50%      149.64\n",
              "75%      149.64\n",
              "max      149.64\n",
              "Name: price, dtype: float64"
            ]
          },
          "metadata": {},
          "execution_count": 22
        }
      ]
    },
    {
      "cell_type": "code",
      "metadata": {
        "colab": {
          "base_uri": "https://localhost:8080/",
          "height": 191
        },
        "id": "2Yq4jmIeuDSi",
        "outputId": "797a9a03-51ae-4f6d-c43c-648d134f7d6b"
      },
      "source": [
        "# checking to see what get_quote_yahoo is retreveing\n",
        "pdr.get_quote_yahoo('AAPL')\n"
      ],
      "execution_count": 23,
      "outputs": [
        {
          "output_type": "execute_result",
          "data": {
            "text/plain": [
              "     language region quoteType typeDisp         quoteSourceName  triggerable  \\\n",
              "AAPL    en-US     US    EQUITY   Equity  Nasdaq Real Time Price         True   \n",
              "\n",
              "     customPriceAlertConfidence currency marketState exchange  ...  \\\n",
              "AAPL                       HIGH      USD      PREPRE      NMS  ...   \n",
              "\n",
              "     fiftyDayAverageChange fiftyDayAverageChangePercent twoHundredDayAverage  \\\n",
              "AAPL            -10.934799                    -0.068098                159.5   \n",
              "\n",
              "     twoHundredDayAverageChange twoHundredDayAverageChangePercent  \\\n",
              "AAPL                  -9.860001                         -0.061818   \n",
              "\n",
              "          marketCap  forwardPE  priceToBook  displayName   price  \n",
              "AAPL  2421953134592  22.810976    35.988457        Apple  149.64  \n",
              "\n",
              "[1 rows x 78 columns]"
            ],
            "text/html": [
              "\n",
              "  <div id=\"df-d857f363-2725-47fc-a7ca-ac086ccdf971\">\n",
              "    <div class=\"colab-df-container\">\n",
              "      <div>\n",
              "<style scoped>\n",
              "    .dataframe tbody tr th:only-of-type {\n",
              "        vertical-align: middle;\n",
              "    }\n",
              "\n",
              "    .dataframe tbody tr th {\n",
              "        vertical-align: top;\n",
              "    }\n",
              "\n",
              "    .dataframe thead th {\n",
              "        text-align: right;\n",
              "    }\n",
              "</style>\n",
              "<table border=\"1\" class=\"dataframe\">\n",
              "  <thead>\n",
              "    <tr style=\"text-align: right;\">\n",
              "      <th></th>\n",
              "      <th>language</th>\n",
              "      <th>region</th>\n",
              "      <th>quoteType</th>\n",
              "      <th>typeDisp</th>\n",
              "      <th>quoteSourceName</th>\n",
              "      <th>triggerable</th>\n",
              "      <th>customPriceAlertConfidence</th>\n",
              "      <th>currency</th>\n",
              "      <th>marketState</th>\n",
              "      <th>exchange</th>\n",
              "      <th>...</th>\n",
              "      <th>fiftyDayAverageChange</th>\n",
              "      <th>fiftyDayAverageChangePercent</th>\n",
              "      <th>twoHundredDayAverage</th>\n",
              "      <th>twoHundredDayAverageChange</th>\n",
              "      <th>twoHundredDayAverageChangePercent</th>\n",
              "      <th>marketCap</th>\n",
              "      <th>forwardPE</th>\n",
              "      <th>priceToBook</th>\n",
              "      <th>displayName</th>\n",
              "      <th>price</th>\n",
              "    </tr>\n",
              "  </thead>\n",
              "  <tbody>\n",
              "    <tr>\n",
              "      <th>AAPL</th>\n",
              "      <td>en-US</td>\n",
              "      <td>US</td>\n",
              "      <td>EQUITY</td>\n",
              "      <td>Equity</td>\n",
              "      <td>Nasdaq Real Time Price</td>\n",
              "      <td>True</td>\n",
              "      <td>HIGH</td>\n",
              "      <td>USD</td>\n",
              "      <td>PREPRE</td>\n",
              "      <td>NMS</td>\n",
              "      <td>...</td>\n",
              "      <td>-10.934799</td>\n",
              "      <td>-0.068098</td>\n",
              "      <td>159.5</td>\n",
              "      <td>-9.860001</td>\n",
              "      <td>-0.061818</td>\n",
              "      <td>2421953134592</td>\n",
              "      <td>22.810976</td>\n",
              "      <td>35.988457</td>\n",
              "      <td>Apple</td>\n",
              "      <td>149.64</td>\n",
              "    </tr>\n",
              "  </tbody>\n",
              "</table>\n",
              "<p>1 rows × 78 columns</p>\n",
              "</div>\n",
              "      <button class=\"colab-df-convert\" onclick=\"convertToInteractive('df-d857f363-2725-47fc-a7ca-ac086ccdf971')\"\n",
              "              title=\"Convert this dataframe to an interactive table.\"\n",
              "              style=\"display:none;\">\n",
              "        \n",
              "  <svg xmlns=\"http://www.w3.org/2000/svg\" height=\"24px\"viewBox=\"0 0 24 24\"\n",
              "       width=\"24px\">\n",
              "    <path d=\"M0 0h24v24H0V0z\" fill=\"none\"/>\n",
              "    <path d=\"M18.56 5.44l.94 2.06.94-2.06 2.06-.94-2.06-.94-.94-2.06-.94 2.06-2.06.94zm-11 1L8.5 8.5l.94-2.06 2.06-.94-2.06-.94L8.5 2.5l-.94 2.06-2.06.94zm10 10l.94 2.06.94-2.06 2.06-.94-2.06-.94-.94-2.06-.94 2.06-2.06.94z\"/><path d=\"M17.41 7.96l-1.37-1.37c-.4-.4-.92-.59-1.43-.59-.52 0-1.04.2-1.43.59L10.3 9.45l-7.72 7.72c-.78.78-.78 2.05 0 2.83L4 21.41c.39.39.9.59 1.41.59.51 0 1.02-.2 1.41-.59l7.78-7.78 2.81-2.81c.8-.78.8-2.07 0-2.86zM5.41 20L4 18.59l7.72-7.72 1.47 1.35L5.41 20z\"/>\n",
              "  </svg>\n",
              "      </button>\n",
              "      \n",
              "  <style>\n",
              "    .colab-df-container {\n",
              "      display:flex;\n",
              "      flex-wrap:wrap;\n",
              "      gap: 12px;\n",
              "    }\n",
              "\n",
              "    .colab-df-convert {\n",
              "      background-color: #E8F0FE;\n",
              "      border: none;\n",
              "      border-radius: 50%;\n",
              "      cursor: pointer;\n",
              "      display: none;\n",
              "      fill: #1967D2;\n",
              "      height: 32px;\n",
              "      padding: 0 0 0 0;\n",
              "      width: 32px;\n",
              "    }\n",
              "\n",
              "    .colab-df-convert:hover {\n",
              "      background-color: #E2EBFA;\n",
              "      box-shadow: 0px 1px 2px rgba(60, 64, 67, 0.3), 0px 1px 3px 1px rgba(60, 64, 67, 0.15);\n",
              "      fill: #174EA6;\n",
              "    }\n",
              "\n",
              "    [theme=dark] .colab-df-convert {\n",
              "      background-color: #3B4455;\n",
              "      fill: #D2E3FC;\n",
              "    }\n",
              "\n",
              "    [theme=dark] .colab-df-convert:hover {\n",
              "      background-color: #434B5C;\n",
              "      box-shadow: 0px 1px 3px 1px rgba(0, 0, 0, 0.15);\n",
              "      filter: drop-shadow(0px 1px 2px rgba(0, 0, 0, 0.3));\n",
              "      fill: #FFFFFF;\n",
              "    }\n",
              "  </style>\n",
              "\n",
              "      <script>\n",
              "        const buttonEl =\n",
              "          document.querySelector('#df-d857f363-2725-47fc-a7ca-ac086ccdf971 button.colab-df-convert');\n",
              "        buttonEl.style.display =\n",
              "          google.colab.kernel.accessAllowed ? 'block' : 'none';\n",
              "\n",
              "        async function convertToInteractive(key) {\n",
              "          const element = document.querySelector('#df-d857f363-2725-47fc-a7ca-ac086ccdf971');\n",
              "          const dataTable =\n",
              "            await google.colab.kernel.invokeFunction('convertToInteractive',\n",
              "                                                     [key], {});\n",
              "          if (!dataTable) return;\n",
              "\n",
              "          const docLinkHtml = 'Like what you see? Visit the ' +\n",
              "            '<a target=\"_blank\" href=https://colab.research.google.com/notebooks/data_table.ipynb>data table notebook</a>'\n",
              "            + ' to learn more about interactive tables.';\n",
              "          element.innerHTML = '';\n",
              "          dataTable['output_type'] = 'display_data';\n",
              "          await google.colab.output.renderOutput(dataTable, element);\n",
              "          const docLink = document.createElement('div');\n",
              "          docLink.innerHTML = docLinkHtml;\n",
              "          element.appendChild(docLink);\n",
              "        }\n",
              "      </script>\n",
              "    </div>\n",
              "  </div>\n",
              "  "
            ]
          },
          "metadata": {},
          "execution_count": 23
        }
      ]
    },
    {
      "cell_type": "code",
      "metadata": {
        "colab": {
          "base_uri": "https://localhost:8080/"
        },
        "id": "StVDEHYGt8_v",
        "outputId": "29f17a26-ed58-4ee8-e4db-1a2ecdbd7180"
      },
      "source": [
        "type(aapl_price)"
      ],
      "execution_count": 24,
      "outputs": [
        {
          "output_type": "execute_result",
          "data": {
            "text/plain": [
              "pandas.core.series.Series"
            ]
          },
          "metadata": {},
          "execution_count": 24
        }
      ]
    },
    {
      "cell_type": "code",
      "metadata": {
        "colab": {
          "base_uri": "https://localhost:8080/"
        },
        "id": "Nhu9A23Ttrug",
        "outputId": "f3760d7b-9bfa-4129-e00d-10feec3c6676"
      },
      "source": [
        "type(aapl_value)"
      ],
      "execution_count": 36,
      "outputs": [
        {
          "output_type": "execute_result",
          "data": {
            "text/plain": [
              "numpy.float64"
            ]
          },
          "metadata": {},
          "execution_count": 36
        }
      ]
    },
    {
      "cell_type": "code",
      "metadata": {
        "colab": {
          "base_uri": "https://localhost:8080/"
        },
        "id": "bbm--dft5k6L",
        "outputId": "5f2f4897-1e1e-4094-a171-0b16c679816d"
      },
      "source": [
        "aapl_price"
      ],
      "execution_count": 25,
      "outputs": [
        {
          "output_type": "execute_result",
          "data": {
            "text/plain": [
              "AAPL    149.64\n",
              "Name: price, dtype: float64"
            ]
          },
          "metadata": {},
          "execution_count": 25
        }
      ]
    },
    {
      "cell_type": "code",
      "metadata": {
        "colab": {
          "base_uri": "https://localhost:8080/"
        },
        "id": "WRnbkPmNt61O",
        "outputId": "9bf232b6-f989-4e17-ac08-865449c01ee0"
      },
      "source": [
        "# aapl_value = # of shares times price\n",
        "aapl_value"
      ],
      "execution_count": 26,
      "outputs": [
        {
          "output_type": "execute_result",
          "data": {
            "text/plain": [
              "748199.9999999999"
            ]
          },
          "metadata": {},
          "execution_count": 26
        }
      ]
    },
    {
      "cell_type": "markdown",
      "metadata": {
        "id": "CFiOJCbda_5C"
      },
      "source": [
        "Below, let's simulate future value from Geometric Brownian Motion series. "
      ]
    },
    {
      "cell_type": "code",
      "metadata": {
        "id": "4HHqSO2G92Ly"
      },
      "source": [
        "def VaR(pv, mu, vol, T, iterations):\n",
        "    end = pv * np.exp((mu - .5 * vol ** 2) * T + \n",
        "                     vol * np.sqrt(T) * np.random.standard_normal(iterations))\n",
        "    ending_values = end - pv\n",
        "    return ending_values"
      ],
      "execution_count": 27,
      "outputs": []
    },
    {
      "cell_type": "code",
      "metadata": {
        "id": "qFO5xOuS92Ly",
        "colab": {
          "base_uri": "https://localhost:8080/"
        },
        "outputId": "22fdf22e-3728-4e94-edc2-41efb686b5f6"
      },
      "source": [
        "at_risk = VaR(aapl_value, mu, volatility, t, iterations)\n",
        "at_risk"
      ],
      "execution_count": 28,
      "outputs": [
        {
          "output_type": "execute_result",
          "data": {
            "text/plain": [
              "array([-62977.59170656, 158910.75326638, -87145.21706447, ...,\n",
              "         7653.68933825, 112065.98402093, -48413.28814646])"
            ]
          },
          "metadata": {},
          "execution_count": 28
        }
      ]
    },
    {
      "cell_type": "code",
      "metadata": {
        "colab": {
          "base_uri": "https://localhost:8080/"
        },
        "id": "tvG-Oam8bxXq",
        "outputId": "267ebb83-8b42-4985-dcf7-949efda25ae0"
      },
      "source": [
        "type(at_risk)"
      ],
      "execution_count": 29,
      "outputs": [
        {
          "output_type": "execute_result",
          "data": {
            "text/plain": [
              "numpy.ndarray"
            ]
          },
          "metadata": {},
          "execution_count": 29
        }
      ]
    },
    {
      "cell_type": "code",
      "metadata": {
        "colab": {
          "base_uri": "https://localhost:8080/"
        },
        "id": "O0bRLgeDb2Wh",
        "outputId": "51c2dd97-e236-4bdf-8a34-f29bdde1295c"
      },
      "source": [
        "np.shape(at_risk)"
      ],
      "execution_count": 30,
      "outputs": [
        {
          "output_type": "execute_result",
          "data": {
            "text/plain": [
              "(50000,)"
            ]
          },
          "metadata": {},
          "execution_count": 30
        }
      ]
    },
    {
      "cell_type": "code",
      "metadata": {
        "colab": {
          "base_uri": "https://localhost:8080/"
        },
        "id": "2jLthy13dWIq",
        "outputId": "f7025599-7ea6-47ea-b0ea-dc6d8865d752"
      },
      "source": [
        "np.ndim(at_risk)"
      ],
      "execution_count": 31,
      "outputs": [
        {
          "output_type": "execute_result",
          "data": {
            "text/plain": [
              "1"
            ]
          },
          "metadata": {},
          "execution_count": 31
        }
      ]
    },
    {
      "cell_type": "code",
      "metadata": {
        "colab": {
          "base_uri": "https://localhost:8080/"
        },
        "id": "X75Nv1x4zbtD",
        "outputId": "bd2c7e72-4fed-403c-8465-7a1d7fe63fe0"
      },
      "source": [
        "at_risk.mean()"
      ],
      "execution_count": 35,
      "outputs": [
        {
          "output_type": "execute_result",
          "data": {
            "text/plain": [
              "11546.088051856394"
            ]
          },
          "metadata": {},
          "execution_count": 35
        }
      ]
    },
    {
      "cell_type": "code",
      "metadata": {
        "colab": {
          "base_uri": "https://localhost:8080/"
        },
        "id": "wT3hHfvMzgW3",
        "outputId": "de0cbc68-ddad-42f1-b9bd-9cd2bef8bf0f"
      },
      "source": [
        "at_risk.std()"
      ],
      "execution_count": 32,
      "outputs": [
        {
          "output_type": "execute_result",
          "data": {
            "text/plain": [
              "67440.97653546024"
            ]
          },
          "metadata": {},
          "execution_count": 32
        }
      ]
    },
    {
      "cell_type": "code",
      "metadata": {
        "colab": {
          "base_uri": "https://localhost:8080/",
          "height": 1000
        },
        "id": "9R_bhuSr92Lz",
        "outputId": "276ed292-8b6e-4f1b-8371-96b5e63a17f8"
      },
      "source": [
        "plt.hist(at_risk,bins=100)"
      ],
      "execution_count": 34,
      "outputs": [
        {
          "output_type": "execute_result",
          "data": {
            "text/plain": [
              "(array([1.000e+00, 0.000e+00, 0.000e+00, 1.000e+00, 1.000e+00, 3.000e+00,\n",
              "        3.000e+00, 2.000e+00, 9.000e+00, 1.500e+01, 1.600e+01, 2.200e+01,\n",
              "        2.600e+01, 5.700e+01, 6.400e+01, 9.200e+01, 1.170e+02, 1.540e+02,\n",
              "        1.630e+02, 2.140e+02, 2.710e+02, 3.260e+02, 4.100e+02, 4.870e+02,\n",
              "        5.220e+02, 6.380e+02, 7.330e+02, 7.810e+02, 8.630e+02, 1.004e+03,\n",
              "        1.091e+03, 1.173e+03, 1.232e+03, 1.319e+03, 1.442e+03, 1.532e+03,\n",
              "        1.648e+03, 1.629e+03, 1.654e+03, 1.728e+03, 1.616e+03, 1.711e+03,\n",
              "        1.735e+03, 1.645e+03, 1.555e+03, 1.593e+03, 1.539e+03, 1.468e+03,\n",
              "        1.414e+03, 1.382e+03, 1.254e+03, 1.170e+03, 1.043e+03, 1.036e+03,\n",
              "        9.490e+02, 8.680e+02, 7.850e+02, 7.220e+02, 6.470e+02, 5.630e+02,\n",
              "        4.750e+02, 4.330e+02, 3.920e+02, 3.680e+02, 3.150e+02, 2.940e+02,\n",
              "        2.350e+02, 2.130e+02, 1.730e+02, 1.580e+02, 1.400e+02, 1.030e+02,\n",
              "        1.040e+02, 8.100e+01, 6.800e+01, 4.600e+01, 3.500e+01, 4.100e+01,\n",
              "        3.000e+01, 3.000e+01, 2.100e+01, 2.400e+01, 1.200e+01, 1.400e+01,\n",
              "        1.200e+01, 1.000e+01, 9.000e+00, 1.000e+01, 1.000e+00, 4.000e+00,\n",
              "        2.000e+00, 1.000e+00, 3.000e+00, 0.000e+00, 2.000e+00, 0.000e+00,\n",
              "        1.000e+00, 1.000e+00, 0.000e+00, 1.000e+00]),\n",
              " array([-231380.33653578, -225688.66112577, -219996.98571577,\n",
              "        -214305.31030576, -208613.63489576, -202921.95948575,\n",
              "        -197230.28407575, -191538.60866574, -185846.93325574,\n",
              "        -180155.25784573, -174463.58243573, -168771.90702572,\n",
              "        -163080.23161572, -157388.55620572, -151696.88079571,\n",
              "        -146005.20538571, -140313.5299757 , -134621.8545657 ,\n",
              "        -128930.17915569, -123238.50374569, -117546.82833568,\n",
              "        -111855.15292568, -106163.47751567, -100471.80210567,\n",
              "         -94780.12669566,  -89088.45128566,  -83396.77587566,\n",
              "         -77705.10046565,  -72013.42505565,  -66321.74964564,\n",
              "         -60630.07423564,  -54938.39882563,  -49246.72341563,\n",
              "         -43555.04800562,  -37863.37259562,  -32171.69718561,\n",
              "         -26480.02177561,  -20788.3463656 ,  -15096.6709556 ,\n",
              "          -9404.9955456 ,   -3713.32013559,    1978.35527441,\n",
              "           7670.03068442,   13361.70609442,   19053.38150443,\n",
              "          24745.05691443,   30436.73232444,   36128.40773444,\n",
              "          41820.08314445,   47511.75855445,   53203.43396445,\n",
              "          58895.10937446,   64586.78478446,   70278.46019447,\n",
              "          75970.13560447,   81661.81101448,   87353.48642448,\n",
              "          93045.16183449,   98736.83724449,  104428.5126545 ,\n",
              "         110120.1880645 ,  115811.86347451,  121503.53888451,\n",
              "         127195.21429451,  132886.88970452,  138578.56511452,\n",
              "         144270.24052453,  149961.91593453,  155653.59134454,\n",
              "         161345.26675454,  167036.94216455,  172728.61757455,\n",
              "         178420.29298456,  184111.96839456,  189803.64380457,\n",
              "         195495.31921457,  201186.99462457,  206878.67003458,\n",
              "         212570.34544458,  218262.02085459,  223953.69626459,\n",
              "         229645.3716746 ,  235337.0470846 ,  241028.72249461,\n",
              "         246720.39790461,  252412.07331462,  258103.74872462,\n",
              "         263795.42413463,  269487.09954463,  275178.77495463,\n",
              "         280870.45036464,  286562.12577464,  292253.80118465,\n",
              "         297945.47659465,  303637.15200466,  309328.82741466,\n",
              "         315020.50282467,  320712.17823467,  326403.85364468,\n",
              "         332095.52905468,  337787.20446469]),\n",
              " <a list of 100 Patch objects>)"
            ]
          },
          "metadata": {},
          "execution_count": 34
        },
        {
          "output_type": "stream",
          "name": "stderr",
          "text": [
            "findfont: Font family ['Deja Vu'] not found. Falling back to DejaVu Sans.\n"
          ]
        },
        {
          "output_type": "display_data",
          "data": {
            "text/plain": [
              "<Figure size 432x288 with 1 Axes>"
            ],
            "image/png": "[encoded data removed]"
          },
          "metadata": {
            "needs_background": "light"
          }
        }
      ]
    },
    {
      "cell_type": "code",
      "metadata": {
        "colab": {
          "base_uri": "https://localhost:8080/"
        },
        "id": "NRAvc7oy92L0",
        "outputId": "000f4fff-ada7-4e3f-d874-03195dd0af2c"
      },
      "source": [
        "percentiles = [1,5,10]\n",
        "np.percentile(at_risk, percentiles)"
      ],
      "execution_count": 33,
      "outputs": [
        {
          "output_type": "execute_result",
          "data": {
            "text/plain": [
              "array([-131743.8070597 ,  -94237.39447714,  -73070.83419235])"
            ]
          },
          "metadata": {},
          "execution_count": 33
        }
      ]
    }
  ]
}