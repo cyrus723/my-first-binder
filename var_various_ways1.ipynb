{
  "nbformat": 4,
  "nbformat_minor": 0,
  "metadata": {
    "kernelspec": {
      "display_name": "Python 3",
      "language": "python",
      "name": "python3"
    },
    "language_info": {
      "codemirror_mode": {
        "name": "ipython",
        "version": 3
      },
      "file_extension": ".py",
      "mimetype": "text/x-python",
      "name": "python",
      "nbconvert_exporter": "python",
      "pygments_lexer": "ipython3",
      "version": "3.7.2"
    },
    "colab": {
      "name": "var_various_ways1.ipynb",
      "provenance": [],
      "collapsed_sections": [],
      "include_colab_link": true
    }
  },
  "cells": [
    {
      "cell_type": "markdown",
      "metadata": {
        "id": "view-in-github",
        "colab_type": "text"
      },
      "source": [
        "<a href=\"https://colab.research.google.com/github/cyrus723/my-first-binder/blob/main/var_various_ways1.ipynb\" target=\"_parent\"><img src=\"https://colab.research.google.com/assets/colab-badge.svg\" alt=\"Open In Colab\"/></a>"
      ]
    },
    {
      "cell_type": "markdown",
      "metadata": {
        "id": "CZXIzNOM92Lp"
      },
      "source": [
        "# Value at Risk, VaR\n",
        "In this code, using Geometric Brownian Motion, simulate returns and create distribution. And then find the VaR.\n"
      ]
    },
    {
      "cell_type": "markdown",
      "metadata": {
        "id": "Ye-MyiEscdyp"
      },
      "source": [
        "###VaR\n",
        "\n",
        "Value at risk (VaR): Loss that will be incurred in the event of an extreme adverse price change with some given, usually low, probability. i.e., the worst-case outcome.\n",
        "\n",
        "1% VaR means that 99% of returns will exceed the VaR and 1% of returns will be worse.\n",
        "\n",
        "Assuming that portfolio returns are normally distributed, the VaR is fully determined by the mean and SD of the distribution. \n",
        "\n",
        "For example, VaR(1%, normal) = Mean - 2.33SD\n",
        "\n",
        "To obtain a sample estimate of 1%  VaR, we sort the observations from high to low. The VaR is the return at the 1st percentile of the sample distribution.\n",
        "\n",
        "For example, with 95% confidence, we expect that our worst daily loss will not exceed 4%. If we invest 100 dollars, we are 95% confident that our worst daily loss will not exceed 4 dollars (100 dollars x -4%).\n",
        "\n"
      ]
    },
    {
      "cell_type": "markdown",
      "source": [
        "|Confidence Level |Two sided CV   |One sided CV   | \n",
        "|---|---|---|\n",
        "| 90%  |1.64   |1.28   |  \n",
        "| 95%  |1.96   |1.64   |  \n",
        "| 99%  |2.58   |2.33   |  "
      ],
      "metadata": {
        "id": "tU9awDWYPwQ4"
      }
    },
    {
      "cell_type": "code",
      "metadata": {
        "id": "i2wlPW-1Mz_b",
        "colab": {
          "base_uri": "https://localhost:8080/"
        },
        "outputId": "fc45d1c4-2829-4eda-aa61-519143c791a4"
      },
      "source": [
        "!pip install pandas-datareader\n",
        "!pip install --upgrade pandas-datareader \n",
        "!pip install yfinance"
      ],
      "execution_count": 35,
      "outputs": [
        {
          "output_type": "stream",
          "name": "stdout",
          "text": [
            "Looking in indexes: https://pypi.org/simple, https://us-python.pkg.dev/colab-wheels/public/simple/\n",
            "Requirement already satisfied: pandas-datareader in /usr/local/lib/python3.7/dist-packages (0.10.0)\n",
            "Requirement already satisfied: lxml in /usr/local/lib/python3.7/dist-packages (from pandas-datareader) (4.8.0)\n",
            "Requirement already satisfied: pandas>=0.23 in /usr/local/lib/python3.7/dist-packages (from pandas-datareader) (1.3.5)\n",
            "Requirement already satisfied: requests>=2.19.0 in /usr/local/lib/python3.7/dist-packages (from pandas-datareader) (2.27.1)\n",
            "Requirement already satisfied: pytz>=2017.3 in /usr/local/lib/python3.7/dist-packages (from pandas>=0.23->pandas-datareader) (2022.1)\n",
            "Requirement already satisfied: python-dateutil>=2.7.3 in /usr/local/lib/python3.7/dist-packages (from pandas>=0.23->pandas-datareader) (2.8.2)\n",
            "Requirement already satisfied: numpy>=1.17.3 in /usr/local/lib/python3.7/dist-packages (from pandas>=0.23->pandas-datareader) (1.21.6)\n",
            "Requirement already satisfied: six>=1.5 in /usr/local/lib/python3.7/dist-packages (from python-dateutil>=2.7.3->pandas>=0.23->pandas-datareader) (1.15.0)\n",
            "Requirement already satisfied: urllib3<1.27,>=1.21.1 in /usr/local/lib/python3.7/dist-packages (from requests>=2.19.0->pandas-datareader) (1.24.3)\n",
            "Requirement already satisfied: idna<4,>=2.5 in /usr/local/lib/python3.7/dist-packages (from requests>=2.19.0->pandas-datareader) (2.10)\n",
            "Requirement already satisfied: charset-normalizer~=2.0.0 in /usr/local/lib/python3.7/dist-packages (from requests>=2.19.0->pandas-datareader) (2.0.12)\n",
            "Requirement already satisfied: certifi>=2017.4.17 in /usr/local/lib/python3.7/dist-packages (from requests>=2.19.0->pandas-datareader) (2022.5.18.1)\n",
            "Looking in indexes: https://pypi.org/simple, https://us-python.pkg.dev/colab-wheels/public/simple/\n",
            "Requirement already satisfied: pandas-datareader in /usr/local/lib/python3.7/dist-packages (0.10.0)\n",
            "Requirement already satisfied: lxml in /usr/local/lib/python3.7/dist-packages (from pandas-datareader) (4.8.0)\n",
            "Requirement already satisfied: pandas>=0.23 in /usr/local/lib/python3.7/dist-packages (from pandas-datareader) (1.3.5)\n",
            "Requirement already satisfied: requests>=2.19.0 in /usr/local/lib/python3.7/dist-packages (from pandas-datareader) (2.27.1)\n",
            "Requirement already satisfied: pytz>=2017.3 in /usr/local/lib/python3.7/dist-packages (from pandas>=0.23->pandas-datareader) (2022.1)\n",
            "Requirement already satisfied: python-dateutil>=2.7.3 in /usr/local/lib/python3.7/dist-packages (from pandas>=0.23->pandas-datareader) (2.8.2)\n",
            "Requirement already satisfied: numpy>=1.17.3 in /usr/local/lib/python3.7/dist-packages (from pandas>=0.23->pandas-datareader) (1.21.6)\n",
            "Requirement already satisfied: six>=1.5 in /usr/local/lib/python3.7/dist-packages (from python-dateutil>=2.7.3->pandas>=0.23->pandas-datareader) (1.15.0)\n",
            "Requirement already satisfied: idna<4,>=2.5 in /usr/local/lib/python3.7/dist-packages (from requests>=2.19.0->pandas-datareader) (2.10)\n",
            "Requirement already satisfied: charset-normalizer~=2.0.0 in /usr/local/lib/python3.7/dist-packages (from requests>=2.19.0->pandas-datareader) (2.0.12)\n",
            "Requirement already satisfied: urllib3<1.27,>=1.21.1 in /usr/local/lib/python3.7/dist-packages (from requests>=2.19.0->pandas-datareader) (1.24.3)\n",
            "Requirement already satisfied: certifi>=2017.4.17 in /usr/local/lib/python3.7/dist-packages (from requests>=2.19.0->pandas-datareader) (2022.5.18.1)\n",
            "Looking in indexes: https://pypi.org/simple, https://us-python.pkg.dev/colab-wheels/public/simple/\n",
            "Requirement already satisfied: yfinance in /usr/local/lib/python3.7/dist-packages (0.1.70)\n",
            "Requirement already satisfied: numpy>=1.15 in /usr/local/lib/python3.7/dist-packages (from yfinance) (1.21.6)\n",
            "Requirement already satisfied: multitasking>=0.0.7 in /usr/local/lib/python3.7/dist-packages (from yfinance) (0.0.10)\n",
            "Requirement already satisfied: pandas>=0.24.0 in /usr/local/lib/python3.7/dist-packages (from yfinance) (1.3.5)\n",
            "Requirement already satisfied: requests>=2.26 in /usr/local/lib/python3.7/dist-packages (from yfinance) (2.27.1)\n",
            "Requirement already satisfied: lxml>=4.5.1 in /usr/local/lib/python3.7/dist-packages (from yfinance) (4.8.0)\n",
            "Requirement already satisfied: python-dateutil>=2.7.3 in /usr/local/lib/python3.7/dist-packages (from pandas>=0.24.0->yfinance) (2.8.2)\n",
            "Requirement already satisfied: pytz>=2017.3 in /usr/local/lib/python3.7/dist-packages (from pandas>=0.24.0->yfinance) (2022.1)\n",
            "Requirement already satisfied: six>=1.5 in /usr/local/lib/python3.7/dist-packages (from python-dateutil>=2.7.3->pandas>=0.24.0->yfinance) (1.15.0)\n",
            "Requirement already satisfied: certifi>=2017.4.17 in /usr/local/lib/python3.7/dist-packages (from requests>=2.26->yfinance) (2022.5.18.1)\n",
            "Requirement already satisfied: charset-normalizer~=2.0.0 in /usr/local/lib/python3.7/dist-packages (from requests>=2.26->yfinance) (2.0.12)\n",
            "Requirement already satisfied: urllib3<1.27,>=1.21.1 in /usr/local/lib/python3.7/dist-packages (from requests>=2.26->yfinance) (1.24.3)\n",
            "Requirement already satisfied: idna<4,>=2.5 in /usr/local/lib/python3.7/dist-packages (from requests>=2.26->yfinance) (2.10)\n"
          ]
        }
      ]
    },
    {
      "cell_type": "code",
      "source": [
        "import math\n",
        "import numpy as np\n",
        "import numpy.random as npr\n",
        "import pandas as pd  \n",
        "import pandas_datareader as pdr\n",
        "import yfinance as yf\n",
        "\n",
        "import scipy as sp\n",
        "from scipy.stats import norm\n",
        "\n",
        "from pylab import plt, mpl\n",
        "\n",
        "plt.style.use('seaborn')\n",
        "mpl.rcParams['font.family'] = 'Deja Vu'\n",
        "%matplotlib inline"
      ],
      "metadata": {
        "id": "KzheAcx--5Da"
      },
      "execution_count": 32,
      "outputs": []
    },
    {
      "cell_type": "code",
      "source": [
        "\n",
        "sp.stats.norm.ppf(1-.10/2).round(2)"
      ],
      "metadata": {
        "colab": {
          "base_uri": "https://localhost:8080/"
        },
        "id": "I0QCB0v5T-oi",
        "outputId": "fe2feb25-4b87-4d3c-e613-432b0d925b76"
      },
      "execution_count": 5,
      "outputs": [
        {
          "output_type": "execute_result",
          "data": {
            "text/plain": [
              "1.64"
            ]
          },
          "metadata": {},
          "execution_count": 5
        }
      ]
    },
    {
      "cell_type": "code",
      "source": [
        "sp.stats.norm.ppf(1-.05/2).round(2)"
      ],
      "metadata": {
        "colab": {
          "base_uri": "https://localhost:8080/"
        },
        "id": "fORGJAkLT-ie",
        "outputId": "69b1fbbd-40ff-40c8-fbf5-7dd1477452e1"
      },
      "execution_count": null,
      "outputs": [
        {
          "output_type": "execute_result",
          "data": {
            "text/plain": [
              "1.96"
            ]
          },
          "metadata": {},
          "execution_count": 46
        }
      ]
    },
    {
      "cell_type": "code",
      "source": [
        "sp.stats.norm.ppf(1-.01/2).round(2)"
      ],
      "metadata": {
        "colab": {
          "base_uri": "https://localhost:8080/"
        },
        "id": "Z3GUG6eoT-R0",
        "outputId": "0a4ab1aa-25e9-440e-8037-aeff71387e4e"
      },
      "execution_count": null,
      "outputs": [
        {
          "output_type": "execute_result",
          "data": {
            "text/plain": [
              "2.58"
            ]
          },
          "metadata": {},
          "execution_count": 47
        }
      ]
    },
    {
      "cell_type": "code",
      "source": [
        "sp.stats.norm.ppf(1-.10).round(2)"
      ],
      "metadata": {
        "colab": {
          "base_uri": "https://localhost:8080/"
        },
        "id": "G-2-LaN2UTfL",
        "outputId": "499875a2-f382-4d37-fe3f-401cff3abe70"
      },
      "execution_count": null,
      "outputs": [
        {
          "output_type": "execute_result",
          "data": {
            "text/plain": [
              "1.28"
            ]
          },
          "metadata": {},
          "execution_count": 49
        }
      ]
    },
    {
      "cell_type": "code",
      "source": [
        "sp.stats.norm.ppf(1-.05).round(2)"
      ],
      "metadata": {
        "colab": {
          "base_uri": "https://localhost:8080/"
        },
        "id": "zhqOqzlOUTbG",
        "outputId": "2e664d2f-02ac-4fbd-a0e1-bffc5684761c"
      },
      "execution_count": null,
      "outputs": [
        {
          "output_type": "execute_result",
          "data": {
            "text/plain": [
              "1.64"
            ]
          },
          "metadata": {},
          "execution_count": 50
        }
      ]
    },
    {
      "cell_type": "code",
      "source": [
        "sp.stats.norm.ppf(1-.01).round(2)"
      ],
      "metadata": {
        "colab": {
          "base_uri": "https://localhost:8080/"
        },
        "id": "7VkJYM8mUTWR",
        "outputId": "923fe95f-5132-4f7b-9628-7f7639e760d8"
      },
      "execution_count": null,
      "outputs": [
        {
          "output_type": "execute_result",
          "data": {
            "text/plain": [
              "2.33"
            ]
          },
          "metadata": {},
          "execution_count": 52
        }
      ]
    },
    {
      "cell_type": "code",
      "source": [
        ""
      ],
      "metadata": {
        "id": "82QN9_35UTFp"
      },
      "execution_count": null,
      "outputs": []
    },
    {
      "cell_type": "code",
      "metadata": {
        "id": "kEPgMkoq92Lw"
      },
      "source": [
        "# for short time horizons er will be small, and therefore VaR estimations\n",
        "# will not be much influenced by it\n",
        "# assuming that portfolio is normally distributed, \n",
        "\n",
        "\n",
        "def var_calc(CL, days, p_val, vol, t):\n",
        "\n",
        "\n",
        "  cutoff = norm.ppf(CL)\n",
        "  print(\"cutoff = {:.2f}\".format(cutoff))\n",
        "  #VaR = 760000 * 0.307 *sqrt(21/252) * 1.64\n",
        "  VaR = p_val * vol * np.sqrt(t/days) * cutoff\n",
        "  print(\"Assuming that we invest {:.2f}\".format(p_val))\n",
        "  print(\"At {:.3f} confidence level, loss will not exceed {:,.2f}\".format(CL, VaR))\n",
        "  print(\"This represents a move of {:.2f} standard deviations below the expected return.\".format(cutoff))\n",
        "\n",
        "  return"
      ],
      "execution_count": 23,
      "outputs": []
    },
    {
      "cell_type": "code",
      "source": [
        "var_calc(.95, 252, 760000, .307, 21)"
      ],
      "metadata": {
        "colab": {
          "base_uri": "https://localhost:8080/"
        },
        "id": "D3T8hk8IWlEt",
        "outputId": "cc01a8a4-f485-4c7d-ee8f-d96f16888d59"
      },
      "execution_count": 24,
      "outputs": [
        {
          "output_type": "stream",
          "name": "stdout",
          "text": [
            "cutoff = 1.64\n",
            "Assuming that we invest 760000.00\n",
            "At 0.950 confidence level, loss will not exceed 110,786.95\n",
            "This represents a move of 1.64 standard deviations below the expected return.\n"
          ]
        }
      ]
    },
    {
      "cell_type": "code",
      "source": [
        "var_calc(.975, 252, 760000, .307, 21)"
      ],
      "metadata": {
        "colab": {
          "base_uri": "https://localhost:8080/"
        },
        "id": "ePi-L7nzW1J5",
        "outputId": "1405ebd9-3b91-4e32-e7a3-dfa4ec11c659"
      },
      "execution_count": 25,
      "outputs": [
        {
          "output_type": "stream",
          "name": "stdout",
          "text": [
            "cutoff = 1.96\n",
            "Assuming that we invest 760000.00\n",
            "At 0.975 confidence level, loss will not exceed 132,010.79\n",
            "This represents a move of 1.96 standard deviations below the expected return.\n"
          ]
        }
      ]
    },
    {
      "cell_type": "code",
      "source": [
        "var_calc(.99, 252, 760000, .307, 21)"
      ],
      "metadata": {
        "colab": {
          "base_uri": "https://localhost:8080/"
        },
        "outputId": "efa31536-b600-4d34-e9a1-f61f9f31290a",
        "id": "hjiFWMJRYTMF"
      },
      "execution_count": 29,
      "outputs": [
        {
          "output_type": "stream",
          "name": "stdout",
          "text": [
            "cutoff = 2.33\n",
            "Assuming that we invest 760000.00\n",
            "At 0.990 confidence level, loss will not exceed 156,688.10\n",
            "This represents a move of 2.33 standard deviations below the expected return.\n"
          ]
        }
      ]
    },
    {
      "cell_type": "code",
      "metadata": {
        "colab": {
          "base_uri": "https://localhost:8080/"
        },
        "id": "-bUtmK6Hy5uy",
        "outputId": "073c4375-f922-4675-fffd-5946a5f8fbf7"
      },
      "source": [
        "# checking the Z score for 95%\n",
        "cutoff = norm.ppf(CL)\n",
        "cutoff.round(2)"
      ],
      "execution_count": 27,
      "outputs": [
        {
          "output_type": "execute_result",
          "data": {
            "text/plain": [
              "1.96"
            ]
          },
          "metadata": {},
          "execution_count": 27
        }
      ]
    },
    {
      "cell_type": "code",
      "metadata": {
        "colab": {
          "base_uri": "https://localhost:8080/"
        },
        "outputId": "f4c1b16d-ba2e-4648-c5c2-dc302f03b836",
        "id": "Ar5VIhQXS3dU"
      },
      "source": [
        "# checking the Z score for 99%\n",
        "cutoff = norm.ppf(.99)\n",
        "cutoff.round(2)"
      ],
      "execution_count": 28,
      "outputs": [
        {
          "output_type": "execute_result",
          "data": {
            "text/plain": [
              "2.33"
            ]
          },
          "metadata": {},
          "execution_count": 28
        }
      ]
    },
    {
      "cell_type": "code",
      "metadata": {
        "colab": {
          "base_uri": "https://localhost:8080/"
        },
        "outputId": "02b05f15-01ef-477a-d2d9-95defcbaf839",
        "id": "CvlmyAoZS3lC"
      },
      "source": [
        "# checking the Z score for 90%\n",
        "cutoff = norm.ppf(.90)\n",
        "cutoff.round(2)"
      ],
      "execution_count": null,
      "outputs": [
        {
          "output_type": "execute_result",
          "data": {
            "text/plain": [
              "1.28"
            ]
          },
          "metadata": {},
          "execution_count": 38
        }
      ]
    },
    {
      "cell_type": "code",
      "metadata": {
        "colab": {
          "base_uri": "https://localhost:8080/"
        },
        "id": "gJ4dfCA2yVGb",
        "outputId": "35c973e5-b419-4897-ce7e-97c9fc281bc3"
      },
      "source": [
        "# let's check\n",
        "VaR_95 = round(760000 * 0.307 * np.sqrt(21/252) * 1.6448536269514722, 2)\n",
        "VaR_95"
      ],
      "execution_count": null,
      "outputs": [
        {
          "output_type": "execute_result",
          "data": {
            "text/plain": [
              "110786.95"
            ]
          },
          "metadata": {},
          "execution_count": 4
        }
      ]
    },
    {
      "cell_type": "code",
      "source": [
        "import scipy as sp\n",
        "sp.stats.norm.ppf(1-.05/2).round(2)"
      ],
      "metadata": {
        "colab": {
          "base_uri": "https://localhost:8080/"
        },
        "id": "sO2gLH5XTYdA",
        "outputId": "f399035b-42f8-432a-e5b3-8389ce186651"
      },
      "execution_count": null,
      "outputs": [
        {
          "output_type": "execute_result",
          "data": {
            "text/plain": [
              "1.96"
            ]
          },
          "metadata": {},
          "execution_count": 41
        }
      ]
    },
    {
      "cell_type": "code",
      "source": [
        "import scipy as sp\n",
        "sp.stats.norm.ppf(1-.01/2).round(2)"
      ],
      "metadata": {
        "colab": {
          "base_uri": "https://localhost:8080/"
        },
        "id": "Krgk4ZE2TYUj",
        "outputId": "ea156b50-86c3-42b5-9e51-de2b6fdb7de6"
      },
      "execution_count": null,
      "outputs": [
        {
          "output_type": "execute_result",
          "data": {
            "text/plain": [
              "2.58"
            ]
          },
          "metadata": {},
          "execution_count": 42
        }
      ]
    },
    {
      "cell_type": "code",
      "source": [
        "import scipy as sp\n",
        "sp.stats.norm.ppf(1-.10/2).round(2)"
      ],
      "metadata": {
        "colab": {
          "base_uri": "https://localhost:8080/"
        },
        "id": "468SzkDUTYMv",
        "outputId": "4cc7659f-51c9-4651-f05c-b78ce8c76d1c"
      },
      "execution_count": null,
      "outputs": [
        {
          "output_type": "execute_result",
          "data": {
            "text/plain": [
              "1.64"
            ]
          },
          "metadata": {},
          "execution_count": 43
        }
      ]
    },
    {
      "cell_type": "code",
      "source": [
        ""
      ],
      "metadata": {
        "id": "BSzR7eOqTYEn"
      },
      "execution_count": null,
      "outputs": []
    },
    {
      "cell_type": "code",
      "metadata": {
        "id": "qXs2DPrQ3k4j"
      },
      "source": [
        "def get_prices(tickers, freq_p, st_day, end_day):\n",
        "    mystock = pd.DataFrame()\n",
        "    for t in tickers:\n",
        "        mystock[t] = yf.download(t, start=st_day, end=end_day, interval=freq_p)['Adj Close']\n",
        "    return mystock"
      ],
      "execution_count": 33,
      "outputs": []
    },
    {
      "cell_type": "code",
      "metadata": {
        "id": "ZlWV2Lgl3k7j",
        "colab": {
          "base_uri": "https://localhost:8080/",
          "height": 1000
        },
        "outputId": "121a8538-5035-44dc-cf3f-5ecd7a6c4525"
      },
      "source": [
        "tic=['SPY', 'TSLA', 'AAPL', 'NVDA', 'BAC']\n",
        "prices= get_prices(tic, freq_p='1wk', st_day=\"2011-01-01\", end_day=\"2022-05-31\")  # id , 1wk, 1mo\n",
        "print(prices)\n",
        "\n",
        "#prices.rename(columns={\"TSLA\": \"Your_Stock\", \"SPY\":\"INDEX\"}, inplace=True)\n",
        "\n",
        "prices.info()\n",
        "prices.tail(20)"
      ],
      "execution_count": 34,
      "outputs": [
        {
          "output_type": "stream",
          "name": "stdout",
          "text": [
            "[*********************100%***********************]  1 of 1 completed\n",
            "[*********************100%***********************]  1 of 1 completed\n",
            "[*********************100%***********************]  1 of 1 completed\n",
            "[*********************100%***********************]  1 of 1 completed\n",
            "[*********************100%***********************]  1 of 1 completed\n",
            "                   SPY        TSLA        AAPL        NVDA        BAC\n",
            "Date                                                                 \n",
            "2011-01-01  102.503990    5.648000   10.263880    4.562421  12.212250\n",
            "2011-01-08  104.245445    5.150000   10.641310    5.416582  13.069247\n",
            "2011-01-15  103.495644    4.608000    9.976838    5.102011  12.212250\n",
            "2011-01-22  102.971596    4.802000   10.263272    5.455616  11.655198\n",
            "2011-01-29  105.736961    4.692000   10.580849    5.894179  12.246529\n",
            "...                ...         ...         ...         ...        ...\n",
            "2022-04-23  412.000000  870.760010  157.418701  185.470001  35.680000\n",
            "2022-04-30  411.339996  865.650024  157.049255  186.750000  37.450001\n",
            "2022-05-07  401.720001  769.590027  147.110001  177.059998  35.169998\n",
            "2022-05-14  389.630005  663.900024  137.589996  166.940002  33.860001\n",
            "2022-05-21  415.260010  759.630005  149.639999  188.110001  37.020000\n",
            "\n",
            "[640 rows x 5 columns]\n",
            "<class 'pandas.core.frame.DataFrame'>\n",
            "DatetimeIndex: 640 entries, 2011-01-01 to 2022-05-21\n",
            "Data columns (total 5 columns):\n",
            " #   Column  Non-Null Count  Dtype  \n",
            "---  ------  --------------  -----  \n",
            " 0   SPY     595 non-null    float64\n",
            " 1   TSLA    595 non-null    float64\n",
            " 2   AAPL    595 non-null    float64\n",
            " 3   NVDA    595 non-null    float64\n",
            " 4   BAC     595 non-null    float64\n",
            "dtypes: float64(5)\n",
            "memory usage: 30.0 KB\n"
          ]
        },
        {
          "output_type": "execute_result",
          "data": {
            "text/plain": [
              "                   SPY         TSLA        AAPL        NVDA        BAC\n",
              "Date                                                                  \n",
              "2022-01-15  436.623596   943.900024  161.965378  233.700195  44.701435\n",
              "2022-01-22  440.581299   846.349976  169.863693  228.361084  45.646816\n",
              "2022-01-29  447.310394   923.320007  171.918045  243.148575  48.045090\n",
              "2022-02-05  439.095886   860.000000  168.392593  239.449203  47.686840\n",
              "2022-02-12  432.885193   856.979980  167.054550  236.379730  45.736378\n",
              "2022-02-19  436.394287   809.869995  164.608154  241.528854  44.800953\n",
              "2022-02-26  430.831573   838.289978  162.930603  229.320923  40.750755\n",
              "2022-03-05  418.769043   795.349976  154.502991  221.000000  40.330002\n",
              "2022-03-12  443.143311   905.390015  163.739426  264.529999  42.900002\n",
              "2022-03-18         NaN          NaN         NaN         NaN        NaN\n",
              "2022-03-19  452.690002  1010.640015  174.463669  276.920013  43.730000\n",
              "2022-03-26  452.920013  1084.589966  174.054260  267.119995  40.900002\n",
              "2022-04-02  447.570007  1025.489990  169.840454  231.190002  39.669998\n",
              "2022-04-09  437.790009   985.000000  165.047501  212.580002  37.570000\n",
              "2022-04-16  426.040009  1005.049988  161.552628  195.149994  37.560001\n",
              "2022-04-23  412.000000   870.760010  157.418701  185.470001  35.680000\n",
              "2022-04-30  411.339996   865.650024  157.049255  186.750000  37.450001\n",
              "2022-05-07  401.720001   769.590027  147.110001  177.059998  35.169998\n",
              "2022-05-14  389.630005   663.900024  137.589996  166.940002  33.860001\n",
              "2022-05-21  415.260010   759.630005  149.639999  188.110001  37.020000"
            ],
            "text/html": [
              "\n",
              "  <div id=\"df-4753a065-02af-437f-b984-ceb18795f2c1\">\n",
              "    <div class=\"colab-df-container\">\n",
              "      <div>\n",
              "<style scoped>\n",
              "    .dataframe tbody tr th:only-of-type {\n",
              "        vertical-align: middle;\n",
              "    }\n",
              "\n",
              "    .dataframe tbody tr th {\n",
              "        vertical-align: top;\n",
              "    }\n",
              "\n",
              "    .dataframe thead th {\n",
              "        text-align: right;\n",
              "    }\n",
              "</style>\n",
              "<table border=\"1\" class=\"dataframe\">\n",
              "  <thead>\n",
              "    <tr style=\"text-align: right;\">\n",
              "      <th></th>\n",
              "      <th>SPY</th>\n",
              "      <th>TSLA</th>\n",
              "      <th>AAPL</th>\n",
              "      <th>NVDA</th>\n",
              "      <th>BAC</th>\n",
              "    </tr>\n",
              "    <tr>\n",
              "      <th>Date</th>\n",
              "      <th></th>\n",
              "      <th></th>\n",
              "      <th></th>\n",
              "      <th></th>\n",
              "      <th></th>\n",
              "    </tr>\n",
              "  </thead>\n",
              "  <tbody>\n",
              "    <tr>\n",
              "      <th>2022-01-15</th>\n",
              "      <td>436.623596</td>\n",
              "      <td>943.900024</td>\n",
              "      <td>161.965378</td>\n",
              "      <td>233.700195</td>\n",
              "      <td>44.701435</td>\n",
              "    </tr>\n",
              "    <tr>\n",
              "      <th>2022-01-22</th>\n",
              "      <td>440.581299</td>\n",
              "      <td>846.349976</td>\n",
              "      <td>169.863693</td>\n",
              "      <td>228.361084</td>\n",
              "      <td>45.646816</td>\n",
              "    </tr>\n",
              "    <tr>\n",
              "      <th>2022-01-29</th>\n",
              "      <td>447.310394</td>\n",
              "      <td>923.320007</td>\n",
              "      <td>171.918045</td>\n",
              "      <td>243.148575</td>\n",
              "      <td>48.045090</td>\n",
              "    </tr>\n",
              "    <tr>\n",
              "      <th>2022-02-05</th>\n",
              "      <td>439.095886</td>\n",
              "      <td>860.000000</td>\n",
              "      <td>168.392593</td>\n",
              "      <td>239.449203</td>\n",
              "      <td>47.686840</td>\n",
              "    </tr>\n",
              "    <tr>\n",
              "      <th>2022-02-12</th>\n",
              "      <td>432.885193</td>\n",
              "      <td>856.979980</td>\n",
              "      <td>167.054550</td>\n",
              "      <td>236.379730</td>\n",
              "      <td>45.736378</td>\n",
              "    </tr>\n",
              "    <tr>\n",
              "      <th>2022-02-19</th>\n",
              "      <td>436.394287</td>\n",
              "      <td>809.869995</td>\n",
              "      <td>164.608154</td>\n",
              "      <td>241.528854</td>\n",
              "      <td>44.800953</td>\n",
              "    </tr>\n",
              "    <tr>\n",
              "      <th>2022-02-26</th>\n",
              "      <td>430.831573</td>\n",
              "      <td>838.289978</td>\n",
              "      <td>162.930603</td>\n",
              "      <td>229.320923</td>\n",
              "      <td>40.750755</td>\n",
              "    </tr>\n",
              "    <tr>\n",
              "      <th>2022-03-05</th>\n",
              "      <td>418.769043</td>\n",
              "      <td>795.349976</td>\n",
              "      <td>154.502991</td>\n",
              "      <td>221.000000</td>\n",
              "      <td>40.330002</td>\n",
              "    </tr>\n",
              "    <tr>\n",
              "      <th>2022-03-12</th>\n",
              "      <td>443.143311</td>\n",
              "      <td>905.390015</td>\n",
              "      <td>163.739426</td>\n",
              "      <td>264.529999</td>\n",
              "      <td>42.900002</td>\n",
              "    </tr>\n",
              "    <tr>\n",
              "      <th>2022-03-18</th>\n",
              "      <td>NaN</td>\n",
              "      <td>NaN</td>\n",
              "      <td>NaN</td>\n",
              "      <td>NaN</td>\n",
              "      <td>NaN</td>\n",
              "    </tr>\n",
              "    <tr>\n",
              "      <th>2022-03-19</th>\n",
              "      <td>452.690002</td>\n",
              "      <td>1010.640015</td>\n",
              "      <td>174.463669</td>\n",
              "      <td>276.920013</td>\n",
              "      <td>43.730000</td>\n",
              "    </tr>\n",
              "    <tr>\n",
              "      <th>2022-03-26</th>\n",
              "      <td>452.920013</td>\n",
              "      <td>1084.589966</td>\n",
              "      <td>174.054260</td>\n",
              "      <td>267.119995</td>\n",
              "      <td>40.900002</td>\n",
              "    </tr>\n",
              "    <tr>\n",
              "      <th>2022-04-02</th>\n",
              "      <td>447.570007</td>\n",
              "      <td>1025.489990</td>\n",
              "      <td>169.840454</td>\n",
              "      <td>231.190002</td>\n",
              "      <td>39.669998</td>\n",
              "    </tr>\n",
              "    <tr>\n",
              "      <th>2022-04-09</th>\n",
              "      <td>437.790009</td>\n",
              "      <td>985.000000</td>\n",
              "      <td>165.047501</td>\n",
              "      <td>212.580002</td>\n",
              "      <td>37.570000</td>\n",
              "    </tr>\n",
              "    <tr>\n",
              "      <th>2022-04-16</th>\n",
              "      <td>426.040009</td>\n",
              "      <td>1005.049988</td>\n",
              "      <td>161.552628</td>\n",
              "      <td>195.149994</td>\n",
              "      <td>37.560001</td>\n",
              "    </tr>\n",
              "    <tr>\n",
              "      <th>2022-04-23</th>\n",
              "      <td>412.000000</td>\n",
              "      <td>870.760010</td>\n",
              "      <td>157.418701</td>\n",
              "      <td>185.470001</td>\n",
              "      <td>35.680000</td>\n",
              "    </tr>\n",
              "    <tr>\n",
              "      <th>2022-04-30</th>\n",
              "      <td>411.339996</td>\n",
              "      <td>865.650024</td>\n",
              "      <td>157.049255</td>\n",
              "      <td>186.750000</td>\n",
              "      <td>37.450001</td>\n",
              "    </tr>\n",
              "    <tr>\n",
              "      <th>2022-05-07</th>\n",
              "      <td>401.720001</td>\n",
              "      <td>769.590027</td>\n",
              "      <td>147.110001</td>\n",
              "      <td>177.059998</td>\n",
              "      <td>35.169998</td>\n",
              "    </tr>\n",
              "    <tr>\n",
              "      <th>2022-05-14</th>\n",
              "      <td>389.630005</td>\n",
              "      <td>663.900024</td>\n",
              "      <td>137.589996</td>\n",
              "      <td>166.940002</td>\n",
              "      <td>33.860001</td>\n",
              "    </tr>\n",
              "    <tr>\n",
              "      <th>2022-05-21</th>\n",
              "      <td>415.260010</td>\n",
              "      <td>759.630005</td>\n",
              "      <td>149.639999</td>\n",
              "      <td>188.110001</td>\n",
              "      <td>37.020000</td>\n",
              "    </tr>\n",
              "  </tbody>\n",
              "</table>\n",
              "</div>\n",
              "      <button class=\"colab-df-convert\" onclick=\"convertToInteractive('df-4753a065-02af-437f-b984-ceb18795f2c1')\"\n",
              "              title=\"Convert this dataframe to an interactive table.\"\n",
              "              style=\"display:none;\">\n",
              "        \n",
              "  <svg xmlns=\"http://www.w3.org/2000/svg\" height=\"24px\"viewBox=\"0 0 24 24\"\n",
              "       width=\"24px\">\n",
              "    <path d=\"M0 0h24v24H0V0z\" fill=\"none\"/>\n",
              "    <path d=\"M18.56 5.44l.94 2.06.94-2.06 2.06-.94-2.06-.94-.94-2.06-.94 2.06-2.06.94zm-11 1L8.5 8.5l.94-2.06 2.06-.94-2.06-.94L8.5 2.5l-.94 2.06-2.06.94zm10 10l.94 2.06.94-2.06 2.06-.94-2.06-.94-.94-2.06-.94 2.06-2.06.94z\"/><path d=\"M17.41 7.96l-1.37-1.37c-.4-.4-.92-.59-1.43-.59-.52 0-1.04.2-1.43.59L10.3 9.45l-7.72 7.72c-.78.78-.78 2.05 0 2.83L4 21.41c.39.39.9.59 1.41.59.51 0 1.02-.2 1.41-.59l7.78-7.78 2.81-2.81c.8-.78.8-2.07 0-2.86zM5.41 20L4 18.59l7.72-7.72 1.47 1.35L5.41 20z\"/>\n",
              "  </svg>\n",
              "      </button>\n",
              "      \n",
              "  <style>\n",
              "    .colab-df-container {\n",
              "      display:flex;\n",
              "      flex-wrap:wrap;\n",
              "      gap: 12px;\n",
              "    }\n",
              "\n",
              "    .colab-df-convert {\n",
              "      background-color: #E8F0FE;\n",
              "      border: none;\n",
              "      border-radius: 50%;\n",
              "      cursor: pointer;\n",
              "      display: none;\n",
              "      fill: #1967D2;\n",
              "      height: 32px;\n",
              "      padding: 0 0 0 0;\n",
              "      width: 32px;\n",
              "    }\n",
              "\n",
              "    .colab-df-convert:hover {\n",
              "      background-color: #E2EBFA;\n",
              "      box-shadow: 0px 1px 2px rgba(60, 64, 67, 0.3), 0px 1px 3px 1px rgba(60, 64, 67, 0.15);\n",
              "      fill: #174EA6;\n",
              "    }\n",
              "\n",
              "    [theme=dark] .colab-df-convert {\n",
              "      background-color: #3B4455;\n",
              "      fill: #D2E3FC;\n",
              "    }\n",
              "\n",
              "    [theme=dark] .colab-df-convert:hover {\n",
              "      background-color: #434B5C;\n",
              "      box-shadow: 0px 1px 3px 1px rgba(0, 0, 0, 0.15);\n",
              "      filter: drop-shadow(0px 1px 2px rgba(0, 0, 0, 0.3));\n",
              "      fill: #FFFFFF;\n",
              "    }\n",
              "  </style>\n",
              "\n",
              "      <script>\n",
              "        const buttonEl =\n",
              "          document.querySelector('#df-4753a065-02af-437f-b984-ceb18795f2c1 button.colab-df-convert');\n",
              "        buttonEl.style.display =\n",
              "          google.colab.kernel.accessAllowed ? 'block' : 'none';\n",
              "\n",
              "        async function convertToInteractive(key) {\n",
              "          const element = document.querySelector('#df-4753a065-02af-437f-b984-ceb18795f2c1');\n",
              "          const dataTable =\n",
              "            await google.colab.kernel.invokeFunction('convertToInteractive',\n",
              "                                                     [key], {});\n",
              "          if (!dataTable) return;\n",
              "\n",
              "          const docLinkHtml = 'Like what you see? Visit the ' +\n",
              "            '<a target=\"_blank\" href=https://colab.research.google.com/notebooks/data_table.ipynb>data table notebook</a>'\n",
              "            + ' to learn more about interactive tables.';\n",
              "          element.innerHTML = '';\n",
              "          dataTable['output_type'] = 'display_data';\n",
              "          await google.colab.output.renderOutput(dataTable, element);\n",
              "          const docLink = document.createElement('div');\n",
              "          docLink.innerHTML = docLinkHtml;\n",
              "          element.appendChild(docLink);\n",
              "        }\n",
              "      </script>\n",
              "    </div>\n",
              "  </div>\n",
              "  "
            ]
          },
          "metadata": {},
          "execution_count": 34
        }
      ]
    },
    {
      "cell_type": "code",
      "metadata": {
        "id": "lqzwBgDb3k-m"
      },
      "source": [
        ""
      ],
      "execution_count": null,
      "outputs": []
    },
    {
      "cell_type": "markdown",
      "metadata": {
        "id": "pMsb_TvV4NF7"
      },
      "source": [
        "### Let's assume that we buy 5000 shares of AAPL. And using historical returns, let's estimate mean and standard deviation of returns on AAPL. In order to save time, let's assume they are 19% and 30.7%, respectively. "
      ]
    },
    {
      "cell_type": "code",
      "metadata": {
        "id": "SAWrAYn692Lx"
      },
      "source": [
        "aapl = 5000\n",
        "aapl_price = pdr.get_quote_yahoo('AAPL')['price'] # the most recent price\n",
        "aapl_value = aapl * aapl_price\n",
        "aapl_value = aapl_value.at['AAPL']\n",
        "t = 21/252\n",
        "er = .19\n",
        "volatility = .307\n",
        "iterations = 50000"
      ],
      "execution_count": null,
      "outputs": []
    },
    {
      "cell_type": "code",
      "metadata": {
        "colab": {
          "base_uri": "https://localhost:8080/"
        },
        "id": "49QQd-N8ZT52",
        "outputId": "604baa54-0a58-42ae-fe35-0786f87e4382"
      },
      "source": [
        "type(aapl_price)"
      ],
      "execution_count": null,
      "outputs": [
        {
          "output_type": "execute_result",
          "data": {
            "text/plain": [
              "pandas.core.series.Series"
            ]
          },
          "metadata": {},
          "execution_count": 8
        }
      ]
    },
    {
      "cell_type": "code",
      "metadata": {
        "colab": {
          "base_uri": "https://localhost:8080/"
        },
        "id": "DlSeBhhiyYOz",
        "outputId": "7c075cda-7db4-4f9b-a4c1-9bfedc01176c"
      },
      "source": [
        "aapl_price.describe()"
      ],
      "execution_count": null,
      "outputs": [
        {
          "output_type": "execute_result",
          "data": {
            "text/plain": [
              "count      1.00\n",
              "mean     164.85\n",
              "std         NaN\n",
              "min      164.85\n",
              "25%      164.85\n",
              "50%      164.85\n",
              "75%      164.85\n",
              "max      164.85\n",
              "Name: price, dtype: float64"
            ]
          },
          "metadata": {},
          "execution_count": 25
        }
      ]
    },
    {
      "cell_type": "code",
      "metadata": {
        "colab": {
          "base_uri": "https://localhost:8080/",
          "height": 162
        },
        "id": "2Yq4jmIeuDSi",
        "outputId": "3e60e243-02dc-4496-8787-70da16d4e7c7"
      },
      "source": [
        "# checking to see what get_quote_yahoo is retreveing\n",
        "pdr.get_quote_yahoo('AAPL')\n"
      ],
      "execution_count": null,
      "outputs": [
        {
          "output_type": "execute_result",
          "data": {
            "text/html": [
              "\n",
              "  <div id=\"df-310640ad-067d-46dc-af01-a391409a5a4d\">\n",
              "    <div class=\"colab-df-container\">\n",
              "      <div>\n",
              "<style scoped>\n",
              "    .dataframe tbody tr th:only-of-type {\n",
              "        vertical-align: middle;\n",
              "    }\n",
              "\n",
              "    .dataframe tbody tr th {\n",
              "        vertical-align: top;\n",
              "    }\n",
              "\n",
              "    .dataframe thead th {\n",
              "        text-align: right;\n",
              "    }\n",
              "</style>\n",
              "<table border=\"1\" class=\"dataframe\">\n",
              "  <thead>\n",
              "    <tr style=\"text-align: right;\">\n",
              "      <th></th>\n",
              "      <th>language</th>\n",
              "      <th>region</th>\n",
              "      <th>quoteType</th>\n",
              "      <th>quoteSourceName</th>\n",
              "      <th>triggerable</th>\n",
              "      <th>customPriceAlertConfidence</th>\n",
              "      <th>exchange</th>\n",
              "      <th>market</th>\n",
              "      <th>currency</th>\n",
              "      <th>marketState</th>\n",
              "      <th>shortName</th>\n",
              "      <th>longName</th>\n",
              "      <th>messageBoardId</th>\n",
              "      <th>exchangeTimezoneName</th>\n",
              "      <th>exchangeTimezoneShortName</th>\n",
              "      <th>gmtOffSetMilliseconds</th>\n",
              "      <th>esgPopulated</th>\n",
              "      <th>firstTradeDateMilliseconds</th>\n",
              "      <th>priceHint</th>\n",
              "      <th>postMarketChangePercent</th>\n",
              "      <th>postMarketTime</th>\n",
              "      <th>postMarketPrice</th>\n",
              "      <th>postMarketChange</th>\n",
              "      <th>regularMarketChange</th>\n",
              "      <th>regularMarketChangePercent</th>\n",
              "      <th>regularMarketTime</th>\n",
              "      <th>regularMarketPrice</th>\n",
              "      <th>regularMarketDayHigh</th>\n",
              "      <th>regularMarketDayRange</th>\n",
              "      <th>regularMarketDayLow</th>\n",
              "      <th>regularMarketVolume</th>\n",
              "      <th>regularMarketPreviousClose</th>\n",
              "      <th>bid</th>\n",
              "      <th>ask</th>\n",
              "      <th>bidSize</th>\n",
              "      <th>askSize</th>\n",
              "      <th>fullExchangeName</th>\n",
              "      <th>financialCurrency</th>\n",
              "      <th>regularMarketOpen</th>\n",
              "      <th>averageDailyVolume3Month</th>\n",
              "      <th>averageDailyVolume10Day</th>\n",
              "      <th>fiftyTwoWeekLowChange</th>\n",
              "      <th>fiftyTwoWeekLowChangePercent</th>\n",
              "      <th>fiftyTwoWeekRange</th>\n",
              "      <th>fiftyTwoWeekHighChange</th>\n",
              "      <th>fiftyTwoWeekHighChangePercent</th>\n",
              "      <th>fiftyTwoWeekLow</th>\n",
              "      <th>fiftyTwoWeekHigh</th>\n",
              "      <th>dividendDate</th>\n",
              "      <th>earningsTimestamp</th>\n",
              "      <th>earningsTimestampStart</th>\n",
              "      <th>earningsTimestampEnd</th>\n",
              "      <th>trailingAnnualDividendRate</th>\n",
              "      <th>trailingPE</th>\n",
              "      <th>trailingAnnualDividendYield</th>\n",
              "      <th>epsTrailingTwelveMonths</th>\n",
              "      <th>epsForward</th>\n",
              "      <th>epsCurrentYear</th>\n",
              "      <th>priceEpsCurrentYear</th>\n",
              "      <th>sharesOutstanding</th>\n",
              "      <th>bookValue</th>\n",
              "      <th>fiftyDayAverage</th>\n",
              "      <th>fiftyDayAverageChange</th>\n",
              "      <th>fiftyDayAverageChangePercent</th>\n",
              "      <th>twoHundredDayAverage</th>\n",
              "      <th>twoHundredDayAverageChange</th>\n",
              "      <th>twoHundredDayAverageChangePercent</th>\n",
              "      <th>marketCap</th>\n",
              "      <th>forwardPE</th>\n",
              "      <th>priceToBook</th>\n",
              "      <th>sourceInterval</th>\n",
              "      <th>exchangeDataDelayedBy</th>\n",
              "      <th>pageViewGrowthWeekly</th>\n",
              "      <th>averageAnalystRating</th>\n",
              "      <th>tradeable</th>\n",
              "      <th>displayName</th>\n",
              "      <th>price</th>\n",
              "    </tr>\n",
              "  </thead>\n",
              "  <tbody>\n",
              "    <tr>\n",
              "      <th>AAPL</th>\n",
              "      <td>en-US</td>\n",
              "      <td>US</td>\n",
              "      <td>EQUITY</td>\n",
              "      <td>Nasdaq Real Time Price</td>\n",
              "      <td>True</td>\n",
              "      <td>HIGH</td>\n",
              "      <td>NMS</td>\n",
              "      <td>us_market</td>\n",
              "      <td>USD</td>\n",
              "      <td>CLOSED</td>\n",
              "      <td>Apple Inc.</td>\n",
              "      <td>Apple Inc.</td>\n",
              "      <td>finmb_24937</td>\n",
              "      <td>America/New_York</td>\n",
              "      <td>EST</td>\n",
              "      <td>-18000000</td>\n",
              "      <td>False</td>\n",
              "      <td>345479400000</td>\n",
              "      <td>2</td>\n",
              "      <td>-0.309378</td>\n",
              "      <td>1645837199</td>\n",
              "      <td>164.34</td>\n",
              "      <td>-0.51001</td>\n",
              "      <td>2.110001</td>\n",
              "      <td>1.296547</td>\n",
              "      <td>1645822803</td>\n",
              "      <td>164.85</td>\n",
              "      <td>165.04</td>\n",
              "      <td>160.8738 - 165.04</td>\n",
              "      <td>160.8738</td>\n",
              "      <td>90795431</td>\n",
              "      <td>162.74</td>\n",
              "      <td>164.4</td>\n",
              "      <td>164.45</td>\n",
              "      <td>10</td>\n",
              "      <td>14</td>\n",
              "      <td>NasdaqGS</td>\n",
              "      <td>USD</td>\n",
              "      <td>163.84</td>\n",
              "      <td>102408446</td>\n",
              "      <td>87661990</td>\n",
              "      <td>48.640007</td>\n",
              "      <td>0.418553</td>\n",
              "      <td>116.21 - 182.94</td>\n",
              "      <td>-18.089996</td>\n",
              "      <td>-0.098885</td>\n",
              "      <td>116.21</td>\n",
              "      <td>182.94</td>\n",
              "      <td>1644451200</td>\n",
              "      <td>1643301000</td>\n",
              "      <td>1651003200</td>\n",
              "      <td>1651521600</td>\n",
              "      <td>0.865</td>\n",
              "      <td>27.406485</td>\n",
              "      <td>0.005315</td>\n",
              "      <td>6.015</td>\n",
              "      <td>6.56</td>\n",
              "      <td>6.16</td>\n",
              "      <td>26.761366</td>\n",
              "      <td>16319399936</td>\n",
              "      <td>4.402</td>\n",
              "      <td>171.4202</td>\n",
              "      <td>-6.57019</td>\n",
              "      <td>-0.038328</td>\n",
              "      <td>151.8316</td>\n",
              "      <td>13.018402</td>\n",
              "      <td>0.085742</td>\n",
              "      <td>2690253062144</td>\n",
              "      <td>25.129574</td>\n",
              "      <td>37.448887</td>\n",
              "      <td>15</td>\n",
              "      <td>0</td>\n",
              "      <td>0.024751</td>\n",
              "      <td>1.8 - Buy</td>\n",
              "      <td>False</td>\n",
              "      <td>Apple</td>\n",
              "      <td>164.85</td>\n",
              "    </tr>\n",
              "  </tbody>\n",
              "</table>\n",
              "</div>\n",
              "      <button class=\"colab-df-convert\" onclick=\"convertToInteractive('df-310640ad-067d-46dc-af01-a391409a5a4d')\"\n",
              "              title=\"Convert this dataframe to an interactive table.\"\n",
              "              style=\"display:none;\">\n",
              "        \n",
              "  <svg xmlns=\"http://www.w3.org/2000/svg\" height=\"24px\"viewBox=\"0 0 24 24\"\n",
              "       width=\"24px\">\n",
              "    <path d=\"M0 0h24v24H0V0z\" fill=\"none\"/>\n",
              "    <path d=\"M18.56 5.44l.94 2.06.94-2.06 2.06-.94-2.06-.94-.94-2.06-.94 2.06-2.06.94zm-11 1L8.5 8.5l.94-2.06 2.06-.94-2.06-.94L8.5 2.5l-.94 2.06-2.06.94zm10 10l.94 2.06.94-2.06 2.06-.94-2.06-.94-.94-2.06-.94 2.06-2.06.94z\"/><path d=\"M17.41 7.96l-1.37-1.37c-.4-.4-.92-.59-1.43-.59-.52 0-1.04.2-1.43.59L10.3 9.45l-7.72 7.72c-.78.78-.78 2.05 0 2.83L4 21.41c.39.39.9.59 1.41.59.51 0 1.02-.2 1.41-.59l7.78-7.78 2.81-2.81c.8-.78.8-2.07 0-2.86zM5.41 20L4 18.59l7.72-7.72 1.47 1.35L5.41 20z\"/>\n",
              "  </svg>\n",
              "      </button>\n",
              "      \n",
              "  <style>\n",
              "    .colab-df-container {\n",
              "      display:flex;\n",
              "      flex-wrap:wrap;\n",
              "      gap: 12px;\n",
              "    }\n",
              "\n",
              "    .colab-df-convert {\n",
              "      background-color: #E8F0FE;\n",
              "      border: none;\n",
              "      border-radius: 50%;\n",
              "      cursor: pointer;\n",
              "      display: none;\n",
              "      fill: #1967D2;\n",
              "      height: 32px;\n",
              "      padding: 0 0 0 0;\n",
              "      width: 32px;\n",
              "    }\n",
              "\n",
              "    .colab-df-convert:hover {\n",
              "      background-color: #E2EBFA;\n",
              "      box-shadow: 0px 1px 2px rgba(60, 64, 67, 0.3), 0px 1px 3px 1px rgba(60, 64, 67, 0.15);\n",
              "      fill: #174EA6;\n",
              "    }\n",
              "\n",
              "    [theme=dark] .colab-df-convert {\n",
              "      background-color: #3B4455;\n",
              "      fill: #D2E3FC;\n",
              "    }\n",
              "\n",
              "    [theme=dark] .colab-df-convert:hover {\n",
              "      background-color: #434B5C;\n",
              "      box-shadow: 0px 1px 3px 1px rgba(0, 0, 0, 0.15);\n",
              "      filter: drop-shadow(0px 1px 2px rgba(0, 0, 0, 0.3));\n",
              "      fill: #FFFFFF;\n",
              "    }\n",
              "  </style>\n",
              "\n",
              "      <script>\n",
              "        const buttonEl =\n",
              "          document.querySelector('#df-310640ad-067d-46dc-af01-a391409a5a4d button.colab-df-convert');\n",
              "        buttonEl.style.display =\n",
              "          google.colab.kernel.accessAllowed ? 'block' : 'none';\n",
              "\n",
              "        async function convertToInteractive(key) {\n",
              "          const element = document.querySelector('#df-310640ad-067d-46dc-af01-a391409a5a4d');\n",
              "          const dataTable =\n",
              "            await google.colab.kernel.invokeFunction('convertToInteractive',\n",
              "                                                     [key], {});\n",
              "          if (!dataTable) return;\n",
              "\n",
              "          const docLinkHtml = 'Like what you see? Visit the ' +\n",
              "            '<a target=\"_blank\" href=https://colab.research.google.com/notebooks/data_table.ipynb>data table notebook</a>'\n",
              "            + ' to learn more about interactive tables.';\n",
              "          element.innerHTML = '';\n",
              "          dataTable['output_type'] = 'display_data';\n",
              "          await google.colab.output.renderOutput(dataTable, element);\n",
              "          const docLink = document.createElement('div');\n",
              "          docLink.innerHTML = docLinkHtml;\n",
              "          element.appendChild(docLink);\n",
              "        }\n",
              "      </script>\n",
              "    </div>\n",
              "  </div>\n",
              "  "
            ],
            "text/plain": [
              "     language region quoteType  ... tradeable  displayName   price\n",
              "AAPL    en-US     US    EQUITY  ...     False        Apple  164.85\n",
              "\n",
              "[1 rows x 77 columns]"
            ]
          },
          "metadata": {},
          "execution_count": 26
        }
      ]
    },
    {
      "cell_type": "code",
      "metadata": {
        "colab": {
          "base_uri": "https://localhost:8080/"
        },
        "id": "StVDEHYGt8_v",
        "outputId": "a5e092ba-e5b3-468a-c5f9-1fcfaa733cdb"
      },
      "source": [
        "type(aapl_price)"
      ],
      "execution_count": null,
      "outputs": [
        {
          "output_type": "execute_result",
          "data": {
            "text/plain": [
              "pandas.core.series.Series"
            ]
          },
          "metadata": {},
          "execution_count": 11
        }
      ]
    },
    {
      "cell_type": "code",
      "metadata": {
        "colab": {
          "base_uri": "https://localhost:8080/"
        },
        "id": "Nhu9A23Ttrug",
        "outputId": "40320dde-e1f1-4a4c-a777-bad6a90737a3"
      },
      "source": [
        "type(aapl_value)"
      ],
      "execution_count": null,
      "outputs": [
        {
          "output_type": "execute_result",
          "data": {
            "text/plain": [
              "numpy.float64"
            ]
          },
          "metadata": {},
          "execution_count": 12
        }
      ]
    },
    {
      "cell_type": "code",
      "metadata": {
        "colab": {
          "base_uri": "https://localhost:8080/"
        },
        "id": "bbm--dft5k6L",
        "outputId": "5068b527-0d83-4141-fd24-d74e6f771c00"
      },
      "source": [
        "aapl_price"
      ],
      "execution_count": null,
      "outputs": [
        {
          "output_type": "execute_result",
          "data": {
            "text/plain": [
              "AAPL    164.85\n",
              "Name: price, dtype: float64"
            ]
          },
          "metadata": {},
          "execution_count": 27
        }
      ]
    },
    {
      "cell_type": "code",
      "metadata": {
        "colab": {
          "base_uri": "https://localhost:8080/"
        },
        "id": "WRnbkPmNt61O",
        "outputId": "01d5df66-bf0e-484b-f57b-38c101304c38"
      },
      "source": [
        "# aapl_value = # of shares times price\n",
        "aapl_value"
      ],
      "execution_count": null,
      "outputs": [
        {
          "output_type": "execute_result",
          "data": {
            "text/plain": [
              "824250.0"
            ]
          },
          "metadata": {},
          "execution_count": 28
        }
      ]
    },
    {
      "cell_type": "markdown",
      "metadata": {
        "id": "CFiOJCbda_5C"
      },
      "source": [
        "Below, let's simulate future value from Geometric Brownian Motion series. "
      ]
    },
    {
      "cell_type": "code",
      "metadata": {
        "id": "4HHqSO2G92Ly"
      },
      "source": [
        "def VaR(pv, er, vol, T, iterations):\n",
        "    end = pv * np.exp((er - .5 * vol ** 2) * T + \n",
        "                     vol * np.sqrt(T) * np.random.standard_normal(iterations))\n",
        "    ending_values = end - pv\n",
        "    return ending_values"
      ],
      "execution_count": null,
      "outputs": []
    },
    {
      "cell_type": "code",
      "metadata": {
        "id": "qFO5xOuS92Ly",
        "colab": {
          "base_uri": "https://localhost:8080/"
        },
        "outputId": "45cd0b5d-6fb4-478b-94b3-87ccabeb4d94"
      },
      "source": [
        "at_risk = VaR(aapl_value, er, volatility, t, iterations)\n",
        "at_risk"
      ],
      "execution_count": null,
      "outputs": [
        {
          "output_type": "execute_result",
          "data": {
            "text/plain": [
              "array([267075.86942993,   2492.06809526,  82860.28614255, ...,\n",
              "        66526.37636915,  73083.61037529,  25892.14775702])"
            ]
          },
          "metadata": {},
          "execution_count": 16
        }
      ]
    },
    {
      "cell_type": "code",
      "metadata": {
        "colab": {
          "base_uri": "https://localhost:8080/"
        },
        "id": "tvG-Oam8bxXq",
        "outputId": "a179d075-5d76-4774-8349-5ca2920c360b"
      },
      "source": [
        "type(at_risk)"
      ],
      "execution_count": null,
      "outputs": [
        {
          "output_type": "execute_result",
          "data": {
            "text/plain": [
              "numpy.ndarray"
            ]
          },
          "metadata": {},
          "execution_count": 17
        }
      ]
    },
    {
      "cell_type": "code",
      "metadata": {
        "colab": {
          "base_uri": "https://localhost:8080/"
        },
        "id": "O0bRLgeDb2Wh",
        "outputId": "bcf7b29a-baae-48e9-8532-df08d7fff9d5"
      },
      "source": [
        "np.shape(at_risk)"
      ],
      "execution_count": null,
      "outputs": [
        {
          "output_type": "execute_result",
          "data": {
            "text/plain": [
              "(50000,)"
            ]
          },
          "metadata": {},
          "execution_count": 18
        }
      ]
    },
    {
      "cell_type": "code",
      "metadata": {
        "colab": {
          "base_uri": "https://localhost:8080/"
        },
        "id": "2jLthy13dWIq",
        "outputId": "b7cb9c80-1b41-4f74-d3da-32eab928d904"
      },
      "source": [
        "np.ndim(at_risk)"
      ],
      "execution_count": null,
      "outputs": [
        {
          "output_type": "execute_result",
          "data": {
            "text/plain": [
              "1"
            ]
          },
          "metadata": {},
          "execution_count": 19
        }
      ]
    },
    {
      "cell_type": "code",
      "metadata": {
        "colab": {
          "base_uri": "https://localhost:8080/"
        },
        "id": "X75Nv1x4zbtD",
        "outputId": "a35b8872-a697-473e-fbb7-2b4b58b52ccd"
      },
      "source": [
        "at_risk.mean()"
      ],
      "execution_count": null,
      "outputs": [
        {
          "output_type": "execute_result",
          "data": {
            "text/plain": [
              "13354.595330942957"
            ]
          },
          "metadata": {},
          "execution_count": 20
        }
      ]
    },
    {
      "cell_type": "code",
      "metadata": {
        "colab": {
          "base_uri": "https://localhost:8080/"
        },
        "id": "wT3hHfvMzgW3",
        "outputId": "b204cbff-ec00-4863-e076-b3214f88b0c7"
      },
      "source": [
        "at_risk.std()"
      ],
      "execution_count": null,
      "outputs": [
        {
          "output_type": "execute_result",
          "data": {
            "text/plain": [
              "74478.69238332179"
            ]
          },
          "metadata": {},
          "execution_count": 21
        }
      ]
    },
    {
      "cell_type": "code",
      "metadata": {
        "colab": {
          "base_uri": "https://localhost:8080/",
          "height": 1000
        },
        "id": "9R_bhuSr92Lz",
        "outputId": "d0504450-339c-4105-8c1c-fa3010bd85cb"
      },
      "source": [
        "plt.hist(at_risk,bins=100)"
      ],
      "execution_count": null,
      "outputs": [
        {
          "output_type": "execute_result",
          "data": {
            "text/plain": [
              "(array([2.000e+00, 3.000e+00, 3.000e+00, 1.100e+01, 9.000e+00, 1.700e+01,\n",
              "        2.000e+01, 2.000e+01, 3.200e+01, 2.900e+01, 5.500e+01, 6.700e+01,\n",
              "        1.040e+02, 9.000e+01, 1.530e+02, 1.620e+02, 2.230e+02, 2.700e+02,\n",
              "        3.420e+02, 3.720e+02, 4.370e+02, 4.760e+02, 5.900e+02, 6.300e+02,\n",
              "        7.780e+02, 7.870e+02, 9.400e+02, 9.710e+02, 1.143e+03, 1.173e+03,\n",
              "        1.315e+03, 1.423e+03, 1.376e+03, 1.498e+03, 1.586e+03, 1.571e+03,\n",
              "        1.629e+03, 1.689e+03, 1.683e+03, 1.670e+03, 1.679e+03, 1.618e+03,\n",
              "        1.589e+03, 1.543e+03, 1.530e+03, 1.413e+03, 1.332e+03, 1.308e+03,\n",
              "        1.209e+03, 1.114e+03, 1.150e+03, 9.400e+02, 8.830e+02, 8.830e+02,\n",
              "        7.620e+02, 6.270e+02, 6.230e+02, 5.480e+02, 4.960e+02, 4.100e+02,\n",
              "        3.750e+02, 3.520e+02, 3.040e+02, 2.800e+02, 2.510e+02, 2.160e+02,\n",
              "        1.820e+02, 1.450e+02, 1.520e+02, 1.090e+02, 9.600e+01, 8.000e+01,\n",
              "        8.000e+01, 6.200e+01, 5.600e+01, 4.600e+01, 2.800e+01, 3.200e+01,\n",
              "        2.300e+01, 2.000e+01, 1.800e+01, 2.500e+01, 1.600e+01, 1.100e+01,\n",
              "        5.000e+00, 5.000e+00, 5.000e+00, 4.000e+00, 3.000e+00, 1.000e+00,\n",
              "        2.000e+00, 5.000e+00, 1.000e+00, 1.000e+00, 1.000e+00, 1.000e+00,\n",
              "        0.000e+00, 0.000e+00, 0.000e+00, 1.000e+00]),\n",
              " array([-233431.23342146, -227310.15360382, -221189.07378618,\n",
              "        -215067.99396853, -208946.91415089, -202825.83433325,\n",
              "        -196704.75451561, -190583.67469797, -184462.59488033,\n",
              "        -178341.51506269, -172220.43524505, -166099.35542741,\n",
              "        -159978.27560977, -153857.19579213, -147736.11597449,\n",
              "        -141615.03615685, -135493.95633921, -129372.87652157,\n",
              "        -123251.79670392, -117130.71688628, -111009.63706864,\n",
              "        -104888.557251  ,  -98767.47743336,  -92646.39761572,\n",
              "         -86525.31779808,  -80404.23798044,  -74283.1581628 ,\n",
              "         -68162.07834516,  -62040.99852752,  -55919.91870988,\n",
              "         -49798.83889224,  -43677.7590746 ,  -37556.67925696,\n",
              "         -31435.59943932,  -25314.51962167,  -19193.43980403,\n",
              "         -13072.35998639,   -6951.28016875,    -830.20035111,\n",
              "           5290.87946653,   11411.95928417,   17533.03910181,\n",
              "          23654.11891945,   29775.19873709,   35896.27855473,\n",
              "          42017.35837237,   48138.43819001,   54259.51800765,\n",
              "          60380.59782529,   66501.67764294,   72622.75746058,\n",
              "          78743.83727822,   84864.91709586,   90985.9969135 ,\n",
              "          97107.07673114,  103228.15654878,  109349.23636642,\n",
              "         115470.31618406,  121591.3960017 ,  127712.47581934,\n",
              "         133833.55563698,  139954.63545462,  146075.71527226,\n",
              "         152196.7950899 ,  158317.87490755,  164438.95472519,\n",
              "         170560.03454283,  176681.11436047,  182802.19417811,\n",
              "         188923.27399575,  195044.35381339,  201165.43363103,\n",
              "         207286.51344867,  213407.59326631,  219528.67308395,\n",
              "         225649.75290159,  231770.83271923,  237891.91253687,\n",
              "         244012.99235451,  250134.07217216,  256255.1519898 ,\n",
              "         262376.23180744,  268497.31162508,  274618.39144272,\n",
              "         280739.47126036,  286860.551078  ,  292981.63089564,\n",
              "         299102.71071328,  305223.79053092,  311344.87034856,\n",
              "         317465.9501662 ,  323587.02998384,  329708.10980148,\n",
              "         335829.18961912,  341950.26943677,  348071.34925441,\n",
              "         354192.42907205,  360313.50888969,  366434.58870733,\n",
              "         372555.66852497,  378676.74834261]),\n",
              " <a list of 100 Patch objects>)"
            ]
          },
          "metadata": {},
          "execution_count": 22
        },
        {
          "output_type": "display_data",
          "data": {
            "image/png": "[encoded data removed]",
            "text/plain": [
              "<Figure size 432x288 with 1 Axes>"
            ]
          },
          "metadata": {
            "needs_background": "light"
          }
        }
      ]
    },
    {
      "cell_type": "code",
      "metadata": {
        "colab": {
          "base_uri": "https://localhost:8080/"
        },
        "id": "NRAvc7oy92L0",
        "outputId": "99480652-1b60-4d77-f114-758298e8cb41"
      },
      "source": [
        "percentiles = [1,5,10]\n",
        "np.percentile(at_risk, percentiles)"
      ],
      "execution_count": null,
      "outputs": [
        {
          "output_type": "execute_result",
          "data": {
            "text/plain": [
              "array([-146506.22397474, -103555.64877737,  -79566.67245275])"
            ]
          },
          "metadata": {},
          "execution_count": 23
        }
      ]
    }
  ]
}