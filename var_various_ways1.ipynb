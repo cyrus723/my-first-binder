{
  "nbformat": 4,
  "nbformat_minor": 0,
  "metadata": {
    "kernelspec": {
      "display_name": "Python 3",
      "language": "python",
      "name": "python3"
    },
    "language_info": {
      "codemirror_mode": {
        "name": "ipython",
        "version": 3
      },
      "file_extension": ".py",
      "mimetype": "text/x-python",
      "name": "python",
      "nbconvert_exporter": "python",
      "pygments_lexer": "ipython3",
      "version": "3.7.2"
    },
    "colab": {
      "name": "var_various_ways1.ipynb",
      "provenance": [],
      "collapsed_sections": [],
      "include_colab_link": true
    }
  },
  "cells": [
    {
      "cell_type": "markdown",
      "metadata": {
        "id": "view-in-github",
        "colab_type": "text"
      },
      "source": [
        "<a href=\"https://colab.research.google.com/github/cyrus723/my-first-binder/blob/main/var_various_ways1.ipynb\" target=\"_parent\"><img src=\"https://colab.research.google.com/assets/colab-badge.svg\" alt=\"Open In Colab\"/></a>"
      ]
    },
    {
      "cell_type": "markdown",
      "metadata": {
        "id": "CZXIzNOM92Lp"
      },
      "source": [
        "# Value at Risk, VaR\n",
        "In this code, using Geometric Brownian Motion, simulate returns and create distribution. And then find the VaR.\n"
      ]
    },
    {
      "cell_type": "markdown",
      "metadata": {
        "id": "Ye-MyiEscdyp"
      },
      "source": [
        "###VaR\n",
        "\n",
        "Value at risk (VaR): Loss that will be incurred in the event of an extreme adverse price change with some given, usually low, probability. i.e., the worst-case outcome.\n",
        "\n",
        "1% VaR means that 99% of returns will exceed the VaR and 1% of returns will be worse.\n",
        "\n",
        "Assuming that portfolio returns are normally distributed, the VaR is fully determined by the mean and SD of the distribution. \n",
        "\n",
        "For example, VaR(1%, normal) = Mean - 2.33SD\n",
        "\n",
        "To obtain a sample estimate of 1%  VaR, we sort the observations from high to low. The VaR is the return at the 1st percentile of the sample distribution.\n",
        "\n",
        "For example, with 95% confidence, we expect that our worst daily loss will not exceed 4%. If we invest 100 dollars, we are 95% confident that our worst daily loss will not exceed 4 dollars (100 dollars x -4%).\n",
        "\n"
      ]
    },
    {
      "cell_type": "markdown",
      "source": [
        "|Confidence Level |Two sided CV   |One sided CV   | \n",
        "|---|---|---|\n",
        "| 90%  |1.64   |1.28   |  \n",
        "| 95%  |1.96   |1.64   |  \n",
        "| 99%  |2.58   |2.33   |  "
      ],
      "metadata": {
        "id": "tU9awDWYPwQ4"
      }
    },
    {
      "cell_type": "code",
      "metadata": {
        "id": "i2wlPW-1Mz_b",
        "colab": {
          "base_uri": "https://localhost:8080/"
        },
        "outputId": "d1ca0fda-5e92-44ab-8c61-561d25a6d232"
      },
      "source": [
        "!pip install pandas-datareader\n",
        "!pip install --upgrade pandas-datareader \n",
        "!pip install yfinance\n",
        "\n",
        "#Diable the warnings\n",
        "import warnings\n",
        "warnings.filterwarnings('ignore')"
      ],
      "execution_count": 1,
      "outputs": [
        {
          "output_type": "stream",
          "name": "stdout",
          "text": [
            "Looking in indexes: https://pypi.org/simple, https://us-python.pkg.dev/colab-wheels/public/simple/\n",
            "Requirement already satisfied: pandas-datareader in /usr/local/lib/python3.7/dist-packages (0.10.0)\n",
            "Requirement already satisfied: lxml in /usr/local/lib/python3.7/dist-packages (from pandas-datareader) (4.8.0)\n",
            "Requirement already satisfied: pandas>=0.23 in /usr/local/lib/python3.7/dist-packages (from pandas-datareader) (1.3.5)\n",
            "Requirement already satisfied: requests>=2.19.0 in /usr/local/lib/python3.7/dist-packages (from pandas-datareader) (2.27.1)\n",
            "Requirement already satisfied: pytz>=2017.3 in /usr/local/lib/python3.7/dist-packages (from pandas>=0.23->pandas-datareader) (2022.1)\n",
            "Requirement already satisfied: python-dateutil>=2.7.3 in /usr/local/lib/python3.7/dist-packages (from pandas>=0.23->pandas-datareader) (2.8.2)\n",
            "Requirement already satisfied: numpy>=1.17.3 in /usr/local/lib/python3.7/dist-packages (from pandas>=0.23->pandas-datareader) (1.21.6)\n",
            "Requirement already satisfied: six>=1.5 in /usr/local/lib/python3.7/dist-packages (from python-dateutil>=2.7.3->pandas>=0.23->pandas-datareader) (1.15.0)\n",
            "Requirement already satisfied: urllib3<1.27,>=1.21.1 in /usr/local/lib/python3.7/dist-packages (from requests>=2.19.0->pandas-datareader) (1.24.3)\n",
            "Requirement already satisfied: certifi>=2017.4.17 in /usr/local/lib/python3.7/dist-packages (from requests>=2.19.0->pandas-datareader) (2022.5.18.1)\n",
            "Requirement already satisfied: idna<4,>=2.5 in /usr/local/lib/python3.7/dist-packages (from requests>=2.19.0->pandas-datareader) (2.10)\n",
            "Requirement already satisfied: charset-normalizer~=2.0.0 in /usr/local/lib/python3.7/dist-packages (from requests>=2.19.0->pandas-datareader) (2.0.12)\n",
            "Looking in indexes: https://pypi.org/simple, https://us-python.pkg.dev/colab-wheels/public/simple/\n",
            "Requirement already satisfied: pandas-datareader in /usr/local/lib/python3.7/dist-packages (0.10.0)\n",
            "Requirement already satisfied: pandas>=0.23 in /usr/local/lib/python3.7/dist-packages (from pandas-datareader) (1.3.5)\n",
            "Requirement already satisfied: requests>=2.19.0 in /usr/local/lib/python3.7/dist-packages (from pandas-datareader) (2.27.1)\n",
            "Requirement already satisfied: lxml in /usr/local/lib/python3.7/dist-packages (from pandas-datareader) (4.8.0)\n",
            "Requirement already satisfied: numpy>=1.17.3 in /usr/local/lib/python3.7/dist-packages (from pandas>=0.23->pandas-datareader) (1.21.6)\n",
            "Requirement already satisfied: pytz>=2017.3 in /usr/local/lib/python3.7/dist-packages (from pandas>=0.23->pandas-datareader) (2022.1)\n",
            "Requirement already satisfied: python-dateutil>=2.7.3 in /usr/local/lib/python3.7/dist-packages (from pandas>=0.23->pandas-datareader) (2.8.2)\n",
            "Requirement already satisfied: six>=1.5 in /usr/local/lib/python3.7/dist-packages (from python-dateutil>=2.7.3->pandas>=0.23->pandas-datareader) (1.15.0)\n",
            "Requirement already satisfied: idna<4,>=2.5 in /usr/local/lib/python3.7/dist-packages (from requests>=2.19.0->pandas-datareader) (2.10)\n",
            "Requirement already satisfied: charset-normalizer~=2.0.0 in /usr/local/lib/python3.7/dist-packages (from requests>=2.19.0->pandas-datareader) (2.0.12)\n",
            "Requirement already satisfied: urllib3<1.27,>=1.21.1 in /usr/local/lib/python3.7/dist-packages (from requests>=2.19.0->pandas-datareader) (1.24.3)\n",
            "Requirement already satisfied: certifi>=2017.4.17 in /usr/local/lib/python3.7/dist-packages (from requests>=2.19.0->pandas-datareader) (2022.5.18.1)\n",
            "Looking in indexes: https://pypi.org/simple, https://us-python.pkg.dev/colab-wheels/public/simple/\n",
            "Requirement already satisfied: yfinance in /usr/local/lib/python3.7/dist-packages (0.1.70)\n",
            "Requirement already satisfied: pandas>=0.24.0 in /usr/local/lib/python3.7/dist-packages (from yfinance) (1.3.5)\n",
            "Requirement already satisfied: numpy>=1.15 in /usr/local/lib/python3.7/dist-packages (from yfinance) (1.21.6)\n",
            "Requirement already satisfied: lxml>=4.5.1 in /usr/local/lib/python3.7/dist-packages (from yfinance) (4.8.0)\n",
            "Requirement already satisfied: requests>=2.26 in /usr/local/lib/python3.7/dist-packages (from yfinance) (2.27.1)\n",
            "Requirement already satisfied: multitasking>=0.0.7 in /usr/local/lib/python3.7/dist-packages (from yfinance) (0.0.10)\n",
            "Requirement already satisfied: pytz>=2017.3 in /usr/local/lib/python3.7/dist-packages (from pandas>=0.24.0->yfinance) (2022.1)\n",
            "Requirement already satisfied: python-dateutil>=2.7.3 in /usr/local/lib/python3.7/dist-packages (from pandas>=0.24.0->yfinance) (2.8.2)\n",
            "Requirement already satisfied: six>=1.5 in /usr/local/lib/python3.7/dist-packages (from python-dateutil>=2.7.3->pandas>=0.24.0->yfinance) (1.15.0)\n",
            "Requirement already satisfied: idna<4,>=2.5 in /usr/local/lib/python3.7/dist-packages (from requests>=2.26->yfinance) (2.10)\n",
            "Requirement already satisfied: certifi>=2017.4.17 in /usr/local/lib/python3.7/dist-packages (from requests>=2.26->yfinance) (2022.5.18.1)\n",
            "Requirement already satisfied: charset-normalizer~=2.0.0 in /usr/local/lib/python3.7/dist-packages (from requests>=2.26->yfinance) (2.0.12)\n",
            "Requirement already satisfied: urllib3<1.27,>=1.21.1 in /usr/local/lib/python3.7/dist-packages (from requests>=2.26->yfinance) (1.24.3)\n"
          ]
        }
      ]
    },
    {
      "cell_type": "code",
      "source": [
        "import math\n",
        "import numpy as np\n",
        "import numpy.random as npr\n",
        "import pandas as pd  \n",
        "import pandas_datareader as pdr\n",
        "import yfinance as yf\n",
        "\n",
        "import scipy as sp\n",
        "from scipy.stats import norm\n",
        "\n",
        "from pylab import plt, mpl\n",
        "plt.style.use('fivethirtyeight')\n",
        "#plt.style.use('seaborn')\n",
        "mpl.rcParams['font.family'] = 'DejaVu Sans'\n",
        "\n",
        "pd.set_option('precision', 3)\n",
        "pd.set_option('display.max_colwidth', 100)\n",
        "%matplotlib inline"
      ],
      "metadata": {
        "id": "KzheAcx--5Da"
      },
      "execution_count": 2,
      "outputs": []
    },
    {
      "cell_type": "code",
      "source": [
        "\n",
        "sp.stats.norm.ppf(1-.10/2).round(2)"
      ],
      "metadata": {
        "colab": {
          "base_uri": "https://localhost:8080/"
        },
        "id": "I0QCB0v5T-oi",
        "outputId": "76479008-7d4c-4822-e6d4-ec339afdefac"
      },
      "execution_count": 3,
      "outputs": [
        {
          "output_type": "execute_result",
          "data": {
            "text/plain": [
              "1.64"
            ]
          },
          "metadata": {},
          "execution_count": 3
        }
      ]
    },
    {
      "cell_type": "code",
      "source": [
        "sp.stats.norm.ppf(1-.05/2).round(2)"
      ],
      "metadata": {
        "colab": {
          "base_uri": "https://localhost:8080/"
        },
        "id": "fORGJAkLT-ie",
        "outputId": "eb376c94-1b50-43ee-a6c5-ba6ad9187ac5"
      },
      "execution_count": 4,
      "outputs": [
        {
          "output_type": "execute_result",
          "data": {
            "text/plain": [
              "1.96"
            ]
          },
          "metadata": {},
          "execution_count": 4
        }
      ]
    },
    {
      "cell_type": "code",
      "source": [
        "sp.stats.norm.ppf(1-.01/2).round(2)"
      ],
      "metadata": {
        "colab": {
          "base_uri": "https://localhost:8080/"
        },
        "id": "Z3GUG6eoT-R0",
        "outputId": "45642b8a-89d7-4789-b1bb-914d48156414"
      },
      "execution_count": 5,
      "outputs": [
        {
          "output_type": "execute_result",
          "data": {
            "text/plain": [
              "2.58"
            ]
          },
          "metadata": {},
          "execution_count": 5
        }
      ]
    },
    {
      "cell_type": "code",
      "source": [
        "sp.stats.norm.ppf(1-.10).round(2)"
      ],
      "metadata": {
        "colab": {
          "base_uri": "https://localhost:8080/"
        },
        "id": "G-2-LaN2UTfL",
        "outputId": "7053c57e-17c7-4518-c675-3f500ed0f07d"
      },
      "execution_count": 6,
      "outputs": [
        {
          "output_type": "execute_result",
          "data": {
            "text/plain": [
              "1.28"
            ]
          },
          "metadata": {},
          "execution_count": 6
        }
      ]
    },
    {
      "cell_type": "code",
      "source": [
        "sp.stats.norm.ppf(1-.05).round(2)"
      ],
      "metadata": {
        "colab": {
          "base_uri": "https://localhost:8080/"
        },
        "id": "zhqOqzlOUTbG",
        "outputId": "93a80330-667b-4ab1-a22a-d45fd398d225"
      },
      "execution_count": 7,
      "outputs": [
        {
          "output_type": "execute_result",
          "data": {
            "text/plain": [
              "1.64"
            ]
          },
          "metadata": {},
          "execution_count": 7
        }
      ]
    },
    {
      "cell_type": "code",
      "source": [
        "sp.stats.norm.ppf(1-.01).round(2)"
      ],
      "metadata": {
        "colab": {
          "base_uri": "https://localhost:8080/"
        },
        "id": "7VkJYM8mUTWR",
        "outputId": "d9bb666a-34a7-45d9-eab1-df4e2d2e430a"
      },
      "execution_count": 8,
      "outputs": [
        {
          "output_type": "execute_result",
          "data": {
            "text/plain": [
              "2.33"
            ]
          },
          "metadata": {},
          "execution_count": 8
        }
      ]
    },
    {
      "cell_type": "code",
      "source": [
        ""
      ],
      "metadata": {
        "id": "82QN9_35UTFp"
      },
      "execution_count": 8,
      "outputs": []
    },
    {
      "cell_type": "code",
      "metadata": {
        "id": "qXs2DPrQ3k4j"
      },
      "source": [
        "def get_prices(tickers, freq_p, st_day, end_day):\n",
        "    mystock = pd.DataFrame()\n",
        "    for t in tickers:\n",
        "        mystock[t] = yf.download(t, start=st_day, end=end_day, interval=freq_p)['Adj Close']\n",
        "    return mystock"
      ],
      "execution_count": 9,
      "outputs": []
    },
    {
      "cell_type": "code",
      "metadata": {
        "id": "kEPgMkoq92Lw"
      },
      "source": [
        "# for short time horizons er will be small, and therefore VaR estimations\n",
        "# will not be much influenced by it\n",
        "# assuming that portfolio is normally distributed, \n",
        "\n",
        "def var_calc(CL, days, p_val, vol, t):\n",
        "\n",
        "  VaR = p_val * vol * np.sqrt(t/days) * norm.ppf(CL)\n",
        "  percent_loss = -VaR/p_val *100\n",
        "\n",
        "  print(\"Assuming that we invest {:.2f}, for the next {:.1f} trading days\".format(p_val, days))\n",
        "  print(\"At {:.3f} confidence level, loss will not exceed {:,.2f}\".format(CL, VaR))\n",
        "  print(\"This represents a move of {:.2f} standard deviations below the expected return,\\\n",
        "  or a loss of {:.2f}%.\".format(norm.ppf(CL), percent_loss))\n",
        " \n",
        "  return"
      ],
      "execution_count": 10,
      "outputs": []
    },
    {
      "cell_type": "code",
      "metadata": {
        "id": "ZlWV2Lgl3k7j",
        "colab": {
          "base_uri": "https://localhost:8080/",
          "height": 793
        },
        "outputId": "e794c389-453c-4122-c8e0-23d02c6c6024"
      },
      "source": [
        "tic=['SPY', 'TLT', 'TSLA', 'AAPL', 'VNQ', 'BAC', 'WMT', 'AMD', 'JNJ', 'GM', 'CMG', 'SHV']\n",
        "prices= get_prices(tic, freq_p='1wk', st_day=\"2011-01-01\", end_day=\"2022-05-31\")  # id , 1wk, 1mo\n",
        "\n",
        "print(len(tic))\n",
        "#prices.rename(columns={\"TSLA\": \"Your_Stock\", \"SPY\":\"INDEX\"}, inplace=True)\n",
        "\n",
        "prices.info()\n",
        "prices.tail(5)"
      ],
      "execution_count": 43,
      "outputs": [
        {
          "output_type": "stream",
          "name": "stdout",
          "text": [
            "[*********************100%***********************]  1 of 1 completed\n",
            "[*********************100%***********************]  1 of 1 completed\n",
            "[*********************100%***********************]  1 of 1 completed\n",
            "[*********************100%***********************]  1 of 1 completed\n",
            "[*********************100%***********************]  1 of 1 completed\n",
            "[*********************100%***********************]  1 of 1 completed\n",
            "[*********************100%***********************]  1 of 1 completed\n",
            "[*********************100%***********************]  1 of 1 completed\n",
            "[*********************100%***********************]  1 of 1 completed\n",
            "[*********************100%***********************]  1 of 1 completed\n",
            "[*********************100%***********************]  1 of 1 completed\n",
            "[*********************100%***********************]  1 of 1 completed\n",
            "12\n",
            "<class 'pandas.core.frame.DataFrame'>\n",
            "DatetimeIndex: 640 entries, 2011-01-01 to 2022-05-21\n",
            "Data columns (total 12 columns):\n",
            " #   Column  Non-Null Count  Dtype  \n",
            "---  ------  --------------  -----  \n",
            " 0   SPY     595 non-null    float64\n",
            " 1   TLT     595 non-null    float64\n",
            " 2   TSLA    595 non-null    float64\n",
            " 3   AAPL    595 non-null    float64\n",
            " 4   VNQ     595 non-null    float64\n",
            " 5   BAC     595 non-null    float64\n",
            " 6   WMT     595 non-null    float64\n",
            " 7   AMD     595 non-null    float64\n",
            " 8   JNJ     595 non-null    float64\n",
            " 9   GM      595 non-null    float64\n",
            " 10  CMG     595 non-null    float64\n",
            " 11  SHV     595 non-null    float64\n",
            "dtypes: float64(12)\n",
            "memory usage: 65.0 KB\n"
          ]
        },
        {
          "output_type": "execute_result",
          "data": {
            "text/plain": [
              "               SPY      TLT    TSLA     AAPL     VNQ    BAC      WMT     AMD  \\\n",
              "Date                                                                           \n",
              "2022-04-23  412.00  119.247  870.76  157.419  103.94  35.68  152.436   85.52   \n",
              "2022-04-30  411.34  113.477  865.65  157.049   99.90  37.45  149.018   95.34   \n",
              "2022-05-07  401.72  115.980  769.59  147.110   96.78  35.17  148.050   95.12   \n",
              "2022-05-14  389.63  118.510  663.90  137.590   94.83  33.86  119.200   93.50   \n",
              "2022-05-21  415.26  119.080  759.63  149.640  100.30  37.02  128.480  102.26   \n",
              "\n",
              "                JNJ     GM      CMG      SHV  \n",
              "Date                                          \n",
              "2022-04-23  179.308  37.91  1455.61  110.167  \n",
              "2022-04-30  175.244  39.58  1354.53  110.157  \n",
              "2022-05-07  175.721  38.21  1318.28  110.220  \n",
              "2022-05-14  175.850  35.40  1294.11  110.230  \n",
              "2022-05-21  179.934  38.57  1402.42  110.270  "
            ],
            "text/html": [
              "\n",
              "  <div id=\"df-e481a384-9ee6-4f7f-9148-036ad34b34ef\">\n",
              "    <div class=\"colab-df-container\">\n",
              "      <div>\n",
              "<style scoped>\n",
              "    .dataframe tbody tr th:only-of-type {\n",
              "        vertical-align: middle;\n",
              "    }\n",
              "\n",
              "    .dataframe tbody tr th {\n",
              "        vertical-align: top;\n",
              "    }\n",
              "\n",
              "    .dataframe thead th {\n",
              "        text-align: right;\n",
              "    }\n",
              "</style>\n",
              "<table border=\"1\" class=\"dataframe\">\n",
              "  <thead>\n",
              "    <tr style=\"text-align: right;\">\n",
              "      <th></th>\n",
              "      <th>SPY</th>\n",
              "      <th>TLT</th>\n",
              "      <th>TSLA</th>\n",
              "      <th>AAPL</th>\n",
              "      <th>VNQ</th>\n",
              "      <th>BAC</th>\n",
              "      <th>WMT</th>\n",
              "      <th>AMD</th>\n",
              "      <th>JNJ</th>\n",
              "      <th>GM</th>\n",
              "      <th>CMG</th>\n",
              "      <th>SHV</th>\n",
              "    </tr>\n",
              "    <tr>\n",
              "      <th>Date</th>\n",
              "      <th></th>\n",
              "      <th></th>\n",
              "      <th></th>\n",
              "      <th></th>\n",
              "      <th></th>\n",
              "      <th></th>\n",
              "      <th></th>\n",
              "      <th></th>\n",
              "      <th></th>\n",
              "      <th></th>\n",
              "      <th></th>\n",
              "      <th></th>\n",
              "    </tr>\n",
              "  </thead>\n",
              "  <tbody>\n",
              "    <tr>\n",
              "      <th>2022-04-23</th>\n",
              "      <td>412.00</td>\n",
              "      <td>119.247</td>\n",
              "      <td>870.76</td>\n",
              "      <td>157.419</td>\n",
              "      <td>103.94</td>\n",
              "      <td>35.68</td>\n",
              "      <td>152.436</td>\n",
              "      <td>85.52</td>\n",
              "      <td>179.308</td>\n",
              "      <td>37.91</td>\n",
              "      <td>1455.61</td>\n",
              "      <td>110.167</td>\n",
              "    </tr>\n",
              "    <tr>\n",
              "      <th>2022-04-30</th>\n",
              "      <td>411.34</td>\n",
              "      <td>113.477</td>\n",
              "      <td>865.65</td>\n",
              "      <td>157.049</td>\n",
              "      <td>99.90</td>\n",
              "      <td>37.45</td>\n",
              "      <td>149.018</td>\n",
              "      <td>95.34</td>\n",
              "      <td>175.244</td>\n",
              "      <td>39.58</td>\n",
              "      <td>1354.53</td>\n",
              "      <td>110.157</td>\n",
              "    </tr>\n",
              "    <tr>\n",
              "      <th>2022-05-07</th>\n",
              "      <td>401.72</td>\n",
              "      <td>115.980</td>\n",
              "      <td>769.59</td>\n",
              "      <td>147.110</td>\n",
              "      <td>96.78</td>\n",
              "      <td>35.17</td>\n",
              "      <td>148.050</td>\n",
              "      <td>95.12</td>\n",
              "      <td>175.721</td>\n",
              "      <td>38.21</td>\n",
              "      <td>1318.28</td>\n",
              "      <td>110.220</td>\n",
              "    </tr>\n",
              "    <tr>\n",
              "      <th>2022-05-14</th>\n",
              "      <td>389.63</td>\n",
              "      <td>118.510</td>\n",
              "      <td>663.90</td>\n",
              "      <td>137.590</td>\n",
              "      <td>94.83</td>\n",
              "      <td>33.86</td>\n",
              "      <td>119.200</td>\n",
              "      <td>93.50</td>\n",
              "      <td>175.850</td>\n",
              "      <td>35.40</td>\n",
              "      <td>1294.11</td>\n",
              "      <td>110.230</td>\n",
              "    </tr>\n",
              "    <tr>\n",
              "      <th>2022-05-21</th>\n",
              "      <td>415.26</td>\n",
              "      <td>119.080</td>\n",
              "      <td>759.63</td>\n",
              "      <td>149.640</td>\n",
              "      <td>100.30</td>\n",
              "      <td>37.02</td>\n",
              "      <td>128.480</td>\n",
              "      <td>102.26</td>\n",
              "      <td>179.934</td>\n",
              "      <td>38.57</td>\n",
              "      <td>1402.42</td>\n",
              "      <td>110.270</td>\n",
              "    </tr>\n",
              "  </tbody>\n",
              "</table>\n",
              "</div>\n",
              "      <button class=\"colab-df-convert\" onclick=\"convertToInteractive('df-e481a384-9ee6-4f7f-9148-036ad34b34ef')\"\n",
              "              title=\"Convert this dataframe to an interactive table.\"\n",
              "              style=\"display:none;\">\n",
              "        \n",
              "  <svg xmlns=\"http://www.w3.org/2000/svg\" height=\"24px\"viewBox=\"0 0 24 24\"\n",
              "       width=\"24px\">\n",
              "    <path d=\"M0 0h24v24H0V0z\" fill=\"none\"/>\n",
              "    <path d=\"M18.56 5.44l.94 2.06.94-2.06 2.06-.94-2.06-.94-.94-2.06-.94 2.06-2.06.94zm-11 1L8.5 8.5l.94-2.06 2.06-.94-2.06-.94L8.5 2.5l-.94 2.06-2.06.94zm10 10l.94 2.06.94-2.06 2.06-.94-2.06-.94-.94-2.06-.94 2.06-2.06.94z\"/><path d=\"M17.41 7.96l-1.37-1.37c-.4-.4-.92-.59-1.43-.59-.52 0-1.04.2-1.43.59L10.3 9.45l-7.72 7.72c-.78.78-.78 2.05 0 2.83L4 21.41c.39.39.9.59 1.41.59.51 0 1.02-.2 1.41-.59l7.78-7.78 2.81-2.81c.8-.78.8-2.07 0-2.86zM5.41 20L4 18.59l7.72-7.72 1.47 1.35L5.41 20z\"/>\n",
              "  </svg>\n",
              "      </button>\n",
              "      \n",
              "  <style>\n",
              "    .colab-df-container {\n",
              "      display:flex;\n",
              "      flex-wrap:wrap;\n",
              "      gap: 12px;\n",
              "    }\n",
              "\n",
              "    .colab-df-convert {\n",
              "      background-color: #E8F0FE;\n",
              "      border: none;\n",
              "      border-radius: 50%;\n",
              "      cursor: pointer;\n",
              "      display: none;\n",
              "      fill: #1967D2;\n",
              "      height: 32px;\n",
              "      padding: 0 0 0 0;\n",
              "      width: 32px;\n",
              "    }\n",
              "\n",
              "    .colab-df-convert:hover {\n",
              "      background-color: #E2EBFA;\n",
              "      box-shadow: 0px 1px 2px rgba(60, 64, 67, 0.3), 0px 1px 3px 1px rgba(60, 64, 67, 0.15);\n",
              "      fill: #174EA6;\n",
              "    }\n",
              "\n",
              "    [theme=dark] .colab-df-convert {\n",
              "      background-color: #3B4455;\n",
              "      fill: #D2E3FC;\n",
              "    }\n",
              "\n",
              "    [theme=dark] .colab-df-convert:hover {\n",
              "      background-color: #434B5C;\n",
              "      box-shadow: 0px 1px 3px 1px rgba(0, 0, 0, 0.15);\n",
              "      filter: drop-shadow(0px 1px 2px rgba(0, 0, 0, 0.3));\n",
              "      fill: #FFFFFF;\n",
              "    }\n",
              "  </style>\n",
              "\n",
              "      <script>\n",
              "        const buttonEl =\n",
              "          document.querySelector('#df-e481a384-9ee6-4f7f-9148-036ad34b34ef button.colab-df-convert');\n",
              "        buttonEl.style.display =\n",
              "          google.colab.kernel.accessAllowed ? 'block' : 'none';\n",
              "\n",
              "        async function convertToInteractive(key) {\n",
              "          const element = document.querySelector('#df-e481a384-9ee6-4f7f-9148-036ad34b34ef');\n",
              "          const dataTable =\n",
              "            await google.colab.kernel.invokeFunction('convertToInteractive',\n",
              "                                                     [key], {});\n",
              "          if (!dataTable) return;\n",
              "\n",
              "          const docLinkHtml = 'Like what you see? Visit the ' +\n",
              "            '<a target=\"_blank\" href=https://colab.research.google.com/notebooks/data_table.ipynb>data table notebook</a>'\n",
              "            + ' to learn more about interactive tables.';\n",
              "          element.innerHTML = '';\n",
              "          dataTable['output_type'] = 'display_data';\n",
              "          await google.colab.output.renderOutput(dataTable, element);\n",
              "          const docLink = document.createElement('div');\n",
              "          docLink.innerHTML = docLinkHtml;\n",
              "          element.appendChild(docLink);\n",
              "        }\n",
              "      </script>\n",
              "    </div>\n",
              "  </div>\n",
              "  "
            ]
          },
          "metadata": {},
          "execution_count": 43
        }
      ]
    },
    {
      "cell_type": "code",
      "source": [
        "for t in tic:\n",
        "  print(\"annual volatility of {} = {:.4f}\".format(t, np.std(prices[t].pct_change()*np.sqrt(252))))\n",
        "  var_calc(.95, 252, prices[t][-1], np.std(prices[t].pct_change())*np.sqrt(252), 21)\n",
        "  print(45 * \"-\")"
      ],
      "metadata": {
        "colab": {
          "base_uri": "https://localhost:8080/"
        },
        "id": "Q1n7ERLvB16m",
        "outputId": "fdec1405-f1a9-4154-9ee1-f6d5c0e44fea"
      },
      "execution_count": 44,
      "outputs": [
        {
          "output_type": "stream",
          "name": "stdout",
          "text": [
            "annual volatility of SPY = 0.3427\n",
            "Assuming that we invest 415.26, for the next 252.0 trading days\n",
            "At 0.950 confidence level, loss will not exceed 67.56\n",
            "This represents a move of 1.64 standard deviations below the expected return,  or a loss of -16.27%.\n",
            "---------------------------------------------\n",
            "annual volatility of TLT = 0.2965\n",
            "Assuming that we invest 119.08, for the next 252.0 trading days\n",
            "At 0.950 confidence level, loss will not exceed 16.77\n",
            "This represents a move of 1.64 standard deviations below the expected return,  or a loss of -14.08%.\n",
            "---------------------------------------------\n",
            "annual volatility of TSLA = 1.1661\n",
            "Assuming that we invest 759.63, for the next 252.0 trading days\n",
            "At 0.950 confidence level, loss will not exceed 420.60\n",
            "This represents a move of 1.64 standard deviations below the expected return,  or a loss of -55.37%.\n",
            "---------------------------------------------\n",
            "annual volatility of AAPL = 0.5918\n",
            "Assuming that we invest 149.64, for the next 252.0 trading days\n",
            "At 0.950 confidence level, loss will not exceed 42.05\n",
            "This represents a move of 1.64 standard deviations below the expected return,  or a loss of -28.10%.\n",
            "---------------------------------------------\n",
            "annual volatility of VNQ = 0.4469\n",
            "Assuming that we invest 100.30, for the next 252.0 trading days\n",
            "At 0.950 confidence level, loss will not exceed 21.28\n",
            "This represents a move of 1.64 standard deviations below the expected return,  or a loss of -21.22%.\n",
            "---------------------------------------------\n",
            "annual volatility of BAC = 0.6979\n",
            "Assuming that we invest 37.02, for the next 252.0 trading days\n",
            "At 0.950 confidence level, loss will not exceed 12.27\n",
            "This represents a move of 1.64 standard deviations below the expected return,  or a loss of -33.14%.\n",
            "---------------------------------------------\n",
            "annual volatility of WMT = 0.4125\n",
            "Assuming that we invest 128.48, for the next 252.0 trading days\n",
            "At 0.950 confidence level, loss will not exceed 25.17\n",
            "This represents a move of 1.64 standard deviations below the expected return,  or a loss of -19.59%.\n",
            "---------------------------------------------\n",
            "annual volatility of AMD = 1.2085\n",
            "Assuming that we invest 102.26, for the next 252.0 trading days\n",
            "At 0.950 confidence level, loss will not exceed 58.68\n",
            "This represents a move of 1.64 standard deviations below the expected return,  or a loss of -57.38%.\n",
            "---------------------------------------------\n",
            "annual volatility of JNJ = 0.3385\n",
            "Assuming that we invest 179.93, for the next 252.0 trading days\n",
            "At 0.950 confidence level, loss will not exceed 28.92\n",
            "This represents a move of 1.64 standard deviations below the expected return,  or a loss of -16.08%.\n",
            "---------------------------------------------\n",
            "annual volatility of GM = 0.7413\n",
            "Assuming that we invest 38.57, for the next 252.0 trading days\n",
            "At 0.950 confidence level, loss will not exceed 13.58\n",
            "This represents a move of 1.64 standard deviations below the expected return,  or a loss of -35.20%.\n",
            "---------------------------------------------\n",
            "annual volatility of CMG = 0.7466\n",
            "Assuming that we invest 1402.42, for the next 252.0 trading days\n",
            "At 0.950 confidence level, loss will not exceed 497.18\n",
            "This represents a move of 1.64 standard deviations below the expected return,  or a loss of -35.45%.\n",
            "---------------------------------------------\n",
            "annual volatility of SHV = 0.0086\n",
            "Assuming that we invest 110.27, for the next 252.0 trading days\n",
            "At 0.950 confidence level, loss will not exceed 0.45\n",
            "This represents a move of 1.64 standard deviations below the expected return,  or a loss of -0.41%.\n",
            "---------------------------------------------\n"
          ]
        }
      ]
    },
    {
      "cell_type": "code",
      "source": [
        "var_calc(.975, 252, 760000, .307, 21)"
      ],
      "metadata": {
        "colab": {
          "base_uri": "https://localhost:8080/"
        },
        "id": "ePi-L7nzW1J5",
        "outputId": "e88f6a69-94d4-4691-9d0e-dc8b72337a37"
      },
      "execution_count": 14,
      "outputs": [
        {
          "output_type": "stream",
          "name": "stdout",
          "text": [
            "Assuming that we invest 760000.00, for the next 252.0 trading days\n",
            "At 0.975 confidence level, loss will not exceed 132,010.79\n",
            "This represents a move of 1.96 standard deviations below the expected return,  or a loss of -17.37%.\n"
          ]
        }
      ]
    },
    {
      "cell_type": "code",
      "source": [
        "var_calc(.99, 252, 760000, .307, 21)"
      ],
      "metadata": {
        "colab": {
          "base_uri": "https://localhost:8080/"
        },
        "outputId": "362442e6-6773-4b29-cb6d-f43b9225c5bc",
        "id": "hjiFWMJRYTMF"
      },
      "execution_count": 15,
      "outputs": [
        {
          "output_type": "stream",
          "name": "stdout",
          "text": [
            "Assuming that we invest 760000.00, for the next 252.0 trading days\n",
            "At 0.990 confidence level, loss will not exceed 156,688.10\n",
            "This represents a move of 2.33 standard deviations below the expected return,  or a loss of -20.62%.\n"
          ]
        }
      ]
    },
    {
      "cell_type": "code",
      "source": [
        ""
      ],
      "metadata": {
        "id": "_bOVC-pKfpEF"
      },
      "execution_count": 15,
      "outputs": []
    },
    {
      "cell_type": "code",
      "source": [
        "def print_statistics(a1, a2):\n",
        "    '''\n",
        "    Parameters\n",
        "    ==========\n",
        "    a1, a2: ndarray objects\n",
        "        results objects from simulation\n",
        "    '''\n",
        "\n",
        "    sta1 = scs.describe(a1)  \n",
        "    sta2 = scs.describe(a2)  \n",
        "    print('%14s %14s %14s' % ('statistic', 'data set 1', 'data set 2'))\n",
        "    print(45 * \"-\")\n",
        "    print('%14s %14.3f %14.3f' % ('size', sta1[0], sta2[0]))\n",
        "    print('%14s %14.3f %14.3f' % ('min', sta1[1][0], sta2[1][0]))\n",
        "    print('%14s %14.3f %14.3f' % ('max', sta1[1][1], sta2[1][1]))\n",
        "    print('%14s %14.3f %14.3f' % ('mean', sta1[2], sta2[2]))\n",
        "    print('%14s %14.3f %14.3f' % ('std', np.sqrt(sta1[3]), np.sqrt(sta2[3])))\n",
        "    print('%14s %14.3f %14.3f' % ('skew', sta1[4], sta2[4]))\n",
        "    print('%14s %14.3f %14.3f' % ('kurtosis', sta1[5], sta2[5]))"
      ],
      "metadata": {
        "id": "bza2fBkVfpBD"
      },
      "execution_count": 16,
      "outputs": []
    },
    {
      "cell_type": "code",
      "source": [
        ""
      ],
      "metadata": {
        "id": "Hb2OePGXfo-m"
      },
      "execution_count": 16,
      "outputs": []
    },
    {
      "cell_type": "code",
      "source": [
        ""
      ],
      "metadata": {
        "id": "dp2N1DINfo74"
      },
      "execution_count": 16,
      "outputs": []
    },
    {
      "cell_type": "code",
      "source": [
        ""
      ],
      "metadata": {
        "id": "ATNQSlpYfo5X"
      },
      "execution_count": 16,
      "outputs": []
    },
    {
      "cell_type": "code",
      "source": [
        ""
      ],
      "metadata": {
        "id": "55TB3Olsfo2v"
      },
      "execution_count": 16,
      "outputs": []
    },
    {
      "cell_type": "code",
      "metadata": {
        "colab": {
          "base_uri": "https://localhost:8080/"
        },
        "outputId": "5a745bc4-051e-4561-e964-fff17a0ae3c8",
        "id": "CvlmyAoZS3lC"
      },
      "source": [
        "# checking the Z score for 90%\n",
        "cutoff = norm.ppf(.90)\n",
        "cutoff.round(2)"
      ],
      "execution_count": 17,
      "outputs": [
        {
          "output_type": "execute_result",
          "data": {
            "text/plain": [
              "1.28"
            ]
          },
          "metadata": {},
          "execution_count": 17
        }
      ]
    },
    {
      "cell_type": "code",
      "metadata": {
        "colab": {
          "base_uri": "https://localhost:8080/"
        },
        "id": "-bUtmK6Hy5uy",
        "outputId": "d6e3244d-16f3-435f-8783-9327fbefefca"
      },
      "source": [
        "# checking the Z score for 95%\n",
        "cutoff = norm.ppf(.95)\n",
        "cutoff.round(2)"
      ],
      "execution_count": 18,
      "outputs": [
        {
          "output_type": "execute_result",
          "data": {
            "text/plain": [
              "1.64"
            ]
          },
          "metadata": {},
          "execution_count": 18
        }
      ]
    },
    {
      "cell_type": "code",
      "metadata": {
        "colab": {
          "base_uri": "https://localhost:8080/"
        },
        "outputId": "2cd979c6-1536-408a-9370-005c97e28227",
        "id": "Ar5VIhQXS3dU"
      },
      "source": [
        "# checking the Z score for 99%\n",
        "cutoff = norm.ppf(.99)\n",
        "cutoff.round(2)"
      ],
      "execution_count": 19,
      "outputs": [
        {
          "output_type": "execute_result",
          "data": {
            "text/plain": [
              "2.33"
            ]
          },
          "metadata": {},
          "execution_count": 19
        }
      ]
    },
    {
      "cell_type": "code",
      "source": [
        ""
      ],
      "metadata": {
        "id": "BSzR7eOqTYEn"
      },
      "execution_count": 19,
      "outputs": []
    },
    {
      "cell_type": "code",
      "metadata": {
        "id": "lqzwBgDb3k-m"
      },
      "source": [
        ""
      ],
      "execution_count": 19,
      "outputs": []
    },
    {
      "cell_type": "markdown",
      "metadata": {
        "id": "pMsb_TvV4NF7"
      },
      "source": [
        "### Let's assume that we buy 5000 shares of AAPL. And using historical returns, let's estimate mean and standard deviation of returns on AAPL. In order to save time, let's assume they are 19% and 30.7%, respectively. "
      ]
    },
    {
      "cell_type": "code",
      "metadata": {
        "id": "SAWrAYn692Lx"
      },
      "source": [
        "aapl = 5000\n",
        "aapl_price = pdr.get_quote_yahoo('AAPL')['price'] # the most recent price\n",
        "aapl_value = aapl * aapl_price\n",
        "aapl_value = aapl_value.at['AAPL']\n",
        "t = 21/252\n",
        "mu = .19\n",
        "volatility = .307\n",
        "iterations = 50000"
      ],
      "execution_count": 20,
      "outputs": []
    },
    {
      "cell_type": "code",
      "metadata": {
        "colab": {
          "base_uri": "https://localhost:8080/"
        },
        "id": "49QQd-N8ZT52",
        "outputId": "58e1aab9-e0e9-4ee6-9e3d-f3ab6ee2e428"
      },
      "source": [
        "type(aapl_price)"
      ],
      "execution_count": 21,
      "outputs": [
        {
          "output_type": "execute_result",
          "data": {
            "text/plain": [
              "pandas.core.series.Series"
            ]
          },
          "metadata": {},
          "execution_count": 21
        }
      ]
    },
    {
      "cell_type": "code",
      "metadata": {
        "colab": {
          "base_uri": "https://localhost:8080/"
        },
        "id": "DlSeBhhiyYOz",
        "outputId": "b61cdcaa-4b27-4870-aae1-90c06869f319"
      },
      "source": [
        "aapl_price.describe()"
      ],
      "execution_count": 22,
      "outputs": [
        {
          "output_type": "execute_result",
          "data": {
            "text/plain": [
              "count      1.00\n",
              "mean     149.64\n",
              "std         NaN\n",
              "min      149.64\n",
              "25%      149.64\n",
              "50%      149.64\n",
              "75%      149.64\n",
              "max      149.64\n",
              "Name: price, dtype: float64"
            ]
          },
          "metadata": {},
          "execution_count": 22
        }
      ]
    },
    {
      "cell_type": "code",
      "metadata": {
        "colab": {
          "base_uri": "https://localhost:8080/",
          "height": 191
        },
        "id": "2Yq4jmIeuDSi",
        "outputId": "2c208a39-c3d7-44e4-d6c4-57bbd8a4d0c1"
      },
      "source": [
        "# checking to see what get_quote_yahoo is retreveing\n",
        "pdr.get_quote_yahoo('AAPL')\n"
      ],
      "execution_count": 23,
      "outputs": [
        {
          "output_type": "execute_result",
          "data": {
            "text/plain": [
              "     language region quoteType typeDisp         quoteSourceName  triggerable  \\\n",
              "AAPL    en-US     US    EQUITY   Equity  Nasdaq Real Time Price         True   \n",
              "\n",
              "     customPriceAlertConfidence currency exchange marketState  ...  \\\n",
              "AAPL                       HIGH      USD      NMS      PREPRE  ...   \n",
              "\n",
              "      gmtOffSetMilliseconds     market  esgPopulated  \\\n",
              "AAPL              -14400000  us_market         False   \n",
              "\n",
              "      firstTradeDateMilliseconds  priceHint  postMarketChangePercent  \\\n",
              "AAPL                345479400000          2                    0.234   \n",
              "\n",
              "      postMarketTime postMarketPrice  displayName   price  \n",
              "AAPL      1653695996          149.99        Apple  149.64  \n",
              "\n",
              "[1 rows x 78 columns]"
            ],
            "text/html": [
              "\n",
              "  <div id=\"df-819ef24f-dfbc-49be-863b-5c881844c871\">\n",
              "    <div class=\"colab-df-container\">\n",
              "      <div>\n",
              "<style scoped>\n",
              "    .dataframe tbody tr th:only-of-type {\n",
              "        vertical-align: middle;\n",
              "    }\n",
              "\n",
              "    .dataframe tbody tr th {\n",
              "        vertical-align: top;\n",
              "    }\n",
              "\n",
              "    .dataframe thead th {\n",
              "        text-align: right;\n",
              "    }\n",
              "</style>\n",
              "<table border=\"1\" class=\"dataframe\">\n",
              "  <thead>\n",
              "    <tr style=\"text-align: right;\">\n",
              "      <th></th>\n",
              "      <th>language</th>\n",
              "      <th>region</th>\n",
              "      <th>quoteType</th>\n",
              "      <th>typeDisp</th>\n",
              "      <th>quoteSourceName</th>\n",
              "      <th>triggerable</th>\n",
              "      <th>customPriceAlertConfidence</th>\n",
              "      <th>currency</th>\n",
              "      <th>exchange</th>\n",
              "      <th>marketState</th>\n",
              "      <th>...</th>\n",
              "      <th>gmtOffSetMilliseconds</th>\n",
              "      <th>market</th>\n",
              "      <th>esgPopulated</th>\n",
              "      <th>firstTradeDateMilliseconds</th>\n",
              "      <th>priceHint</th>\n",
              "      <th>postMarketChangePercent</th>\n",
              "      <th>postMarketTime</th>\n",
              "      <th>postMarketPrice</th>\n",
              "      <th>displayName</th>\n",
              "      <th>price</th>\n",
              "    </tr>\n",
              "  </thead>\n",
              "  <tbody>\n",
              "    <tr>\n",
              "      <th>AAPL</th>\n",
              "      <td>en-US</td>\n",
              "      <td>US</td>\n",
              "      <td>EQUITY</td>\n",
              "      <td>Equity</td>\n",
              "      <td>Nasdaq Real Time Price</td>\n",
              "      <td>True</td>\n",
              "      <td>HIGH</td>\n",
              "      <td>USD</td>\n",
              "      <td>NMS</td>\n",
              "      <td>PREPRE</td>\n",
              "      <td>...</td>\n",
              "      <td>-14400000</td>\n",
              "      <td>us_market</td>\n",
              "      <td>False</td>\n",
              "      <td>345479400000</td>\n",
              "      <td>2</td>\n",
              "      <td>0.234</td>\n",
              "      <td>1653695996</td>\n",
              "      <td>149.99</td>\n",
              "      <td>Apple</td>\n",
              "      <td>149.64</td>\n",
              "    </tr>\n",
              "  </tbody>\n",
              "</table>\n",
              "<p>1 rows × 78 columns</p>\n",
              "</div>\n",
              "      <button class=\"colab-df-convert\" onclick=\"convertToInteractive('df-819ef24f-dfbc-49be-863b-5c881844c871')\"\n",
              "              title=\"Convert this dataframe to an interactive table.\"\n",
              "              style=\"display:none;\">\n",
              "        \n",
              "  <svg xmlns=\"http://www.w3.org/2000/svg\" height=\"24px\"viewBox=\"0 0 24 24\"\n",
              "       width=\"24px\">\n",
              "    <path d=\"M0 0h24v24H0V0z\" fill=\"none\"/>\n",
              "    <path d=\"M18.56 5.44l.94 2.06.94-2.06 2.06-.94-2.06-.94-.94-2.06-.94 2.06-2.06.94zm-11 1L8.5 8.5l.94-2.06 2.06-.94-2.06-.94L8.5 2.5l-.94 2.06-2.06.94zm10 10l.94 2.06.94-2.06 2.06-.94-2.06-.94-.94-2.06-.94 2.06-2.06.94z\"/><path d=\"M17.41 7.96l-1.37-1.37c-.4-.4-.92-.59-1.43-.59-.52 0-1.04.2-1.43.59L10.3 9.45l-7.72 7.72c-.78.78-.78 2.05 0 2.83L4 21.41c.39.39.9.59 1.41.59.51 0 1.02-.2 1.41-.59l7.78-7.78 2.81-2.81c.8-.78.8-2.07 0-2.86zM5.41 20L4 18.59l7.72-7.72 1.47 1.35L5.41 20z\"/>\n",
              "  </svg>\n",
              "      </button>\n",
              "      \n",
              "  <style>\n",
              "    .colab-df-container {\n",
              "      display:flex;\n",
              "      flex-wrap:wrap;\n",
              "      gap: 12px;\n",
              "    }\n",
              "\n",
              "    .colab-df-convert {\n",
              "      background-color: #E8F0FE;\n",
              "      border: none;\n",
              "      border-radius: 50%;\n",
              "      cursor: pointer;\n",
              "      display: none;\n",
              "      fill: #1967D2;\n",
              "      height: 32px;\n",
              "      padding: 0 0 0 0;\n",
              "      width: 32px;\n",
              "    }\n",
              "\n",
              "    .colab-df-convert:hover {\n",
              "      background-color: #E2EBFA;\n",
              "      box-shadow: 0px 1px 2px rgba(60, 64, 67, 0.3), 0px 1px 3px 1px rgba(60, 64, 67, 0.15);\n",
              "      fill: #174EA6;\n",
              "    }\n",
              "\n",
              "    [theme=dark] .colab-df-convert {\n",
              "      background-color: #3B4455;\n",
              "      fill: #D2E3FC;\n",
              "    }\n",
              "\n",
              "    [theme=dark] .colab-df-convert:hover {\n",
              "      background-color: #434B5C;\n",
              "      box-shadow: 0px 1px 3px 1px rgba(0, 0, 0, 0.15);\n",
              "      filter: drop-shadow(0px 1px 2px rgba(0, 0, 0, 0.3));\n",
              "      fill: #FFFFFF;\n",
              "    }\n",
              "  </style>\n",
              "\n",
              "      <script>\n",
              "        const buttonEl =\n",
              "          document.querySelector('#df-819ef24f-dfbc-49be-863b-5c881844c871 button.colab-df-convert');\n",
              "        buttonEl.style.display =\n",
              "          google.colab.kernel.accessAllowed ? 'block' : 'none';\n",
              "\n",
              "        async function convertToInteractive(key) {\n",
              "          const element = document.querySelector('#df-819ef24f-dfbc-49be-863b-5c881844c871');\n",
              "          const dataTable =\n",
              "            await google.colab.kernel.invokeFunction('convertToInteractive',\n",
              "                                                     [key], {});\n",
              "          if (!dataTable) return;\n",
              "\n",
              "          const docLinkHtml = 'Like what you see? Visit the ' +\n",
              "            '<a target=\"_blank\" href=https://colab.research.google.com/notebooks/data_table.ipynb>data table notebook</a>'\n",
              "            + ' to learn more about interactive tables.';\n",
              "          element.innerHTML = '';\n",
              "          dataTable['output_type'] = 'display_data';\n",
              "          await google.colab.output.renderOutput(dataTable, element);\n",
              "          const docLink = document.createElement('div');\n",
              "          docLink.innerHTML = docLinkHtml;\n",
              "          element.appendChild(docLink);\n",
              "        }\n",
              "      </script>\n",
              "    </div>\n",
              "  </div>\n",
              "  "
            ]
          },
          "metadata": {},
          "execution_count": 23
        }
      ]
    },
    {
      "cell_type": "code",
      "metadata": {
        "colab": {
          "base_uri": "https://localhost:8080/"
        },
        "id": "StVDEHYGt8_v",
        "outputId": "04f44ac1-e4b4-4247-a56d-2e857cb3100f"
      },
      "source": [
        "type(aapl_price)"
      ],
      "execution_count": 24,
      "outputs": [
        {
          "output_type": "execute_result",
          "data": {
            "text/plain": [
              "pandas.core.series.Series"
            ]
          },
          "metadata": {},
          "execution_count": 24
        }
      ]
    },
    {
      "cell_type": "code",
      "metadata": {
        "colab": {
          "base_uri": "https://localhost:8080/"
        },
        "id": "Nhu9A23Ttrug",
        "outputId": "a5a7f1b7-a112-4f79-8f15-f2ec1ff4fa27"
      },
      "source": [
        "type(aapl_value)"
      ],
      "execution_count": 25,
      "outputs": [
        {
          "output_type": "execute_result",
          "data": {
            "text/plain": [
              "numpy.float64"
            ]
          },
          "metadata": {},
          "execution_count": 25
        }
      ]
    },
    {
      "cell_type": "code",
      "metadata": {
        "colab": {
          "base_uri": "https://localhost:8080/"
        },
        "id": "bbm--dft5k6L",
        "outputId": "7844f28a-eaae-42cd-ed22-e91648459ca8"
      },
      "source": [
        "aapl_price"
      ],
      "execution_count": 26,
      "outputs": [
        {
          "output_type": "execute_result",
          "data": {
            "text/plain": [
              "AAPL    149.64\n",
              "Name: price, dtype: float64"
            ]
          },
          "metadata": {},
          "execution_count": 26
        }
      ]
    },
    {
      "cell_type": "code",
      "metadata": {
        "colab": {
          "base_uri": "https://localhost:8080/"
        },
        "id": "WRnbkPmNt61O",
        "outputId": "f3529286-d102-4ccb-c78b-78e332c29372"
      },
      "source": [
        "# aapl_value = # of shares times price\n",
        "aapl_value"
      ],
      "execution_count": 27,
      "outputs": [
        {
          "output_type": "execute_result",
          "data": {
            "text/plain": [
              "748199.9999999999"
            ]
          },
          "metadata": {},
          "execution_count": 27
        }
      ]
    },
    {
      "cell_type": "markdown",
      "metadata": {
        "id": "CFiOJCbda_5C"
      },
      "source": [
        "Below, let's simulate future value from Geometric Brownian Motion series. "
      ]
    },
    {
      "cell_type": "code",
      "metadata": {
        "id": "4HHqSO2G92Ly"
      },
      "source": [
        "def VaR(pv, mu, vol, T, iterations):\n",
        "    end = pv * np.exp((mu - .5 * vol ** 2) * T + \n",
        "                     vol * np.sqrt(T) * np.random.standard_normal(iterations))\n",
        "    ending_values = end - pv\n",
        "    return ending_values"
      ],
      "execution_count": 28,
      "outputs": []
    },
    {
      "cell_type": "code",
      "metadata": {
        "id": "qFO5xOuS92Ly",
        "colab": {
          "base_uri": "https://localhost:8080/"
        },
        "outputId": "ce3767b5-7cda-4f9e-d804-53cd32118984"
      },
      "source": [
        "at_risk = VaR(aapl_value, mu, volatility, t, iterations)\n",
        "at_risk"
      ],
      "execution_count": 29,
      "outputs": [
        {
          "output_type": "execute_result",
          "data": {
            "text/plain": [
              "array([-96762.25439089,  11617.33731187, -44220.35969683, ...,\n",
              "        41445.55890045,  84445.8917296 , -91729.53811797])"
            ]
          },
          "metadata": {},
          "execution_count": 29
        }
      ]
    },
    {
      "cell_type": "code",
      "metadata": {
        "colab": {
          "base_uri": "https://localhost:8080/"
        },
        "id": "tvG-Oam8bxXq",
        "outputId": "1ba27453-d231-4cd2-d167-0493ea0802b7"
      },
      "source": [
        "type(at_risk)"
      ],
      "execution_count": 30,
      "outputs": [
        {
          "output_type": "execute_result",
          "data": {
            "text/plain": [
              "numpy.ndarray"
            ]
          },
          "metadata": {},
          "execution_count": 30
        }
      ]
    },
    {
      "cell_type": "code",
      "metadata": {
        "colab": {
          "base_uri": "https://localhost:8080/"
        },
        "id": "O0bRLgeDb2Wh",
        "outputId": "70bf3c55-a2ff-4c9c-c84f-2fa002817b76"
      },
      "source": [
        "np.shape(at_risk)"
      ],
      "execution_count": 31,
      "outputs": [
        {
          "output_type": "execute_result",
          "data": {
            "text/plain": [
              "(50000,)"
            ]
          },
          "metadata": {},
          "execution_count": 31
        }
      ]
    },
    {
      "cell_type": "code",
      "metadata": {
        "colab": {
          "base_uri": "https://localhost:8080/"
        },
        "id": "2jLthy13dWIq",
        "outputId": "acdca614-a023-4c11-f3d9-d71b250ecd41"
      },
      "source": [
        "np.ndim(at_risk)"
      ],
      "execution_count": 32,
      "outputs": [
        {
          "output_type": "execute_result",
          "data": {
            "text/plain": [
              "1"
            ]
          },
          "metadata": {},
          "execution_count": 32
        }
      ]
    },
    {
      "cell_type": "code",
      "metadata": {
        "colab": {
          "base_uri": "https://localhost:8080/"
        },
        "id": "X75Nv1x4zbtD",
        "outputId": "e4bb715b-c532-41fb-939c-552e357ee221"
      },
      "source": [
        "at_risk.mean()"
      ],
      "execution_count": 33,
      "outputs": [
        {
          "output_type": "execute_result",
          "data": {
            "text/plain": [
              "11914.910621852243"
            ]
          },
          "metadata": {},
          "execution_count": 33
        }
      ]
    },
    {
      "cell_type": "code",
      "metadata": {
        "colab": {
          "base_uri": "https://localhost:8080/"
        },
        "id": "wT3hHfvMzgW3",
        "outputId": "f06d3f2d-bec1-4d24-cf67-7c8c69e35e20"
      },
      "source": [
        "at_risk.std()"
      ],
      "execution_count": 34,
      "outputs": [
        {
          "output_type": "execute_result",
          "data": {
            "text/plain": [
              "67504.2052649169"
            ]
          },
          "metadata": {},
          "execution_count": 34
        }
      ]
    },
    {
      "cell_type": "code",
      "metadata": {
        "colab": {
          "base_uri": "https://localhost:8080/",
          "height": 1000
        },
        "id": "9R_bhuSr92Lz",
        "outputId": "a6219cc8-9865-4d92-e1f7-e5ab90bccc34"
      },
      "source": [
        "plt.hist(at_risk,bins=100)"
      ],
      "execution_count": 35,
      "outputs": [
        {
          "output_type": "execute_result",
          "data": {
            "text/plain": [
              "(array([1.000e+00, 1.000e+00, 3.000e+00, 1.000e+00, 1.000e+00, 5.000e+00,\n",
              "        7.000e+00, 6.000e+00, 1.500e+01, 1.300e+01, 2.100e+01, 3.500e+01,\n",
              "        5.400e+01, 6.500e+01, 8.500e+01, 1.290e+02, 1.620e+02, 1.870e+02,\n",
              "        2.380e+02, 3.120e+02, 3.780e+02, 4.280e+02, 4.660e+02, 5.570e+02,\n",
              "        6.940e+02, 7.290e+02, 8.250e+02, 9.680e+02, 1.080e+03, 1.164e+03,\n",
              "        1.218e+03, 1.293e+03, 1.486e+03, 1.503e+03, 1.581e+03, 1.650e+03,\n",
              "        1.692e+03, 1.741e+03, 1.723e+03, 1.721e+03, 1.810e+03, 1.768e+03,\n",
              "        1.722e+03, 1.659e+03, 1.654e+03, 1.583e+03, 1.504e+03, 1.311e+03,\n",
              "        1.294e+03, 1.192e+03, 1.067e+03, 1.037e+03, 9.480e+02, 9.120e+02,\n",
              "        7.470e+02, 7.480e+02, 6.180e+02, 6.090e+02, 4.610e+02, 4.300e+02,\n",
              "        3.740e+02, 3.550e+02, 2.970e+02, 2.430e+02, 2.150e+02, 1.870e+02,\n",
              "        1.630e+02, 1.260e+02, 1.300e+02, 1.070e+02, 7.300e+01, 6.900e+01,\n",
              "        5.600e+01, 6.000e+01, 3.900e+01, 3.600e+01, 3.300e+01, 1.700e+01,\n",
              "        2.500e+01, 1.800e+01, 1.700e+01, 1.300e+01, 1.000e+01, 2.000e+00,\n",
              "        7.000e+00, 4.000e+00, 3.000e+00, 0.000e+00, 2.000e+00, 1.000e+00,\n",
              "        1.000e+00, 1.000e+00, 1.000e+00, 0.000e+00, 1.000e+00, 0.000e+00,\n",
              "        0.000e+00, 0.000e+00, 1.000e+00, 1.000e+00]),\n",
              " array([-228607.33790314, -222718.76847003, -216830.19903691,\n",
              "        -210941.6296038 , -205053.06017069, -199164.49073757,\n",
              "        -193275.92130446, -187387.35187134, -181498.78243823,\n",
              "        -175610.21300512, -169721.643572  , -163833.07413889,\n",
              "        -157944.50470578, -152055.93527266, -146167.36583955,\n",
              "        -140278.79640643, -134390.22697332, -128501.65754021,\n",
              "        -122613.08810709, -116724.51867398, -110835.94924086,\n",
              "        -104947.37980775,  -99058.81037464,  -93170.24094152,\n",
              "         -87281.67150841,  -81393.10207529,  -75504.53264218,\n",
              "         -69615.96320907,  -63727.39377595,  -57838.82434284,\n",
              "         -51950.25490972,  -46061.68547661,  -40173.1160435 ,\n",
              "         -34284.54661038,  -28395.97717727,  -22507.40774415,\n",
              "         -16618.83831104,  -10730.26887793,   -4841.69944481,\n",
              "           1046.8699883 ,    6935.43942142,   12824.00885453,\n",
              "          18712.57828764,   24601.14772076,   30489.71715387,\n",
              "          36378.28658699,   42266.8560201 ,   48155.42545321,\n",
              "          54043.99488633,   59932.56431944,   65821.13375256,\n",
              "          71709.70318567,   77598.27261878,   83486.8420519 ,\n",
              "          89375.41148501,   95263.98091813,  101152.55035124,\n",
              "         107041.11978435,  112929.68921747,  118818.25865058,\n",
              "         124706.8280837 ,  130595.39751681,  136483.96694992,\n",
              "         142372.53638304,  148261.10581615,  154149.67524927,\n",
              "         160038.24468238,  165926.81411549,  171815.38354861,\n",
              "         177703.95298172,  183592.52241484,  189481.09184795,\n",
              "         195369.66128106,  201258.23071418,  207146.80014729,\n",
              "         213035.36958041,  218923.93901352,  224812.50844663,\n",
              "         230701.07787975,  236589.64731286,  242478.21674598,\n",
              "         248366.78617909,  254255.3556122 ,  260143.92504532,\n",
              "         266032.49447843,  271921.06391155,  277809.63334466,\n",
              "         283698.20277777,  289586.77221089,  295475.341644  ,\n",
              "         301363.91107712,  307252.48051023,  313141.04994334,\n",
              "         319029.61937646,  324918.18880957,  330806.75824269,\n",
              "         336695.3276758 ,  342583.89710891,  348472.46654203,\n",
              "         354361.03597514,  360249.60540826]),\n",
              " <a list of 100 Patch objects>)"
            ]
          },
          "metadata": {},
          "execution_count": 35
        },
        {
          "output_type": "display_data",
          "data": {
            "text/plain": [
              "<Figure size 432x288 with 1 Axes>"
            ],
            "image/png": "[encoded data removed]"
          },
          "metadata": {
            "needs_background": "light"
          }
        }
      ]
    },
    {
      "cell_type": "code",
      "metadata": {
        "colab": {
          "base_uri": "https://localhost:8080/"
        },
        "id": "NRAvc7oy92L0",
        "outputId": "41863241-6fa5-45dd-e3ea-e0dfc6dfde80"
      },
      "source": [
        "percentiles = [1,5,10]\n",
        "np.percentile(at_risk, percentiles)"
      ],
      "execution_count": 36,
      "outputs": [
        {
          "output_type": "execute_result",
          "data": {
            "text/plain": [
              "array([-131945.27873045,  -94364.30131625,  -72337.14743941])"
            ]
          },
          "metadata": {},
          "execution_count": 36
        }
      ]
    },
    {
      "cell_type": "code",
      "source": [
        ""
      ],
      "metadata": {
        "id": "WUW38AUjGjja"
      },
      "execution_count": 36,
      "outputs": []
    }
  ]
}